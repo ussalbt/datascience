{
  "cells": [
    {
      "cell_type": "markdown",
      "metadata": {
        "id": "view-in-github",
        "colab_type": "text"
      },
      "source": [
        "<a href=\"https://colab.research.google.com/github/ussalbt/datascience/blob/main/Why_Numpy_(Comparing_list_and_array_by_size_and_computation_time).ipynb\" target=\"_parent\"><img src=\"https://colab.research.google.com/assets/colab-badge.svg\" alt=\"Open In Colab\"/></a>"
      ]
    },
    {
      "cell_type": "markdown",
      "metadata": {
        "id": "gGwHXdkO5mPM"
      },
      "source": [
        "# Why Numpy?"
      ]
    },
    {
      "cell_type": "code",
      "execution_count": null,
      "metadata": {
        "id": "02OD6iQa5mPR"
      },
      "outputs": [],
      "source": [
        "import numpy as np\n",
        "import time\n",
        "import sys"
      ]
    },
    {
      "cell_type": "code",
      "execution_count": null,
      "metadata": {
        "id": "fQPZBlR-5mPS"
      },
      "outputs": [],
      "source": [
        "a = [1, 2, 3, 4]\n",
        "b = [2, 3, 4, 5]"
      ]
    },
    {
      "cell_type": "code",
      "execution_count": null,
      "metadata": {
        "id": "Nt_tOzOT5mPS"
      },
      "outputs": [],
      "source": [
        "#a * b # Gives an error"
      ]
    },
    {
      "cell_type": "code",
      "execution_count": null,
      "metadata": {
        "id": "U_vN_SnA5mPT",
        "outputId": "48a6cb4f-1291-4003-ff9c-9f8fea6c1e52"
      },
      "outputs": [
        {
          "data": {
            "text/plain": [
              "[2, 6, 12, 20]"
            ]
          },
          "execution_count": 5,
          "metadata": {},
          "output_type": "execute_result"
        }
      ],
      "source": [
        "ab = []                        \n",
        "\n",
        "for i in range(0, len(a)):\n",
        "    ab.append(a[i]*b[i])\n",
        "\n",
        "ab"
      ]
    },
    {
      "cell_type": "code",
      "execution_count": null,
      "metadata": {
        "id": "1hs3wVM85mPU"
      },
      "outputs": [],
      "source": [
        "a1 = np.array([1,2,3,4])\n",
        "b1 = np.array([2,3,4,5])"
      ]
    },
    {
      "cell_type": "code",
      "execution_count": null,
      "metadata": {
        "id": "hxVDj_Nl5mPU",
        "outputId": "f562d8d9-3b3f-4b6d-a5bf-51fcc055390c"
      },
      "outputs": [
        {
          "data": {
            "text/plain": [
              "array([ 2,  6, 12, 20])"
            ]
          },
          "execution_count": 7,
          "metadata": {},
          "output_type": "execute_result"
        }
      ],
      "source": [
        "a1 * b1"
      ]
    },
    {
      "cell_type": "code",
      "execution_count": null,
      "metadata": {
        "id": "z3uRAaSL5mPV"
      },
      "outputs": [],
      "source": [
        "a1 = np.array([[1,2,3,4],[1,2,3,4],[2,3,4,5]])\n",
        "b1 = np.array([[2,3,4,5],[1,2,4,5],[1,2,3,4]])"
      ]
    },
    {
      "cell_type": "code",
      "execution_count": null,
      "metadata": {
        "id": "IyEi7bRX5mPV",
        "outputId": "33bdb050-75cd-46b4-ee23-8d1b4d747af0"
      },
      "outputs": [
        {
          "data": {
            "text/plain": [
              "array([[1, 2, 3, 4],\n",
              "       [1, 2, 3, 4],\n",
              "       [2, 3, 4, 5]])"
            ]
          },
          "execution_count": 9,
          "metadata": {},
          "output_type": "execute_result"
        }
      ],
      "source": [
        "a1"
      ]
    },
    {
      "cell_type": "code",
      "execution_count": null,
      "metadata": {
        "id": "mIZQgIwZ5mPW",
        "outputId": "d17d21ae-a99a-4879-e674-c5388681d8fc"
      },
      "outputs": [
        {
          "data": {
            "text/plain": [
              "array([[2, 3, 4, 5],\n",
              "       [1, 2, 4, 5],\n",
              "       [1, 2, 3, 4]])"
            ]
          },
          "execution_count": 10,
          "metadata": {},
          "output_type": "execute_result"
        }
      ],
      "source": [
        "b1"
      ]
    },
    {
      "cell_type": "code",
      "execution_count": null,
      "metadata": {
        "id": "riqv3z_-5mPW",
        "outputId": "b06a6250-7b2a-4217-f2bd-3a449f2b6e9a"
      },
      "outputs": [
        {
          "data": {
            "text/plain": [
              "array([[ 2,  6, 12, 20],\n",
              "       [ 1,  4, 12, 20],\n",
              "       [ 2,  6, 12, 20]])"
            ]
          },
          "execution_count": 11,
          "metadata": {},
          "output_type": "execute_result"
        }
      ],
      "source": [
        "a1*b1"
      ]
    },
    {
      "cell_type": "code",
      "execution_count": null,
      "metadata": {
        "id": "McLAu41x5mPW",
        "outputId": "d9f37af7-614c-416a-ec24-d69280bb6fc0"
      },
      "outputs": [
        {
          "data": {
            "text/plain": [
              "[[1, 2, 3], [4, 5, 6], [7, 8, 9]]"
            ]
          },
          "execution_count": 12,
          "metadata": {},
          "output_type": "execute_result"
        }
      ],
      "source": [
        "# Nested lists without NumPy.\n",
        "\n",
        "my_matrix = [[1,2,3],[4,5,6],[7,8,9]]\n",
        "my_matrix"
      ]
    },
    {
      "cell_type": "markdown",
      "metadata": {
        "id": "Kmlewncg5mPX"
      },
      "source": [
        "### Comparing list and array by size"
      ]
    },
    {
      "cell_type": "code",
      "execution_count": null,
      "metadata": {
        "id": "S-2LppDk5mPX",
        "outputId": "e3005570-a146-467b-f4cf-4a72ff9ac79b"
      },
      "outputs": [
        {
          "name": "stdout",
          "output_type": "stream",
          "text": [
            "size of one item in list : 28\n",
            "size of all items in list : 28000\n",
            "------------------------------\n",
            "size of one item in array : 4\n",
            "size of all items in array : 4000\n"
          ]
        }
      ],
      "source": [
        "l = range(1000)\n",
        "print(\"size of one item in list :\", sys.getsizeof(5))\n",
        "print(\"size of all items in list :\", sys.getsizeof(5) * len(l))\n",
        "\n",
        "print(\"---\" * 10)\n",
        "\n",
        "a = np.arange(1000)\n",
        "print(\"size of one item in array :\", a.itemsize)\n",
        "print(\"size of all items in array :\", a.itemsize * a.size)"
      ]
    },
    {
      "cell_type": "markdown",
      "metadata": {
        "id": "jv8r2HxL5mPX"
      },
      "source": [
        "### Comparing list and array by computation time"
      ]
    },
    {
      "cell_type": "code",
      "execution_count": null,
      "metadata": {
        "id": "bAjOXMW65mPY",
        "outputId": "8d966c75-bc53-4560-a5ab-aa83e7aad81f"
      },
      "outputs": [
        {
          "name": "stdout",
          "output_type": "stream",
          "text": [
            "python list took:  315.6707286834717\n",
            "numpy took:  34.42096710205078\n"
          ]
        }
      ],
      "source": [
        "size = 1000000\n",
        "\n",
        "l1 = range(size)\n",
        "l2 = range(size)\n",
        "\n",
        "a1 = np.arange(size)\n",
        "a2 = np.arange(size)\n",
        "\n",
        "#python list\n",
        "start = time.time()\n",
        "result = [(x + y) for x, y in zip(l1, l2)]\n",
        "print(\"python list took: \", (time.time()-start) * 1000)\n",
        "\n",
        "# numpy array\n",
        "start = time.time()\n",
        "result = a1 + a2\n",
        "print(\"numpy took: \", (time.time()-start) * 1000)"
      ]
    },
    {
      "cell_type": "code",
      "execution_count": null,
      "metadata": {
        "id": "GKVzNCul5mPY"
      },
      "outputs": [],
      "source": [
        ""
      ]
    }
  ],
  "metadata": {
    "kernelspec": {
      "display_name": "Python 3",
      "language": "python",
      "name": "python3"
    },
    "language_info": {
      "codemirror_mode": {
        "name": "ipython",
        "version": 3
      },
      "file_extension": ".py",
      "mimetype": "text/x-python",
      "name": "python",
      "nbconvert_exporter": "python",
      "pygments_lexer": "ipython3",
      "version": "3.7.6"
    },
    "colab": {
      "name": "Why Numpy (Comparing list and array by size and computation time).ipynb",
      "provenance": [],
      "include_colab_link": true
    }
  },
  "nbformat": 4,
  "nbformat_minor": 0
}