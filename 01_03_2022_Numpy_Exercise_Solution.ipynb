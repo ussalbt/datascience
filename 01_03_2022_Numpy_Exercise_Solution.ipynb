{
  "cells": [
    {
      "cell_type": "markdown",
      "metadata": {
        "id": "view-in-github",
        "colab_type": "text"
      },
      "source": [
        "<a href=\"https://colab.research.google.com/github/ussalbt/datascience/blob/main/01_03_2022_Numpy_Exercise_Solution.ipynb\" target=\"_parent\"><img src=\"https://colab.research.google.com/assets/colab-badge.svg\" alt=\"Open In Colab\"/></a>"
      ]
    },
    {
      "cell_type": "markdown",
      "metadata": {
        "id": "N0nREgTOi_6n"
      },
      "source": [
        "# Numpy Çalışma"
      ]
    },
    {
      "cell_type": "markdown",
      "metadata": {
        "id": "lZaO3Zysi_6s"
      },
      "source": [
        "### NumPy Array'i Oluşturmak"
      ]
    },
    {
      "cell_type": "code",
      "execution_count": 1,
      "metadata": {
        "id": "teCjxJYAi_6s"
      },
      "outputs": [],
      "source": [
        "import numpy as np"
      ]
    },
    {
      "cell_type": "code",
      "execution_count": 2,
      "metadata": {
        "colab": {
          "base_uri": "https://localhost:8080/",
          "height": 35
        },
        "id": "wF9tecNZi_6u",
        "outputId": "524f6332-9b83-42cb-ae88-332c93efe1a9"
      },
      "outputs": [
        {
          "output_type": "execute_result",
          "data": {
            "application/vnd.google.colaboratory.intrinsic+json": {
              "type": "string"
            },
            "text/plain": [
              "'1.21.5'"
            ]
          },
          "metadata": {},
          "execution_count": 2
        }
      ],
      "source": [
        "np.__version__"
      ]
    },
    {
      "cell_type": "code",
      "execution_count": 3,
      "metadata": {
        "colab": {
          "base_uri": "https://localhost:8080/"
        },
        "id": "Nurs8fy_i_6v",
        "outputId": "37315d2d-3abf-440a-8143-c38181fe2040"
      },
      "outputs": [
        {
          "output_type": "execute_result",
          "data": {
            "text/plain": [
              "array([1, 2, 3, 4, 5])"
            ]
          },
          "metadata": {},
          "execution_count": 3
        }
      ],
      "source": [
        "np.array([1,2,3,4,5])"
      ]
    },
    {
      "cell_type": "code",
      "execution_count": 4,
      "metadata": {
        "id": "EhtDgdSTi_6w"
      },
      "outputs": [],
      "source": [
        "a = np.array([1,2,3,4,5])"
      ]
    },
    {
      "cell_type": "code",
      "execution_count": 5,
      "metadata": {
        "colab": {
          "base_uri": "https://localhost:8080/"
        },
        "id": "-c2HnTJvi_6w",
        "outputId": "4fb448d6-7a74-49d6-9dc2-df359ab1b130"
      },
      "outputs": [
        {
          "output_type": "execute_result",
          "data": {
            "text/plain": [
              "numpy.ndarray"
            ]
          },
          "metadata": {},
          "execution_count": 5
        }
      ],
      "source": [
        "type(a)"
      ]
    },
    {
      "cell_type": "code",
      "execution_count": 6,
      "metadata": {
        "colab": {
          "base_uri": "https://localhost:8080/"
        },
        "id": "ja-9A33li_6x",
        "outputId": "bbe5292a-4374-4193-88d6-ba7d699d5edd"
      },
      "outputs": [
        {
          "output_type": "execute_result",
          "data": {
            "text/plain": [
              "array([ 3,  4,  2, 13])"
            ]
          },
          "metadata": {},
          "execution_count": 6
        }
      ],
      "source": [
        "np.array([3.14, 4, 2, 13], dtype = \"int\")"
      ]
    },
    {
      "cell_type": "code",
      "execution_count": null,
      "metadata": {
        "id": "0chko9Joi_6x"
      },
      "outputs": [],
      "source": [
        "# sifirdan array olusturma (np.zeros)"
      ]
    },
    {
      "cell_type": "code",
      "execution_count": 7,
      "metadata": {
        "colab": {
          "base_uri": "https://localhost:8080/"
        },
        "id": "15_b03Iei_6y",
        "outputId": "b7947391-88d0-4381-efb8-1ec14531253a"
      },
      "outputs": [
        {
          "output_type": "execute_result",
          "data": {
            "text/plain": [
              "array([0, 0, 0, 0, 0, 0, 0, 0, 0, 0])"
            ]
          },
          "metadata": {},
          "execution_count": 7
        }
      ],
      "source": [
        "np.zeros(10, dtype = int)"
      ]
    },
    {
      "cell_type": "code",
      "execution_count": 8,
      "metadata": {
        "colab": {
          "base_uri": "https://localhost:8080/"
        },
        "id": "0k7csRbfi_6z",
        "outputId": "94c5211c-6b1b-4bef-9e5a-6ff062604c98"
      },
      "outputs": [
        {
          "output_type": "execute_result",
          "data": {
            "text/plain": [
              "array([0., 0., 0., 0., 0., 0., 0., 0., 0., 0.])"
            ]
          },
          "metadata": {},
          "execution_count": 8
        }
      ],
      "source": [
        "np.zeros(10, dtype = float)"
      ]
    },
    {
      "cell_type": "code",
      "execution_count": 9,
      "metadata": {
        "id": "zpv-SiYii_6z"
      },
      "outputs": [],
      "source": [
        "# birlerden array olusturma (np.ones)"
      ]
    },
    {
      "cell_type": "code",
      "execution_count": 10,
      "metadata": {
        "colab": {
          "base_uri": "https://localhost:8080/"
        },
        "id": "aTI8wNb_i_60",
        "outputId": "597b48df-3cb4-4ffd-85bf-3ebd9f5c34cf"
      },
      "outputs": [
        {
          "output_type": "execute_result",
          "data": {
            "text/plain": [
              "array([[1, 1, 1, 1, 1],\n",
              "       [1, 1, 1, 1, 1],\n",
              "       [1, 1, 1, 1, 1]])"
            ]
          },
          "metadata": {},
          "execution_count": 10
        }
      ],
      "source": [
        "np.ones((3,5), dtype = int)"
      ]
    },
    {
      "cell_type": "code",
      "execution_count": 11,
      "metadata": {
        "colab": {
          "base_uri": "https://localhost:8080/"
        },
        "id": "j7oLxXgIi_60",
        "outputId": "80661f34-5668-4661-8647-e199e665b2d6"
      },
      "outputs": [
        {
          "output_type": "execute_result",
          "data": {
            "text/plain": [
              "array([1., 1., 1., 1., 1., 1., 1., 1., 1., 1.])"
            ]
          },
          "metadata": {},
          "execution_count": 11
        }
      ],
      "source": [
        "np.ones(10, dtype = float)"
      ]
    },
    {
      "cell_type": "code",
      "execution_count": null,
      "metadata": {
        "id": "Gi3DRXMWi_60"
      },
      "outputs": [],
      "source": [
        "# belirlenen değerler ile doldurma (np.full)"
      ]
    },
    {
      "cell_type": "code",
      "execution_count": 12,
      "metadata": {
        "colab": {
          "base_uri": "https://localhost:8080/"
        },
        "id": "R4UJaAf9i_61",
        "outputId": "1f38cb2e-919c-46cd-b8e7-8754e395ec0e"
      },
      "outputs": [
        {
          "output_type": "execute_result",
          "data": {
            "text/plain": [
              "array([[3, 3, 3, 3, 3],\n",
              "       [3, 3, 3, 3, 3],\n",
              "       [3, 3, 3, 3, 3]])"
            ]
          },
          "metadata": {},
          "execution_count": 12
        }
      ],
      "source": [
        "np.full((3,5), 3)"
      ]
    },
    {
      "cell_type": "code",
      "execution_count": 13,
      "metadata": {
        "colab": {
          "base_uri": "https://localhost:8080/"
        },
        "id": "8y3CXER8i_61",
        "outputId": "fe307d3b-e098-4d82-f4fe-de864fd4ca2a"
      },
      "outputs": [
        {
          "output_type": "execute_result",
          "data": {
            "text/plain": [
              "array([ 0,  3,  6,  9, 12, 15, 18, 21, 24, 27, 30])"
            ]
          },
          "metadata": {},
          "execution_count": 13
        }
      ],
      "source": [
        "# code here (arange)\n",
        "\n",
        "np.arange(0,31, 3)"
      ]
    },
    {
      "cell_type": "code",
      "execution_count": 14,
      "metadata": {
        "colab": {
          "base_uri": "https://localhost:8080/"
        },
        "id": "0bF0U-2Ei_62",
        "outputId": "7c906d41-8526-43d3-8c37-28ef9548e9a8"
      },
      "outputs": [
        {
          "output_type": "execute_result",
          "data": {
            "text/plain": [
              "array([0.        , 0.11111111, 0.22222222, 0.33333333, 0.44444444,\n",
              "       0.55555556, 0.66666667, 0.77777778, 0.88888889, 1.        ])"
            ]
          },
          "metadata": {},
          "execution_count": 14
        }
      ],
      "source": [
        "# code here (linspace)\n",
        "\n",
        "np.linspace(0,1,10)"
      ]
    },
    {
      "cell_type": "code",
      "execution_count": 15,
      "metadata": {
        "colab": {
          "base_uri": "https://localhost:8080/"
        },
        "id": "jj-R-hgLi_62",
        "outputId": "ff135027-3f6c-429a-ec34-a18b282e4de5"
      },
      "outputs": [
        {
          "output_type": "execute_result",
          "data": {
            "text/plain": [
              "array([[ 9.34052215, 15.34418342,  4.9328567 ,  5.70763273],\n",
              "       [11.0068338 , 12.21797335,  6.71550959,  7.37702638],\n",
              "       [ 7.45133645,  8.01354518,  4.1718955 ,  5.81770528]])"
            ]
          },
          "metadata": {},
          "execution_count": 15
        }
      ],
      "source": [
        "# code here (random.normal)\n",
        "\n",
        "np.random.normal(10, 4, (3,4))"
      ]
    },
    {
      "cell_type": "code",
      "execution_count": null,
      "metadata": {
        "id": "kSppdcI9i_62",
        "outputId": "09bd8301-fc4e-4b82-ac46-bb49aa4ab9ab"
      },
      "outputs": [
        {
          "data": {
            "text/plain": [
              "array([[9, 0, 2],\n",
              "       [1, 1, 2],\n",
              "       [5, 7, 8]])"
            ]
          },
          "execution_count": 16,
          "metadata": {},
          "output_type": "execute_result"
        }
      ],
      "source": [
        "# code here (random.randint)\n",
        "\n",
        "np.random.randint(0,10, (3,3))"
      ]
    },
    {
      "cell_type": "markdown",
      "metadata": {
        "id": "mF-8QxYui_63"
      },
      "source": [
        "# Özellikleri"
      ]
    },
    {
      "cell_type": "markdown",
      "metadata": {
        "id": "zAnizpDBi_63"
      },
      "source": [
        "* **ndim**: _boyut sayısı_\n",
        "* shape: boyut bilgisi\n",
        "* size: toplam eleman sayısı\n",
        "* dtype: array veri tipi"
      ]
    },
    {
      "cell_type": "code",
      "execution_count": 16,
      "metadata": {
        "id": "6-fFG10ai_63"
      },
      "outputs": [],
      "source": [
        "import numpy as np"
      ]
    },
    {
      "cell_type": "code",
      "execution_count": 17,
      "metadata": {
        "colab": {
          "base_uri": "https://localhost:8080/"
        },
        "id": "xzRQzE81i_64",
        "outputId": "b3f4a930-a2b6-4e93-ed27-2a3e2dbae658"
      },
      "outputs": [
        {
          "output_type": "execute_result",
          "data": {
            "text/plain": [
              "array([3, 6, 2, 7, 6, 5, 1, 0, 2, 2])"
            ]
          },
          "metadata": {},
          "execution_count": 17
        }
      ],
      "source": [
        "# code here(random.randint, hihg=10, size=10)\n",
        "\n",
        "np.random.randint(10, size = 10)"
      ]
    },
    {
      "cell_type": "code",
      "execution_count": 18,
      "metadata": {
        "id": "uqQjGm3ri_64"
      },
      "outputs": [],
      "source": [
        "a = np.random.randint(10, size = 10)"
      ]
    },
    {
      "cell_type": "code",
      "execution_count": 19,
      "metadata": {
        "colab": {
          "base_uri": "https://localhost:8080/"
        },
        "id": "nojggRxpi_64",
        "outputId": "d07de006-ff14-4054-d99b-5432e66eddb9"
      },
      "outputs": [
        {
          "output_type": "execute_result",
          "data": {
            "text/plain": [
              "1"
            ]
          },
          "metadata": {},
          "execution_count": 19
        }
      ],
      "source": [
        "# code here (find the dimension of a)\n",
        "\n",
        "a.ndim"
      ]
    },
    {
      "cell_type": "code",
      "execution_count": 20,
      "metadata": {
        "colab": {
          "base_uri": "https://localhost:8080/"
        },
        "id": "vKskKJZIi_65",
        "outputId": "254269e0-3437-47a7-9451-6b16633838ec"
      },
      "outputs": [
        {
          "output_type": "execute_result",
          "data": {
            "text/plain": [
              "(10,)"
            ]
          },
          "metadata": {},
          "execution_count": 20
        }
      ],
      "source": [
        "# code here (find the shape of a)\n",
        "\n",
        "a.shape"
      ]
    },
    {
      "cell_type": "code",
      "execution_count": 21,
      "metadata": {
        "colab": {
          "base_uri": "https://localhost:8080/"
        },
        "id": "dutW_njAi_65",
        "outputId": "a9801c7f-c9ba-4cc2-eb71-32a58232a88a"
      },
      "outputs": [
        {
          "output_type": "execute_result",
          "data": {
            "text/plain": [
              "10"
            ]
          },
          "metadata": {},
          "execution_count": 21
        }
      ],
      "source": [
        "# code here (find the size of a)\n",
        "\n",
        "a.size"
      ]
    },
    {
      "cell_type": "code",
      "execution_count": 22,
      "metadata": {
        "colab": {
          "base_uri": "https://localhost:8080/"
        },
        "id": "SQefp3Ldi_65",
        "outputId": "72d7e963-57fc-402c-ca24-00802faa715b"
      },
      "outputs": [
        {
          "output_type": "execute_result",
          "data": {
            "text/plain": [
              "dtype('int64')"
            ]
          },
          "metadata": {},
          "execution_count": 22
        }
      ],
      "source": [
        "# code here (find the dtype of a)\n",
        "\n",
        "a.dtype"
      ]
    },
    {
      "cell_type": "code",
      "execution_count": 23,
      "metadata": {
        "id": "UD8IMtmai_66"
      },
      "outputs": [],
      "source": [
        "b = np.random.randint(10, size = (3,5))"
      ]
    },
    {
      "cell_type": "code",
      "execution_count": 24,
      "metadata": {
        "colab": {
          "base_uri": "https://localhost:8080/"
        },
        "id": "txGQEfiji_66",
        "outputId": "fa37960e-e4e0-45db-ff57-d098391ae50c"
      },
      "outputs": [
        {
          "output_type": "execute_result",
          "data": {
            "text/plain": [
              "array([[7, 4, 1, 3, 6],\n",
              "       [3, 5, 4, 6, 2],\n",
              "       [6, 5, 1, 1, 9]])"
            ]
          },
          "metadata": {},
          "execution_count": 24
        }
      ],
      "source": [
        "b"
      ]
    },
    {
      "cell_type": "code",
      "execution_count": 25,
      "metadata": {
        "colab": {
          "base_uri": "https://localhost:8080/"
        },
        "id": "4gtvYsbci_66",
        "outputId": "a4a40420-1a6f-455a-c0c8-bd10a75ec30e"
      },
      "outputs": [
        {
          "output_type": "execute_result",
          "data": {
            "text/plain": [
              "2"
            ]
          },
          "metadata": {},
          "execution_count": 25
        }
      ],
      "source": [
        "# code here (find the dimension of b)\n",
        "\n",
        "b.ndim"
      ]
    },
    {
      "cell_type": "code",
      "execution_count": 26,
      "metadata": {
        "colab": {
          "base_uri": "https://localhost:8080/"
        },
        "id": "aPAULuwGi_66",
        "outputId": "ced4284b-e751-453b-c7a8-ca506e2619da"
      },
      "outputs": [
        {
          "output_type": "execute_result",
          "data": {
            "text/plain": [
              "(3, 5)"
            ]
          },
          "metadata": {},
          "execution_count": 26
        }
      ],
      "source": [
        "# code here (find the shape of b)\n",
        "\n",
        "b.shape"
      ]
    },
    {
      "cell_type": "code",
      "execution_count": 27,
      "metadata": {
        "colab": {
          "base_uri": "https://localhost:8080/"
        },
        "id": "wf2KfhHPi_67",
        "outputId": "729b89c1-ea38-466a-de94-5c4ae8f461d5"
      },
      "outputs": [
        {
          "output_type": "execute_result",
          "data": {
            "text/plain": [
              "15"
            ]
          },
          "metadata": {},
          "execution_count": 27
        }
      ],
      "source": [
        "# code here (find the size of b)\n",
        "\n",
        "b.size"
      ]
    },
    {
      "cell_type": "code",
      "execution_count": 28,
      "metadata": {
        "colab": {
          "base_uri": "https://localhost:8080/"
        },
        "id": "s7Y5jM8Ti_67",
        "outputId": "e4caa90f-fcfa-4d41-c4bb-16aea8d33164"
      },
      "outputs": [
        {
          "output_type": "execute_result",
          "data": {
            "text/plain": [
              "dtype('int64')"
            ]
          },
          "metadata": {},
          "execution_count": 28
        }
      ],
      "source": [
        "# code here (find the dtype of b)\n",
        "\n",
        "b.dtype"
      ]
    },
    {
      "cell_type": "markdown",
      "metadata": {
        "id": "J2zI6VIqi_67"
      },
      "source": [
        "# Yeniden Şekillendirme (Reshaping)"
      ]
    },
    {
      "cell_type": "code",
      "execution_count": 29,
      "metadata": {
        "id": "yp1aiRI8i_67"
      },
      "outputs": [],
      "source": [
        "import numpy as np"
      ]
    },
    {
      "cell_type": "code",
      "execution_count": 30,
      "metadata": {
        "colab": {
          "base_uri": "https://localhost:8080/"
        },
        "id": "uwbCwtWni_68",
        "outputId": "1c8c2b0c-b7fb-446c-9c1f-0d6f47efcc98"
      },
      "outputs": [
        {
          "output_type": "execute_result",
          "data": {
            "text/plain": [
              "array([1, 2, 3, 4, 5, 6, 7, 8, 9])"
            ]
          },
          "metadata": {},
          "execution_count": 30
        }
      ],
      "source": [
        "# code here (find the dtype of b)\n",
        "\n",
        "np.arange(1,10)"
      ]
    },
    {
      "cell_type": "code",
      "execution_count": 31,
      "metadata": {
        "colab": {
          "base_uri": "https://localhost:8080/"
        },
        "id": "lU4WOToxi_68",
        "outputId": "97684215-7aac-4b5f-f829-b5dec6b8eb7c"
      },
      "outputs": [
        {
          "output_type": "execute_result",
          "data": {
            "text/plain": [
              "array([[1, 2, 3],\n",
              "       [4, 5, 6],\n",
              "       [7, 8, 9]])"
            ]
          },
          "metadata": {},
          "execution_count": 31
        }
      ],
      "source": [
        "# code here (reshape (3,3) your coding above)\n",
        "\n",
        "np.arange(1,10).reshape((3,3))"
      ]
    },
    {
      "cell_type": "code",
      "execution_count": 32,
      "metadata": {
        "id": "WtsB-xC9i_68"
      },
      "outputs": [],
      "source": [
        "a = np.arange(1,10)"
      ]
    },
    {
      "cell_type": "code",
      "execution_count": 33,
      "metadata": {
        "colab": {
          "base_uri": "https://localhost:8080/"
        },
        "id": "i5TpNyoCi_68",
        "outputId": "fa2647de-2729-4f7e-9b88-3042360d1e9c"
      },
      "outputs": [
        {
          "output_type": "execute_result",
          "data": {
            "text/plain": [
              "array([1, 2, 3, 4, 5, 6, 7, 8, 9])"
            ]
          },
          "metadata": {},
          "execution_count": 33
        }
      ],
      "source": [
        "a"
      ]
    },
    {
      "cell_type": "code",
      "execution_count": 34,
      "metadata": {
        "colab": {
          "base_uri": "https://localhost:8080/"
        },
        "id": "DjvYFhMTi_68",
        "outputId": "df7c7030-5231-4a2a-faf2-f9a2422af9c8"
      },
      "outputs": [
        {
          "output_type": "execute_result",
          "data": {
            "text/plain": [
              "1"
            ]
          },
          "metadata": {},
          "execution_count": 34
        }
      ],
      "source": [
        "# code here (find the dimension of a)\n",
        "\n",
        "a.ndim"
      ]
    },
    {
      "cell_type": "code",
      "execution_count": 35,
      "metadata": {
        "colab": {
          "base_uri": "https://localhost:8080/"
        },
        "id": "xDjDf2DEi_69",
        "outputId": "f3f4d2c4-60f6-4ba3-b86f-dcb365857599"
      },
      "outputs": [
        {
          "output_type": "execute_result",
          "data": {
            "text/plain": [
              "array([[1, 2, 3, 4, 5, 6, 7, 8, 9]])"
            ]
          },
          "metadata": {},
          "execution_count": 35
        }
      ],
      "source": [
        "# code here (reshape a as (1,9) and assign to b)\n",
        "\n",
        "b = a.reshape((1,9))\n",
        "b"
      ]
    },
    {
      "cell_type": "code",
      "execution_count": 36,
      "metadata": {
        "colab": {
          "base_uri": "https://localhost:8080/"
        },
        "id": "qPBI2Wg5i_69",
        "outputId": "153cf0b3-c880-4b55-e550-5bd121974a6c"
      },
      "outputs": [
        {
          "output_type": "execute_result",
          "data": {
            "text/plain": [
              "2"
            ]
          },
          "metadata": {},
          "execution_count": 36
        }
      ],
      "source": [
        "# code here (find the dimension of b)\n",
        "\n",
        "b.ndim"
      ]
    },
    {
      "cell_type": "markdown",
      "metadata": {
        "id": "GqynmAt1i_69"
      },
      "source": [
        "# Array Birlestirme (Concatenation)"
      ]
    },
    {
      "cell_type": "code",
      "execution_count": 37,
      "metadata": {
        "id": "NVGNuE-yi_69"
      },
      "outputs": [],
      "source": [
        "import numpy as np"
      ]
    },
    {
      "cell_type": "code",
      "execution_count": 38,
      "metadata": {
        "id": "Jv0RDOBki_69"
      },
      "outputs": [],
      "source": [
        "x = np.array([1,2,3])\n",
        "y = np.array([4,5,6])"
      ]
    },
    {
      "cell_type": "code",
      "execution_count": 39,
      "metadata": {
        "colab": {
          "base_uri": "https://localhost:8080/"
        },
        "id": "trurBGrgi_6-",
        "outputId": "180a602a-f24a-44e9-90d5-8a734e785dc7"
      },
      "outputs": [
        {
          "output_type": "execute_result",
          "data": {
            "text/plain": [
              "array([1, 2, 3, 4, 5, 6])"
            ]
          },
          "metadata": {},
          "execution_count": 39
        }
      ],
      "source": [
        "# code here (concatenate x and y)\n",
        "\n",
        "np.concatenate([x, y])"
      ]
    },
    {
      "cell_type": "code",
      "execution_count": 40,
      "metadata": {
        "id": "6bcyqC2Vi_6-"
      },
      "outputs": [],
      "source": [
        "z = np.array([7,8,9])"
      ]
    },
    {
      "cell_type": "code",
      "execution_count": 41,
      "metadata": {
        "colab": {
          "base_uri": "https://localhost:8080/"
        },
        "id": "BsTVnfTXi_6-",
        "outputId": "35e91d02-c2c5-4e6b-84d1-dc09f74487cd"
      },
      "outputs": [
        {
          "output_type": "execute_result",
          "data": {
            "text/plain": [
              "array([1, 2, 3, 4, 5, 6, 7, 8, 9])"
            ]
          },
          "metadata": {},
          "execution_count": 41
        }
      ],
      "source": [
        "# code here (concatenate x, y and z)\n",
        "\n",
        "np.concatenate([x, y, z])"
      ]
    },
    {
      "cell_type": "code",
      "execution_count": 42,
      "metadata": {
        "colab": {
          "base_uri": "https://localhost:8080/"
        },
        "id": "bKqXU70Ni_6-",
        "outputId": "1a9e27c1-bc39-48af-c2b6-a3f5756dc8fc"
      },
      "outputs": [
        {
          "output_type": "execute_result",
          "data": {
            "text/plain": [
              "array([7, 8, 9, 1, 2, 3, 4, 5, 6])"
            ]
          },
          "metadata": {},
          "execution_count": 42
        }
      ],
      "source": [
        "# code here (concatenate z, y and x)\n",
        "\n",
        "np.concatenate([z, x, y])"
      ]
    },
    {
      "cell_type": "code",
      "execution_count": null,
      "metadata": {
        "id": "9wufmZ08i_6-"
      },
      "outputs": [],
      "source": [
        "#iki boyut"
      ]
    },
    {
      "cell_type": "code",
      "execution_count": 43,
      "metadata": {
        "id": "QWOpeuw4i_6_"
      },
      "outputs": [],
      "source": [
        "a = np.array([[1,2,3], \n",
        "              [4,5,6]])"
      ]
    },
    {
      "cell_type": "code",
      "execution_count": 44,
      "metadata": {
        "colab": {
          "base_uri": "https://localhost:8080/"
        },
        "id": "15rOfoDGi_6_",
        "outputId": "69f281cf-dbf6-4121-cdf4-07c81e77879c"
      },
      "outputs": [
        {
          "output_type": "execute_result",
          "data": {
            "text/plain": [
              "array([[1, 2, 3],\n",
              "       [4, 5, 6],\n",
              "       [1, 2, 3],\n",
              "       [4, 5, 6]])"
            ]
          },
          "metadata": {},
          "execution_count": 44
        }
      ],
      "source": [
        "# code here (concatenate a and a)\n",
        "\n",
        "np.concatenate([a,a])"
      ]
    },
    {
      "cell_type": "code",
      "execution_count": 47,
      "metadata": {
        "colab": {
          "base_uri": "https://localhost:8080/"
        },
        "id": "ezqPgqBPi_6_",
        "outputId": "ca7811ec-6a7f-4508-f30f-50a7b15df667"
      },
      "outputs": [
        {
          "output_type": "execute_result",
          "data": {
            "text/plain": [
              "array([[1, 2, 3, 1, 2, 3],\n",
              "       [4, 5, 6, 4, 5, 6]])"
            ]
          },
          "metadata": {},
          "execution_count": 47
        }
      ],
      "source": [
        "# code here (concatenate a and a)\n",
        "\n",
        "np.concatenate([a,a], axis = 1)"
      ]
    },
    {
      "cell_type": "markdown",
      "metadata": {
        "id": "4RUNA2xai_6_"
      },
      "source": [
        "# Array Ayırma (Splitting)"
      ]
    },
    {
      "cell_type": "code",
      "execution_count": null,
      "metadata": {
        "id": "qOx6aNNbi_6_"
      },
      "outputs": [],
      "source": [
        "import numpy as np"
      ]
    },
    {
      "cell_type": "code",
      "execution_count": 48,
      "metadata": {
        "id": "K5dMkwIyi_7A"
      },
      "outputs": [],
      "source": [
        "x = np.array([1,2,3,99,99,3,2,1])"
      ]
    },
    {
      "cell_type": "code",
      "execution_count": 49,
      "metadata": {
        "colab": {
          "base_uri": "https://localhost:8080/"
        },
        "id": "sybcpjNNi_7A",
        "outputId": "9537554a-bf64-4069-a1d2-948399b1a705"
      },
      "outputs": [
        {
          "output_type": "execute_result",
          "data": {
            "text/plain": [
              "[array([1, 2, 3]), array([99, 99]), array([3, 2, 1])]"
            ]
          },
          "metadata": {},
          "execution_count": 49
        }
      ],
      "source": [
        "# code here (split x from 3 and 5)\n",
        "\n",
        "np.split(x, [3,5])"
      ]
    },
    {
      "cell_type": "code",
      "execution_count": 50,
      "metadata": {
        "id": "KxE-1dqui_7A"
      },
      "outputs": [],
      "source": [
        "# code here (do a tuple unpacking for above splitting in order of a,b,c)\n",
        "\n",
        "a,b,c = np.split(x, [3,5])"
      ]
    },
    {
      "cell_type": "code",
      "execution_count": 51,
      "metadata": {
        "colab": {
          "base_uri": "https://localhost:8080/"
        },
        "id": "Qj4dyR4bi_7A",
        "outputId": "cd1d6c23-799e-4455-eb90-cb0c6830235b"
      },
      "outputs": [
        {
          "output_type": "execute_result",
          "data": {
            "text/plain": [
              "array([1, 2, 3])"
            ]
          },
          "metadata": {},
          "execution_count": 51
        }
      ],
      "source": [
        "a"
      ]
    },
    {
      "cell_type": "code",
      "execution_count": 52,
      "metadata": {
        "colab": {
          "base_uri": "https://localhost:8080/"
        },
        "id": "pzOkMThFi_7A",
        "outputId": "c6b142bf-b3fa-425a-f977-b2cd94cc20ce"
      },
      "outputs": [
        {
          "output_type": "execute_result",
          "data": {
            "text/plain": [
              "array([99, 99])"
            ]
          },
          "metadata": {},
          "execution_count": 52
        }
      ],
      "source": [
        "b"
      ]
    },
    {
      "cell_type": "code",
      "execution_count": 53,
      "metadata": {
        "colab": {
          "base_uri": "https://localhost:8080/"
        },
        "id": "N3M3jHGui_7B",
        "outputId": "02717be0-170f-42f6-a38c-c72dbfa8816b"
      },
      "outputs": [
        {
          "output_type": "execute_result",
          "data": {
            "text/plain": [
              "array([3, 2, 1])"
            ]
          },
          "metadata": {},
          "execution_count": 53
        }
      ],
      "source": [
        "c"
      ]
    },
    {
      "cell_type": "code",
      "execution_count": null,
      "metadata": {
        "id": "l8wg2E3li_7B"
      },
      "outputs": [],
      "source": [
        "#iki boyutlu ayırma"
      ]
    },
    {
      "cell_type": "code",
      "execution_count": 54,
      "metadata": {
        "colab": {
          "base_uri": "https://localhost:8080/"
        },
        "id": "-WsUfWOei_7B",
        "outputId": "87eb64ef-c543-420d-ade8-4522572573c3"
      },
      "outputs": [
        {
          "output_type": "execute_result",
          "data": {
            "text/plain": [
              "array([[ 0,  1,  2,  3],\n",
              "       [ 4,  5,  6,  7],\n",
              "       [ 8,  9, 10, 11],\n",
              "       [12, 13, 14, 15]])"
            ]
          },
          "metadata": {},
          "execution_count": 54
        }
      ],
      "source": [
        "m = np.arange(16).reshape(4,4)\n",
        "m"
      ]
    },
    {
      "cell_type": "code",
      "execution_count": 58,
      "metadata": {
        "colab": {
          "base_uri": "https://localhost:8080/"
        },
        "id": "bNaK3IHRi_7B",
        "outputId": "de264dbe-3ccd-4f36-a642-9ad5f35e09c8"
      },
      "outputs": [
        {
          "output_type": "execute_result",
          "data": {
            "text/plain": [
              "[array([[0, 1, 2, 3],\n",
              "        [4, 5, 6, 7]]), array([[ 8,  9, 10, 11],\n",
              "        [12, 13, 14, 15]])]"
            ]
          },
          "metadata": {},
          "execution_count": 58
        }
      ],
      "source": [
        "# code here (split m)\n",
        "\n",
        "np.vsplit(m, [2])"
      ]
    },
    {
      "cell_type": "code",
      "execution_count": 59,
      "metadata": {
        "id": "ZsTH36Udi_7B"
      },
      "outputs": [],
      "source": [
        "ust, alt = np.vsplit(m, [2])"
      ]
    },
    {
      "cell_type": "code",
      "execution_count": 60,
      "metadata": {
        "colab": {
          "base_uri": "https://localhost:8080/"
        },
        "id": "9lMCqsV4i_7C",
        "outputId": "4e5cce2c-fc5b-4bbb-e9ea-5c37a1d61874"
      },
      "outputs": [
        {
          "output_type": "execute_result",
          "data": {
            "text/plain": [
              "array([[0, 1, 2, 3],\n",
              "       [4, 5, 6, 7]])"
            ]
          },
          "metadata": {},
          "execution_count": 60
        }
      ],
      "source": [
        "ust"
      ]
    },
    {
      "cell_type": "code",
      "execution_count": 61,
      "metadata": {
        "colab": {
          "base_uri": "https://localhost:8080/"
        },
        "id": "wK4TaCCpi_7C",
        "outputId": "7984bdae-4b36-444d-e161-fc825e2043fe"
      },
      "outputs": [
        {
          "output_type": "execute_result",
          "data": {
            "text/plain": [
              "array([[ 8,  9, 10, 11],\n",
              "       [12, 13, 14, 15]])"
            ]
          },
          "metadata": {},
          "execution_count": 61
        }
      ],
      "source": [
        "alt"
      ]
    },
    {
      "cell_type": "code",
      "execution_count": 62,
      "metadata": {
        "colab": {
          "base_uri": "https://localhost:8080/"
        },
        "id": "_FLX0cdwi_7C",
        "outputId": "8e7152a1-400c-4b95-9ad5-badd04bab2ba"
      },
      "outputs": [
        {
          "output_type": "execute_result",
          "data": {
            "text/plain": [
              "array([[ 0,  1,  2,  3],\n",
              "       [ 4,  5,  6,  7],\n",
              "       [ 8,  9, 10, 11],\n",
              "       [12, 13, 14, 15]])"
            ]
          },
          "metadata": {},
          "execution_count": 62
        }
      ],
      "source": [
        "m"
      ]
    },
    {
      "cell_type": "code",
      "execution_count": 65,
      "metadata": {
        "colab": {
          "base_uri": "https://localhost:8080/"
        },
        "id": "nkpYhICFi_7C",
        "outputId": "bf3ac377-9695-4234-ba29-9edeaf323698"
      },
      "outputs": [
        {
          "output_type": "execute_result",
          "data": {
            "text/plain": [
              "[array([[ 0,  1],\n",
              "        [ 4,  5],\n",
              "        [ 8,  9],\n",
              "        [12, 13]]), array([[ 2,  3],\n",
              "        [ 6,  7],\n",
              "        [10, 11],\n",
              "        [14, 15]])]"
            ]
          },
          "metadata": {},
          "execution_count": 65
        }
      ],
      "source": [
        "# code here (split m)\n",
        "\n",
        "np.hsplit(m, [2])"
      ]
    },
    {
      "cell_type": "code",
      "execution_count": 66,
      "metadata": {
        "id": "PX4Tuv6Ki_7C"
      },
      "outputs": [],
      "source": [
        "sag, sol = np.hsplit(m, [2])"
      ]
    },
    {
      "cell_type": "code",
      "execution_count": 67,
      "metadata": {
        "colab": {
          "base_uri": "https://localhost:8080/"
        },
        "id": "oqiRORgji_7D",
        "outputId": "b5b7dd6f-816c-47d3-b8b1-29efe9792983"
      },
      "outputs": [
        {
          "output_type": "execute_result",
          "data": {
            "text/plain": [
              "array([[ 0,  1],\n",
              "       [ 4,  5],\n",
              "       [ 8,  9],\n",
              "       [12, 13]])"
            ]
          },
          "metadata": {},
          "execution_count": 67
        }
      ],
      "source": [
        "sag"
      ]
    },
    {
      "cell_type": "code",
      "execution_count": 68,
      "metadata": {
        "colab": {
          "base_uri": "https://localhost:8080/"
        },
        "id": "ogm0vcmHi_7D",
        "outputId": "efb0dd75-6355-486a-8e8a-abe0604cae8d"
      },
      "outputs": [
        {
          "output_type": "execute_result",
          "data": {
            "text/plain": [
              "array([[ 2,  3],\n",
              "       [ 6,  7],\n",
              "       [10, 11],\n",
              "       [14, 15]])"
            ]
          },
          "metadata": {},
          "execution_count": 68
        }
      ],
      "source": [
        "sol"
      ]
    },
    {
      "cell_type": "markdown",
      "metadata": {
        "id": "Fxarciyhi_7D"
      },
      "source": [
        "# Array Sıralama (Sorting)"
      ]
    },
    {
      "cell_type": "code",
      "execution_count": null,
      "metadata": {
        "id": "QXF0eV1Wi_7D"
      },
      "outputs": [],
      "source": [
        "import numpy as np"
      ]
    },
    {
      "cell_type": "code",
      "execution_count": 69,
      "metadata": {
        "id": "WubZEc5Gi_7D"
      },
      "outputs": [],
      "source": [
        "v = np.array([2,1,4,3,5])"
      ]
    },
    {
      "cell_type": "code",
      "execution_count": 70,
      "metadata": {
        "colab": {
          "base_uri": "https://localhost:8080/"
        },
        "id": "iuViRgOSi_7D",
        "outputId": "1bf1d999-3dc7-4b54-ce63-3db87d9a061b"
      },
      "outputs": [
        {
          "output_type": "execute_result",
          "data": {
            "text/plain": [
              "array([2, 1, 4, 3, 5])"
            ]
          },
          "metadata": {},
          "execution_count": 70
        }
      ],
      "source": [
        "v"
      ]
    },
    {
      "cell_type": "code",
      "execution_count": 73,
      "metadata": {
        "colab": {
          "base_uri": "https://localhost:8080/"
        },
        "id": "hvtwnyxai_7E",
        "outputId": "4610d198-e8d9-4782-bd76-75f409fa01bf"
      },
      "outputs": [
        {
          "output_type": "execute_result",
          "data": {
            "text/plain": [
              "array([1, 2, 3, 4, 5])"
            ]
          },
          "metadata": {},
          "execution_count": 73
        }
      ],
      "source": [
        "# code here (sort v)\n",
        "\n",
        "np.sort(v)"
      ]
    },
    {
      "cell_type": "code",
      "execution_count": 74,
      "metadata": {
        "colab": {
          "base_uri": "https://localhost:8080/"
        },
        "id": "emJHecnUi_7E",
        "outputId": "037a8425-1715-42c8-b692-93e91778d137"
      },
      "outputs": [
        {
          "output_type": "execute_result",
          "data": {
            "text/plain": [
              "array([2, 1, 4, 3, 5])"
            ]
          },
          "metadata": {},
          "execution_count": 74
        }
      ],
      "source": [
        "v"
      ]
    },
    {
      "cell_type": "code",
      "execution_count": 75,
      "metadata": {
        "id": "8Km3ZUUJi_7E"
      },
      "outputs": [],
      "source": [
        "# code here (sort v)\n",
        "\n",
        "v.sort()"
      ]
    },
    {
      "cell_type": "code",
      "execution_count": 76,
      "metadata": {
        "colab": {
          "base_uri": "https://localhost:8080/"
        },
        "id": "WKvgrWCAi_7E",
        "outputId": "82ce629c-1867-402a-e610-74d1cb555fee"
      },
      "outputs": [
        {
          "output_type": "execute_result",
          "data": {
            "text/plain": [
              "array([1, 2, 3, 4, 5])"
            ]
          },
          "metadata": {},
          "execution_count": 76
        }
      ],
      "source": [
        "v"
      ]
    },
    {
      "cell_type": "code",
      "execution_count": null,
      "metadata": {
        "id": "gPdXRaGqi_7E"
      },
      "outputs": [],
      "source": [
        "#iki boyutlu array siralama"
      ]
    },
    {
      "cell_type": "code",
      "execution_count": 77,
      "metadata": {
        "id": "dnRgN89_i_7F"
      },
      "outputs": [],
      "source": [
        "m = np.random.normal(20,5, (3,3))"
      ]
    },
    {
      "cell_type": "code",
      "execution_count": 78,
      "metadata": {
        "colab": {
          "base_uri": "https://localhost:8080/"
        },
        "id": "StOl6Sh2i_7F",
        "outputId": "51f9f4f6-fc06-4384-8083-a29240461758"
      },
      "outputs": [
        {
          "output_type": "execute_result",
          "data": {
            "text/plain": [
              "array([[22.06139743, 21.34010015, 22.60399762],\n",
              "       [18.02204646, 15.24149713, 19.94863655],\n",
              "       [21.95227759, 23.02421504, 23.99823796]])"
            ]
          },
          "metadata": {},
          "execution_count": 78
        }
      ],
      "source": [
        "m"
      ]
    },
    {
      "cell_type": "code",
      "execution_count": 79,
      "metadata": {
        "colab": {
          "base_uri": "https://localhost:8080/"
        },
        "id": "rVUyKfnri_7F",
        "outputId": "390ad588-5a10-4d40-b42e-c77ec96e2e53"
      },
      "outputs": [
        {
          "output_type": "execute_result",
          "data": {
            "text/plain": [
              "array([[21.34010015, 22.06139743, 22.60399762],\n",
              "       [15.24149713, 18.02204646, 19.94863655],\n",
              "       [21.95227759, 23.02421504, 23.99823796]])"
            ]
          },
          "metadata": {},
          "execution_count": 79
        }
      ],
      "source": [
        "# code here (sort m)\n",
        "\n",
        "np.sort(m, axis = 1)"
      ]
    },
    {
      "cell_type": "code",
      "execution_count": 80,
      "metadata": {
        "colab": {
          "base_uri": "https://localhost:8080/"
        },
        "id": "2IPLdr0Fi_7F",
        "outputId": "55e2295b-df12-42f6-c5c6-ec5675b5e649"
      },
      "outputs": [
        {
          "output_type": "execute_result",
          "data": {
            "text/plain": [
              "array([[18.02204646, 15.24149713, 19.94863655],\n",
              "       [21.95227759, 21.34010015, 22.60399762],\n",
              "       [22.06139743, 23.02421504, 23.99823796]])"
            ]
          },
          "metadata": {},
          "execution_count": 80
        }
      ],
      "source": [
        "# code here (sort m)\n",
        "\n",
        "np.sort(m, axis = 0)"
      ]
    },
    {
      "cell_type": "markdown",
      "metadata": {
        "id": "-FejgQ5zi_7F"
      },
      "source": [
        "# Index ile Elemanlara Erişmek"
      ]
    },
    {
      "cell_type": "code",
      "execution_count": 81,
      "metadata": {
        "colab": {
          "base_uri": "https://localhost:8080/"
        },
        "id": "5fD-ANEOi_7G",
        "outputId": "da0542e2-975e-4a9e-e997-7625ea9a4497"
      },
      "outputs": [
        {
          "output_type": "execute_result",
          "data": {
            "text/plain": [
              "array([9, 2, 7, 6, 9, 9, 7, 4, 2, 5])"
            ]
          },
          "metadata": {},
          "execution_count": 81
        }
      ],
      "source": [
        "import numpy as np\n",
        "a = np.random.randint(10, size = 10)\n",
        "a"
      ]
    },
    {
      "cell_type": "code",
      "execution_count": 82,
      "metadata": {
        "colab": {
          "base_uri": "https://localhost:8080/"
        },
        "id": "5yH0uxPFi_7G",
        "outputId": "f77fb435-af5a-4c31-b4e9-39fd8f3843a3"
      },
      "outputs": [
        {
          "output_type": "execute_result",
          "data": {
            "text/plain": [
              "9"
            ]
          },
          "metadata": {},
          "execution_count": 82
        }
      ],
      "source": [
        "# code here\n",
        "\n",
        "a[0]"
      ]
    },
    {
      "cell_type": "code",
      "execution_count": 83,
      "metadata": {
        "colab": {
          "base_uri": "https://localhost:8080/"
        },
        "id": "x5yDMfcqi_7G",
        "outputId": "eec4b79f-b494-4bac-a341-92644afba2ce"
      },
      "outputs": [
        {
          "output_type": "execute_result",
          "data": {
            "text/plain": [
              "5"
            ]
          },
          "metadata": {},
          "execution_count": 83
        }
      ],
      "source": [
        "# code here\n",
        "\n",
        "a[-1]"
      ]
    },
    {
      "cell_type": "code",
      "execution_count": 84,
      "metadata": {
        "id": "nH1clo-ei_7G"
      },
      "outputs": [],
      "source": [
        "a[2], a[5], a[9] = [4, 0, 100]"
      ]
    },
    {
      "cell_type": "code",
      "execution_count": 85,
      "metadata": {
        "colab": {
          "base_uri": "https://localhost:8080/"
        },
        "id": "ytdl5Ad1i_7G",
        "outputId": "e58840f8-d510-41fe-be64-936c9ba0599a"
      },
      "outputs": [
        {
          "output_type": "execute_result",
          "data": {
            "text/plain": [
              "array([  9,   2,   4,   6,   9,   0,   7,   4,   2, 100])"
            ]
          },
          "metadata": {},
          "execution_count": 85
        }
      ],
      "source": [
        "a"
      ]
    },
    {
      "cell_type": "code",
      "execution_count": 86,
      "metadata": {
        "colab": {
          "base_uri": "https://localhost:8080/"
        },
        "id": "2iQI-83fi_7J",
        "outputId": "21793057-cb55-477b-ea81-98e6d435e2cd"
      },
      "outputs": [
        {
          "output_type": "execute_result",
          "data": {
            "text/plain": [
              "4"
            ]
          },
          "metadata": {},
          "execution_count": 86
        }
      ],
      "source": [
        "# code here\n",
        "\n",
        "a[2]"
      ]
    },
    {
      "cell_type": "code",
      "execution_count": 87,
      "metadata": {
        "colab": {
          "base_uri": "https://localhost:8080/"
        },
        "id": "_oRcvroVi_7J",
        "outputId": "343c238d-dd18-4b98-ee11-2b70f976e6e3"
      },
      "outputs": [
        {
          "output_type": "execute_result",
          "data": {
            "text/plain": [
              "0"
            ]
          },
          "metadata": {},
          "execution_count": 87
        }
      ],
      "source": [
        "# code here\n",
        "\n",
        "a[5]"
      ]
    },
    {
      "cell_type": "code",
      "execution_count": 88,
      "metadata": {
        "colab": {
          "base_uri": "https://localhost:8080/"
        },
        "id": "WMIRmYPli_7K",
        "outputId": "ca901677-0417-4be6-d7ac-fa6a9cbfabb6"
      },
      "outputs": [
        {
          "output_type": "execute_result",
          "data": {
            "text/plain": [
              "100"
            ]
          },
          "metadata": {},
          "execution_count": 88
        }
      ],
      "source": [
        "# code here\n",
        "\n",
        "a[9]"
      ]
    },
    {
      "cell_type": "code",
      "execution_count": 89,
      "metadata": {
        "colab": {
          "base_uri": "https://localhost:8080/"
        },
        "id": "NfIBf0Hui_7K",
        "outputId": "2b04cf28-6078-4f56-e327-cfc3a7424fd7"
      },
      "outputs": [
        {
          "output_type": "execute_result",
          "data": {
            "text/plain": [
              "array([[7, 3, 8, 6, 1],\n",
              "       [9, 5, 3, 1, 4],\n",
              "       [9, 1, 7, 7, 3]])"
            ]
          },
          "metadata": {},
          "execution_count": 89
        }
      ],
      "source": [
        "m = np.random.randint(10, size = (3,5))\n",
        "m"
      ]
    },
    {
      "cell_type": "code",
      "execution_count": 90,
      "metadata": {
        "colab": {
          "base_uri": "https://localhost:8080/"
        },
        "id": "C-jBbc6Ki_7K",
        "outputId": "0dcb0e03-3d6d-4900-9c17-38006ee6207c"
      },
      "outputs": [
        {
          "output_type": "execute_result",
          "data": {
            "text/plain": [
              "7"
            ]
          },
          "metadata": {},
          "execution_count": 90
        }
      ],
      "source": [
        "# code here\n",
        "\n",
        "m[0,0]"
      ]
    },
    {
      "cell_type": "code",
      "execution_count": 91,
      "metadata": {
        "colab": {
          "base_uri": "https://localhost:8080/"
        },
        "id": "0fOrFeRui_7K",
        "outputId": "1e514a87-3320-4da2-adfc-013b5442d26d"
      },
      "outputs": [
        {
          "output_type": "execute_result",
          "data": {
            "text/plain": [
              "5"
            ]
          },
          "metadata": {},
          "execution_count": 91
        }
      ],
      "source": [
        "# code here\n",
        "\n",
        "m[1,1]"
      ]
    },
    {
      "cell_type": "code",
      "execution_count": 95,
      "metadata": {
        "colab": {
          "base_uri": "https://localhost:8080/"
        },
        "id": "njTK-uxDi_7K",
        "outputId": "8e0412f2-19fa-437a-dba7-1f38e8d553f4"
      },
      "outputs": [
        {
          "output_type": "execute_result",
          "data": {
            "text/plain": [
              "7"
            ]
          },
          "metadata": {},
          "execution_count": 95
        }
      ],
      "source": [
        "# code here\n",
        "\n",
        "m[2, 3]"
      ]
    },
    {
      "cell_type": "code",
      "execution_count": 96,
      "metadata": {
        "id": "kDEuiCuRi_7L"
      },
      "outputs": [],
      "source": [
        "# code here (look at the below array)\n",
        "\n",
        "m[1, 4] = 99"
      ]
    },
    {
      "cell_type": "code",
      "execution_count": 97,
      "metadata": {
        "colab": {
          "base_uri": "https://localhost:8080/"
        },
        "id": "NYQTqvsSi_7L",
        "outputId": "72340995-e595-4401-a8fd-6cb4982515fd"
      },
      "outputs": [
        {
          "output_type": "execute_result",
          "data": {
            "text/plain": [
              "array([[ 7,  3,  8,  6,  1],\n",
              "       [ 9,  5,  3,  1, 99],\n",
              "       [ 9,  1,  7,  7,  3]])"
            ]
          },
          "metadata": {},
          "execution_count": 97
        }
      ],
      "source": [
        "m"
      ]
    },
    {
      "cell_type": "code",
      "execution_count": 100,
      "metadata": {
        "id": "VWugXDb6i_7L"
      },
      "outputs": [],
      "source": [
        "# code here (look at the below array)\n",
        "\n",
        "m[1,4] = 2.2"
      ]
    },
    {
      "cell_type": "code",
      "execution_count": 99,
      "metadata": {
        "colab": {
          "base_uri": "https://localhost:8080/"
        },
        "id": "TIbMuhAXi_7L",
        "outputId": "93bd6650-78c7-4580-b295-22ebc5ab13ac"
      },
      "outputs": [
        {
          "output_type": "execute_result",
          "data": {
            "text/plain": [
              "array([[7, 3, 8, 6, 1],\n",
              "       [9, 5, 3, 1, 2],\n",
              "       [9, 1, 7, 7, 3]])"
            ]
          },
          "metadata": {},
          "execution_count": 99
        }
      ],
      "source": [
        "m"
      ]
    },
    {
      "cell_type": "markdown",
      "metadata": {
        "id": "D-AD1T11i_7L"
      },
      "source": [
        "# Slicing ile Elemanlara Erişmek (Array Alt Kümesine Erişmek)"
      ]
    },
    {
      "cell_type": "code",
      "execution_count": 101,
      "metadata": {
        "id": "S_zVjlb6i_7M"
      },
      "outputs": [],
      "source": [
        "import numpy as np"
      ]
    },
    {
      "cell_type": "code",
      "execution_count": 102,
      "metadata": {
        "colab": {
          "base_uri": "https://localhost:8080/"
        },
        "id": "oHPBeSVfi_7M",
        "outputId": "93ed860b-f82d-4476-c1cd-c1fcf3019609"
      },
      "outputs": [
        {
          "output_type": "execute_result",
          "data": {
            "text/plain": [
              "array([20, 21, 22, 23, 24, 25, 26, 27, 28, 29])"
            ]
          },
          "metadata": {},
          "execution_count": 102
        }
      ],
      "source": [
        "a = np.arange(20,30)\n",
        "a"
      ]
    },
    {
      "cell_type": "code",
      "execution_count": 103,
      "metadata": {
        "colab": {
          "base_uri": "https://localhost:8080/"
        },
        "id": "zmwE16Ezi_7M",
        "outputId": "12e7a833-3a10-44b5-e540-3bbbf4a42be9"
      },
      "outputs": [
        {
          "output_type": "execute_result",
          "data": {
            "text/plain": [
              "array([20, 21, 22])"
            ]
          },
          "metadata": {},
          "execution_count": 103
        }
      ],
      "source": [
        "# code here (look at the below array)\n",
        "\n",
        "a[0:3]"
      ]
    },
    {
      "cell_type": "code",
      "execution_count": 104,
      "metadata": {
        "colab": {
          "base_uri": "https://localhost:8080/"
        },
        "id": "a-ASk9kOi_7M",
        "outputId": "b84d0703-9fa1-41b3-b6e8-67fab5c06956"
      },
      "outputs": [
        {
          "output_type": "execute_result",
          "data": {
            "text/plain": [
              "array([20, 21, 22])"
            ]
          },
          "metadata": {},
          "execution_count": 104
        }
      ],
      "source": [
        "# code here (look at the below array)\n",
        "\n",
        "a[:3]"
      ]
    },
    {
      "cell_type": "code",
      "execution_count": 105,
      "metadata": {
        "colab": {
          "base_uri": "https://localhost:8080/"
        },
        "id": "QS-RJoGBi_7M",
        "outputId": "220fed93-d226-4b77-d85b-6c01e95024f3"
      },
      "outputs": [
        {
          "output_type": "execute_result",
          "data": {
            "text/plain": [
              "array([23, 24, 25, 26, 27, 28, 29])"
            ]
          },
          "metadata": {},
          "execution_count": 105
        }
      ],
      "source": [
        "# code here (look at the below array)\n",
        "\n",
        "a[3:]"
      ]
    },
    {
      "cell_type": "code",
      "execution_count": 106,
      "metadata": {
        "colab": {
          "base_uri": "https://localhost:8080/"
        },
        "id": "3fiEvxK_i_7N",
        "outputId": "b352f658-10bd-4383-8598-d73b065df588"
      },
      "outputs": [
        {
          "output_type": "execute_result",
          "data": {
            "text/plain": [
              "array([21, 23, 25, 27, 29])"
            ]
          },
          "metadata": {},
          "execution_count": 106
        }
      ],
      "source": [
        "# code here (look at the below array)\n",
        "\n",
        "a[1::2]"
      ]
    },
    {
      "cell_type": "code",
      "execution_count": 107,
      "metadata": {
        "colab": {
          "base_uri": "https://localhost:8080/"
        },
        "id": "4dRBGZHli_7N",
        "outputId": "459f9534-7b4c-4d0f-cd12-51b5e26e1653"
      },
      "outputs": [
        {
          "output_type": "execute_result",
          "data": {
            "text/plain": [
              "array([20, 22, 24, 26, 28])"
            ]
          },
          "metadata": {},
          "execution_count": 107
        }
      ],
      "source": [
        "# code here (look at the below array)\n",
        "\n",
        "a[0::2]"
      ]
    },
    {
      "cell_type": "code",
      "execution_count": 108,
      "metadata": {
        "colab": {
          "base_uri": "https://localhost:8080/"
        },
        "id": "GWjZRavMi_7N",
        "outputId": "d4f0367c-4c2b-4065-ab0b-b506598a2200"
      },
      "outputs": [
        {
          "output_type": "execute_result",
          "data": {
            "text/plain": [
              "array([22, 24, 26, 28])"
            ]
          },
          "metadata": {},
          "execution_count": 108
        }
      ],
      "source": [
        "# code here (look at the below array)\n",
        "\n",
        "a[2::2]"
      ]
    },
    {
      "cell_type": "code",
      "execution_count": 109,
      "metadata": {
        "colab": {
          "base_uri": "https://localhost:8080/"
        },
        "id": "oPu6_QM-i_7N",
        "outputId": "3a76dc29-62e0-49ad-d7d9-dea692aafc2f"
      },
      "outputs": [
        {
          "output_type": "execute_result",
          "data": {
            "text/plain": [
              "array([20, 23, 26, 29])"
            ]
          },
          "metadata": {},
          "execution_count": 109
        }
      ],
      "source": [
        "# code here (look at the below array)\n",
        "\n",
        "a[0::3]"
      ]
    },
    {
      "cell_type": "code",
      "execution_count": null,
      "metadata": {
        "id": "Must8RRhi_7O"
      },
      "outputs": [],
      "source": [
        "#iki boyutlu slice islemleri"
      ]
    },
    {
      "cell_type": "code",
      "execution_count": 110,
      "metadata": {
        "id": "ZhEolKmTi_7O"
      },
      "outputs": [],
      "source": [
        "m = np.random.randint(10, size = (5,5))"
      ]
    },
    {
      "cell_type": "code",
      "execution_count": 111,
      "metadata": {
        "colab": {
          "base_uri": "https://localhost:8080/"
        },
        "id": "Kv-bX_S6i_7O",
        "outputId": "8a256043-b302-4758-c832-d6ac561f106b"
      },
      "outputs": [
        {
          "output_type": "execute_result",
          "data": {
            "text/plain": [
              "array([[5, 2, 5, 3, 9],\n",
              "       [0, 8, 6, 2, 8],\n",
              "       [5, 0, 8, 1, 9],\n",
              "       [3, 8, 4, 4, 7],\n",
              "       [4, 7, 1, 0, 7]])"
            ]
          },
          "metadata": {},
          "execution_count": 111
        }
      ],
      "source": [
        "m"
      ]
    },
    {
      "cell_type": "code",
      "execution_count": 116,
      "metadata": {
        "colab": {
          "base_uri": "https://localhost:8080/"
        },
        "id": "0xH-dEmyi_7O",
        "outputId": "1f0d89b9-3a7a-4ccf-d66f-3f455bd9a4c3"
      },
      "outputs": [
        {
          "output_type": "execute_result",
          "data": {
            "text/plain": [
              "array([5, 0, 5, 3, 4])"
            ]
          },
          "metadata": {},
          "execution_count": 116
        }
      ],
      "source": [
        "# code here (look at the below array)\n",
        "\n",
        "m[:,0]"
      ]
    },
    {
      "cell_type": "code",
      "execution_count": 117,
      "metadata": {
        "colab": {
          "base_uri": "https://localhost:8080/"
        },
        "id": "PdqtWs2zi_7O",
        "outputId": "05c340c8-89fe-45d8-bded-3c887762dd65"
      },
      "outputs": [
        {
          "output_type": "execute_result",
          "data": {
            "text/plain": [
              "array([2, 8, 0, 8, 7])"
            ]
          },
          "metadata": {},
          "execution_count": 117
        }
      ],
      "source": [
        "# code here (look at the below array)\n",
        "\n",
        "m[:,1]"
      ]
    },
    {
      "cell_type": "code",
      "execution_count": 118,
      "metadata": {
        "colab": {
          "base_uri": "https://localhost:8080/"
        },
        "id": "1fgSShZui_7O",
        "outputId": "e2415a6f-1f6d-4ae8-8cc2-f839ee59ba8e"
      },
      "outputs": [
        {
          "output_type": "execute_result",
          "data": {
            "text/plain": [
              "array([9, 8, 9, 7, 7])"
            ]
          },
          "metadata": {},
          "execution_count": 118
        }
      ],
      "source": [
        "# code here (look at the below array)\n",
        "\n",
        "m[:,4]"
      ]
    },
    {
      "cell_type": "code",
      "execution_count": 119,
      "metadata": {
        "colab": {
          "base_uri": "https://localhost:8080/"
        },
        "id": "qU9yrk0Pi_7P",
        "outputId": "bef0ee7d-2b06-4482-cbb3-a88a0152393e"
      },
      "outputs": [
        {
          "output_type": "execute_result",
          "data": {
            "text/plain": [
              "array([[5, 2, 5, 3, 9],\n",
              "       [0, 8, 6, 2, 8],\n",
              "       [5, 0, 8, 1, 9],\n",
              "       [3, 8, 4, 4, 7],\n",
              "       [4, 7, 1, 0, 7]])"
            ]
          },
          "metadata": {},
          "execution_count": 119
        }
      ],
      "source": [
        "m"
      ]
    },
    {
      "cell_type": "code",
      "execution_count": 120,
      "metadata": {
        "colab": {
          "base_uri": "https://localhost:8080/"
        },
        "id": "VbgYMTh9i_7P",
        "outputId": "37f8f5f8-9435-4ed6-a662-fe1d6982cafb"
      },
      "outputs": [
        {
          "output_type": "execute_result",
          "data": {
            "text/plain": [
              "array([5, 2, 5, 3, 9])"
            ]
          },
          "metadata": {},
          "execution_count": 120
        }
      ],
      "source": [
        "# code here (look at the below array)\n",
        "\n",
        "m[0,:]"
      ]
    },
    {
      "cell_type": "code",
      "execution_count": 121,
      "metadata": {
        "colab": {
          "base_uri": "https://localhost:8080/"
        },
        "id": "mCeFZzXFi_7P",
        "outputId": "3fdeada1-022e-4331-a812-02f512ea027d"
      },
      "outputs": [
        {
          "output_type": "execute_result",
          "data": {
            "text/plain": [
              "array([5, 2, 5, 3, 9])"
            ]
          },
          "metadata": {},
          "execution_count": 121
        }
      ],
      "source": [
        "# code here (look at the below array)\n",
        "\n",
        "m[0]"
      ]
    },
    {
      "cell_type": "code",
      "execution_count": 122,
      "metadata": {
        "colab": {
          "base_uri": "https://localhost:8080/"
        },
        "id": "HMW_5hmni_7P",
        "outputId": "38ac9c37-71eb-48e3-edae-128664891a87"
      },
      "outputs": [
        {
          "output_type": "execute_result",
          "data": {
            "text/plain": [
              "array([0, 8, 6, 2, 8])"
            ]
          },
          "metadata": {},
          "execution_count": 122
        }
      ],
      "source": [
        "# code here (look at the below array)\n",
        "\n",
        "m[1,:]"
      ]
    },
    {
      "cell_type": "code",
      "execution_count": 123,
      "metadata": {
        "colab": {
          "base_uri": "https://localhost:8080/"
        },
        "id": "Fk275k5Ji_7P",
        "outputId": "223104a2-abfc-4861-f7ed-29594c4ddbe3"
      },
      "outputs": [
        {
          "output_type": "execute_result",
          "data": {
            "text/plain": [
              "array([[5, 2, 5],\n",
              "       [0, 8, 6]])"
            ]
          },
          "metadata": {},
          "execution_count": 123
        }
      ],
      "source": [
        "# code here (look at the below array)\n",
        "\n",
        "m[0:2, 0:3]"
      ]
    },
    {
      "cell_type": "code",
      "execution_count": 124,
      "metadata": {
        "colab": {
          "base_uri": "https://localhost:8080/"
        },
        "id": "Ieg6kFIMi_7Q",
        "outputId": "111dd1e9-301d-47f9-d764-055efeed99a6"
      },
      "outputs": [
        {
          "output_type": "execute_result",
          "data": {
            "text/plain": [
              "array([[5, 2],\n",
              "       [0, 8],\n",
              "       [5, 0],\n",
              "       [3, 8],\n",
              "       [4, 7]])"
            ]
          },
          "metadata": {},
          "execution_count": 124
        }
      ],
      "source": [
        "# code here (look at the below array)\n",
        "\n",
        "m[:,0:2]"
      ]
    },
    {
      "cell_type": "code",
      "execution_count": 125,
      "metadata": {
        "colab": {
          "base_uri": "https://localhost:8080/"
        },
        "id": "1VrMZNWpi_7Q",
        "outputId": "f8e94a0c-687c-4563-e0d9-dd2062aa258c"
      },
      "outputs": [
        {
          "output_type": "execute_result",
          "data": {
            "text/plain": [
              "array([[5, 2, 5, 3, 9],\n",
              "       [0, 8, 6, 2, 8],\n",
              "       [5, 0, 8, 1, 9],\n",
              "       [3, 8, 4, 4, 7],\n",
              "       [4, 7, 1, 0, 7]])"
            ]
          },
          "metadata": {},
          "execution_count": 125
        }
      ],
      "source": [
        "m"
      ]
    },
    {
      "cell_type": "code",
      "execution_count": 126,
      "metadata": {
        "colab": {
          "base_uri": "https://localhost:8080/"
        },
        "id": "VWF4Mw-ki_7Q",
        "outputId": "a5d78860-7a81-4ea2-a5a0-f7a3993068d1"
      },
      "outputs": [
        {
          "output_type": "execute_result",
          "data": {
            "text/plain": [
              "array([[0, 8],\n",
              "       [5, 0]])"
            ]
          },
          "metadata": {},
          "execution_count": 126
        }
      ],
      "source": [
        "# code here (look at the below array)\n",
        "\n",
        "m[1:3, 0:2]"
      ]
    },
    {
      "cell_type": "markdown",
      "metadata": {
        "id": "Ommj58qBi_7R"
      },
      "source": [
        "# Alt Küme Üzerinde İşlem Yapmak"
      ]
    },
    {
      "cell_type": "code",
      "execution_count": 127,
      "metadata": {
        "colab": {
          "base_uri": "https://localhost:8080/"
        },
        "id": "IMgN5_6vi_7R",
        "outputId": "60d32988-7eae-40bb-af7b-095c7ed36eef"
      },
      "outputs": [
        {
          "output_type": "execute_result",
          "data": {
            "text/plain": [
              "array([[5, 7, 5, 4, 0],\n",
              "       [5, 8, 7, 9, 1],\n",
              "       [3, 5, 8, 4, 5],\n",
              "       [8, 0, 6, 8, 1],\n",
              "       [1, 5, 2, 4, 7]])"
            ]
          },
          "metadata": {},
          "execution_count": 127
        }
      ],
      "source": [
        "import numpy as np\n",
        "a = np.random.randint(10, size = (5, 5))\n",
        "a"
      ]
    },
    {
      "cell_type": "code",
      "execution_count": 128,
      "metadata": {
        "colab": {
          "base_uri": "https://localhost:8080/"
        },
        "id": "R7Rj2Nnki_7R",
        "outputId": "5cc802e8-45b6-407d-c331-08e1343cd3c5"
      },
      "outputs": [
        {
          "output_type": "execute_result",
          "data": {
            "text/plain": [
              "array([[5, 7],\n",
              "       [5, 8],\n",
              "       [3, 5]])"
            ]
          },
          "metadata": {},
          "execution_count": 128
        }
      ],
      "source": [
        "# code here (look at the below array)\n",
        "\n",
        "alt_a = a[0:3, 0:2]\n",
        "alt_a"
      ]
    },
    {
      "cell_type": "code",
      "execution_count": 129,
      "metadata": {
        "id": "qStQ-3INi_7R"
      },
      "outputs": [],
      "source": [
        "# code here (look at the below array)\n",
        "\n",
        "alt_a[0,0] = 99999\n",
        "alt_a[1,1] = 888"
      ]
    },
    {
      "cell_type": "code",
      "execution_count": 130,
      "metadata": {
        "colab": {
          "base_uri": "https://localhost:8080/"
        },
        "id": "jJahDJCfi_7R",
        "outputId": "bff7f8c6-1419-4e8b-df04-f62647645f1a"
      },
      "outputs": [
        {
          "output_type": "execute_result",
          "data": {
            "text/plain": [
              "array([[99999,     7],\n",
              "       [    5,   888],\n",
              "       [    3,     5]])"
            ]
          },
          "metadata": {},
          "execution_count": 130
        }
      ],
      "source": [
        "alt_a"
      ]
    },
    {
      "cell_type": "code",
      "execution_count": 131,
      "metadata": {
        "colab": {
          "base_uri": "https://localhost:8080/"
        },
        "id": "PV4pNGugi_7R",
        "outputId": "db88c9f0-640d-4124-a372-1ff16787a9cb"
      },
      "outputs": [
        {
          "output_type": "execute_result",
          "data": {
            "text/plain": [
              "array([[99999,     7,     5,     4,     0],\n",
              "       [    5,   888,     7,     9,     1],\n",
              "       [    3,     5,     8,     4,     5],\n",
              "       [    8,     0,     6,     8,     1],\n",
              "       [    1,     5,     2,     4,     7]])"
            ]
          },
          "metadata": {},
          "execution_count": 131
        }
      ],
      "source": [
        "a"
      ]
    },
    {
      "cell_type": "code",
      "execution_count": 132,
      "metadata": {
        "colab": {
          "base_uri": "https://localhost:8080/"
        },
        "id": "pN9OEzjBi_7S",
        "outputId": "9305c460-5302-488a-b6e8-d1a9e527be54"
      },
      "outputs": [
        {
          "output_type": "execute_result",
          "data": {
            "text/plain": [
              "array([[3, 2, 4, 9, 5],\n",
              "       [5, 3, 3, 4, 7],\n",
              "       [0, 5, 6, 5, 3],\n",
              "       [0, 3, 5, 6, 6],\n",
              "       [2, 8, 7, 6, 1]])"
            ]
          },
          "metadata": {},
          "execution_count": 132
        }
      ],
      "source": [
        "m = np.random.randint(10, size = (5, 5))\n",
        "m"
      ]
    },
    {
      "cell_type": "code",
      "execution_count": 133,
      "metadata": {
        "colab": {
          "base_uri": "https://localhost:8080/"
        },
        "id": "Ysn2L2dOi_7S",
        "outputId": "da8843cf-c1ff-4db1-c67f-3bd9c326f7d4"
      },
      "outputs": [
        {
          "output_type": "execute_result",
          "data": {
            "text/plain": [
              "array([[3, 2],\n",
              "       [5, 3],\n",
              "       [0, 5]])"
            ]
          },
          "metadata": {},
          "execution_count": 133
        }
      ],
      "source": [
        "# code here (look at the below array)\n",
        "\n",
        "alt_b = m[0:3, 0:2].copy()\n",
        "alt_b"
      ]
    },
    {
      "cell_type": "code",
      "execution_count": 134,
      "metadata": {
        "id": "lrzCiuX6i_7S"
      },
      "outputs": [],
      "source": [
        "# code here (look at the below array)\n",
        "\n",
        "alt_b[0,0] = 9999"
      ]
    },
    {
      "cell_type": "code",
      "execution_count": 135,
      "metadata": {
        "colab": {
          "base_uri": "https://localhost:8080/"
        },
        "id": "QQQUaNJhi_7S",
        "outputId": "70610dd2-f8ad-44df-8d57-e63df41fd5b3"
      },
      "outputs": [
        {
          "output_type": "execute_result",
          "data": {
            "text/plain": [
              "array([[9999,    2],\n",
              "       [   5,    3],\n",
              "       [   0,    5]])"
            ]
          },
          "metadata": {},
          "execution_count": 135
        }
      ],
      "source": [
        "alt_b"
      ]
    },
    {
      "cell_type": "code",
      "execution_count": 136,
      "metadata": {
        "colab": {
          "base_uri": "https://localhost:8080/"
        },
        "id": "BcRP2lmxi_7S",
        "outputId": "1f9635ef-98b4-4870-bc4b-bda65ba219e8"
      },
      "outputs": [
        {
          "output_type": "execute_result",
          "data": {
            "text/plain": [
              "array([[3, 2, 4, 9, 5],\n",
              "       [5, 3, 3, 4, 7],\n",
              "       [0, 5, 6, 5, 3],\n",
              "       [0, 3, 5, 6, 6],\n",
              "       [2, 8, 7, 6, 1]])"
            ]
          },
          "metadata": {},
          "execution_count": 136
        }
      ],
      "source": [
        "m"
      ]
    },
    {
      "cell_type": "markdown",
      "metadata": {
        "id": "2ApCcSXZi_7S"
      },
      "source": [
        "# Fancy Index ile Elemanlara Erişmek"
      ]
    },
    {
      "cell_type": "code",
      "execution_count": 137,
      "metadata": {
        "colab": {
          "base_uri": "https://localhost:8080/"
        },
        "id": "OY9vvu7ji_7T",
        "outputId": "1ed411a2-01ca-4453-da6a-45563aaf519d"
      },
      "outputs": [
        {
          "output_type": "execute_result",
          "data": {
            "text/plain": [
              "array([ 0,  3,  6,  9, 12, 15, 18, 21, 24, 27])"
            ]
          },
          "metadata": {},
          "execution_count": 137
        }
      ],
      "source": [
        "import numpy as np\n",
        "v = np.arange(0, 30, 3)\n",
        "v"
      ]
    },
    {
      "cell_type": "code",
      "execution_count": 138,
      "metadata": {
        "colab": {
          "base_uri": "https://localhost:8080/"
        },
        "id": "JUpt0e7Qi_7T",
        "outputId": "2db6fc86-9e79-4ddc-d76a-8d0d5768052f"
      },
      "outputs": [
        {
          "output_type": "execute_result",
          "data": {
            "text/plain": [
              "3"
            ]
          },
          "metadata": {},
          "execution_count": 138
        }
      ],
      "source": [
        "# code here\n",
        "\n",
        "v[1]"
      ]
    },
    {
      "cell_type": "code",
      "execution_count": 139,
      "metadata": {
        "colab": {
          "base_uri": "https://localhost:8080/"
        },
        "id": "L2K-misxi_7T",
        "outputId": "7726a076-52e4-4a04-c4b8-eca79c99c91f"
      },
      "outputs": [
        {
          "output_type": "execute_result",
          "data": {
            "text/plain": [
              "9"
            ]
          },
          "metadata": {},
          "execution_count": 139
        }
      ],
      "source": [
        "# code here\n",
        "\n",
        "v[3]"
      ]
    },
    {
      "cell_type": "code",
      "execution_count": 140,
      "metadata": {
        "colab": {
          "base_uri": "https://localhost:8080/"
        },
        "id": "gOOR0J_ti_7T",
        "outputId": "ba6e0581-bf25-46f0-96d2-c1801620b6af"
      },
      "outputs": [
        {
          "output_type": "execute_result",
          "data": {
            "text/plain": [
              "15"
            ]
          },
          "metadata": {},
          "execution_count": 140
        }
      ],
      "source": [
        "# code here\n",
        "\n",
        "v[5]"
      ]
    },
    {
      "cell_type": "code",
      "execution_count": 141,
      "metadata": {
        "colab": {
          "base_uri": "https://localhost:8080/"
        },
        "id": "ynuQ4zzCi_7T",
        "outputId": "c020060a-1e3d-4db9-e95d-542494134b67"
      },
      "outputs": [
        {
          "output_type": "execute_result",
          "data": {
            "text/plain": [
              "[3, 9, 15]"
            ]
          },
          "metadata": {},
          "execution_count": 141
        }
      ],
      "source": [
        "# code here\n",
        "\n",
        "[v[1], v[3], v[5]]"
      ]
    },
    {
      "cell_type": "code",
      "execution_count": 142,
      "metadata": {
        "id": "dToGqq6ki_7T"
      },
      "outputs": [],
      "source": [
        "al_getir = [1,3,5]"
      ]
    },
    {
      "cell_type": "code",
      "execution_count": 143,
      "metadata": {
        "colab": {
          "base_uri": "https://localhost:8080/"
        },
        "id": "Wz3-GeXti_7T",
        "outputId": "10ec811f-efcb-4fe8-93df-c8e2ad078a75"
      },
      "outputs": [
        {
          "output_type": "execute_result",
          "data": {
            "text/plain": [
              "array([ 0,  3,  6,  9, 12, 15, 18, 21, 24, 27])"
            ]
          },
          "metadata": {},
          "execution_count": 143
        }
      ],
      "source": [
        "v"
      ]
    },
    {
      "cell_type": "code",
      "execution_count": 144,
      "metadata": {
        "colab": {
          "base_uri": "https://localhost:8080/"
        },
        "id": "tqUBH5ENi_7U",
        "outputId": "510c7373-3207-45d3-fb66-13749fa54b97"
      },
      "outputs": [
        {
          "output_type": "execute_result",
          "data": {
            "text/plain": [
              "array([ 3,  9, 15])"
            ]
          },
          "metadata": {},
          "execution_count": 144
        }
      ],
      "source": [
        "# code here\n",
        "\n",
        "v[al_getir]"
      ]
    },
    {
      "cell_type": "code",
      "execution_count": 145,
      "metadata": {
        "id": "uaeTT5Yei_7U"
      },
      "outputs": [],
      "source": [
        "#iki boyutta fancy"
      ]
    },
    {
      "cell_type": "code",
      "execution_count": 146,
      "metadata": {
        "id": "SFL5aU9Yi_7U"
      },
      "outputs": [],
      "source": [
        "m = np.arange(9).reshape((3,3))"
      ]
    },
    {
      "cell_type": "code",
      "execution_count": 147,
      "metadata": {
        "colab": {
          "base_uri": "https://localhost:8080/"
        },
        "id": "UvPrTsSii_7U",
        "outputId": "cd556bb0-0504-4f77-9172-37734067b50e"
      },
      "outputs": [
        {
          "output_type": "execute_result",
          "data": {
            "text/plain": [
              "array([[0, 1, 2],\n",
              "       [3, 4, 5],\n",
              "       [6, 7, 8]])"
            ]
          },
          "metadata": {},
          "execution_count": 147
        }
      ],
      "source": [
        "m"
      ]
    },
    {
      "cell_type": "code",
      "execution_count": 148,
      "metadata": {
        "id": "HDKS8S3Ui_7U"
      },
      "outputs": [],
      "source": [
        "satir = np.array([0,1])\n",
        "sutun = np.array([1,2])"
      ]
    },
    {
      "cell_type": "code",
      "execution_count": 149,
      "metadata": {
        "colab": {
          "base_uri": "https://localhost:8080/"
        },
        "id": "p2IeP1oHi_7U",
        "outputId": "64867c78-8f51-4353-f0a4-4fc948052cc2"
      },
      "outputs": [
        {
          "output_type": "execute_result",
          "data": {
            "text/plain": [
              "array([1, 5])"
            ]
          },
          "metadata": {},
          "execution_count": 149
        }
      ],
      "source": [
        "m[satir, sutun]"
      ]
    },
    {
      "cell_type": "code",
      "execution_count": null,
      "metadata": {
        "id": "NY70hvXIi_7U"
      },
      "outputs": [],
      "source": [
        "#basit index ile fancy index"
      ]
    },
    {
      "cell_type": "code",
      "execution_count": 150,
      "metadata": {
        "colab": {
          "base_uri": "https://localhost:8080/"
        },
        "id": "a-18E7qRi_7U",
        "outputId": "ad0d7360-0416-4d53-a203-faa6acc99771"
      },
      "outputs": [
        {
          "output_type": "execute_result",
          "data": {
            "text/plain": [
              "array([[0, 1, 2],\n",
              "       [3, 4, 5],\n",
              "       [6, 7, 8]])"
            ]
          },
          "metadata": {},
          "execution_count": 150
        }
      ],
      "source": [
        "m"
      ]
    },
    {
      "cell_type": "code",
      "execution_count": 151,
      "metadata": {
        "colab": {
          "base_uri": "https://localhost:8080/"
        },
        "id": "zF5p3SOTi_7V",
        "outputId": "ee1629f8-d267-4206-dca8-0cd73c26dc15"
      },
      "outputs": [
        {
          "output_type": "execute_result",
          "data": {
            "text/plain": [
              "array([1, 2])"
            ]
          },
          "metadata": {},
          "execution_count": 151
        }
      ],
      "source": [
        "m[0, [1,2]]"
      ]
    },
    {
      "cell_type": "code",
      "execution_count": null,
      "metadata": {
        "id": "0D9Lh5QCi_7V"
      },
      "outputs": [],
      "source": [
        "#slice ile fancy"
      ]
    },
    {
      "cell_type": "code",
      "execution_count": 152,
      "metadata": {
        "colab": {
          "base_uri": "https://localhost:8080/"
        },
        "id": "13-JrD0di_7V",
        "outputId": "cc4d6fd4-44ef-4f88-8f48-b6179557b7d6"
      },
      "outputs": [
        {
          "output_type": "execute_result",
          "data": {
            "text/plain": [
              "array([[1, 2],\n",
              "       [4, 5],\n",
              "       [7, 8]])"
            ]
          },
          "metadata": {},
          "execution_count": 152
        }
      ],
      "source": [
        "m[0:, [1,2]]"
      ]
    },
    {
      "cell_type": "markdown",
      "metadata": {
        "id": "hdXMDdE-i_7V"
      },
      "source": [
        "# Koşullu Eleman İşlemleri"
      ]
    },
    {
      "cell_type": "code",
      "execution_count": 153,
      "metadata": {
        "id": "yt-h23BFi_7V"
      },
      "outputs": [],
      "source": [
        "import numpy as np\n",
        "v = np.array([1, 2, 3, 4, 5])"
      ]
    },
    {
      "cell_type": "code",
      "execution_count": 154,
      "metadata": {
        "colab": {
          "base_uri": "https://localhost:8080/"
        },
        "id": "Xg26N13di_7V",
        "outputId": "d0e6ed6a-8ccc-4ba2-fb4b-1c4767fe9733"
      },
      "outputs": [
        {
          "output_type": "execute_result",
          "data": {
            "text/plain": [
              "array([ True,  True, False, False, False])"
            ]
          },
          "metadata": {},
          "execution_count": 154
        }
      ],
      "source": [
        "v < 3"
      ]
    },
    {
      "cell_type": "code",
      "execution_count": 155,
      "metadata": {
        "colab": {
          "base_uri": "https://localhost:8080/"
        },
        "id": "SNszqM3li_7V",
        "outputId": "080916dd-201e-4d4b-940e-b73cbcd1294e"
      },
      "outputs": [
        {
          "output_type": "execute_result",
          "data": {
            "text/plain": [
              "array([1, 2])"
            ]
          },
          "metadata": {},
          "execution_count": 155
        }
      ],
      "source": [
        "# code here\n",
        "\n",
        "v[v < 3]"
      ]
    },
    {
      "cell_type": "code",
      "execution_count": 156,
      "metadata": {
        "colab": {
          "base_uri": "https://localhost:8080/"
        },
        "id": "UWYVvmJ0i_7V",
        "outputId": "d409b895-9900-4d5b-dc37-320ce7dd13e2"
      },
      "outputs": [
        {
          "output_type": "execute_result",
          "data": {
            "text/plain": [
              "array([4, 5])"
            ]
          },
          "metadata": {},
          "execution_count": 156
        }
      ],
      "source": [
        "# code here\n",
        "\n",
        "v[v > 3]"
      ]
    },
    {
      "cell_type": "code",
      "execution_count": 157,
      "metadata": {
        "colab": {
          "base_uri": "https://localhost:8080/"
        },
        "id": "DmVO1W7Ti_7W",
        "outputId": "dbbe3180-3172-4cde-eb8a-806eb5ef1c20"
      },
      "outputs": [
        {
          "output_type": "execute_result",
          "data": {
            "text/plain": [
              "array([3, 4, 5])"
            ]
          },
          "metadata": {},
          "execution_count": 157
        }
      ],
      "source": [
        "# code here\n",
        "\n",
        "v[v >= 3]"
      ]
    },
    {
      "cell_type": "code",
      "execution_count": 158,
      "metadata": {
        "colab": {
          "base_uri": "https://localhost:8080/"
        },
        "id": "RrTTE4rqi_7W",
        "outputId": "868e741c-cb20-4150-901f-7d3fdefdd2d6"
      },
      "outputs": [
        {
          "output_type": "execute_result",
          "data": {
            "text/plain": [
              "array([1, 2, 3])"
            ]
          },
          "metadata": {},
          "execution_count": 158
        }
      ],
      "source": [
        "# code here\n",
        "\n",
        "v[v <= 3]"
      ]
    },
    {
      "cell_type": "code",
      "execution_count": 159,
      "metadata": {
        "colab": {
          "base_uri": "https://localhost:8080/"
        },
        "id": "o7nzB17Ui_7W",
        "outputId": "b6e6713f-9129-4c82-ae34-0da3afb3ec95"
      },
      "outputs": [
        {
          "output_type": "execute_result",
          "data": {
            "text/plain": [
              "array([3])"
            ]
          },
          "metadata": {},
          "execution_count": 159
        }
      ],
      "source": [
        "# code here\n",
        "\n",
        "v[v == 3]"
      ]
    },
    {
      "cell_type": "code",
      "execution_count": 160,
      "metadata": {
        "colab": {
          "base_uri": "https://localhost:8080/"
        },
        "id": "bAL4-LMxi_7W",
        "outputId": "2e246702-7cf1-479e-b634-39fd760ca92f"
      },
      "outputs": [
        {
          "output_type": "execute_result",
          "data": {
            "text/plain": [
              "array([1, 2, 4, 5])"
            ]
          },
          "metadata": {},
          "execution_count": 160
        }
      ],
      "source": [
        "# code here\n",
        "\n",
        "v[v != 3]"
      ]
    },
    {
      "cell_type": "code",
      "execution_count": 161,
      "metadata": {
        "colab": {
          "base_uri": "https://localhost:8080/"
        },
        "id": "cmhEcSNri_7W",
        "outputId": "d98e6f9d-2d01-46c1-97d9-a051efbd87a5"
      },
      "outputs": [
        {
          "output_type": "execute_result",
          "data": {
            "text/plain": [
              "array([1, 2, 3, 4, 5])"
            ]
          },
          "metadata": {},
          "execution_count": 161
        }
      ],
      "source": [
        "v"
      ]
    },
    {
      "cell_type": "code",
      "execution_count": 162,
      "metadata": {
        "colab": {
          "base_uri": "https://localhost:8080/"
        },
        "id": "-1BWtR7fi_7W",
        "outputId": "de5cae96-16f9-433e-fe9a-ccfccc756fc0"
      },
      "outputs": [
        {
          "output_type": "execute_result",
          "data": {
            "text/plain": [
              "array([ 2,  4,  6,  8, 10])"
            ]
          },
          "metadata": {},
          "execution_count": 162
        }
      ],
      "source": [
        "# code here\n",
        "\n",
        "v * 2"
      ]
    },
    {
      "cell_type": "code",
      "execution_count": 163,
      "metadata": {
        "colab": {
          "base_uri": "https://localhost:8080/"
        },
        "id": "qex_K86Ei_7X",
        "outputId": "79c0c8ae-4817-46c3-8e25-419b35637566"
      },
      "outputs": [
        {
          "output_type": "execute_result",
          "data": {
            "text/plain": [
              "array([0.2, 0.4, 0.6, 0.8, 1. ])"
            ]
          },
          "metadata": {},
          "execution_count": 163
        }
      ],
      "source": [
        "# code here\n",
        "\n",
        "v / 5"
      ]
    },
    {
      "cell_type": "code",
      "execution_count": 164,
      "metadata": {
        "colab": {
          "base_uri": "https://localhost:8080/"
        },
        "id": "hsabBrkxi_7X",
        "outputId": "34f8a4f8-4fe3-451b-9f56-a249bd96c3c8"
      },
      "outputs": [
        {
          "output_type": "execute_result",
          "data": {
            "text/plain": [
              "array([ 1,  4,  9, 16, 25])"
            ]
          },
          "metadata": {},
          "execution_count": 164
        }
      ],
      "source": [
        "# code here\n",
        "\n",
        "v**2"
      ]
    },
    {
      "cell_type": "markdown",
      "metadata": {
        "id": "alt4b8WMi_7X"
      },
      "source": [
        "# Matematiksel İşlemler\n",
        "\n",
        "Bu bölüm bilgi ve tekrar maksatlı konulmuştur."
      ]
    },
    {
      "cell_type": "code",
      "execution_count": 165,
      "metadata": {
        "id": "zwRnO1JWi_7X"
      },
      "outputs": [],
      "source": [
        "import numpy as np\n",
        "v = np.array([1, 2, 3, 4, 5])"
      ]
    },
    {
      "cell_type": "code",
      "execution_count": 166,
      "metadata": {
        "colab": {
          "base_uri": "https://localhost:8080/"
        },
        "id": "4AHKaTLCi_7X",
        "outputId": "63486379-3cf7-42b5-dbf9-7e4890a0a1db"
      },
      "outputs": [
        {
          "output_type": "execute_result",
          "data": {
            "text/plain": [
              "array([0, 1, 2, 3, 4])"
            ]
          },
          "metadata": {},
          "execution_count": 166
        }
      ],
      "source": [
        "v - 1"
      ]
    },
    {
      "cell_type": "code",
      "execution_count": 167,
      "metadata": {
        "colab": {
          "base_uri": "https://localhost:8080/"
        },
        "id": "t1MMNaAVi_7X",
        "outputId": "fbd2a79a-5a16-4050-bbaa-c70abfac708a"
      },
      "outputs": [
        {
          "output_type": "execute_result",
          "data": {
            "text/plain": [
              "array([ 5, 10, 15, 20, 25])"
            ]
          },
          "metadata": {},
          "execution_count": 167
        }
      ],
      "source": [
        "v * 5"
      ]
    },
    {
      "cell_type": "code",
      "execution_count": 168,
      "metadata": {
        "colab": {
          "base_uri": "https://localhost:8080/"
        },
        "id": "ApknwfCfi_7X",
        "outputId": "9a2ebb1e-2e37-4a7d-ecde-a91ce2baf70a"
      },
      "outputs": [
        {
          "output_type": "execute_result",
          "data": {
            "text/plain": [
              "array([0.2, 0.4, 0.6, 0.8, 1. ])"
            ]
          },
          "metadata": {},
          "execution_count": 168
        }
      ],
      "source": [
        "v / 5"
      ]
    },
    {
      "cell_type": "code",
      "execution_count": 169,
      "metadata": {
        "colab": {
          "base_uri": "https://localhost:8080/"
        },
        "id": "uxVkb7Fdi_7X",
        "outputId": "860cf046-102d-4bd7-878f-6eb567719329"
      },
      "outputs": [
        {
          "output_type": "execute_result",
          "data": {
            "text/plain": [
              "array([-0.5,  0. ,  0.5,  1. ,  1.5])"
            ]
          },
          "metadata": {},
          "execution_count": 169
        }
      ],
      "source": [
        "v*5/10 - 1"
      ]
    },
    {
      "cell_type": "code",
      "execution_count": null,
      "metadata": {
        "id": "UlndXxoGi_7Y"
      },
      "outputs": [],
      "source": [
        "#ufunc"
      ]
    },
    {
      "cell_type": "code",
      "execution_count": 170,
      "metadata": {
        "colab": {
          "base_uri": "https://localhost:8080/"
        },
        "id": "3f1H1o7zi_7Y",
        "outputId": "06afbed4-2a49-48e0-c970-f1576fbc5152"
      },
      "outputs": [
        {
          "output_type": "execute_result",
          "data": {
            "text/plain": [
              "array([0, 1, 2, 3, 4])"
            ]
          },
          "metadata": {},
          "execution_count": 170
        }
      ],
      "source": [
        "np.subtract(v, 1)"
      ]
    },
    {
      "cell_type": "code",
      "execution_count": 171,
      "metadata": {
        "colab": {
          "base_uri": "https://localhost:8080/"
        },
        "id": "eyCUK_NVi_7Y",
        "outputId": "d6dd8e92-8a6a-42a3-a982-5e5270632077"
      },
      "outputs": [
        {
          "output_type": "execute_result",
          "data": {
            "text/plain": [
              "array([2, 3, 4, 5, 6])"
            ]
          },
          "metadata": {},
          "execution_count": 171
        }
      ],
      "source": [
        "np.add(v, 1)"
      ]
    },
    {
      "cell_type": "code",
      "execution_count": 172,
      "metadata": {
        "colab": {
          "base_uri": "https://localhost:8080/"
        },
        "id": "CC4diyrUi_7Y",
        "outputId": "79c0b366-9341-4692-9b7c-a4801e43413e"
      },
      "outputs": [
        {
          "output_type": "execute_result",
          "data": {
            "text/plain": [
              "array([ 4,  8, 12, 16, 20])"
            ]
          },
          "metadata": {},
          "execution_count": 172
        }
      ],
      "source": [
        "np.multiply(v,4)"
      ]
    },
    {
      "cell_type": "code",
      "execution_count": 173,
      "metadata": {
        "colab": {
          "base_uri": "https://localhost:8080/"
        },
        "id": "k221KxGni_7Y",
        "outputId": "bfcc98c7-917d-4642-b286-87c08a466e68"
      },
      "outputs": [
        {
          "output_type": "execute_result",
          "data": {
            "text/plain": [
              "array([0.33333333, 0.66666667, 1.        , 1.33333333, 1.66666667])"
            ]
          },
          "metadata": {},
          "execution_count": 173
        }
      ],
      "source": [
        "np.divide(v, 3)"
      ]
    },
    {
      "cell_type": "code",
      "execution_count": 174,
      "metadata": {
        "colab": {
          "base_uri": "https://localhost:8080/"
        },
        "id": "grnaAfcri_7Y",
        "outputId": "3f453af9-b11c-4e2f-859d-8f6ef8766b9f"
      },
      "outputs": [
        {
          "output_type": "execute_result",
          "data": {
            "text/plain": [
              "array([ 1,  4,  9, 16, 25])"
            ]
          },
          "metadata": {},
          "execution_count": 174
        }
      ],
      "source": [
        "v**2"
      ]
    },
    {
      "cell_type": "code",
      "execution_count": 175,
      "metadata": {
        "colab": {
          "base_uri": "https://localhost:8080/"
        },
        "id": "3BJa6z36i_7Y",
        "outputId": "303c47f3-02d2-4066-a48c-b11226569284"
      },
      "outputs": [
        {
          "output_type": "execute_result",
          "data": {
            "text/plain": [
              "array([  1,   8,  27,  64, 125])"
            ]
          },
          "metadata": {},
          "execution_count": 175
        }
      ],
      "source": [
        "v**3"
      ]
    },
    {
      "cell_type": "code",
      "execution_count": 176,
      "metadata": {
        "colab": {
          "base_uri": "https://localhost:8080/"
        },
        "id": "BEz_tMv2i_7Z",
        "outputId": "74661d46-ce89-4254-da86-dfea73fb5344"
      },
      "outputs": [
        {
          "output_type": "execute_result",
          "data": {
            "text/plain": [
              "array([  1,   8,  27,  64, 125])"
            ]
          },
          "metadata": {},
          "execution_count": 176
        }
      ],
      "source": [
        "np.power(v, 3)"
      ]
    },
    {
      "cell_type": "code",
      "execution_count": 177,
      "metadata": {
        "colab": {
          "base_uri": "https://localhost:8080/"
        },
        "id": "HTJrrJAli_7Z",
        "outputId": "cb2d5358-fb20-4e14-aa46-1767ffb9aa21"
      },
      "outputs": [
        {
          "output_type": "execute_result",
          "data": {
            "text/plain": [
              "array([1, 0, 1, 0, 1])"
            ]
          },
          "metadata": {},
          "execution_count": 177
        }
      ],
      "source": [
        "v % 2"
      ]
    },
    {
      "cell_type": "code",
      "execution_count": 178,
      "metadata": {
        "colab": {
          "base_uri": "https://localhost:8080/"
        },
        "id": "XvY3MddZi_7Z",
        "outputId": "e23a064e-f9d3-41e1-b29b-6cc4c2d12282"
      },
      "outputs": [
        {
          "output_type": "execute_result",
          "data": {
            "text/plain": [
              "array([1, 0, 1, 0, 1])"
            ]
          },
          "metadata": {},
          "execution_count": 178
        }
      ],
      "source": [
        "np.mod(v, 2)"
      ]
    },
    {
      "cell_type": "code",
      "execution_count": 179,
      "metadata": {
        "colab": {
          "base_uri": "https://localhost:8080/"
        },
        "id": "s43If_6ci_7Z",
        "outputId": "0ed4c35a-9d38-4103-bb7f-4b5ad231068f"
      },
      "outputs": [
        {
          "output_type": "execute_result",
          "data": {
            "text/plain": [
              "array([3])"
            ]
          },
          "metadata": {},
          "execution_count": 179
        }
      ],
      "source": [
        "np.absolute(np.array([-3]))"
      ]
    },
    {
      "cell_type": "code",
      "execution_count": 180,
      "metadata": {
        "colab": {
          "base_uri": "https://localhost:8080/"
        },
        "id": "Vrf8mJU6i_7Z",
        "outputId": "9fcc3ac6-649f-45d4-b9c9-591346e2c95a"
      },
      "outputs": [
        {
          "output_type": "execute_result",
          "data": {
            "text/plain": [
              "0.9589157234143065"
            ]
          },
          "metadata": {},
          "execution_count": 180
        }
      ],
      "source": [
        "np.sin(360)"
      ]
    },
    {
      "cell_type": "code",
      "execution_count": 181,
      "metadata": {
        "colab": {
          "base_uri": "https://localhost:8080/"
        },
        "id": "F0UfbCsri_7Z",
        "outputId": "2aba8bf5-1791-41dc-cba9-d53b6c9a8b20"
      },
      "outputs": [
        {
          "output_type": "execute_result",
          "data": {
            "text/plain": [
              "-0.5984600690578581"
            ]
          },
          "metadata": {},
          "execution_count": 181
        }
      ],
      "source": [
        "np.cos(180)"
      ]
    },
    {
      "cell_type": "code",
      "execution_count": 182,
      "metadata": {
        "id": "Yat-3qQ9i_7Z"
      },
      "outputs": [],
      "source": [
        "v = np.array([1,2,3])"
      ]
    },
    {
      "cell_type": "code",
      "execution_count": 183,
      "metadata": {
        "colab": {
          "base_uri": "https://localhost:8080/"
        },
        "id": "ElmaR3Oni_7a",
        "outputId": "b43b6a00-0082-42d8-ff08-3d3dbf4ce945"
      },
      "outputs": [
        {
          "output_type": "execute_result",
          "data": {
            "text/plain": [
              "array([0.        , 0.69314718, 1.09861229])"
            ]
          },
          "metadata": {},
          "execution_count": 183
        }
      ],
      "source": [
        "np.log(v)"
      ]
    },
    {
      "cell_type": "code",
      "execution_count": 184,
      "metadata": {
        "colab": {
          "base_uri": "https://localhost:8080/"
        },
        "id": "2XxIjT1xi_7a",
        "outputId": "80f2d4d9-caf2-49b3-bf7c-4867937e83ed"
      },
      "outputs": [
        {
          "output_type": "execute_result",
          "data": {
            "text/plain": [
              "array([0.       , 1.       , 1.5849625])"
            ]
          },
          "metadata": {},
          "execution_count": 184
        }
      ],
      "source": [
        "np.log2(v)"
      ]
    },
    {
      "cell_type": "code",
      "execution_count": 185,
      "metadata": {
        "colab": {
          "base_uri": "https://localhost:8080/"
        },
        "id": "3vSZXk2Si_7a",
        "outputId": "12d6e4cb-e444-46d3-c113-5433c878753c"
      },
      "outputs": [
        {
          "output_type": "execute_result",
          "data": {
            "text/plain": [
              "array([0.        , 0.30103   , 0.47712125])"
            ]
          },
          "metadata": {},
          "execution_count": 185
        }
      ],
      "source": [
        "np.log10(v)"
      ]
    },
    {
      "cell_type": "code",
      "execution_count": 186,
      "metadata": {
        "id": "d-Y4Auc_i_7a"
      },
      "outputs": [],
      "source": [
        "?np"
      ]
    },
    {
      "cell_type": "code",
      "execution_count": 187,
      "metadata": {
        "id": "t6y9mJxDi_7a"
      },
      "outputs": [],
      "source": [
        "#cheatsheet"
      ]
    },
    {
      "cell_type": "markdown",
      "metadata": {
        "id": "F0pDScl8i_7a"
      },
      "source": [
        "# İstatistiksel Hesaplamalar"
      ]
    },
    {
      "cell_type": "code",
      "execution_count": 188,
      "metadata": {
        "colab": {
          "base_uri": "https://localhost:8080/"
        },
        "id": "wrYalgyzi_7a",
        "outputId": "900b7d56-9a42-4afb-cd25-8418c4f1cf40"
      },
      "outputs": [
        {
          "output_type": "execute_result",
          "data": {
            "text/plain": [
              "array([1, 2, 3])"
            ]
          },
          "metadata": {},
          "execution_count": 188
        }
      ],
      "source": [
        "v"
      ]
    },
    {
      "cell_type": "code",
      "execution_count": 189,
      "metadata": {
        "colab": {
          "base_uri": "https://localhost:8080/"
        },
        "id": "lQ6GBZUni_7b",
        "outputId": "783e5b6b-e877-40a1-cecd-6be85ad57d7e"
      },
      "outputs": [
        {
          "output_type": "execute_result",
          "data": {
            "text/plain": [
              "2.0"
            ]
          },
          "metadata": {},
          "execution_count": 189
        }
      ],
      "source": [
        "np.mean(v)"
      ]
    },
    {
      "cell_type": "code",
      "execution_count": 190,
      "metadata": {
        "colab": {
          "base_uri": "https://localhost:8080/"
        },
        "id": "pTgqQf97i_7b",
        "outputId": "22555ad8-03b0-48c2-f8bc-c2abb3a6fe19"
      },
      "outputs": [
        {
          "output_type": "execute_result",
          "data": {
            "text/plain": [
              "6"
            ]
          },
          "metadata": {},
          "execution_count": 190
        }
      ],
      "source": [
        "v.sum()"
      ]
    },
    {
      "cell_type": "code",
      "execution_count": 191,
      "metadata": {
        "colab": {
          "base_uri": "https://localhost:8080/"
        },
        "id": "3eVmSnRUi_7b",
        "outputId": "9839c3f2-0bf7-4760-f344-a4a84a9008a9"
      },
      "outputs": [
        {
          "output_type": "execute_result",
          "data": {
            "text/plain": [
              "1"
            ]
          },
          "metadata": {},
          "execution_count": 191
        }
      ],
      "source": [
        "v.min()"
      ]
    },
    {
      "cell_type": "markdown",
      "metadata": {
        "id": "vr73kx93i_7b"
      },
      "source": [
        "* np.mean(arr,axis=0) | Returns mean along specific axis\n",
        "\n",
        "* arr.sum() | Returns sum of arr\n",
        "\n",
        "* arr.min() | Returns minimum value of arr\n",
        "\n",
        "* arr.max(axis=0) | Returns maximum value of specific axis\n",
        "\n",
        "* np.var(arr) | Returns the variance of array\n",
        "\n",
        "* np.std(arr,axis=1) | Returns the standard deviation of specific axis\n",
        "\n",
        "* arr.corrcoef() | Returns correlation coefficient of array"
      ]
    },
    {
      "cell_type": "markdown",
      "metadata": {
        "id": "0s40Up4ji_7b"
      },
      "source": [
        "# NumPy ile İki Bilinmeyenli Denklem Çözümü"
      ]
    },
    {
      "cell_type": "code",
      "execution_count": 192,
      "metadata": {
        "id": "d0NxkEzzi_7b"
      },
      "outputs": [],
      "source": [
        "import numpy as np"
      ]
    },
    {
      "cell_type": "markdown",
      "metadata": {
        "id": "sgpAuH23i_7b"
      },
      "source": [
        "**5 * x0 + x1 = 12  \n",
        "x0 + 3 * x1 = 10**"
      ]
    },
    {
      "cell_type": "code",
      "execution_count": 193,
      "metadata": {
        "id": "2ayNe1jvi_7b"
      },
      "outputs": [],
      "source": [
        "a = np.array([[5,1], [1,3]])\n",
        "b = np.array([12,10])"
      ]
    },
    {
      "cell_type": "code",
      "execution_count": 194,
      "metadata": {
        "colab": {
          "base_uri": "https://localhost:8080/"
        },
        "id": "Mt7Y7ei_i_7c",
        "outputId": "b0771c26-419c-4196-cb3c-f3c1158b9515"
      },
      "outputs": [
        {
          "output_type": "execute_result",
          "data": {
            "text/plain": [
              "array([[5, 1],\n",
              "       [1, 3]])"
            ]
          },
          "metadata": {},
          "execution_count": 194
        }
      ],
      "source": [
        "a"
      ]
    },
    {
      "cell_type": "code",
      "execution_count": 195,
      "metadata": {
        "colab": {
          "base_uri": "https://localhost:8080/"
        },
        "id": "bTqc3q5di_7c",
        "outputId": "6abfd7e0-06c2-4522-8a21-78913275c3b6"
      },
      "outputs": [
        {
          "output_type": "execute_result",
          "data": {
            "text/plain": [
              "array([12, 10])"
            ]
          },
          "metadata": {},
          "execution_count": 195
        }
      ],
      "source": [
        "b"
      ]
    },
    {
      "cell_type": "code",
      "execution_count": 196,
      "metadata": {
        "colab": {
          "base_uri": "https://localhost:8080/"
        },
        "id": "V9OI4Gz5i_7c",
        "outputId": "deab1c1c-de8c-4afc-97e3-66479f7b46dc"
      },
      "outputs": [
        {
          "output_type": "execute_result",
          "data": {
            "text/plain": [
              "array([1.85714286, 2.71428571])"
            ]
          },
          "metadata": {},
          "execution_count": 196
        }
      ],
      "source": [
        "x = np.linalg.solve(a, b)\n",
        "x"
      ]
    }
  ],
  "metadata": {
    "kernelspec": {
      "display_name": "Python 3 (ipykernel)",
      "language": "python",
      "name": "python3"
    },
    "language_info": {
      "codemirror_mode": {
        "name": "ipython",
        "version": 3
      },
      "file_extension": ".py",
      "mimetype": "text/x-python",
      "name": "python",
      "nbconvert_exporter": "python",
      "pygments_lexer": "ipython3",
      "version": "3.8.12"
    },
    "colab": {
      "name": "01.03.2022_Numpy_Exercise_Solution.ipynb",
      "provenance": [],
      "include_colab_link": true
    }
  },
  "nbformat": 4,
  "nbformat_minor": 0
}