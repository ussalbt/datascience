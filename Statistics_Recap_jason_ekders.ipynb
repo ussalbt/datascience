{
  "cells": [
    {
      "cell_type": "markdown",
      "metadata": {
        "id": "view-in-github",
        "colab_type": "text"
      },
      "source": [
        "<a href=\"https://colab.research.google.com/github/ussalbt/datascience/blob/main/Statistics_Recap_jason_ekders.ipynb\" target=\"_parent\"><img src=\"https://colab.research.google.com/assets/colab-badge.svg\" alt=\"Open In Colab\"/></a>"
      ]
    },
    {
      "cell_type": "markdown",
      "metadata": {
        "id": "N2lxNv5Q5u7t"
      },
      "source": [
        "# What's Normal? -- Temperature, Gender, and Heart Rate"
      ]
    },
    {
      "cell_type": "markdown",
      "metadata": {
        "id": "l2U3PlIL5u7u"
      },
      "source": [
        "## The Data"
      ]
    },
    {
      "cell_type": "markdown",
      "metadata": {
        "id": "qT1qVxSX5u7u"
      },
      "source": [
        "- We will study with a dataset on body temperature, gender, and heart rate.\n",
        "- We'll try to understand the concepts like \n",
        "    - true means, \n",
        "    - confidence intervals, \n",
        "    - one sample t test, \n",
        "    - independent samples t test,\n",
        "    - normality check, \n",
        "    - homogenity of variance check (Levene's test),\n",
        "    - correlation,\n",
        "    - regression.\n",
        "\n",
        "\n",
        "- The data were derived from an article in the Journal of the American Medical Association entitled \"A Critical Appraisal of 98.6 Degrees F, the Upper Limit of the Normal Body Temperature, and Other Legacies of Carl Reinhold August Wunderlich\" (Mackowiak, Wasserman, and Levine 1992).\n",
        "- Source: http://jse.amstat.org/v4n2/datasets.shoemaker.html"
      ]
    },
    {
      "cell_type": "markdown",
      "metadata": {
        "id": "6IwDxCyK5u7v"
      },
      "source": [
        "## Data Column Reference"
      ]
    },
    {
      "cell_type": "markdown",
      "metadata": {
        "id": "ZhXmTmws5u7v"
      },
      "source": [
        "<style type=\"text/css\">\n",
        ".tg  {border-collapse:collapse;border-spacing:0;}\n",
        ".tg td{border-color:black;border-style:solid;border-width:1px;font-family:Arial, sans-serif;font-size:14px;\n",
        "  overflow:hidden;padding:10px 5px;word-break:normal;}\n",
        ".tg th{border-color:black;border-style:solid;border-width:1px;font-family:Arial, sans-serif;font-size:14px;\n",
        "  font-weight:normal;overflow:hidden;padding:10px 5px;word-break:normal;}\n",
        ".tg .tg-0lax{text-align:left;vertical-align:top}\n",
        ".tg .tg-0pky{border-color:inherit;text-align:left;vertical-align:top}\n",
        "</style>\n",
        "<table class=\"tg\">\n",
        "<thead>\n",
        "  <tr>\n",
        "    <th class=\"tg-0lax\">Variable</th>\n",
        "    <th class=\"tg-0lax\">Type</th>\n",
        "    <th class=\"tg-0lax\">Explanation</th>\n",
        "  </tr>\n",
        "</thead>\n",
        "<tbody>\n",
        "  <tr>\n",
        "    <td class=\"tg-0pky\">temperature</td>\n",
        "    <td class=\"tg-0pky\">Numeric</td>\n",
        "    <td class=\"tg-0pky\">Body Temperature (degrees Fahrenheit)</td>\n",
        "  </tr>\n",
        "  <tr>\n",
        "    <td class=\"tg-0pky\">gender</td>\n",
        "    <td class=\"tg-0pky\">Categorical</td>\n",
        "    <td class=\"tg-0pky\">Gender (1=Male, 2=Female)</td>\n",
        "  </tr>\n",
        "  <tr>\n",
        "    <td class=\"tg-0lax\">heart_rate</td>\n",
        "    <td class=\"tg-0lax\">Numeric</td>\n",
        "    <td class=\"tg-0lax\">Heart Rate (beats per minute)</td>\n",
        "  </tr>\n",
        "</tbody>\n",
        "</table>"
      ]
    },
    {
      "cell_type": "markdown",
      "metadata": {
        "id": "-2JXKcUS5u7w"
      },
      "source": [
        "## Data Preparation"
      ]
    },
    {
      "cell_type": "markdown",
      "metadata": {
        "id": "BeeZM_Za5u7w"
      },
      "source": [
        "⭐ Import **pandas**, **scipy.stats**, **seaborn**, and **matplotlib.pyplot** libraries"
      ]
    },
    {
      "cell_type": "code",
      "execution_count": 12,
      "metadata": {
        "id": "ZGbl3FYr5u7w"
      },
      "outputs": [],
      "source": [
        "import numpy as np\n",
        "import pandas as pd\n",
        "from scipy import stats\n",
        "import seaborn as sns\n",
        "import matplotlib.pyplot as plt\n",
        "%matplotlib inline"
      ]
    },
    {
      "cell_type": "markdown",
      "metadata": {
        "id": "lA57S-Wu5u7x"
      },
      "source": [
        "⭐Ignore warnings"
      ]
    },
    {
      "cell_type": "code",
      "execution_count": 2,
      "metadata": {
        "id": "rFNnfJlq5u7x"
      },
      "outputs": [],
      "source": [
        "import warnings\n",
        "warnings.filterwarnings('ignore')"
      ]
    },
    {
      "cell_type": "markdown",
      "metadata": {
        "id": "V1FihIvz5u7y"
      },
      "source": [
        "⭐Run the following code to read in the \"normtemp.dat.txt\" file."
      ]
    },
    {
      "cell_type": "code",
      "execution_count": 3,
      "metadata": {
        "id": "PvJsthW05u7y"
      },
      "outputs": [],
      "source": [
        "df = pd.read_csv('http://jse.amstat.org/datasets/normtemp.dat.txt', delim_whitespace=True, names=[\"temperature\", \"gender\", \"heart_rate\"])"
      ]
    },
    {
      "cell_type": "code",
      "source": [
        "df"
      ],
      "metadata": {
        "colab": {
          "base_uri": "https://localhost:8080/",
          "height": 423
        },
        "id": "twS3lxaX7ESR",
        "outputId": "8a8dcd8e-53dd-414d-a1b4-7c34d2a985dd"
      },
      "execution_count": 5,
      "outputs": [
        {
          "output_type": "execute_result",
          "data": {
            "text/html": [
              "\n",
              "  <div id=\"df-b4079a26-8b18-4587-ad1d-e89e018a84f3\">\n",
              "    <div class=\"colab-df-container\">\n",
              "      <div>\n",
              "<style scoped>\n",
              "    .dataframe tbody tr th:only-of-type {\n",
              "        vertical-align: middle;\n",
              "    }\n",
              "\n",
              "    .dataframe tbody tr th {\n",
              "        vertical-align: top;\n",
              "    }\n",
              "\n",
              "    .dataframe thead th {\n",
              "        text-align: right;\n",
              "    }\n",
              "</style>\n",
              "<table border=\"1\" class=\"dataframe\">\n",
              "  <thead>\n",
              "    <tr style=\"text-align: right;\">\n",
              "      <th></th>\n",
              "      <th>temperature</th>\n",
              "      <th>gender</th>\n",
              "      <th>heart_rate</th>\n",
              "    </tr>\n",
              "  </thead>\n",
              "  <tbody>\n",
              "    <tr>\n",
              "      <th>0</th>\n",
              "      <td>96.3</td>\n",
              "      <td>1</td>\n",
              "      <td>70</td>\n",
              "    </tr>\n",
              "    <tr>\n",
              "      <th>1</th>\n",
              "      <td>96.7</td>\n",
              "      <td>1</td>\n",
              "      <td>71</td>\n",
              "    </tr>\n",
              "    <tr>\n",
              "      <th>2</th>\n",
              "      <td>96.9</td>\n",
              "      <td>1</td>\n",
              "      <td>74</td>\n",
              "    </tr>\n",
              "    <tr>\n",
              "      <th>3</th>\n",
              "      <td>97.0</td>\n",
              "      <td>1</td>\n",
              "      <td>80</td>\n",
              "    </tr>\n",
              "    <tr>\n",
              "      <th>4</th>\n",
              "      <td>97.1</td>\n",
              "      <td>1</td>\n",
              "      <td>73</td>\n",
              "    </tr>\n",
              "    <tr>\n",
              "      <th>...</th>\n",
              "      <td>...</td>\n",
              "      <td>...</td>\n",
              "      <td>...</td>\n",
              "    </tr>\n",
              "    <tr>\n",
              "      <th>125</th>\n",
              "      <td>99.3</td>\n",
              "      <td>2</td>\n",
              "      <td>68</td>\n",
              "    </tr>\n",
              "    <tr>\n",
              "      <th>126</th>\n",
              "      <td>99.4</td>\n",
              "      <td>2</td>\n",
              "      <td>77</td>\n",
              "    </tr>\n",
              "    <tr>\n",
              "      <th>127</th>\n",
              "      <td>99.9</td>\n",
              "      <td>2</td>\n",
              "      <td>79</td>\n",
              "    </tr>\n",
              "    <tr>\n",
              "      <th>128</th>\n",
              "      <td>100.0</td>\n",
              "      <td>2</td>\n",
              "      <td>78</td>\n",
              "    </tr>\n",
              "    <tr>\n",
              "      <th>129</th>\n",
              "      <td>100.8</td>\n",
              "      <td>2</td>\n",
              "      <td>77</td>\n",
              "    </tr>\n",
              "  </tbody>\n",
              "</table>\n",
              "<p>130 rows × 3 columns</p>\n",
              "</div>\n",
              "      <button class=\"colab-df-convert\" onclick=\"convertToInteractive('df-b4079a26-8b18-4587-ad1d-e89e018a84f3')\"\n",
              "              title=\"Convert this dataframe to an interactive table.\"\n",
              "              style=\"display:none;\">\n",
              "        \n",
              "  <svg xmlns=\"http://www.w3.org/2000/svg\" height=\"24px\"viewBox=\"0 0 24 24\"\n",
              "       width=\"24px\">\n",
              "    <path d=\"M0 0h24v24H0V0z\" fill=\"none\"/>\n",
              "    <path d=\"M18.56 5.44l.94 2.06.94-2.06 2.06-.94-2.06-.94-.94-2.06-.94 2.06-2.06.94zm-11 1L8.5 8.5l.94-2.06 2.06-.94-2.06-.94L8.5 2.5l-.94 2.06-2.06.94zm10 10l.94 2.06.94-2.06 2.06-.94-2.06-.94-.94-2.06-.94 2.06-2.06.94z\"/><path d=\"M17.41 7.96l-1.37-1.37c-.4-.4-.92-.59-1.43-.59-.52 0-1.04.2-1.43.59L10.3 9.45l-7.72 7.72c-.78.78-.78 2.05 0 2.83L4 21.41c.39.39.9.59 1.41.59.51 0 1.02-.2 1.41-.59l7.78-7.78 2.81-2.81c.8-.78.8-2.07 0-2.86zM5.41 20L4 18.59l7.72-7.72 1.47 1.35L5.41 20z\"/>\n",
              "  </svg>\n",
              "      </button>\n",
              "      \n",
              "  <style>\n",
              "    .colab-df-container {\n",
              "      display:flex;\n",
              "      flex-wrap:wrap;\n",
              "      gap: 12px;\n",
              "    }\n",
              "\n",
              "    .colab-df-convert {\n",
              "      background-color: #E8F0FE;\n",
              "      border: none;\n",
              "      border-radius: 50%;\n",
              "      cursor: pointer;\n",
              "      display: none;\n",
              "      fill: #1967D2;\n",
              "      height: 32px;\n",
              "      padding: 0 0 0 0;\n",
              "      width: 32px;\n",
              "    }\n",
              "\n",
              "    .colab-df-convert:hover {\n",
              "      background-color: #E2EBFA;\n",
              "      box-shadow: 0px 1px 2px rgba(60, 64, 67, 0.3), 0px 1px 3px 1px rgba(60, 64, 67, 0.15);\n",
              "      fill: #174EA6;\n",
              "    }\n",
              "\n",
              "    [theme=dark] .colab-df-convert {\n",
              "      background-color: #3B4455;\n",
              "      fill: #D2E3FC;\n",
              "    }\n",
              "\n",
              "    [theme=dark] .colab-df-convert:hover {\n",
              "      background-color: #434B5C;\n",
              "      box-shadow: 0px 1px 3px 1px rgba(0, 0, 0, 0.15);\n",
              "      filter: drop-shadow(0px 1px 2px rgba(0, 0, 0, 0.3));\n",
              "      fill: #FFFFFF;\n",
              "    }\n",
              "  </style>\n",
              "\n",
              "      <script>\n",
              "        const buttonEl =\n",
              "          document.querySelector('#df-b4079a26-8b18-4587-ad1d-e89e018a84f3 button.colab-df-convert');\n",
              "        buttonEl.style.display =\n",
              "          google.colab.kernel.accessAllowed ? 'block' : 'none';\n",
              "\n",
              "        async function convertToInteractive(key) {\n",
              "          const element = document.querySelector('#df-b4079a26-8b18-4587-ad1d-e89e018a84f3');\n",
              "          const dataTable =\n",
              "            await google.colab.kernel.invokeFunction('convertToInteractive',\n",
              "                                                     [key], {});\n",
              "          if (!dataTable) return;\n",
              "\n",
              "          const docLinkHtml = 'Like what you see? Visit the ' +\n",
              "            '<a target=\"_blank\" href=https://colab.research.google.com/notebooks/data_table.ipynb>data table notebook</a>'\n",
              "            + ' to learn more about interactive tables.';\n",
              "          element.innerHTML = '';\n",
              "          dataTable['output_type'] = 'display_data';\n",
              "          await google.colab.output.renderOutput(dataTable, element);\n",
              "          const docLink = document.createElement('div');\n",
              "          docLink.innerHTML = docLinkHtml;\n",
              "          element.appendChild(docLink);\n",
              "        }\n",
              "      </script>\n",
              "    </div>\n",
              "  </div>\n",
              "  "
            ],
            "text/plain": [
              "     temperature  gender  heart_rate\n",
              "0           96.3       1          70\n",
              "1           96.7       1          71\n",
              "2           96.9       1          74\n",
              "3           97.0       1          80\n",
              "4           97.1       1          73\n",
              "..           ...     ...         ...\n",
              "125         99.3       2          68\n",
              "126         99.4       2          77\n",
              "127         99.9       2          79\n",
              "128        100.0       2          78\n",
              "129        100.8       2          77\n",
              "\n",
              "[130 rows x 3 columns]"
            ]
          },
          "metadata": {},
          "execution_count": 5
        }
      ]
    },
    {
      "cell_type": "code",
      "execution_count": 4,
      "metadata": {
        "colab": {
          "base_uri": "https://localhost:8080/",
          "height": 206
        },
        "id": "7Vr_BPfk5u7y",
        "outputId": "830b8035-88d6-4059-a079-6faf330364d2"
      },
      "outputs": [
        {
          "output_type": "execute_result",
          "data": {
            "text/html": [
              "\n",
              "  <div id=\"df-d081663c-2ad0-467b-aa1f-f6f727605ebb\">\n",
              "    <div class=\"colab-df-container\">\n",
              "      <div>\n",
              "<style scoped>\n",
              "    .dataframe tbody tr th:only-of-type {\n",
              "        vertical-align: middle;\n",
              "    }\n",
              "\n",
              "    .dataframe tbody tr th {\n",
              "        vertical-align: top;\n",
              "    }\n",
              "\n",
              "    .dataframe thead th {\n",
              "        text-align: right;\n",
              "    }\n",
              "</style>\n",
              "<table border=\"1\" class=\"dataframe\">\n",
              "  <thead>\n",
              "    <tr style=\"text-align: right;\">\n",
              "      <th></th>\n",
              "      <th>temperature</th>\n",
              "      <th>gender</th>\n",
              "      <th>heart_rate</th>\n",
              "    </tr>\n",
              "  </thead>\n",
              "  <tbody>\n",
              "    <tr>\n",
              "      <th>0</th>\n",
              "      <td>96.3</td>\n",
              "      <td>1</td>\n",
              "      <td>70</td>\n",
              "    </tr>\n",
              "    <tr>\n",
              "      <th>1</th>\n",
              "      <td>96.7</td>\n",
              "      <td>1</td>\n",
              "      <td>71</td>\n",
              "    </tr>\n",
              "    <tr>\n",
              "      <th>2</th>\n",
              "      <td>96.9</td>\n",
              "      <td>1</td>\n",
              "      <td>74</td>\n",
              "    </tr>\n",
              "    <tr>\n",
              "      <th>3</th>\n",
              "      <td>97.0</td>\n",
              "      <td>1</td>\n",
              "      <td>80</td>\n",
              "    </tr>\n",
              "    <tr>\n",
              "      <th>4</th>\n",
              "      <td>97.1</td>\n",
              "      <td>1</td>\n",
              "      <td>73</td>\n",
              "    </tr>\n",
              "  </tbody>\n",
              "</table>\n",
              "</div>\n",
              "      <button class=\"colab-df-convert\" onclick=\"convertToInteractive('df-d081663c-2ad0-467b-aa1f-f6f727605ebb')\"\n",
              "              title=\"Convert this dataframe to an interactive table.\"\n",
              "              style=\"display:none;\">\n",
              "        \n",
              "  <svg xmlns=\"http://www.w3.org/2000/svg\" height=\"24px\"viewBox=\"0 0 24 24\"\n",
              "       width=\"24px\">\n",
              "    <path d=\"M0 0h24v24H0V0z\" fill=\"none\"/>\n",
              "    <path d=\"M18.56 5.44l.94 2.06.94-2.06 2.06-.94-2.06-.94-.94-2.06-.94 2.06-2.06.94zm-11 1L8.5 8.5l.94-2.06 2.06-.94-2.06-.94L8.5 2.5l-.94 2.06-2.06.94zm10 10l.94 2.06.94-2.06 2.06-.94-2.06-.94-.94-2.06-.94 2.06-2.06.94z\"/><path d=\"M17.41 7.96l-1.37-1.37c-.4-.4-.92-.59-1.43-.59-.52 0-1.04.2-1.43.59L10.3 9.45l-7.72 7.72c-.78.78-.78 2.05 0 2.83L4 21.41c.39.39.9.59 1.41.59.51 0 1.02-.2 1.41-.59l7.78-7.78 2.81-2.81c.8-.78.8-2.07 0-2.86zM5.41 20L4 18.59l7.72-7.72 1.47 1.35L5.41 20z\"/>\n",
              "  </svg>\n",
              "      </button>\n",
              "      \n",
              "  <style>\n",
              "    .colab-df-container {\n",
              "      display:flex;\n",
              "      flex-wrap:wrap;\n",
              "      gap: 12px;\n",
              "    }\n",
              "\n",
              "    .colab-df-convert {\n",
              "      background-color: #E8F0FE;\n",
              "      border: none;\n",
              "      border-radius: 50%;\n",
              "      cursor: pointer;\n",
              "      display: none;\n",
              "      fill: #1967D2;\n",
              "      height: 32px;\n",
              "      padding: 0 0 0 0;\n",
              "      width: 32px;\n",
              "    }\n",
              "\n",
              "    .colab-df-convert:hover {\n",
              "      background-color: #E2EBFA;\n",
              "      box-shadow: 0px 1px 2px rgba(60, 64, 67, 0.3), 0px 1px 3px 1px rgba(60, 64, 67, 0.15);\n",
              "      fill: #174EA6;\n",
              "    }\n",
              "\n",
              "    [theme=dark] .colab-df-convert {\n",
              "      background-color: #3B4455;\n",
              "      fill: #D2E3FC;\n",
              "    }\n",
              "\n",
              "    [theme=dark] .colab-df-convert:hover {\n",
              "      background-color: #434B5C;\n",
              "      box-shadow: 0px 1px 3px 1px rgba(0, 0, 0, 0.15);\n",
              "      filter: drop-shadow(0px 1px 2px rgba(0, 0, 0, 0.3));\n",
              "      fill: #FFFFFF;\n",
              "    }\n",
              "  </style>\n",
              "\n",
              "      <script>\n",
              "        const buttonEl =\n",
              "          document.querySelector('#df-d081663c-2ad0-467b-aa1f-f6f727605ebb button.colab-df-convert');\n",
              "        buttonEl.style.display =\n",
              "          google.colab.kernel.accessAllowed ? 'block' : 'none';\n",
              "\n",
              "        async function convertToInteractive(key) {\n",
              "          const element = document.querySelector('#df-d081663c-2ad0-467b-aa1f-f6f727605ebb');\n",
              "          const dataTable =\n",
              "            await google.colab.kernel.invokeFunction('convertToInteractive',\n",
              "                                                     [key], {});\n",
              "          if (!dataTable) return;\n",
              "\n",
              "          const docLinkHtml = 'Like what you see? Visit the ' +\n",
              "            '<a target=\"_blank\" href=https://colab.research.google.com/notebooks/data_table.ipynb>data table notebook</a>'\n",
              "            + ' to learn more about interactive tables.';\n",
              "          element.innerHTML = '';\n",
              "          dataTable['output_type'] = 'display_data';\n",
              "          await google.colab.output.renderOutput(dataTable, element);\n",
              "          const docLink = document.createElement('div');\n",
              "          docLink.innerHTML = docLinkHtml;\n",
              "          element.appendChild(docLink);\n",
              "        }\n",
              "      </script>\n",
              "    </div>\n",
              "  </div>\n",
              "  "
            ],
            "text/plain": [
              "   temperature  gender  heart_rate\n",
              "0         96.3       1          70\n",
              "1         96.7       1          71\n",
              "2         96.9       1          74\n",
              "3         97.0       1          80\n",
              "4         97.1       1          73"
            ]
          },
          "metadata": {},
          "execution_count": 4
        }
      ],
      "source": [
        "df.head()"
      ]
    },
    {
      "cell_type": "code",
      "execution_count": 6,
      "metadata": {
        "colab": {
          "base_uri": "https://localhost:8080/"
        },
        "id": "IAob0Cr45u7y",
        "outputId": "d351f4c3-a1cf-479d-e2b7-46eb7ce465a0"
      },
      "outputs": [
        {
          "output_type": "stream",
          "name": "stdout",
          "text": [
            "<class 'pandas.core.frame.DataFrame'>\n",
            "RangeIndex: 130 entries, 0 to 129\n",
            "Data columns (total 3 columns):\n",
            " #   Column       Non-Null Count  Dtype  \n",
            "---  ------       --------------  -----  \n",
            " 0   temperature  130 non-null    float64\n",
            " 1   gender       130 non-null    int64  \n",
            " 2   heart_rate   130 non-null    int64  \n",
            "dtypes: float64(1), int64(2)\n",
            "memory usage: 3.2 KB\n"
          ]
        }
      ],
      "source": [
        "df.info()"
      ]
    },
    {
      "cell_type": "markdown",
      "metadata": {
        "id": "ofCeU2z95u7z"
      },
      "source": [
        "⭐Replace the gender levels [1, 2]  with [\"male\", \"female\"]"
      ]
    },
    {
      "cell_type": "code",
      "execution_count": 7,
      "metadata": {
        "id": "Ry5kyKmG5u7z"
      },
      "outputs": [],
      "source": [
        "df[\"gender\"] = df[\"gender\"].replace(to_replace=[1,2], value=[\"male\", \"female\"])"
      ]
    },
    {
      "cell_type": "code",
      "source": [
        "df"
      ],
      "metadata": {
        "colab": {
          "base_uri": "https://localhost:8080/",
          "height": 423
        },
        "id": "076w9YLa7Wfy",
        "outputId": "33baeb0a-bc25-4ca5-8466-ba9c1d158876"
      },
      "execution_count": 9,
      "outputs": [
        {
          "output_type": "execute_result",
          "data": {
            "text/html": [
              "\n",
              "  <div id=\"df-00837d21-ff2e-4c19-b7c9-5ac09482cfb4\">\n",
              "    <div class=\"colab-df-container\">\n",
              "      <div>\n",
              "<style scoped>\n",
              "    .dataframe tbody tr th:only-of-type {\n",
              "        vertical-align: middle;\n",
              "    }\n",
              "\n",
              "    .dataframe tbody tr th {\n",
              "        vertical-align: top;\n",
              "    }\n",
              "\n",
              "    .dataframe thead th {\n",
              "        text-align: right;\n",
              "    }\n",
              "</style>\n",
              "<table border=\"1\" class=\"dataframe\">\n",
              "  <thead>\n",
              "    <tr style=\"text-align: right;\">\n",
              "      <th></th>\n",
              "      <th>temperature</th>\n",
              "      <th>gender</th>\n",
              "      <th>heart_rate</th>\n",
              "    </tr>\n",
              "  </thead>\n",
              "  <tbody>\n",
              "    <tr>\n",
              "      <th>0</th>\n",
              "      <td>96.3</td>\n",
              "      <td>male</td>\n",
              "      <td>70</td>\n",
              "    </tr>\n",
              "    <tr>\n",
              "      <th>1</th>\n",
              "      <td>96.7</td>\n",
              "      <td>male</td>\n",
              "      <td>71</td>\n",
              "    </tr>\n",
              "    <tr>\n",
              "      <th>2</th>\n",
              "      <td>96.9</td>\n",
              "      <td>male</td>\n",
              "      <td>74</td>\n",
              "    </tr>\n",
              "    <tr>\n",
              "      <th>3</th>\n",
              "      <td>97.0</td>\n",
              "      <td>male</td>\n",
              "      <td>80</td>\n",
              "    </tr>\n",
              "    <tr>\n",
              "      <th>4</th>\n",
              "      <td>97.1</td>\n",
              "      <td>male</td>\n",
              "      <td>73</td>\n",
              "    </tr>\n",
              "    <tr>\n",
              "      <th>...</th>\n",
              "      <td>...</td>\n",
              "      <td>...</td>\n",
              "      <td>...</td>\n",
              "    </tr>\n",
              "    <tr>\n",
              "      <th>125</th>\n",
              "      <td>99.3</td>\n",
              "      <td>female</td>\n",
              "      <td>68</td>\n",
              "    </tr>\n",
              "    <tr>\n",
              "      <th>126</th>\n",
              "      <td>99.4</td>\n",
              "      <td>female</td>\n",
              "      <td>77</td>\n",
              "    </tr>\n",
              "    <tr>\n",
              "      <th>127</th>\n",
              "      <td>99.9</td>\n",
              "      <td>female</td>\n",
              "      <td>79</td>\n",
              "    </tr>\n",
              "    <tr>\n",
              "      <th>128</th>\n",
              "      <td>100.0</td>\n",
              "      <td>female</td>\n",
              "      <td>78</td>\n",
              "    </tr>\n",
              "    <tr>\n",
              "      <th>129</th>\n",
              "      <td>100.8</td>\n",
              "      <td>female</td>\n",
              "      <td>77</td>\n",
              "    </tr>\n",
              "  </tbody>\n",
              "</table>\n",
              "<p>130 rows × 3 columns</p>\n",
              "</div>\n",
              "      <button class=\"colab-df-convert\" onclick=\"convertToInteractive('df-00837d21-ff2e-4c19-b7c9-5ac09482cfb4')\"\n",
              "              title=\"Convert this dataframe to an interactive table.\"\n",
              "              style=\"display:none;\">\n",
              "        \n",
              "  <svg xmlns=\"http://www.w3.org/2000/svg\" height=\"24px\"viewBox=\"0 0 24 24\"\n",
              "       width=\"24px\">\n",
              "    <path d=\"M0 0h24v24H0V0z\" fill=\"none\"/>\n",
              "    <path d=\"M18.56 5.44l.94 2.06.94-2.06 2.06-.94-2.06-.94-.94-2.06-.94 2.06-2.06.94zm-11 1L8.5 8.5l.94-2.06 2.06-.94-2.06-.94L8.5 2.5l-.94 2.06-2.06.94zm10 10l.94 2.06.94-2.06 2.06-.94-2.06-.94-.94-2.06-.94 2.06-2.06.94z\"/><path d=\"M17.41 7.96l-1.37-1.37c-.4-.4-.92-.59-1.43-.59-.52 0-1.04.2-1.43.59L10.3 9.45l-7.72 7.72c-.78.78-.78 2.05 0 2.83L4 21.41c.39.39.9.59 1.41.59.51 0 1.02-.2 1.41-.59l7.78-7.78 2.81-2.81c.8-.78.8-2.07 0-2.86zM5.41 20L4 18.59l7.72-7.72 1.47 1.35L5.41 20z\"/>\n",
              "  </svg>\n",
              "      </button>\n",
              "      \n",
              "  <style>\n",
              "    .colab-df-container {\n",
              "      display:flex;\n",
              "      flex-wrap:wrap;\n",
              "      gap: 12px;\n",
              "    }\n",
              "\n",
              "    .colab-df-convert {\n",
              "      background-color: #E8F0FE;\n",
              "      border: none;\n",
              "      border-radius: 50%;\n",
              "      cursor: pointer;\n",
              "      display: none;\n",
              "      fill: #1967D2;\n",
              "      height: 32px;\n",
              "      padding: 0 0 0 0;\n",
              "      width: 32px;\n",
              "    }\n",
              "\n",
              "    .colab-df-convert:hover {\n",
              "      background-color: #E2EBFA;\n",
              "      box-shadow: 0px 1px 2px rgba(60, 64, 67, 0.3), 0px 1px 3px 1px rgba(60, 64, 67, 0.15);\n",
              "      fill: #174EA6;\n",
              "    }\n",
              "\n",
              "    [theme=dark] .colab-df-convert {\n",
              "      background-color: #3B4455;\n",
              "      fill: #D2E3FC;\n",
              "    }\n",
              "\n",
              "    [theme=dark] .colab-df-convert:hover {\n",
              "      background-color: #434B5C;\n",
              "      box-shadow: 0px 1px 3px 1px rgba(0, 0, 0, 0.15);\n",
              "      filter: drop-shadow(0px 1px 2px rgba(0, 0, 0, 0.3));\n",
              "      fill: #FFFFFF;\n",
              "    }\n",
              "  </style>\n",
              "\n",
              "      <script>\n",
              "        const buttonEl =\n",
              "          document.querySelector('#df-00837d21-ff2e-4c19-b7c9-5ac09482cfb4 button.colab-df-convert');\n",
              "        buttonEl.style.display =\n",
              "          google.colab.kernel.accessAllowed ? 'block' : 'none';\n",
              "\n",
              "        async function convertToInteractive(key) {\n",
              "          const element = document.querySelector('#df-00837d21-ff2e-4c19-b7c9-5ac09482cfb4');\n",
              "          const dataTable =\n",
              "            await google.colab.kernel.invokeFunction('convertToInteractive',\n",
              "                                                     [key], {});\n",
              "          if (!dataTable) return;\n",
              "\n",
              "          const docLinkHtml = 'Like what you see? Visit the ' +\n",
              "            '<a target=\"_blank\" href=https://colab.research.google.com/notebooks/data_table.ipynb>data table notebook</a>'\n",
              "            + ' to learn more about interactive tables.';\n",
              "          element.innerHTML = '';\n",
              "          dataTable['output_type'] = 'display_data';\n",
              "          await google.colab.output.renderOutput(dataTable, element);\n",
              "          const docLink = document.createElement('div');\n",
              "          docLink.innerHTML = docLinkHtml;\n",
              "          element.appendChild(docLink);\n",
              "        }\n",
              "      </script>\n",
              "    </div>\n",
              "  </div>\n",
              "  "
            ],
            "text/plain": [
              "     temperature  gender  heart_rate\n",
              "0           96.3    male          70\n",
              "1           96.7    male          71\n",
              "2           96.9    male          74\n",
              "3           97.0    male          80\n",
              "4           97.1    male          73\n",
              "..           ...     ...         ...\n",
              "125         99.3  female          68\n",
              "126         99.4  female          77\n",
              "127         99.9  female          79\n",
              "128        100.0  female          78\n",
              "129        100.8  female          77\n",
              "\n",
              "[130 rows x 3 columns]"
            ]
          },
          "metadata": {},
          "execution_count": 9
        }
      ]
    },
    {
      "cell_type": "code",
      "execution_count": 8,
      "metadata": {
        "colab": {
          "base_uri": "https://localhost:8080/",
          "height": 206
        },
        "id": "qU4evXVG5u7z",
        "outputId": "38df5b8a-d598-4afb-e9e7-304435dd5233"
      },
      "outputs": [
        {
          "output_type": "execute_result",
          "data": {
            "text/html": [
              "\n",
              "  <div id=\"df-386f616f-31da-4acc-b4aa-8924ca6a7b94\">\n",
              "    <div class=\"colab-df-container\">\n",
              "      <div>\n",
              "<style scoped>\n",
              "    .dataframe tbody tr th:only-of-type {\n",
              "        vertical-align: middle;\n",
              "    }\n",
              "\n",
              "    .dataframe tbody tr th {\n",
              "        vertical-align: top;\n",
              "    }\n",
              "\n",
              "    .dataframe thead th {\n",
              "        text-align: right;\n",
              "    }\n",
              "</style>\n",
              "<table border=\"1\" class=\"dataframe\">\n",
              "  <thead>\n",
              "    <tr style=\"text-align: right;\">\n",
              "      <th></th>\n",
              "      <th>temperature</th>\n",
              "      <th>gender</th>\n",
              "      <th>heart_rate</th>\n",
              "    </tr>\n",
              "  </thead>\n",
              "  <tbody>\n",
              "    <tr>\n",
              "      <th>0</th>\n",
              "      <td>96.3</td>\n",
              "      <td>male</td>\n",
              "      <td>70</td>\n",
              "    </tr>\n",
              "    <tr>\n",
              "      <th>1</th>\n",
              "      <td>96.7</td>\n",
              "      <td>male</td>\n",
              "      <td>71</td>\n",
              "    </tr>\n",
              "    <tr>\n",
              "      <th>2</th>\n",
              "      <td>96.9</td>\n",
              "      <td>male</td>\n",
              "      <td>74</td>\n",
              "    </tr>\n",
              "    <tr>\n",
              "      <th>3</th>\n",
              "      <td>97.0</td>\n",
              "      <td>male</td>\n",
              "      <td>80</td>\n",
              "    </tr>\n",
              "    <tr>\n",
              "      <th>4</th>\n",
              "      <td>97.1</td>\n",
              "      <td>male</td>\n",
              "      <td>73</td>\n",
              "    </tr>\n",
              "  </tbody>\n",
              "</table>\n",
              "</div>\n",
              "      <button class=\"colab-df-convert\" onclick=\"convertToInteractive('df-386f616f-31da-4acc-b4aa-8924ca6a7b94')\"\n",
              "              title=\"Convert this dataframe to an interactive table.\"\n",
              "              style=\"display:none;\">\n",
              "        \n",
              "  <svg xmlns=\"http://www.w3.org/2000/svg\" height=\"24px\"viewBox=\"0 0 24 24\"\n",
              "       width=\"24px\">\n",
              "    <path d=\"M0 0h24v24H0V0z\" fill=\"none\"/>\n",
              "    <path d=\"M18.56 5.44l.94 2.06.94-2.06 2.06-.94-2.06-.94-.94-2.06-.94 2.06-2.06.94zm-11 1L8.5 8.5l.94-2.06 2.06-.94-2.06-.94L8.5 2.5l-.94 2.06-2.06.94zm10 10l.94 2.06.94-2.06 2.06-.94-2.06-.94-.94-2.06-.94 2.06-2.06.94z\"/><path d=\"M17.41 7.96l-1.37-1.37c-.4-.4-.92-.59-1.43-.59-.52 0-1.04.2-1.43.59L10.3 9.45l-7.72 7.72c-.78.78-.78 2.05 0 2.83L4 21.41c.39.39.9.59 1.41.59.51 0 1.02-.2 1.41-.59l7.78-7.78 2.81-2.81c.8-.78.8-2.07 0-2.86zM5.41 20L4 18.59l7.72-7.72 1.47 1.35L5.41 20z\"/>\n",
              "  </svg>\n",
              "      </button>\n",
              "      \n",
              "  <style>\n",
              "    .colab-df-container {\n",
              "      display:flex;\n",
              "      flex-wrap:wrap;\n",
              "      gap: 12px;\n",
              "    }\n",
              "\n",
              "    .colab-df-convert {\n",
              "      background-color: #E8F0FE;\n",
              "      border: none;\n",
              "      border-radius: 50%;\n",
              "      cursor: pointer;\n",
              "      display: none;\n",
              "      fill: #1967D2;\n",
              "      height: 32px;\n",
              "      padding: 0 0 0 0;\n",
              "      width: 32px;\n",
              "    }\n",
              "\n",
              "    .colab-df-convert:hover {\n",
              "      background-color: #E2EBFA;\n",
              "      box-shadow: 0px 1px 2px rgba(60, 64, 67, 0.3), 0px 1px 3px 1px rgba(60, 64, 67, 0.15);\n",
              "      fill: #174EA6;\n",
              "    }\n",
              "\n",
              "    [theme=dark] .colab-df-convert {\n",
              "      background-color: #3B4455;\n",
              "      fill: #D2E3FC;\n",
              "    }\n",
              "\n",
              "    [theme=dark] .colab-df-convert:hover {\n",
              "      background-color: #434B5C;\n",
              "      box-shadow: 0px 1px 3px 1px rgba(0, 0, 0, 0.15);\n",
              "      filter: drop-shadow(0px 1px 2px rgba(0, 0, 0, 0.3));\n",
              "      fill: #FFFFFF;\n",
              "    }\n",
              "  </style>\n",
              "\n",
              "      <script>\n",
              "        const buttonEl =\n",
              "          document.querySelector('#df-386f616f-31da-4acc-b4aa-8924ca6a7b94 button.colab-df-convert');\n",
              "        buttonEl.style.display =\n",
              "          google.colab.kernel.accessAllowed ? 'block' : 'none';\n",
              "\n",
              "        async function convertToInteractive(key) {\n",
              "          const element = document.querySelector('#df-386f616f-31da-4acc-b4aa-8924ca6a7b94');\n",
              "          const dataTable =\n",
              "            await google.colab.kernel.invokeFunction('convertToInteractive',\n",
              "                                                     [key], {});\n",
              "          if (!dataTable) return;\n",
              "\n",
              "          const docLinkHtml = 'Like what you see? Visit the ' +\n",
              "            '<a target=\"_blank\" href=https://colab.research.google.com/notebooks/data_table.ipynb>data table notebook</a>'\n",
              "            + ' to learn more about interactive tables.';\n",
              "          element.innerHTML = '';\n",
              "          dataTable['output_type'] = 'display_data';\n",
              "          await google.colab.output.renderOutput(dataTable, element);\n",
              "          const docLink = document.createElement('div');\n",
              "          docLink.innerHTML = docLinkHtml;\n",
              "          element.appendChild(docLink);\n",
              "        }\n",
              "      </script>\n",
              "    </div>\n",
              "  </div>\n",
              "  "
            ],
            "text/plain": [
              "   temperature gender  heart_rate\n",
              "0         96.3   male          70\n",
              "1         96.7   male          71\n",
              "2         96.9   male          74\n",
              "3         97.0   male          80\n",
              "4         97.1   male          73"
            ]
          },
          "metadata": {},
          "execution_count": 8
        }
      ],
      "source": [
        "df.head()"
      ]
    },
    {
      "cell_type": "markdown",
      "metadata": {
        "id": "evc61B2d5u7z"
      },
      "source": [
        "## Task-1. Is the *body temperature* population mean  98.6 degrees F?"
      ]
    },
    {
      "cell_type": "markdown",
      "metadata": {
        "id": "t5INxODz5u70"
      },
      "source": [
        "⭐What is the mean for body temperature?"
      ]
    },
    {
      "cell_type": "code",
      "execution_count": 10,
      "metadata": {
        "colab": {
          "base_uri": "https://localhost:8080/"
        },
        "id": "GWpXeTyV5u70",
        "outputId": "9317e217-c55b-456a-fefd-04127a1630bf"
      },
      "outputs": [
        {
          "output_type": "execute_result",
          "data": {
            "text/plain": [
              "98.24923076923076"
            ]
          },
          "metadata": {},
          "execution_count": 10
        }
      ],
      "source": [
        "df.temperature.mean()"
      ]
    },
    {
      "cell_type": "markdown",
      "metadata": {
        "id": "HOP1hHQp5u70"
      },
      "source": [
        "⭐What is the standard deviation for body temperature?"
      ]
    },
    {
      "cell_type": "code",
      "execution_count": 11,
      "metadata": {
        "colab": {
          "base_uri": "https://localhost:8080/"
        },
        "id": "RgUqQicI5u70",
        "outputId": "a212e76a-2ee2-4b93-f91e-65afd0b778b6"
      },
      "outputs": [
        {
          "output_type": "execute_result",
          "data": {
            "text/plain": [
              "0.7331831580389456"
            ]
          },
          "metadata": {},
          "execution_count": 11
        }
      ],
      "source": [
        "df.temperature.std()"
      ]
    },
    {
      "cell_type": "markdown",
      "metadata": {
        "id": "b1t0EaqY5u70"
      },
      "source": [
        "⭐What is the standard error of the mean for body temperature?"
      ]
    },
    {
      "cell_type": "code",
      "execution_count": 13,
      "metadata": {
        "colab": {
          "base_uri": "https://localhost:8080/"
        },
        "id": "GVdAC4aI5u71",
        "outputId": "679c79ed-f3fb-4490-845d-4dbb37d4eb3a"
      },
      "outputs": [
        {
          "output_type": "execute_result",
          "data": {
            "text/plain": [
              "0.06430441683789102"
            ]
          },
          "metadata": {},
          "execution_count": 13
        }
      ],
      "source": [
        "df.temperature.std()/ np.sqrt(df.shape[0])"
      ]
    },
    {
      "cell_type": "code",
      "source": [
        "df.temperature.sem()"
      ],
      "metadata": {
        "colab": {
          "base_uri": "https://localhost:8080/"
        },
        "id": "Y5rSZEyv9nkr",
        "outputId": "234678ca-cfe2-4636-adb7-0f3d2b0b28c2"
      },
      "execution_count": 14,
      "outputs": [
        {
          "output_type": "execute_result",
          "data": {
            "text/plain": [
              "0.06430441683789102"
            ]
          },
          "metadata": {},
          "execution_count": 14
        }
      ]
    },
    {
      "cell_type": "markdown",
      "metadata": {
        "id": "ewfJAuDw5u71"
      },
      "source": [
        "⭐Plot the distribution of body temperature. You can either use *Pandas* or *Seaborn*."
      ]
    },
    {
      "cell_type": "code",
      "execution_count": 15,
      "metadata": {
        "colab": {
          "base_uri": "https://localhost:8080/",
          "height": 265
        },
        "id": "YK_KHqwn5u71",
        "outputId": "dd46c060-5ffc-42ea-810d-926c8312025b"
      },
      "outputs": [
        {
          "output_type": "display_data",
          "data": {
            "image/png": "[encoded data removed]",
            "text/plain": [
              "<Figure size 432x288 with 1 Axes>"
            ]
          },
          "metadata": {
            "needs_background": "light"
          }
        }
      ],
      "source": [
        "df.temperature.plot.density();"
      ]
    },
    {
      "cell_type": "code",
      "execution_count": 17,
      "metadata": {
        "colab": {
          "base_uri": "https://localhost:8080/",
          "height": 279
        },
        "id": "N2Snua075u71",
        "outputId": "122f0659-32fb-4180-922e-7b97793f2889"
      },
      "outputs": [
        {
          "output_type": "display_data",
          "data": {
            "image/png": "[encoded data removed]",
            "text/plain": [
              "<Figure size 432x288 with 1 Axes>"
            ]
          },
          "metadata": {
            "needs_background": "light"
          }
        }
      ],
      "source": [
        "sns. distplot(df[\"temperature\"], hist=True,kde=True, bins=10);"
      ]
    },
    {
      "cell_type": "markdown",
      "metadata": {
        "id": "rT9QOxDq5u71"
      },
      "source": [
        "**KEY NOTE:**\n",
        "\n",
        "The objective of Statistics often is <u>*to make inferences about unknown population parameters*</u> based on information contained in sample data. \n",
        "\n",
        "These inferences are phrased in one of two ways: \n",
        "\n",
        " - as estimates of the respective parameters or \n",
        " - as tests of hypotheses about their values.\n",
        "\n",
        "**Statistical inference**. How to estimate population attributes, based on sample data. How to test statistical hypotheses."
      ]
    },
    {
      "cell_type": "markdown",
      "metadata": {
        "id": "hiqE5iRc5u71"
      },
      "source": [
        "### Confidence Interval using the t Distribution"
      ]
    },
    {
      "cell_type": "markdown",
      "metadata": {
        "id": "NJv_n7uA5u72"
      },
      "source": [
        "**Key Notes about Confidence Intervals**\n",
        "\n",
        "💡A point estimate is a single number. \n",
        "\n",
        "💡A confidence interval, naturally, is an interval.\n",
        "\n",
        "💡Confidence intervals are the typical way to present estimates as an interval range.\n",
        "\n",
        "💡The point estimate is located exactly in the middle of the confidence interval. \n",
        "\n",
        "💡However, confidence intervals provide much more information and are preferred when making inferences.  \n",
        "\n",
        "💡The more data you have, the less variable a sample estimate will be.\n",
        "\n",
        "💡The lower the level of confidence you can tolerate, the narrower the confidence interval will be."
      ]
    },
    {
      "cell_type": "markdown",
      "metadata": {
        "id": "SzsUsNTy5u72"
      },
      "source": [
        "⭐Investigate the given task by calculating the confidence interval for this sample of 130 subjects. (Use 90%, 95% and 99% CIs)"
      ]
    },
    {
      "cell_type": "code",
      "execution_count": 20,
      "metadata": {
        "colab": {
          "base_uri": "https://localhost:8080/"
        },
        "id": "W1X98qrE5u72",
        "outputId": "5a78c729-30b7-445a-9061-76611828985f"
      },
      "outputs": [
        {
          "output_type": "execute_result",
          "data": {
            "text/plain": [
              "(98.12200290560803, 98.3764586328535)"
            ]
          },
          "metadata": {},
          "execution_count": 20
        }
      ],
      "source": [
        "#95% Confidence Interval\n",
        "stats.t.interval(alpha=0.95,#confidence level\n",
        "                 df=len(df)-1, #degrees of freedom(n-1)\n",
        "                 loc=df.temperature.mean(),#sample mean\n",
        "                 scale=stats.sem(df.temperature)) #satndard error of the mean # %95 inde popülasyon meanı bu aralıkta bulacağız.\n"
      ]
    },
    {
      "cell_type": "code",
      "source": [
        "#95% Confidence Interval\n",
        "stats.norm.interval(alpha=0.95,#confidence level\n",
        "                  loc=df.temperature.mean(),#sample mean\n",
        "                 scale=stats.sem(df.temperature)) #satndard error of the mean # %95 inde popülasyon meanı bu aralıkta bulacağız.\n"
      ],
      "metadata": {
        "colab": {
          "base_uri": "https://localhost:8080/"
        },
        "id": "NB8SGhLxCNTo",
        "outputId": "06f28237-7af2-4d63-b898-ace569c64048"
      },
      "execution_count": 21,
      "outputs": [
        {
          "output_type": "execute_result",
          "data": {
            "text/plain": [
              "(98.12319642818164, 98.37526511027988)"
            ]
          },
          "metadata": {},
          "execution_count": 21
        }
      ]
    },
    {
      "cell_type": "code",
      "source": [
        "stats.sem(df.temperature)"
      ],
      "metadata": {
        "colab": {
          "base_uri": "https://localhost:8080/"
        },
        "id": "a7P2j_L-BP-i",
        "outputId": "7959a446-d078-4263-da31-0c43de9be195"
      },
      "execution_count": 18,
      "outputs": [
        {
          "output_type": "execute_result",
          "data": {
            "text/plain": [
              "0.06430441683789102"
            ]
          },
          "metadata": {},
          "execution_count": 18
        }
      ]
    },
    {
      "cell_type": "code",
      "source": [
        "df.temperature.sem()"
      ],
      "metadata": {
        "colab": {
          "base_uri": "https://localhost:8080/"
        },
        "id": "TIongoW9BVlo",
        "outputId": "de94c68e-a840-4334-99dc-decba3cc8888"
      },
      "execution_count": 19,
      "outputs": [
        {
          "output_type": "execute_result",
          "data": {
            "text/plain": [
              "0.06430441683789102"
            ]
          },
          "metadata": {},
          "execution_count": 19
        }
      ]
    },
    {
      "cell_type": "markdown",
      "metadata": {
        "id": "IOYvMGTP5u72"
      },
      "source": [
        "Our confidence interval for μ is (98.12200290560803, 98.3764586328535).\n",
        "\n",
        "In repeated sampling, approximately 95% of all intervals of the form X̄ ± t*(s/√n) include μ, the true mean body temperature."
      ]
    },
    {
      "cell_type": "code",
      "execution_count": 24,
      "metadata": {
        "colab": {
          "base_uri": "https://localhost:8080/"
        },
        "id": "T6Ffoum95u72",
        "outputId": "8d51fe9d-1221-452d-f9bd-501183e7d1f2"
      },
      "outputs": [
        {
          "output_type": "stream",
          "name": "stdout",
          "text": [
            "(98.14269432413488, 98.35576721432665)\n",
            "(98.12200290560803, 98.3764586328535)\n",
            "(98.08110824239758, 98.41735329606395)\n"
          ]
        }
      ],
      "source": [
        "#Write a for loop calculate 90%, 95% and 99% CIs around the sample mean\n",
        "\n",
        "lower = []\n",
        "upper = []\n",
        "\n",
        "for i in [0.90,0.95,0.99]:\n",
        "  ci=  stats.t.interval(i, len(df.temperature)-1,loc=df.temperature.mean(),scale=df.temperature.sem())\n",
        "  lower.append(ci[0])\n",
        "  upper.append(ci[1])\n",
        "  #print(\"CI {i}%:{interval}\".format(i=int(i*100),interval=ci))\n",
        "  print(ci)\n"
      ]
    },
    {
      "cell_type": "code",
      "execution_count": 25,
      "metadata": {
        "colab": {
          "base_uri": "https://localhost:8080/",
          "height": 265
        },
        "id": "fI7OyJuK5u73",
        "outputId": "2a90ba0f-b233-4930-8655-b1a79583b0c8"
      },
      "outputs": [
        {
          "output_type": "display_data",
          "data": {
            "image/png": "[encoded data removed]",
            "text/plain": [
              "<Figure size 432x288 with 1 Axes>"
            ]
          },
          "metadata": {
            "needs_background": "light"
          }
        }
      ],
      "source": [
        "plt.plot((lower,upper), (range(len(lower)),range(len(upper))), 'ro-',color='red')\n",
        "plt.yticks(range(3),[\"CI 90%\",\"CI 95%\",\"CI 99%\"]);"
      ]
    },
    {
      "cell_type": "markdown",
      "metadata": {
        "id": "Wjz5_7_A5u73"
      },
      "source": [
        "### One Sample t Test"
      ]
    },
    {
      "cell_type": "markdown",
      "metadata": {
        "id": "9cLnR90B5u73"
      },
      "source": [
        "⭐**Investigate the given task by using One Sample t Test.**"
      ]
    },
    {
      "cell_type": "markdown",
      "metadata": {
        "id": "8nWSkvbz5u73"
      },
      "source": [
        "**Key Notes about Hypothesis Testing (Significance Testing)**\n",
        "\n",
        "💡Assumptions \n",
        "\n",
        "💡Null and Alternative Hypothesis\n",
        "\n",
        "💡Test Statistic \n",
        "\n",
        "💡P-value\n",
        "\n",
        "💡Conclusion"
      ]
    },
    {
      "cell_type": "markdown",
      "metadata": {
        "id": "uT6gJuHW5u73"
      },
      "source": [
        "___🚀First, check the normality. *Use scipy.stats.shapiro"
      ]
    },
    {
      "cell_type": "markdown",
      "metadata": {
        "id": "BLoRBGih5u73"
      },
      "source": [
        "<i>H<i/><sub>0</sub>: \"the variable is normally distributed\"<br>\n",
        "<i>H<i/><sub>1</sub>: \"the variable is not normally distributed\""
      ]
    },
    {
      "cell_type": "code",
      "execution_count": 27,
      "metadata": {
        "id": "s0jhP4Z25u74"
      },
      "outputs": [],
      "source": [
        "stat, p=stats.shapiro(df.temperature)"
      ]
    },
    {
      "cell_type": "code",
      "execution_count": 28,
      "metadata": {
        "colab": {
          "base_uri": "https://localhost:8080/"
        },
        "id": "-zTwctRt5u74",
        "outputId": "4c24ad62-600c-41fb-979b-d094ff39cfed"
      },
      "outputs": [
        {
          "output_type": "stream",
          "name": "stdout",
          "text": [
            "Statistics=0.987, p=0.233\n",
            "Sample looks Gaussian (fail to reject H0)\n"
          ]
        }
      ],
      "source": [
        "print('Statistics=%.3f, p=%.3f' % (stat, p))\n",
        "# interpret\n",
        "alpha = 0.05\n",
        "if p > alpha:\n",
        "\tprint('Sample looks Gaussian (fail to reject H0)')\n",
        "else:\n",
        "\tprint('Sample does not look Gaussian (reject H0)')"
      ]
    },
    {
      "cell_type": "markdown",
      "source": [
        "H0:mu=98.6\n",
        "H1:mu!=98.6"
      ],
      "metadata": {
        "id": "7Y3mzgaKJ9XW"
      }
    },
    {
      "cell_type": "markdown",
      "metadata": {
        "id": "AGw8e4Fp5u74"
      },
      "source": [
        "___🚀Then, conduct the significance test. *Use scipy.stats.ttest_1samp*"
      ]
    },
    {
      "cell_type": "code",
      "execution_count": 31,
      "metadata": {
        "colab": {
          "base_uri": "https://localhost:8080/"
        },
        "id": "LnQhQnAU5u74",
        "outputId": "b1c7bc30-c244-49cb-b6af-bdcf1ead4878"
      },
      "outputs": [
        {
          "output_type": "execute_result",
          "data": {
            "text/plain": [
              "Ttest_1sampResult(statistic=-5.454823292364077, pvalue=2.410632041561008e-07)"
            ]
          },
          "metadata": {},
          "execution_count": 31
        }
      ],
      "source": [
        "oneSamp=stats.ttest_1samp(df.temperature,popmean=98.6)\n",
        "oneSamp"
      ]
    },
    {
      "cell_type": "markdown",
      "metadata": {
        "id": "9reJyC8u5u74"
      },
      "source": [
        "The sample standard deviation is .73, so the standard error of the mean is .064. Thus the calculated t (using the sample mean of 98.25) is -5.45."
      ]
    },
    {
      "cell_type": "code",
      "execution_count": 32,
      "metadata": {
        "colab": {
          "base_uri": "https://localhost:8080/"
        },
        "id": "7Oy8o3Hv5u74",
        "outputId": "605612c2-340f-4b4d-c8a7-d68cf2ba6c6d"
      },
      "outputs": [
        {
          "output_type": "stream",
          "name": "stdout",
          "text": [
            "Reject the null\n"
          ]
        }
      ],
      "source": [
        "# Compare p-value and alpha\n",
        "alpha = 0.05\n",
        "\n",
        "if oneSamp.pvalue < alpha:\n",
        "    print(\"Reject the null\")\n",
        "else:\n",
        "    print(\"Fail to reject the null\")"
      ]
    },
    {
      "cell_type": "markdown",
      "metadata": {
        "id": "PzFcfWKq5u74"
      },
      "source": [
        "## Task-2. Is There a Significant Difference Between Males and Females in Normal Temperature?"
      ]
    },
    {
      "cell_type": "markdown",
      "metadata": {
        "id": "6XiW_F_h5u75"
      },
      "source": [
        "H0: µ1 = µ2 (\"the two population means are equal\")\n",
        "\n",
        "H1: µ1 ≠ µ2 (\"the two population means are not equal\")"
      ]
    },
    {
      "cell_type": "markdown",
      "metadata": {
        "id": "ITdNIrXW5u75"
      },
      "source": [
        "⭐Show descriptives for 2 groups"
      ]
    },
    {
      "cell_type": "code",
      "execution_count": 33,
      "metadata": {
        "colab": {
          "base_uri": "https://localhost:8080/",
          "height": 143
        },
        "id": "B97zA2nl5u75",
        "outputId": "23dd8cd9-6fde-45cd-a86c-2d9885a0943b"
      },
      "outputs": [
        {
          "output_type": "execute_result",
          "data": {
            "text/html": [
              "\n",
              "  <div id=\"df-0aaa27fc-0c77-40a7-9d04-0c0144dd5d5a\">\n",
              "    <div class=\"colab-df-container\">\n",
              "      <div>\n",
              "<style scoped>\n",
              "    .dataframe tbody tr th:only-of-type {\n",
              "        vertical-align: middle;\n",
              "    }\n",
              "\n",
              "    .dataframe tbody tr th {\n",
              "        vertical-align: top;\n",
              "    }\n",
              "\n",
              "    .dataframe thead th {\n",
              "        text-align: right;\n",
              "    }\n",
              "</style>\n",
              "<table border=\"1\" class=\"dataframe\">\n",
              "  <thead>\n",
              "    <tr style=\"text-align: right;\">\n",
              "      <th></th>\n",
              "      <th>count</th>\n",
              "      <th>mean</th>\n",
              "      <th>std</th>\n",
              "      <th>min</th>\n",
              "      <th>25%</th>\n",
              "      <th>50%</th>\n",
              "      <th>75%</th>\n",
              "      <th>max</th>\n",
              "    </tr>\n",
              "    <tr>\n",
              "      <th>gender</th>\n",
              "      <th></th>\n",
              "      <th></th>\n",
              "      <th></th>\n",
              "      <th></th>\n",
              "      <th></th>\n",
              "      <th></th>\n",
              "      <th></th>\n",
              "      <th></th>\n",
              "    </tr>\n",
              "  </thead>\n",
              "  <tbody>\n",
              "    <tr>\n",
              "      <th>female</th>\n",
              "      <td>65.0</td>\n",
              "      <td>98.393846</td>\n",
              "      <td>0.743488</td>\n",
              "      <td>96.4</td>\n",
              "      <td>98.0</td>\n",
              "      <td>98.4</td>\n",
              "      <td>98.8</td>\n",
              "      <td>100.8</td>\n",
              "    </tr>\n",
              "    <tr>\n",
              "      <th>male</th>\n",
              "      <td>65.0</td>\n",
              "      <td>98.104615</td>\n",
              "      <td>0.698756</td>\n",
              "      <td>96.3</td>\n",
              "      <td>97.6</td>\n",
              "      <td>98.1</td>\n",
              "      <td>98.6</td>\n",
              "      <td>99.5</td>\n",
              "    </tr>\n",
              "  </tbody>\n",
              "</table>\n",
              "</div>\n",
              "      <button class=\"colab-df-convert\" onclick=\"convertToInteractive('df-0aaa27fc-0c77-40a7-9d04-0c0144dd5d5a')\"\n",
              "              title=\"Convert this dataframe to an interactive table.\"\n",
              "              style=\"display:none;\">\n",
              "        \n",
              "  <svg xmlns=\"http://www.w3.org/2000/svg\" height=\"24px\"viewBox=\"0 0 24 24\"\n",
              "       width=\"24px\">\n",
              "    <path d=\"M0 0h24v24H0V0z\" fill=\"none\"/>\n",
              "    <path d=\"M18.56 5.44l.94 2.06.94-2.06 2.06-.94-2.06-.94-.94-2.06-.94 2.06-2.06.94zm-11 1L8.5 8.5l.94-2.06 2.06-.94-2.06-.94L8.5 2.5l-.94 2.06-2.06.94zm10 10l.94 2.06.94-2.06 2.06-.94-2.06-.94-.94-2.06-.94 2.06-2.06.94z\"/><path d=\"M17.41 7.96l-1.37-1.37c-.4-.4-.92-.59-1.43-.59-.52 0-1.04.2-1.43.59L10.3 9.45l-7.72 7.72c-.78.78-.78 2.05 0 2.83L4 21.41c.39.39.9.59 1.41.59.51 0 1.02-.2 1.41-.59l7.78-7.78 2.81-2.81c.8-.78.8-2.07 0-2.86zM5.41 20L4 18.59l7.72-7.72 1.47 1.35L5.41 20z\"/>\n",
              "  </svg>\n",
              "      </button>\n",
              "      \n",
              "  <style>\n",
              "    .colab-df-container {\n",
              "      display:flex;\n",
              "      flex-wrap:wrap;\n",
              "      gap: 12px;\n",
              "    }\n",
              "\n",
              "    .colab-df-convert {\n",
              "      background-color: #E8F0FE;\n",
              "      border: none;\n",
              "      border-radius: 50%;\n",
              "      cursor: pointer;\n",
              "      display: none;\n",
              "      fill: #1967D2;\n",
              "      height: 32px;\n",
              "      padding: 0 0 0 0;\n",
              "      width: 32px;\n",
              "    }\n",
              "\n",
              "    .colab-df-convert:hover {\n",
              "      background-color: #E2EBFA;\n",
              "      box-shadow: 0px 1px 2px rgba(60, 64, 67, 0.3), 0px 1px 3px 1px rgba(60, 64, 67, 0.15);\n",
              "      fill: #174EA6;\n",
              "    }\n",
              "\n",
              "    [theme=dark] .colab-df-convert {\n",
              "      background-color: #3B4455;\n",
              "      fill: #D2E3FC;\n",
              "    }\n",
              "\n",
              "    [theme=dark] .colab-df-convert:hover {\n",
              "      background-color: #434B5C;\n",
              "      box-shadow: 0px 1px 3px 1px rgba(0, 0, 0, 0.15);\n",
              "      filter: drop-shadow(0px 1px 2px rgba(0, 0, 0, 0.3));\n",
              "      fill: #FFFFFF;\n",
              "    }\n",
              "  </style>\n",
              "\n",
              "      <script>\n",
              "        const buttonEl =\n",
              "          document.querySelector('#df-0aaa27fc-0c77-40a7-9d04-0c0144dd5d5a button.colab-df-convert');\n",
              "        buttonEl.style.display =\n",
              "          google.colab.kernel.accessAllowed ? 'block' : 'none';\n",
              "\n",
              "        async function convertToInteractive(key) {\n",
              "          const element = document.querySelector('#df-0aaa27fc-0c77-40a7-9d04-0c0144dd5d5a');\n",
              "          const dataTable =\n",
              "            await google.colab.kernel.invokeFunction('convertToInteractive',\n",
              "                                                     [key], {});\n",
              "          if (!dataTable) return;\n",
              "\n",
              "          const docLinkHtml = 'Like what you see? Visit the ' +\n",
              "            '<a target=\"_blank\" href=https://colab.research.google.com/notebooks/data_table.ipynb>data table notebook</a>'\n",
              "            + ' to learn more about interactive tables.';\n",
              "          element.innerHTML = '';\n",
              "          dataTable['output_type'] = 'display_data';\n",
              "          await google.colab.output.renderOutput(dataTable, element);\n",
              "          const docLink = document.createElement('div');\n",
              "          docLink.innerHTML = docLinkHtml;\n",
              "          element.appendChild(docLink);\n",
              "        }\n",
              "      </script>\n",
              "    </div>\n",
              "  </div>\n",
              "  "
            ],
            "text/plain": [
              "        count       mean       std   min   25%   50%   75%    max\n",
              "gender                                                           \n",
              "female   65.0  98.393846  0.743488  96.4  98.0  98.4  98.8  100.8\n",
              "male     65.0  98.104615  0.698756  96.3  97.6  98.1  98.6   99.5"
            ]
          },
          "metadata": {},
          "execution_count": 33
        }
      ],
      "source": [
        "df.groupby(\"gender\").describe()[\"temperature\"]"
      ]
    },
    {
      "cell_type": "markdown",
      "metadata": {
        "id": "HovaHN945u75"
      },
      "source": [
        "⭐Plot the histogram for both groups side-by-side."
      ]
    },
    {
      "cell_type": "code",
      "execution_count": 34,
      "metadata": {
        "colab": {
          "base_uri": "https://localhost:8080/",
          "height": 289
        },
        "id": "hYa1JgE05u75",
        "outputId": "2ea62e06-7f5a-446f-fdcb-b31d623d17e4"
      },
      "outputs": [
        {
          "output_type": "display_data",
          "data": {
            "image/png": "[encoded data removed]",
            "text/plain": [
              "<Figure size 432x288 with 2 Axes>"
            ]
          },
          "metadata": {
            "needs_background": "light"
          }
        }
      ],
      "source": [
        "df[\"temperature\"].hist(by=df[\"gender\"]);"
      ]
    },
    {
      "cell_type": "markdown",
      "metadata": {
        "id": "oPrgrXpi5u75"
      },
      "source": [
        "⭐Plot the box plot for both groups side-by-side."
      ]
    },
    {
      "cell_type": "code",
      "execution_count": 35,
      "metadata": {
        "colab": {
          "base_uri": "https://localhost:8080/",
          "height": 301
        },
        "id": "WaRXcQWs5u76",
        "outputId": "0d05a05b-2834-4728-a1b1-51d3c7deddf8"
      },
      "outputs": [
        {
          "output_type": "display_data",
          "data": {
            "image/png": "[encoded data removed]",
            "text/plain": [
              "<Figure size 432x288 with 1 Axes>"
            ]
          },
          "metadata": {
            "needs_background": "light"
          }
        }
      ],
      "source": [
        "df.boxplot(\"temperature\",by=\"gender\");"
      ]
    },
    {
      "cell_type": "markdown",
      "metadata": {
        "id": "tnAzfbz85u76"
      },
      "source": [
        "⭐**Investigate the given task by using Independent Samples t Test.**"
      ]
    },
    {
      "cell_type": "markdown",
      "metadata": {
        "id": "IAm5XkSc5u76"
      },
      "source": [
        "___🚀First, check the normality for both groups. *Use scipy.stats.shapiro*"
      ]
    },
    {
      "cell_type": "code",
      "execution_count": 36,
      "metadata": {
        "colab": {
          "base_uri": "https://localhost:8080/"
        },
        "id": "oS56hJc45u76",
        "outputId": "236ad75f-8ef9-4f13-9a32-fab09c092011"
      },
      "outputs": [
        {
          "output_type": "stream",
          "name": "stdout",
          "text": [
            "Statistics=0.989, p=0.855\n",
            "Sample looks Gaussian (fail to reject H0)\n"
          ]
        }
      ],
      "source": [
        "#Check the normality for male group\n",
        "\n",
        "stat, p = stats.shapiro(df[df[\"gender\"]==\"male\"][\"temperature\"])\n",
        "\n",
        "print('Statistics=%.3f, p=%.3f' % (stat, p))\n",
        "# interpret\n",
        "alpha = 0.05\n",
        "if p > alpha:\n",
        "\tprint('Sample looks Gaussian (fail to reject H0)')\n",
        "else:\n",
        "\tprint('Sample does not look Gaussian (reject H0)')"
      ]
    },
    {
      "cell_type": "code",
      "execution_count": 37,
      "metadata": {
        "colab": {
          "base_uri": "https://localhost:8080/"
        },
        "id": "xCxQAxlX5u76",
        "outputId": "6a8579b1-89f5-43a9-fcf4-572763f83997"
      },
      "outputs": [
        {
          "output_type": "stream",
          "name": "stdout",
          "text": [
            "Statistics=0.968, p=0.090\n",
            "Sample looks Gaussian (fail to reject H0)\n"
          ]
        }
      ],
      "source": [
        "#Check the normality for female group\n",
        "\n",
        "stat, p = stats.shapiro(df[df[\"gender\"]==\"female\"][\"temperature\"])\n",
        "\n",
        "\n",
        "print('Statistics=%.3f, p=%.3f' % (stat, p))\n",
        "# interpret\n",
        "alpha = 0.05\n",
        "if p > alpha:\n",
        "\tprint('Sample looks Gaussian (fail to reject H0)')\n",
        "else:\n",
        "\tprint('Sample does not look Gaussian (reject H0)')"
      ]
    },
    {
      "cell_type": "markdown",
      "metadata": {
        "id": "T2m9Wb8A5u76"
      },
      "source": [
        "___🚀Test the assumption of homogeneity of variance\n",
        "*Hint: Levene’s Test*\n",
        "\n",
        "The hypotheses for Levene’s test are: \n",
        "\n",
        "<i>H<i/><sub>0</sub>: \"the population variances of group 1 and 2 are equal\"\n",
        "    \n",
        "<i>H<i/><sub>1</sub>: \"the population variances of group 1 and 2 are not equal\""
      ]
    },
    {
      "cell_type": "code",
      "execution_count": 38,
      "metadata": {
        "colab": {
          "base_uri": "https://localhost:8080/"
        },
        "id": "fL0gLCE35u77",
        "outputId": "8a5612bc-e490-4df4-eca8-996cb75d250e"
      },
      "outputs": [
        {
          "output_type": "stream",
          "name": "stdout",
          "text": [
            "Statistics=0.064, p=0.801\n",
            "The population variances of group 1 and 2 are equal (fail to reject H0)\n"
          ]
        }
      ],
      "source": [
        "stat, p = stats.levene(df[df[\"gender\"]==\"male\"][\"temperature\"],df[df[\"gender\"]==\"female\"][\"temperature\"])\n",
        "\n",
        "print('Statistics=%.3f, p=%.3f' % (stat, p))\n",
        "# interpret\n",
        "alpha = 0.05\n",
        "if p > alpha:\n",
        "\tprint('The population variances of group 1 and 2 are equal (fail to reject H0)')\n",
        "else:\n",
        "\tprint('The population variances of group 1 and 2 are not equal (reject H0)')"
      ]
    },
    {
      "cell_type": "code",
      "execution_count": null,
      "metadata": {
        "colab": {
          "base_uri": "https://localhost:8080/"
        },
        "outputId": "236ad75f-8ef9-4f13-9a32-fab09c092011",
        "id": "v5L_dti7RB3_"
      },
      "outputs": [
        {
          "output_type": "stream",
          "name": "stdout",
          "text": [
            "Statistics=0.989, p=0.855\n",
            "Sample looks Gaussian (fail to reject H0)\n"
          ]
        }
      ],
      "source": [
        "#Check the normality for male group\n",
        "\n",
        "stat, p = stats.shapiro(df[df[\"gender\"]==\"male\"][\"temperature\"])\n",
        "\n",
        "print('Statistics=%.3f, p=%.3f' % (stat, p))\n",
        "# interpret\n",
        "alpha = 0.05\n",
        "if p > alpha:\n",
        "\tprint('Sample looks Gaussian (fail to reject H0)')\n",
        "else:\n",
        "\tprint('Sample does not look Gaussian (reject H0)')"
      ]
    },
    {
      "cell_type": "code",
      "execution_count": null,
      "metadata": {
        "colab": {
          "base_uri": "https://localhost:8080/"
        },
        "outputId": "236ad75f-8ef9-4f13-9a32-fab09c092011",
        "id": "Fn0q1q6hRAgl"
      },
      "outputs": [
        {
          "output_type": "stream",
          "name": "stdout",
          "text": [
            "Statistics=0.989, p=0.855\n",
            "Sample looks Gaussian (fail to reject H0)\n"
          ]
        }
      ],
      "source": [
        "#Check the normality for male group\n",
        "\n",
        "stat, p = stats.shapiro(df[df[\"gender\"]==\"male\"][\"temperature\"])\n",
        "\n",
        "print('Statistics=%.3f, p=%.3f' % (stat, p))\n",
        "# interpret\n",
        "alpha = 0.05\n",
        "if p > alpha:\n",
        "\tprint('Sample looks Gaussian (fail to reject H0)')\n",
        "else:\n",
        "\tprint('Sample does not look Gaussian (reject H0)')"
      ]
    },
    {
      "cell_type": "markdown",
      "metadata": {
        "id": "SSoqvh4r5u77"
      },
      "source": [
        "___🚀Conduct the significance test. Use scipy.stats.ttest_ind\n",
        "\n",
        "H0: µ1 = µ2 (\"the two population means are equal\")\n",
        "\n",
        "H1: µ1 ≠ µ2 (\"the two population means are not equal\")"
      ]
    },
    {
      "cell_type": "code",
      "execution_count": 39,
      "metadata": {
        "colab": {
          "base_uri": "https://localhost:8080/"
        },
        "id": "-2EaRIYQ5u77",
        "outputId": "8a5570f0-d171-4599-c5ea-5169d135f6a3"
      },
      "outputs": [
        {
          "output_type": "execute_result",
          "data": {
            "text/plain": [
              "Ttest_indResult(statistic=-2.2854345381654984, pvalue=0.02393188312240236)"
            ]
          },
          "metadata": {},
          "execution_count": 39
        }
      ],
      "source": [
        "twosample=stats.ttest_ind(df[df[\"gender\"]==\"male\"][\"temperature\"],\n",
        "                df[df[\"gender\"]==\"female\"][\"temperature\"])\n",
        "twosample#twoSample = stats.ttest_ind(df[df[\"gender\"]==\"male\"][\"temperature\"],   #1st group -- males\n",
        "                #df[df[\"gender\"]==\"female\"][\"temperature\"]  #2nd group -- females\n",
        "               #)"
      ]
    },
    {
      "cell_type": "code",
      "execution_count": 40,
      "metadata": {
        "colab": {
          "base_uri": "https://localhost:8080/"
        },
        "id": "i2TeNorU5u77",
        "outputId": "f99d5660-fe42-4c7a-93e6-6f1349553988"
      },
      "outputs": [
        {
          "output_type": "stream",
          "name": "stdout",
          "text": [
            "At 0.05 level of significance, we can reject the null hypothesis in favor of the alternative hypothesis.\n"
          ]
        }
      ],
      "source": [
        "alpha = 0.05\n",
        "p_value = twosample.pvalue\n",
        "\n",
        "if p_value<alpha:\n",
        "    print('At {} level of significance, we can reject the null hypothesis in favor of the alternative hypothesis.'.format(alpha))\n",
        "else:\n",
        "    print('At {} level of significance, we fail to reject the null hypothesis.'.format(alpha))"
      ]
    },
    {
      "cell_type": "markdown",
      "metadata": {
        "id": "7kBz-2Y-5u77"
      },
      "source": [
        "## Task-3. Is There a Relationship Between Body Temperature and Heart Rate?"
      ]
    },
    {
      "cell_type": "markdown",
      "metadata": {
        "id": "PTmzUSVA5u77"
      },
      "source": [
        "⭐Plot the scatter plot"
      ]
    },
    {
      "cell_type": "code",
      "execution_count": 41,
      "metadata": {
        "colab": {
          "base_uri": "https://localhost:8080/",
          "height": 280
        },
        "id": "Ycqe7oIc5u77",
        "outputId": "b520dc90-7798-4c1b-d561-a7dbae547d1e"
      },
      "outputs": [
        {
          "output_type": "display_data",
          "data": {
            "image/png": "[encoded data removed]",
            "text/plain": [
              "<Figure size 432x288 with 1 Axes>"
            ]
          },
          "metadata": {
            "needs_background": "light"
          }
        }
      ],
      "source": [
        "df.plot.scatter(\"temperature\",\"heart_rate\");"
      ]
    },
    {
      "cell_type": "markdown",
      "metadata": {
        "id": "AflpM-eT5u78"
      },
      "source": [
        "⭐Check the normality for heart rate variable"
      ]
    },
    {
      "cell_type": "code",
      "source": [
        "sns. distplot(df[\"heart_rate\"], hist=True,kde=True, bins=10);"
      ],
      "metadata": {
        "colab": {
          "base_uri": "https://localhost:8080/",
          "height": 282
        },
        "id": "uLopQI-OXnE2",
        "outputId": "b9f71a68-5bf9-4ac5-a47e-931afeb5e34f"
      },
      "execution_count": 42,
      "outputs": [
        {
          "output_type": "display_data",
          "data": {
            "image/png": "[encoded data removed]",
            "text/plain": [
              "<Figure size 432x288 with 1 Axes>"
            ]
          },
          "metadata": {
            "needs_background": "light"
          }
        }
      ]
    },
    {
      "cell_type": "code",
      "execution_count": 43,
      "metadata": {
        "colab": {
          "base_uri": "https://localhost:8080/"
        },
        "id": "8n1QiVj45u78",
        "outputId": "edf94f2d-184b-43fd-893f-68ca09ce4ea0"
      },
      "outputs": [
        {
          "output_type": "stream",
          "name": "stdout",
          "text": [
            "Statistics=0.989, p=0.355\n",
            "Sample looks Gaussian (fail to reject H0)\n"
          ]
        }
      ],
      "source": [
        "stat, p = stats.shapiro(df.heart_rate)\n",
        "\n",
        "print('Statistics=%.3f, p=%.3f' % (stat, p))\n",
        "# interpret\n",
        "alpha = 0.05\n",
        "if p > alpha:\n",
        "\tprint('Sample looks Gaussian (fail to reject H0)')\n",
        "else:\n",
        "\tprint('Sample does not look Gaussian (reject H0)')"
      ]
    },
    {
      "cell_type": "markdown",
      "metadata": {
        "id": "0UBTlgdD5u78"
      },
      "source": [
        "⭐**Conduct a correlation test**, report Pearson’s correlation coefficient and two-tailed p-value. *Use scipy.stats.pearsonr*"
      ]
    },
    {
      "cell_type": "markdown",
      "metadata": {
        "id": "pTkhtVAQ5u78"
      },
      "source": [
        "Two-tailed significance test:\n",
        "\n",
        "H0: ρ = 0 (\"the population correlation coefficient is 0; there is no association\")\n",
        "\n",
        "H1: ρ ≠ 0 (\"the population correlation coefficient is not 0; a nonzero correlation could exist\")"
      ]
    },
    {
      "cell_type": "code",
      "execution_count": 45,
      "metadata": {
        "colab": {
          "base_uri": "https://localhost:8080/"
        },
        "id": "E5mNf3155u78",
        "outputId": "b5a1103c-4869-41dc-c296-2618dbc36e01"
      },
      "outputs": [
        {
          "output_type": "execute_result",
          "data": {
            "text/plain": [
              "(0.2536564027207642, 0.003591489250708228)"
            ]
          },
          "metadata": {},
          "execution_count": 45
        }
      ],
      "source": [
        "stats.pearsonr(df[\"temperature\"],df[\"heart_rate\"])\n"
      ]
    },
    {
      "cell_type": "markdown",
      "metadata": {
        "id": "lIwpmY1A5u78"
      },
      "source": [
        "⭐**Find a regression equation** to predict heart rate from body temperature."
      ]
    },
    {
      "cell_type": "code",
      "execution_count": 52,
      "metadata": {
        "colab": {
          "base_uri": "https://localhost:8080/"
        },
        "id": "38Lh5z_15u79",
        "outputId": "2e821cdb-53d8-4eee-8502-e2ff534ca966"
      },
      "outputs": [
        {
          "output_type": "execute_result",
          "data": {
            "text/plain": [
              "LinregressResult(slope=2.443238038611885, intercept=-166.2847194182034, rvalue=0.2536564027207643, pvalue=0.003591489250708216, stderr=0.8235190209144222)"
            ]
          },
          "metadata": {},
          "execution_count": 52
        }
      ],
      "source": [
        "result=stats.linregress(df[\"temperature\"],df[\"heart_rate\"])\n",
        "result"
      ]
    },
    {
      "cell_type": "markdown",
      "metadata": {
        "id": "hQmB4nAb5u79"
      },
      "source": [
        "⭐Calculate the predicted heart rate of a person at the temperature 97 F."
      ]
    },
    {
      "cell_type": "code",
      "execution_count": 50,
      "metadata": {
        "colab": {
          "base_uri": "https://localhost:8080/"
        },
        "id": "tWZxuGzX5u79",
        "outputId": "e8183237-e655-4315-e0e4-58af291bac68"
      },
      "outputs": [
        {
          "output_type": "execute_result",
          "data": {
            "text/plain": [
              "70.70937032714943"
            ]
          },
          "metadata": {},
          "execution_count": 50
        }
      ],
      "source": [
        "temp = 97\n",
        "result.intercept+result.slope*temp"
      ]
    },
    {
      "cell_type": "markdown",
      "metadata": {
        "id": "JE5Zc9G35u79"
      },
      "source": [
        "⭐How much of the variation of the heart_rate variable is explained by the temperature variable? *Coefficient of determination (R-squared):*"
      ]
    },
    {
      "cell_type": "code",
      "execution_count": 51,
      "metadata": {
        "colab": {
          "base_uri": "https://localhost:8080/"
        },
        "id": "-Er_9l8a5u79",
        "outputId": "fbbc5ebb-15c6-4877-e329-2111da3d20fa"
      },
      "outputs": [
        {
          "output_type": "execute_result",
          "data": {
            "text/plain": [
              "0.06434157064123855"
            ]
          },
          "metadata": {},
          "execution_count": 51
        }
      ],
      "source": [
        "Rsquared= result.rvalue**2\n",
        "Rsquared"
      ]
    },
    {
      "cell_type": "code",
      "source": [
        ""
      ],
      "metadata": {
        "id": "AfUfsRRfaErB"
      },
      "execution_count": null,
      "outputs": []
    }
  ],
  "metadata": {
    "kernelspec": {
      "display_name": "Python 3",
      "language": "python",
      "name": "python3"
    },
    "language_info": {
      "codemirror_mode": {
        "name": "ipython",
        "version": 3
      },
      "file_extension": ".py",
      "mimetype": "text/x-python",
      "name": "python",
      "nbconvert_exporter": "python",
      "pygments_lexer": "ipython3",
      "version": "3.7.11"
    },
    "colab": {
      "name": "Statistics_Recap_jason_ekders.ipynb",
      "provenance": [],
      "collapsed_sections": [],
      "include_colab_link": true
    }
  },
  "nbformat": 4,
  "nbformat_minor": 0
}