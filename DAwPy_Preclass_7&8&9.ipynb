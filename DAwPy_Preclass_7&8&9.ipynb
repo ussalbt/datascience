{
  "cells": [
    {
      "cell_type": "markdown",
      "metadata": {
        "id": "view-in-github",
        "colab_type": "text"
      },
      "source": [
        "<a href=\"https://colab.research.google.com/github/ussalbt/datascience/blob/main/DAwPy_Preclass_7%268%269.ipynb\" target=\"_parent\"><img src=\"https://colab.research.google.com/assets/colab-badge.svg\" alt=\"Open In Colab\"/></a>"
      ]
    },
    {
      "cell_type": "markdown",
      "id": "b8679d17",
      "metadata": {
        "id": "b8679d17"
      },
      "source": [
        "# DAwPy_Preclass_7&8&9"
      ]
    },
    {
      "cell_type": "markdown",
      "id": "13327410",
      "metadata": {
        "id": "13327410"
      },
      "source": [
        "- apply() : Apply a function along an axis of the DataFrame. Series in given axis are passed to the function.\n",
        "    * Row or Column Wise Function Application: apply()\n",
        "    * Element wise Function Application: applymap()\n",
        "    * Function application on Series : map()\n",
        "Dealing with unique values in a column using; \n",
        "- unique() :Compute array of unique values in a Series, returned in the order observed\n",
        "- nunique(): gives the number of unique values\n",
        "- value_counts() :Return a Series containing unique values as its index and frequencies as its values, ordered count in descending order\n",
        "- sort_values() method Sorting a DataFrame by a column. It accepts a 'by' argument with column name."
      ]
    },
    {
      "cell_type": "code",
      "execution_count": 1,
      "id": "efe89b8d",
      "metadata": {
        "id": "efe89b8d"
      },
      "outputs": [],
      "source": [
        "import numpy as np\n",
        "import pandas as pd\n",
        "import seaborn as sns"
      ]
    },
    {
      "cell_type": "code",
      "execution_count": 4,
      "id": "17ee5433",
      "metadata": {
        "colab": {
          "base_uri": "https://localhost:8080/"
        },
        "id": "17ee5433",
        "outputId": "931afeaa-3d0c-4741-f368-a0ec2a1d90fd"
      },
      "outputs": [
        {
          "output_type": "execute_result",
          "data": {
            "text/plain": [
              "['anagrams',\n",
              " 'anscombe',\n",
              " 'attention',\n",
              " 'brain_networks',\n",
              " 'car_crashes',\n",
              " 'diamonds',\n",
              " 'dots',\n",
              " 'exercise',\n",
              " 'flights',\n",
              " 'fmri',\n",
              " 'gammas',\n",
              " 'geyser',\n",
              " 'iris',\n",
              " 'mpg',\n",
              " 'penguins',\n",
              " 'planets',\n",
              " 'taxis',\n",
              " 'tips',\n",
              " 'titanic']"
            ]
          },
          "metadata": {},
          "execution_count": 4
        }
      ],
      "source": [
        "sns.get_dataset_names()"
      ]
    },
    {
      "cell_type": "code",
      "execution_count": 5,
      "id": "7ecd296f",
      "metadata": {
        "colab": {
          "base_uri": "https://localhost:8080/",
          "height": 206
        },
        "id": "7ecd296f",
        "outputId": "23e7d7aa-2937-4e9b-dace-3d8fdc9175e5"
      },
      "outputs": [
        {
          "output_type": "execute_result",
          "data": {
            "text/html": [
              "\n",
              "  <div id=\"df-f6537c52-0fae-4750-90b4-6c2f0f2d65bb\">\n",
              "    <div class=\"colab-df-container\">\n",
              "      <div>\n",
              "<style scoped>\n",
              "    .dataframe tbody tr th:only-of-type {\n",
              "        vertical-align: middle;\n",
              "    }\n",
              "\n",
              "    .dataframe tbody tr th {\n",
              "        vertical-align: top;\n",
              "    }\n",
              "\n",
              "    .dataframe thead th {\n",
              "        text-align: right;\n",
              "    }\n",
              "</style>\n",
              "<table border=\"1\" class=\"dataframe\">\n",
              "  <thead>\n",
              "    <tr style=\"text-align: right;\">\n",
              "      <th></th>\n",
              "      <th>species</th>\n",
              "      <th>island</th>\n",
              "      <th>bill_length_mm</th>\n",
              "      <th>bill_depth_mm</th>\n",
              "      <th>flipper_length_mm</th>\n",
              "      <th>body_mass_g</th>\n",
              "      <th>sex</th>\n",
              "    </tr>\n",
              "  </thead>\n",
              "  <tbody>\n",
              "    <tr>\n",
              "      <th>0</th>\n",
              "      <td>Adelie</td>\n",
              "      <td>Torgersen</td>\n",
              "      <td>39.1</td>\n",
              "      <td>18.7</td>\n",
              "      <td>181.0</td>\n",
              "      <td>3750.0</td>\n",
              "      <td>Male</td>\n",
              "    </tr>\n",
              "    <tr>\n",
              "      <th>1</th>\n",
              "      <td>Adelie</td>\n",
              "      <td>Torgersen</td>\n",
              "      <td>39.5</td>\n",
              "      <td>17.4</td>\n",
              "      <td>186.0</td>\n",
              "      <td>3800.0</td>\n",
              "      <td>Female</td>\n",
              "    </tr>\n",
              "    <tr>\n",
              "      <th>2</th>\n",
              "      <td>Adelie</td>\n",
              "      <td>Torgersen</td>\n",
              "      <td>40.3</td>\n",
              "      <td>18.0</td>\n",
              "      <td>195.0</td>\n",
              "      <td>3250.0</td>\n",
              "      <td>Female</td>\n",
              "    </tr>\n",
              "    <tr>\n",
              "      <th>3</th>\n",
              "      <td>Adelie</td>\n",
              "      <td>Torgersen</td>\n",
              "      <td>NaN</td>\n",
              "      <td>NaN</td>\n",
              "      <td>NaN</td>\n",
              "      <td>NaN</td>\n",
              "      <td>NaN</td>\n",
              "    </tr>\n",
              "    <tr>\n",
              "      <th>4</th>\n",
              "      <td>Adelie</td>\n",
              "      <td>Torgersen</td>\n",
              "      <td>36.7</td>\n",
              "      <td>19.3</td>\n",
              "      <td>193.0</td>\n",
              "      <td>3450.0</td>\n",
              "      <td>Female</td>\n",
              "    </tr>\n",
              "  </tbody>\n",
              "</table>\n",
              "</div>\n",
              "      <button class=\"colab-df-convert\" onclick=\"convertToInteractive('df-f6537c52-0fae-4750-90b4-6c2f0f2d65bb')\"\n",
              "              title=\"Convert this dataframe to an interactive table.\"\n",
              "              style=\"display:none;\">\n",
              "        \n",
              "  <svg xmlns=\"http://www.w3.org/2000/svg\" height=\"24px\"viewBox=\"0 0 24 24\"\n",
              "       width=\"24px\">\n",
              "    <path d=\"M0 0h24v24H0V0z\" fill=\"none\"/>\n",
              "    <path d=\"M18.56 5.44l.94 2.06.94-2.06 2.06-.94-2.06-.94-.94-2.06-.94 2.06-2.06.94zm-11 1L8.5 8.5l.94-2.06 2.06-.94-2.06-.94L8.5 2.5l-.94 2.06-2.06.94zm10 10l.94 2.06.94-2.06 2.06-.94-2.06-.94-.94-2.06-.94 2.06-2.06.94z\"/><path d=\"M17.41 7.96l-1.37-1.37c-.4-.4-.92-.59-1.43-.59-.52 0-1.04.2-1.43.59L10.3 9.45l-7.72 7.72c-.78.78-.78 2.05 0 2.83L4 21.41c.39.39.9.59 1.41.59.51 0 1.02-.2 1.41-.59l7.78-7.78 2.81-2.81c.8-.78.8-2.07 0-2.86zM5.41 20L4 18.59l7.72-7.72 1.47 1.35L5.41 20z\"/>\n",
              "  </svg>\n",
              "      </button>\n",
              "      \n",
              "  <style>\n",
              "    .colab-df-container {\n",
              "      display:flex;\n",
              "      flex-wrap:wrap;\n",
              "      gap: 12px;\n",
              "    }\n",
              "\n",
              "    .colab-df-convert {\n",
              "      background-color: #E8F0FE;\n",
              "      border: none;\n",
              "      border-radius: 50%;\n",
              "      cursor: pointer;\n",
              "      display: none;\n",
              "      fill: #1967D2;\n",
              "      height: 32px;\n",
              "      padding: 0 0 0 0;\n",
              "      width: 32px;\n",
              "    }\n",
              "\n",
              "    .colab-df-convert:hover {\n",
              "      background-color: #E2EBFA;\n",
              "      box-shadow: 0px 1px 2px rgba(60, 64, 67, 0.3), 0px 1px 3px 1px rgba(60, 64, 67, 0.15);\n",
              "      fill: #174EA6;\n",
              "    }\n",
              "\n",
              "    [theme=dark] .colab-df-convert {\n",
              "      background-color: #3B4455;\n",
              "      fill: #D2E3FC;\n",
              "    }\n",
              "\n",
              "    [theme=dark] .colab-df-convert:hover {\n",
              "      background-color: #434B5C;\n",
              "      box-shadow: 0px 1px 3px 1px rgba(0, 0, 0, 0.15);\n",
              "      filter: drop-shadow(0px 1px 2px rgba(0, 0, 0, 0.3));\n",
              "      fill: #FFFFFF;\n",
              "    }\n",
              "  </style>\n",
              "\n",
              "      <script>\n",
              "        const buttonEl =\n",
              "          document.querySelector('#df-f6537c52-0fae-4750-90b4-6c2f0f2d65bb button.colab-df-convert');\n",
              "        buttonEl.style.display =\n",
              "          google.colab.kernel.accessAllowed ? 'block' : 'none';\n",
              "\n",
              "        async function convertToInteractive(key) {\n",
              "          const element = document.querySelector('#df-f6537c52-0fae-4750-90b4-6c2f0f2d65bb');\n",
              "          const dataTable =\n",
              "            await google.colab.kernel.invokeFunction('convertToInteractive',\n",
              "                                                     [key], {});\n",
              "          if (!dataTable) return;\n",
              "\n",
              "          const docLinkHtml = 'Like what you see? Visit the ' +\n",
              "            '<a target=\"_blank\" href=https://colab.research.google.com/notebooks/data_table.ipynb>data table notebook</a>'\n",
              "            + ' to learn more about interactive tables.';\n",
              "          element.innerHTML = '';\n",
              "          dataTable['output_type'] = 'display_data';\n",
              "          await google.colab.output.renderOutput(dataTable, element);\n",
              "          const docLink = document.createElement('div');\n",
              "          docLink.innerHTML = docLinkHtml;\n",
              "          element.appendChild(docLink);\n",
              "        }\n",
              "      </script>\n",
              "    </div>\n",
              "  </div>\n",
              "  "
            ],
            "text/plain": [
              "  species     island  bill_length_mm  ...  flipper_length_mm  body_mass_g     sex\n",
              "0  Adelie  Torgersen            39.1  ...              181.0       3750.0    Male\n",
              "1  Adelie  Torgersen            39.5  ...              186.0       3800.0  Female\n",
              "2  Adelie  Torgersen            40.3  ...              195.0       3250.0  Female\n",
              "3  Adelie  Torgersen             NaN  ...                NaN          NaN     NaN\n",
              "4  Adelie  Torgersen            36.7  ...              193.0       3450.0  Female\n",
              "\n",
              "[5 rows x 7 columns]"
            ]
          },
          "metadata": {},
          "execution_count": 5
        }
      ],
      "source": [
        "df = sns.load_dataset(\"penguins\")\n",
        "df.head()"
      ]
    },
    {
      "cell_type": "code",
      "execution_count": 6,
      "id": "2348d724",
      "metadata": {
        "id": "2348d724"
      },
      "outputs": [],
      "source": [
        "df[\"sex_num\"] = df.sex.map({\"Female\":0, \"Male\":1})"
      ]
    },
    {
      "cell_type": "code",
      "execution_count": 7,
      "id": "d508a725",
      "metadata": {
        "colab": {
          "base_uri": "https://localhost:8080/",
          "height": 206
        },
        "id": "d508a725",
        "outputId": "240fc822-969a-4a04-f62f-a66db52baa26"
      },
      "outputs": [
        {
          "output_type": "execute_result",
          "data": {
            "text/html": [
              "\n",
              "  <div id=\"df-a6720a85-1d11-48f1-b7b3-2a7db962c58d\">\n",
              "    <div class=\"colab-df-container\">\n",
              "      <div>\n",
              "<style scoped>\n",
              "    .dataframe tbody tr th:only-of-type {\n",
              "        vertical-align: middle;\n",
              "    }\n",
              "\n",
              "    .dataframe tbody tr th {\n",
              "        vertical-align: top;\n",
              "    }\n",
              "\n",
              "    .dataframe thead th {\n",
              "        text-align: right;\n",
              "    }\n",
              "</style>\n",
              "<table border=\"1\" class=\"dataframe\">\n",
              "  <thead>\n",
              "    <tr style=\"text-align: right;\">\n",
              "      <th></th>\n",
              "      <th>sex</th>\n",
              "      <th>sex_num</th>\n",
              "    </tr>\n",
              "  </thead>\n",
              "  <tbody>\n",
              "    <tr>\n",
              "      <th>0</th>\n",
              "      <td>Male</td>\n",
              "      <td>1.0</td>\n",
              "    </tr>\n",
              "    <tr>\n",
              "      <th>1</th>\n",
              "      <td>Female</td>\n",
              "      <td>0.0</td>\n",
              "    </tr>\n",
              "    <tr>\n",
              "      <th>2</th>\n",
              "      <td>Female</td>\n",
              "      <td>0.0</td>\n",
              "    </tr>\n",
              "    <tr>\n",
              "      <th>3</th>\n",
              "      <td>NaN</td>\n",
              "      <td>NaN</td>\n",
              "    </tr>\n",
              "    <tr>\n",
              "      <th>4</th>\n",
              "      <td>Female</td>\n",
              "      <td>0.0</td>\n",
              "    </tr>\n",
              "  </tbody>\n",
              "</table>\n",
              "</div>\n",
              "      <button class=\"colab-df-convert\" onclick=\"convertToInteractive('df-a6720a85-1d11-48f1-b7b3-2a7db962c58d')\"\n",
              "              title=\"Convert this dataframe to an interactive table.\"\n",
              "              style=\"display:none;\">\n",
              "        \n",
              "  <svg xmlns=\"http://www.w3.org/2000/svg\" height=\"24px\"viewBox=\"0 0 24 24\"\n",
              "       width=\"24px\">\n",
              "    <path d=\"M0 0h24v24H0V0z\" fill=\"none\"/>\n",
              "    <path d=\"M18.56 5.44l.94 2.06.94-2.06 2.06-.94-2.06-.94-.94-2.06-.94 2.06-2.06.94zm-11 1L8.5 8.5l.94-2.06 2.06-.94-2.06-.94L8.5 2.5l-.94 2.06-2.06.94zm10 10l.94 2.06.94-2.06 2.06-.94-2.06-.94-.94-2.06-.94 2.06-2.06.94z\"/><path d=\"M17.41 7.96l-1.37-1.37c-.4-.4-.92-.59-1.43-.59-.52 0-1.04.2-1.43.59L10.3 9.45l-7.72 7.72c-.78.78-.78 2.05 0 2.83L4 21.41c.39.39.9.59 1.41.59.51 0 1.02-.2 1.41-.59l7.78-7.78 2.81-2.81c.8-.78.8-2.07 0-2.86zM5.41 20L4 18.59l7.72-7.72 1.47 1.35L5.41 20z\"/>\n",
              "  </svg>\n",
              "      </button>\n",
              "      \n",
              "  <style>\n",
              "    .colab-df-container {\n",
              "      display:flex;\n",
              "      flex-wrap:wrap;\n",
              "      gap: 12px;\n",
              "    }\n",
              "\n",
              "    .colab-df-convert {\n",
              "      background-color: #E8F0FE;\n",
              "      border: none;\n",
              "      border-radius: 50%;\n",
              "      cursor: pointer;\n",
              "      display: none;\n",
              "      fill: #1967D2;\n",
              "      height: 32px;\n",
              "      padding: 0 0 0 0;\n",
              "      width: 32px;\n",
              "    }\n",
              "\n",
              "    .colab-df-convert:hover {\n",
              "      background-color: #E2EBFA;\n",
              "      box-shadow: 0px 1px 2px rgba(60, 64, 67, 0.3), 0px 1px 3px 1px rgba(60, 64, 67, 0.15);\n",
              "      fill: #174EA6;\n",
              "    }\n",
              "\n",
              "    [theme=dark] .colab-df-convert {\n",
              "      background-color: #3B4455;\n",
              "      fill: #D2E3FC;\n",
              "    }\n",
              "\n",
              "    [theme=dark] .colab-df-convert:hover {\n",
              "      background-color: #434B5C;\n",
              "      box-shadow: 0px 1px 3px 1px rgba(0, 0, 0, 0.15);\n",
              "      filter: drop-shadow(0px 1px 2px rgba(0, 0, 0, 0.3));\n",
              "      fill: #FFFFFF;\n",
              "    }\n",
              "  </style>\n",
              "\n",
              "      <script>\n",
              "        const buttonEl =\n",
              "          document.querySelector('#df-a6720a85-1d11-48f1-b7b3-2a7db962c58d button.colab-df-convert');\n",
              "        buttonEl.style.display =\n",
              "          google.colab.kernel.accessAllowed ? 'block' : 'none';\n",
              "\n",
              "        async function convertToInteractive(key) {\n",
              "          const element = document.querySelector('#df-a6720a85-1d11-48f1-b7b3-2a7db962c58d');\n",
              "          const dataTable =\n",
              "            await google.colab.kernel.invokeFunction('convertToInteractive',\n",
              "                                                     [key], {});\n",
              "          if (!dataTable) return;\n",
              "\n",
              "          const docLinkHtml = 'Like what you see? Visit the ' +\n",
              "            '<a target=\"_blank\" href=https://colab.research.google.com/notebooks/data_table.ipynb>data table notebook</a>'\n",
              "            + ' to learn more about interactive tables.';\n",
              "          element.innerHTML = '';\n",
              "          dataTable['output_type'] = 'display_data';\n",
              "          await google.colab.output.renderOutput(dataTable, element);\n",
              "          const docLink = document.createElement('div');\n",
              "          docLink.innerHTML = docLinkHtml;\n",
              "          element.appendChild(docLink);\n",
              "        }\n",
              "      </script>\n",
              "    </div>\n",
              "  </div>\n",
              "  "
            ],
            "text/plain": [
              "      sex  sex_num\n",
              "0    Male      1.0\n",
              "1  Female      0.0\n",
              "2  Female      0.0\n",
              "3     NaN      NaN\n",
              "4  Female      0.0"
            ]
          },
          "metadata": {},
          "execution_count": 7
        }
      ],
      "source": [
        "df.loc[:4,[\"sex\",\"sex_num\"]]"
      ]
    },
    {
      "cell_type": "code",
      "execution_count": 8,
      "id": "561d3eb3",
      "metadata": {
        "id": "561d3eb3"
      },
      "outputs": [],
      "source": [
        "df[\"species_length\"] = df[\"species\"].apply(len)"
      ]
    },
    {
      "cell_type": "code",
      "execution_count": 9,
      "id": "eb2d7626",
      "metadata": {
        "colab": {
          "base_uri": "https://localhost:8080/"
        },
        "id": "eb2d7626",
        "outputId": "6a95160d-c894-44e0-db2e-f49969b5f861"
      },
      "outputs": [
        {
          "output_type": "execute_result",
          "data": {
            "text/plain": [
              "3"
            ]
          },
          "metadata": {},
          "execution_count": 9
        }
      ],
      "source": [
        "df.species.nunique()"
      ]
    },
    {
      "cell_type": "code",
      "execution_count": 10,
      "id": "a4f483c0",
      "metadata": {
        "colab": {
          "base_uri": "https://localhost:8080/"
        },
        "id": "a4f483c0",
        "outputId": "b31054d4-76e3-4157-eaa4-47d61849b5a1"
      },
      "outputs": [
        {
          "output_type": "execute_result",
          "data": {
            "text/plain": [
              "array(['Adelie', 'Chinstrap', 'Gentoo'], dtype=object)"
            ]
          },
          "metadata": {},
          "execution_count": 10
        }
      ],
      "source": [
        "df.species.unique()"
      ]
    },
    {
      "cell_type": "code",
      "execution_count": 11,
      "id": "26175a9e",
      "metadata": {
        "colab": {
          "base_uri": "https://localhost:8080/",
          "height": 143
        },
        "id": "26175a9e",
        "outputId": "4982c895-cd72-41d2-a954-9b773c89536d"
      },
      "outputs": [
        {
          "output_type": "execute_result",
          "data": {
            "text/html": [
              "\n",
              "  <div id=\"df-8e5b439e-369c-4ca8-8245-8db7f548f808\">\n",
              "    <div class=\"colab-df-container\">\n",
              "      <div>\n",
              "<style scoped>\n",
              "    .dataframe tbody tr th:only-of-type {\n",
              "        vertical-align: middle;\n",
              "    }\n",
              "\n",
              "    .dataframe tbody tr th {\n",
              "        vertical-align: top;\n",
              "    }\n",
              "\n",
              "    .dataframe thead th {\n",
              "        text-align: right;\n",
              "    }\n",
              "</style>\n",
              "<table border=\"1\" class=\"dataframe\">\n",
              "  <thead>\n",
              "    <tr style=\"text-align: right;\">\n",
              "      <th></th>\n",
              "      <th>species</th>\n",
              "      <th>species_length</th>\n",
              "    </tr>\n",
              "  </thead>\n",
              "  <tbody>\n",
              "    <tr>\n",
              "      <th>0</th>\n",
              "      <td>Adelie</td>\n",
              "      <td>6</td>\n",
              "    </tr>\n",
              "    <tr>\n",
              "      <th>170</th>\n",
              "      <td>Chinstrap</td>\n",
              "      <td>9</td>\n",
              "    </tr>\n",
              "    <tr>\n",
              "      <th>340</th>\n",
              "      <td>Gentoo</td>\n",
              "      <td>6</td>\n",
              "    </tr>\n",
              "  </tbody>\n",
              "</table>\n",
              "</div>\n",
              "      <button class=\"colab-df-convert\" onclick=\"convertToInteractive('df-8e5b439e-369c-4ca8-8245-8db7f548f808')\"\n",
              "              title=\"Convert this dataframe to an interactive table.\"\n",
              "              style=\"display:none;\">\n",
              "        \n",
              "  <svg xmlns=\"http://www.w3.org/2000/svg\" height=\"24px\"viewBox=\"0 0 24 24\"\n",
              "       width=\"24px\">\n",
              "    <path d=\"M0 0h24v24H0V0z\" fill=\"none\"/>\n",
              "    <path d=\"M18.56 5.44l.94 2.06.94-2.06 2.06-.94-2.06-.94-.94-2.06-.94 2.06-2.06.94zm-11 1L8.5 8.5l.94-2.06 2.06-.94-2.06-.94L8.5 2.5l-.94 2.06-2.06.94zm10 10l.94 2.06.94-2.06 2.06-.94-2.06-.94-.94-2.06-.94 2.06-2.06.94z\"/><path d=\"M17.41 7.96l-1.37-1.37c-.4-.4-.92-.59-1.43-.59-.52 0-1.04.2-1.43.59L10.3 9.45l-7.72 7.72c-.78.78-.78 2.05 0 2.83L4 21.41c.39.39.9.59 1.41.59.51 0 1.02-.2 1.41-.59l7.78-7.78 2.81-2.81c.8-.78.8-2.07 0-2.86zM5.41 20L4 18.59l7.72-7.72 1.47 1.35L5.41 20z\"/>\n",
              "  </svg>\n",
              "      </button>\n",
              "      \n",
              "  <style>\n",
              "    .colab-df-container {\n",
              "      display:flex;\n",
              "      flex-wrap:wrap;\n",
              "      gap: 12px;\n",
              "    }\n",
              "\n",
              "    .colab-df-convert {\n",
              "      background-color: #E8F0FE;\n",
              "      border: none;\n",
              "      border-radius: 50%;\n",
              "      cursor: pointer;\n",
              "      display: none;\n",
              "      fill: #1967D2;\n",
              "      height: 32px;\n",
              "      padding: 0 0 0 0;\n",
              "      width: 32px;\n",
              "    }\n",
              "\n",
              "    .colab-df-convert:hover {\n",
              "      background-color: #E2EBFA;\n",
              "      box-shadow: 0px 1px 2px rgba(60, 64, 67, 0.3), 0px 1px 3px 1px rgba(60, 64, 67, 0.15);\n",
              "      fill: #174EA6;\n",
              "    }\n",
              "\n",
              "    [theme=dark] .colab-df-convert {\n",
              "      background-color: #3B4455;\n",
              "      fill: #D2E3FC;\n",
              "    }\n",
              "\n",
              "    [theme=dark] .colab-df-convert:hover {\n",
              "      background-color: #434B5C;\n",
              "      box-shadow: 0px 1px 3px 1px rgba(0, 0, 0, 0.15);\n",
              "      filter: drop-shadow(0px 1px 2px rgba(0, 0, 0, 0.3));\n",
              "      fill: #FFFFFF;\n",
              "    }\n",
              "  </style>\n",
              "\n",
              "      <script>\n",
              "        const buttonEl =\n",
              "          document.querySelector('#df-8e5b439e-369c-4ca8-8245-8db7f548f808 button.colab-df-convert');\n",
              "        buttonEl.style.display =\n",
              "          google.colab.kernel.accessAllowed ? 'block' : 'none';\n",
              "\n",
              "        async function convertToInteractive(key) {\n",
              "          const element = document.querySelector('#df-8e5b439e-369c-4ca8-8245-8db7f548f808');\n",
              "          const dataTable =\n",
              "            await google.colab.kernel.invokeFunction('convertToInteractive',\n",
              "                                                     [key], {});\n",
              "          if (!dataTable) return;\n",
              "\n",
              "          const docLinkHtml = 'Like what you see? Visit the ' +\n",
              "            '<a target=\"_blank\" href=https://colab.research.google.com/notebooks/data_table.ipynb>data table notebook</a>'\n",
              "            + ' to learn more about interactive tables.';\n",
              "          element.innerHTML = '';\n",
              "          dataTable['output_type'] = 'display_data';\n",
              "          await google.colab.output.renderOutput(dataTable, element);\n",
              "          const docLink = document.createElement('div');\n",
              "          docLink.innerHTML = docLinkHtml;\n",
              "          element.appendChild(docLink);\n",
              "        }\n",
              "      </script>\n",
              "    </div>\n",
              "  </div>\n",
              "  "
            ],
            "text/plain": [
              "       species  species_length\n",
              "0       Adelie               6\n",
              "170  Chinstrap               9\n",
              "340     Gentoo               6"
            ]
          },
          "metadata": {},
          "execution_count": 11
        }
      ],
      "source": [
        "df.loc[::170, [\"species\",\"species_length\"]]"
      ]
    },
    {
      "cell_type": "code",
      "execution_count": 12,
      "id": "7716fe1d",
      "metadata": {
        "id": "7716fe1d"
      },
      "outputs": [],
      "source": [
        "df[\"bill_depth_mm_ceil\"] = df.bill_depth_mm.apply(np.ceil)"
      ]
    },
    {
      "cell_type": "code",
      "execution_count": 13,
      "id": "39bec851",
      "metadata": {
        "colab": {
          "base_uri": "https://localhost:8080/",
          "height": 206
        },
        "id": "39bec851",
        "outputId": "639e3aed-cc49-47c0-c8ca-d495b034a3bf"
      },
      "outputs": [
        {
          "output_type": "execute_result",
          "data": {
            "text/html": [
              "\n",
              "  <div id=\"df-91332579-09ac-4bae-892a-310b4b4e129f\">\n",
              "    <div class=\"colab-df-container\">\n",
              "      <div>\n",
              "<style scoped>\n",
              "    .dataframe tbody tr th:only-of-type {\n",
              "        vertical-align: middle;\n",
              "    }\n",
              "\n",
              "    .dataframe tbody tr th {\n",
              "        vertical-align: top;\n",
              "    }\n",
              "\n",
              "    .dataframe thead th {\n",
              "        text-align: right;\n",
              "    }\n",
              "</style>\n",
              "<table border=\"1\" class=\"dataframe\">\n",
              "  <thead>\n",
              "    <tr style=\"text-align: right;\">\n",
              "      <th></th>\n",
              "      <th>bill_depth_mm_ceil</th>\n",
              "      <th>bill_depth_mm</th>\n",
              "    </tr>\n",
              "  </thead>\n",
              "  <tbody>\n",
              "    <tr>\n",
              "      <th>0</th>\n",
              "      <td>19.0</td>\n",
              "      <td>18.7</td>\n",
              "    </tr>\n",
              "    <tr>\n",
              "      <th>1</th>\n",
              "      <td>18.0</td>\n",
              "      <td>17.4</td>\n",
              "    </tr>\n",
              "    <tr>\n",
              "      <th>2</th>\n",
              "      <td>18.0</td>\n",
              "      <td>18.0</td>\n",
              "    </tr>\n",
              "    <tr>\n",
              "      <th>3</th>\n",
              "      <td>NaN</td>\n",
              "      <td>NaN</td>\n",
              "    </tr>\n",
              "    <tr>\n",
              "      <th>4</th>\n",
              "      <td>20.0</td>\n",
              "      <td>19.3</td>\n",
              "    </tr>\n",
              "  </tbody>\n",
              "</table>\n",
              "</div>\n",
              "      <button class=\"colab-df-convert\" onclick=\"convertToInteractive('df-91332579-09ac-4bae-892a-310b4b4e129f')\"\n",
              "              title=\"Convert this dataframe to an interactive table.\"\n",
              "              style=\"display:none;\">\n",
              "        \n",
              "  <svg xmlns=\"http://www.w3.org/2000/svg\" height=\"24px\"viewBox=\"0 0 24 24\"\n",
              "       width=\"24px\">\n",
              "    <path d=\"M0 0h24v24H0V0z\" fill=\"none\"/>\n",
              "    <path d=\"M18.56 5.44l.94 2.06.94-2.06 2.06-.94-2.06-.94-.94-2.06-.94 2.06-2.06.94zm-11 1L8.5 8.5l.94-2.06 2.06-.94-2.06-.94L8.5 2.5l-.94 2.06-2.06.94zm10 10l.94 2.06.94-2.06 2.06-.94-2.06-.94-.94-2.06-.94 2.06-2.06.94z\"/><path d=\"M17.41 7.96l-1.37-1.37c-.4-.4-.92-.59-1.43-.59-.52 0-1.04.2-1.43.59L10.3 9.45l-7.72 7.72c-.78.78-.78 2.05 0 2.83L4 21.41c.39.39.9.59 1.41.59.51 0 1.02-.2 1.41-.59l7.78-7.78 2.81-2.81c.8-.78.8-2.07 0-2.86zM5.41 20L4 18.59l7.72-7.72 1.47 1.35L5.41 20z\"/>\n",
              "  </svg>\n",
              "      </button>\n",
              "      \n",
              "  <style>\n",
              "    .colab-df-container {\n",
              "      display:flex;\n",
              "      flex-wrap:wrap;\n",
              "      gap: 12px;\n",
              "    }\n",
              "\n",
              "    .colab-df-convert {\n",
              "      background-color: #E8F0FE;\n",
              "      border: none;\n",
              "      border-radius: 50%;\n",
              "      cursor: pointer;\n",
              "      display: none;\n",
              "      fill: #1967D2;\n",
              "      height: 32px;\n",
              "      padding: 0 0 0 0;\n",
              "      width: 32px;\n",
              "    }\n",
              "\n",
              "    .colab-df-convert:hover {\n",
              "      background-color: #E2EBFA;\n",
              "      box-shadow: 0px 1px 2px rgba(60, 64, 67, 0.3), 0px 1px 3px 1px rgba(60, 64, 67, 0.15);\n",
              "      fill: #174EA6;\n",
              "    }\n",
              "\n",
              "    [theme=dark] .colab-df-convert {\n",
              "      background-color: #3B4455;\n",
              "      fill: #D2E3FC;\n",
              "    }\n",
              "\n",
              "    [theme=dark] .colab-df-convert:hover {\n",
              "      background-color: #434B5C;\n",
              "      box-shadow: 0px 1px 3px 1px rgba(0, 0, 0, 0.15);\n",
              "      filter: drop-shadow(0px 1px 2px rgba(0, 0, 0, 0.3));\n",
              "      fill: #FFFFFF;\n",
              "    }\n",
              "  </style>\n",
              "\n",
              "      <script>\n",
              "        const buttonEl =\n",
              "          document.querySelector('#df-91332579-09ac-4bae-892a-310b4b4e129f button.colab-df-convert');\n",
              "        buttonEl.style.display =\n",
              "          google.colab.kernel.accessAllowed ? 'block' : 'none';\n",
              "\n",
              "        async function convertToInteractive(key) {\n",
              "          const element = document.querySelector('#df-91332579-09ac-4bae-892a-310b4b4e129f');\n",
              "          const dataTable =\n",
              "            await google.colab.kernel.invokeFunction('convertToInteractive',\n",
              "                                                     [key], {});\n",
              "          if (!dataTable) return;\n",
              "\n",
              "          const docLinkHtml = 'Like what you see? Visit the ' +\n",
              "            '<a target=\"_blank\" href=https://colab.research.google.com/notebooks/data_table.ipynb>data table notebook</a>'\n",
              "            + ' to learn more about interactive tables.';\n",
              "          element.innerHTML = '';\n",
              "          dataTable['output_type'] = 'display_data';\n",
              "          await google.colab.output.renderOutput(dataTable, element);\n",
              "          const docLink = document.createElement('div');\n",
              "          docLink.innerHTML = docLinkHtml;\n",
              "          element.appendChild(docLink);\n",
              "        }\n",
              "      </script>\n",
              "    </div>\n",
              "  </div>\n",
              "  "
            ],
            "text/plain": [
              "   bill_depth_mm_ceil  bill_depth_mm\n",
              "0                19.0           18.7\n",
              "1                18.0           17.4\n",
              "2                18.0           18.0\n",
              "3                 NaN            NaN\n",
              "4                20.0           19.3"
            ]
          },
          "metadata": {},
          "execution_count": 13
        }
      ],
      "source": [
        "df.loc[:4, [\"bill_depth_mm_ceil\", \"bill_depth_mm\"]]"
      ]
    },
    {
      "cell_type": "code",
      "execution_count": 14,
      "id": "413a02fd",
      "metadata": {
        "id": "413a02fd"
      },
      "outputs": [],
      "source": [
        "# df[\"bill_depth_mm_round\"] = df.bill_depth_mm.apply(round)"
      ]
    },
    {
      "cell_type": "markdown",
      "id": "0f0c64f3",
      "metadata": {
        "id": "0f0c64f3"
      },
      "source": [
        "# apply komutuna fonksiyon göndermek"
      ]
    },
    {
      "cell_type": "code",
      "execution_count": 18,
      "id": "b9951a68",
      "metadata": {
        "colab": {
          "base_uri": "https://localhost:8080/",
          "height": 380
        },
        "id": "b9951a68",
        "outputId": "13698ed9-7edb-4e9b-f93b-a6a2c38489bd"
      },
      "outputs": [
        {
          "output_type": "error",
          "ename": "FileNotFoundError",
          "evalue": "ignored",
          "traceback": [
            "\u001b[0;31m---------------------------------------------------------------------------\u001b[0m",
            "\u001b[0;31mFileNotFoundError\u001b[0m                         Traceback (most recent call last)",
            "\u001b[0;32m<ipython-input-18-01514ee131c1>\u001b[0m in \u001b[0;36m<module>\u001b[0;34m()\u001b[0m\n\u001b[0;32m----> 1\u001b[0;31m \u001b[0mhotels\u001b[0m \u001b[0;34m=\u001b[0m \u001b[0mpd\u001b[0m\u001b[0;34m.\u001b[0m\u001b[0mread_csv\u001b[0m\u001b[0;34m(\u001b[0m\u001b[0;34m\"hotel_booking_data.csv\"\u001b[0m\u001b[0;34m)\u001b[0m\u001b[0;34m\u001b[0m\u001b[0;34m\u001b[0m\u001b[0m\n\u001b[0m",
            "\u001b[0;32m/usr/local/lib/python3.7/dist-packages/pandas/io/parsers.py\u001b[0m in \u001b[0;36mread_csv\u001b[0;34m(filepath_or_buffer, sep, delimiter, header, names, index_col, usecols, squeeze, prefix, mangle_dupe_cols, dtype, engine, converters, true_values, false_values, skipinitialspace, skiprows, skipfooter, nrows, na_values, keep_default_na, na_filter, verbose, skip_blank_lines, parse_dates, infer_datetime_format, keep_date_col, date_parser, dayfirst, cache_dates, iterator, chunksize, compression, thousands, decimal, lineterminator, quotechar, quoting, doublequote, escapechar, comment, encoding, dialect, error_bad_lines, warn_bad_lines, delim_whitespace, low_memory, memory_map, float_precision)\u001b[0m\n\u001b[1;32m    686\u001b[0m     )\n\u001b[1;32m    687\u001b[0m \u001b[0;34m\u001b[0m\u001b[0m\n\u001b[0;32m--> 688\u001b[0;31m     \u001b[0;32mreturn\u001b[0m \u001b[0m_read\u001b[0m\u001b[0;34m(\u001b[0m\u001b[0mfilepath_or_buffer\u001b[0m\u001b[0;34m,\u001b[0m \u001b[0mkwds\u001b[0m\u001b[0;34m)\u001b[0m\u001b[0;34m\u001b[0m\u001b[0;34m\u001b[0m\u001b[0m\n\u001b[0m\u001b[1;32m    689\u001b[0m \u001b[0;34m\u001b[0m\u001b[0m\n\u001b[1;32m    690\u001b[0m \u001b[0;34m\u001b[0m\u001b[0m\n",
            "\u001b[0;32m/usr/local/lib/python3.7/dist-packages/pandas/io/parsers.py\u001b[0m in \u001b[0;36m_read\u001b[0;34m(filepath_or_buffer, kwds)\u001b[0m\n\u001b[1;32m    452\u001b[0m \u001b[0;34m\u001b[0m\u001b[0m\n\u001b[1;32m    453\u001b[0m     \u001b[0;31m# Create the parser.\u001b[0m\u001b[0;34m\u001b[0m\u001b[0;34m\u001b[0m\u001b[0;34m\u001b[0m\u001b[0m\n\u001b[0;32m--> 454\u001b[0;31m     \u001b[0mparser\u001b[0m \u001b[0;34m=\u001b[0m \u001b[0mTextFileReader\u001b[0m\u001b[0;34m(\u001b[0m\u001b[0mfp_or_buf\u001b[0m\u001b[0;34m,\u001b[0m \u001b[0;34m**\u001b[0m\u001b[0mkwds\u001b[0m\u001b[0;34m)\u001b[0m\u001b[0;34m\u001b[0m\u001b[0;34m\u001b[0m\u001b[0m\n\u001b[0m\u001b[1;32m    455\u001b[0m \u001b[0;34m\u001b[0m\u001b[0m\n\u001b[1;32m    456\u001b[0m     \u001b[0;32mif\u001b[0m \u001b[0mchunksize\u001b[0m \u001b[0;32mor\u001b[0m \u001b[0miterator\u001b[0m\u001b[0;34m:\u001b[0m\u001b[0;34m\u001b[0m\u001b[0;34m\u001b[0m\u001b[0m\n",
            "\u001b[0;32m/usr/local/lib/python3.7/dist-packages/pandas/io/parsers.py\u001b[0m in \u001b[0;36m__init__\u001b[0;34m(self, f, engine, **kwds)\u001b[0m\n\u001b[1;32m    946\u001b[0m             \u001b[0mself\u001b[0m\u001b[0;34m.\u001b[0m\u001b[0moptions\u001b[0m\u001b[0;34m[\u001b[0m\u001b[0;34m\"has_index_names\"\u001b[0m\u001b[0;34m]\u001b[0m \u001b[0;34m=\u001b[0m \u001b[0mkwds\u001b[0m\u001b[0;34m[\u001b[0m\u001b[0;34m\"has_index_names\"\u001b[0m\u001b[0;34m]\u001b[0m\u001b[0;34m\u001b[0m\u001b[0;34m\u001b[0m\u001b[0m\n\u001b[1;32m    947\u001b[0m \u001b[0;34m\u001b[0m\u001b[0m\n\u001b[0;32m--> 948\u001b[0;31m         \u001b[0mself\u001b[0m\u001b[0;34m.\u001b[0m\u001b[0m_make_engine\u001b[0m\u001b[0;34m(\u001b[0m\u001b[0mself\u001b[0m\u001b[0;34m.\u001b[0m\u001b[0mengine\u001b[0m\u001b[0;34m)\u001b[0m\u001b[0;34m\u001b[0m\u001b[0;34m\u001b[0m\u001b[0m\n\u001b[0m\u001b[1;32m    949\u001b[0m \u001b[0;34m\u001b[0m\u001b[0m\n\u001b[1;32m    950\u001b[0m     \u001b[0;32mdef\u001b[0m \u001b[0mclose\u001b[0m\u001b[0;34m(\u001b[0m\u001b[0mself\u001b[0m\u001b[0;34m)\u001b[0m\u001b[0;34m:\u001b[0m\u001b[0;34m\u001b[0m\u001b[0;34m\u001b[0m\u001b[0m\n",
            "\u001b[0;32m/usr/local/lib/python3.7/dist-packages/pandas/io/parsers.py\u001b[0m in \u001b[0;36m_make_engine\u001b[0;34m(self, engine)\u001b[0m\n\u001b[1;32m   1178\u001b[0m     \u001b[0;32mdef\u001b[0m \u001b[0m_make_engine\u001b[0m\u001b[0;34m(\u001b[0m\u001b[0mself\u001b[0m\u001b[0;34m,\u001b[0m \u001b[0mengine\u001b[0m\u001b[0;34m=\u001b[0m\u001b[0;34m\"c\"\u001b[0m\u001b[0;34m)\u001b[0m\u001b[0;34m:\u001b[0m\u001b[0;34m\u001b[0m\u001b[0;34m\u001b[0m\u001b[0m\n\u001b[1;32m   1179\u001b[0m         \u001b[0;32mif\u001b[0m \u001b[0mengine\u001b[0m \u001b[0;34m==\u001b[0m \u001b[0;34m\"c\"\u001b[0m\u001b[0;34m:\u001b[0m\u001b[0;34m\u001b[0m\u001b[0;34m\u001b[0m\u001b[0m\n\u001b[0;32m-> 1180\u001b[0;31m             \u001b[0mself\u001b[0m\u001b[0;34m.\u001b[0m\u001b[0m_engine\u001b[0m \u001b[0;34m=\u001b[0m \u001b[0mCParserWrapper\u001b[0m\u001b[0;34m(\u001b[0m\u001b[0mself\u001b[0m\u001b[0;34m.\u001b[0m\u001b[0mf\u001b[0m\u001b[0;34m,\u001b[0m \u001b[0;34m**\u001b[0m\u001b[0mself\u001b[0m\u001b[0;34m.\u001b[0m\u001b[0moptions\u001b[0m\u001b[0;34m)\u001b[0m\u001b[0;34m\u001b[0m\u001b[0;34m\u001b[0m\u001b[0m\n\u001b[0m\u001b[1;32m   1181\u001b[0m         \u001b[0;32melse\u001b[0m\u001b[0;34m:\u001b[0m\u001b[0;34m\u001b[0m\u001b[0;34m\u001b[0m\u001b[0m\n\u001b[1;32m   1182\u001b[0m             \u001b[0;32mif\u001b[0m \u001b[0mengine\u001b[0m \u001b[0;34m==\u001b[0m \u001b[0;34m\"python\"\u001b[0m\u001b[0;34m:\u001b[0m\u001b[0;34m\u001b[0m\u001b[0;34m\u001b[0m\u001b[0m\n",
            "\u001b[0;32m/usr/local/lib/python3.7/dist-packages/pandas/io/parsers.py\u001b[0m in \u001b[0;36m__init__\u001b[0;34m(self, src, **kwds)\u001b[0m\n\u001b[1;32m   2008\u001b[0m         \u001b[0mkwds\u001b[0m\u001b[0;34m[\u001b[0m\u001b[0;34m\"usecols\"\u001b[0m\u001b[0;34m]\u001b[0m \u001b[0;34m=\u001b[0m \u001b[0mself\u001b[0m\u001b[0;34m.\u001b[0m\u001b[0musecols\u001b[0m\u001b[0;34m\u001b[0m\u001b[0;34m\u001b[0m\u001b[0m\n\u001b[1;32m   2009\u001b[0m \u001b[0;34m\u001b[0m\u001b[0m\n\u001b[0;32m-> 2010\u001b[0;31m         \u001b[0mself\u001b[0m\u001b[0;34m.\u001b[0m\u001b[0m_reader\u001b[0m \u001b[0;34m=\u001b[0m \u001b[0mparsers\u001b[0m\u001b[0;34m.\u001b[0m\u001b[0mTextReader\u001b[0m\u001b[0;34m(\u001b[0m\u001b[0msrc\u001b[0m\u001b[0;34m,\u001b[0m \u001b[0;34m**\u001b[0m\u001b[0mkwds\u001b[0m\u001b[0;34m)\u001b[0m\u001b[0;34m\u001b[0m\u001b[0;34m\u001b[0m\u001b[0m\n\u001b[0m\u001b[1;32m   2011\u001b[0m         \u001b[0mself\u001b[0m\u001b[0;34m.\u001b[0m\u001b[0munnamed_cols\u001b[0m \u001b[0;34m=\u001b[0m \u001b[0mself\u001b[0m\u001b[0;34m.\u001b[0m\u001b[0m_reader\u001b[0m\u001b[0;34m.\u001b[0m\u001b[0munnamed_cols\u001b[0m\u001b[0;34m\u001b[0m\u001b[0;34m\u001b[0m\u001b[0m\n\u001b[1;32m   2012\u001b[0m \u001b[0;34m\u001b[0m\u001b[0m\n",
            "\u001b[0;32mpandas/_libs/parsers.pyx\u001b[0m in \u001b[0;36mpandas._libs.parsers.TextReader.__cinit__\u001b[0;34m()\u001b[0m\n",
            "\u001b[0;32mpandas/_libs/parsers.pyx\u001b[0m in \u001b[0;36mpandas._libs.parsers.TextReader._setup_parser_source\u001b[0;34m()\u001b[0m\n",
            "\u001b[0;31mFileNotFoundError\u001b[0m: [Errno 2] No such file or directory: 'hotel_booking_data.csv'"
          ]
        }
      ],
      "source": [
        "hotels = pd.read_csv(\"hotel_booking_data.csv\")"
      ]
    },
    {
      "cell_type": "code",
      "execution_count": 15,
      "id": "63618e7c",
      "metadata": {
        "colab": {
          "base_uri": "https://localhost:8080/",
          "height": 165
        },
        "id": "63618e7c",
        "outputId": "cc4c0cd9-e406-4319-dfe1-619d8ee7bc1a"
      },
      "outputs": [
        {
          "output_type": "error",
          "ename": "NameError",
          "evalue": "ignored",
          "traceback": [
            "\u001b[0;31m---------------------------------------------------------------------------\u001b[0m",
            "\u001b[0;31mNameError\u001b[0m                                 Traceback (most recent call last)",
            "\u001b[0;32m<ipython-input-15-91b8c7d23099>\u001b[0m in \u001b[0;36m<module>\u001b[0;34m()\u001b[0m\n\u001b[0;32m----> 1\u001b[0;31m \u001b[0mhotels\u001b[0m\u001b[0;34m.\u001b[0m\u001b[0mname\u001b[0m\u001b[0;34m\u001b[0m\u001b[0;34m\u001b[0m\u001b[0m\n\u001b[0m",
            "\u001b[0;31mNameError\u001b[0m: name 'hotels' is not defined"
          ]
        }
      ],
      "source": [
        "hotels.name"
      ]
    },
    {
      "cell_type": "code",
      "execution_count": 19,
      "id": "1155c0b2",
      "metadata": {
        "colab": {
          "base_uri": "https://localhost:8080/",
          "height": 165
        },
        "id": "1155c0b2",
        "outputId": "60b30126-f5bf-45e3-952a-850b5f7f001c"
      },
      "outputs": [
        {
          "output_type": "error",
          "ename": "NameError",
          "evalue": "ignored",
          "traceback": [
            "\u001b[0;31m---------------------------------------------------------------------------\u001b[0m",
            "\u001b[0;31mNameError\u001b[0m                                 Traceback (most recent call last)",
            "\u001b[0;32m<ipython-input-19-04ef4db9d5e5>\u001b[0m in \u001b[0;36m<module>\u001b[0;34m()\u001b[0m\n\u001b[0;32m----> 1\u001b[0;31m \u001b[0mhotels\u001b[0m\u001b[0;34m.\u001b[0m\u001b[0mname\u001b[0m\u001b[0;34m.\u001b[0m\u001b[0mstr\u001b[0m\u001b[0;34m.\u001b[0m\u001b[0msplit\u001b[0m\u001b[0;34m(\u001b[0m\u001b[0;34m\" \"\u001b[0m\u001b[0;34m)\u001b[0m\u001b[0;34m.\u001b[0m\u001b[0mhead\u001b[0m\u001b[0;34m(\u001b[0m\u001b[0;34m)\u001b[0m\u001b[0;34m\u001b[0m\u001b[0;34m\u001b[0m\u001b[0m\n\u001b[0m",
            "\u001b[0;31mNameError\u001b[0m: name 'hotels' is not defined"
          ]
        }
      ],
      "source": [
        "hotels.name.str.split(\" \").head()"
      ]
    },
    {
      "cell_type": "code",
      "execution_count": null,
      "id": "b1cfdec1",
      "metadata": {
        "id": "b1cfdec1"
      },
      "outputs": [],
      "source": [
        "def get_surnames(lst, position):\n",
        "    return lst[position]"
      ]
    },
    {
      "cell_type": "code",
      "execution_count": null,
      "id": "31f99b35",
      "metadata": {
        "id": "31f99b35"
      },
      "outputs": [],
      "source": [
        "hotels.name.str.split(\" \").apply(get_surnames, position = -1)"
      ]
    },
    {
      "cell_type": "markdown",
      "id": "3ad40eb4",
      "metadata": {
        "id": "3ad40eb4"
      },
      "source": [
        "# apply komutuna lambda gönderme"
      ]
    },
    {
      "cell_type": "code",
      "execution_count": 20,
      "id": "3776f81e",
      "metadata": {
        "colab": {
          "base_uri": "https://localhost:8080/",
          "height": 165
        },
        "id": "3776f81e",
        "outputId": "fa1a3491-090a-4de6-b948-44cb90d5f218"
      },
      "outputs": [
        {
          "output_type": "error",
          "ename": "NameError",
          "evalue": "ignored",
          "traceback": [
            "\u001b[0;31m---------------------------------------------------------------------------\u001b[0m",
            "\u001b[0;31mNameError\u001b[0m                                 Traceback (most recent call last)",
            "\u001b[0;32m<ipython-input-20-feb7b65a58df>\u001b[0m in \u001b[0;36m<module>\u001b[0;34m()\u001b[0m\n\u001b[0;32m----> 1\u001b[0;31m \u001b[0mhotels\u001b[0m\u001b[0;34m.\u001b[0m\u001b[0mname\u001b[0m\u001b[0;34m.\u001b[0m\u001b[0mstr\u001b[0m\u001b[0;34m.\u001b[0m\u001b[0msplit\u001b[0m\u001b[0;34m(\u001b[0m\u001b[0;34m\" \"\u001b[0m\u001b[0;34m)\u001b[0m\u001b[0;34m.\u001b[0m\u001b[0mapply\u001b[0m\u001b[0;34m(\u001b[0m\u001b[0;32mlambda\u001b[0m \u001b[0mx\u001b[0m \u001b[0;34m:\u001b[0m \u001b[0mx\u001b[0m\u001b[0;34m[\u001b[0m\u001b[0;34m-\u001b[0m\u001b[0;36m1\u001b[0m\u001b[0;34m]\u001b[0m\u001b[0;34m)\u001b[0m\u001b[0;34m\u001b[0m\u001b[0;34m\u001b[0m\u001b[0m\n\u001b[0m",
            "\u001b[0;31mNameError\u001b[0m: name 'hotels' is not defined"
          ]
        }
      ],
      "source": [
        "hotels.name.str.split(\" \").apply(lambda x : x[-1])"
      ]
    },
    {
      "cell_type": "markdown",
      "id": "be47fecf",
      "metadata": {
        "id": "be47fecf"
      },
      "source": [
        "# apply komutunda axis kullanımı"
      ]
    },
    {
      "cell_type": "code",
      "execution_count": null,
      "id": "ad1170da",
      "metadata": {
        "id": "ad1170da"
      },
      "outputs": [],
      "source": [
        "df1 = sns.load_dataset(\"penguins\")\n",
        "df1.head(1)"
      ]
    },
    {
      "cell_type": "code",
      "execution_count": null,
      "id": "3b223d08",
      "metadata": {
        "id": "3b223d08"
      },
      "outputs": [],
      "source": [
        "df1.loc[:,\"bill_length_mm\" : \"flipper_length_mm\" ].head(3)"
      ]
    },
    {
      "cell_type": "code",
      "execution_count": null,
      "id": "82ce1dd4",
      "metadata": {
        "id": "82ce1dd4"
      },
      "outputs": [],
      "source": [
        "df1.loc[:,\"bill_length_mm\" : \"flipper_length_mm\" ].apply(max, axis=0)"
      ]
    },
    {
      "cell_type": "code",
      "execution_count": null,
      "id": "4d1740a7",
      "metadata": {
        "id": "4d1740a7"
      },
      "outputs": [],
      "source": [
        "df1.loc[:,\"bill_length_mm\" : \"flipper_length_mm\" ].apply(max, axis=1).head(3)"
      ]
    },
    {
      "cell_type": "code",
      "execution_count": null,
      "id": "0025a520",
      "metadata": {
        "id": "0025a520"
      },
      "outputs": [],
      "source": [
        "df1.loc[:,\"bill_length_mm\" : \"flipper_length_mm\" ].apply(np.argmax, axis=1)"
      ]
    },
    {
      "cell_type": "code",
      "execution_count": null,
      "id": "76d85950",
      "metadata": {
        "id": "76d85950"
      },
      "outputs": [],
      "source": [
        "df1.loc[:,\"bill_length_mm\" : \"flipper_length_mm\" ]  #NaN'lara dikkat"
      ]
    },
    {
      "cell_type": "markdown",
      "id": "9d21f288",
      "metadata": {
        "id": "9d21f288"
      },
      "source": [
        "# applymap()\n",
        "Dataframe'deki her elemana fonksiyonu birer birer tatbik eder."
      ]
    },
    {
      "cell_type": "code",
      "execution_count": null,
      "id": "1df5e0f9",
      "metadata": {
        "id": "1df5e0f9"
      },
      "outputs": [],
      "source": [
        "df1.loc[:,\"bill_length_mm\" : \"flipper_length_mm\" ].info()"
      ]
    },
    {
      "cell_type": "code",
      "execution_count": null,
      "id": "a71477b8",
      "metadata": {
        "id": "a71477b8"
      },
      "outputs": [],
      "source": [
        "df1.loc[:,\"bill_length_mm\" : \"flipper_length_mm\" ].applymap(str).info()"
      ]
    },
    {
      "cell_type": "markdown",
      "id": "7b8b14b6",
      "metadata": {
        "id": "7b8b14b6"
      },
      "source": [
        "# Handling Missing Values in Pandas Dataframe"
      ]
    },
    {
      "cell_type": "markdown",
      "id": "3accce15",
      "metadata": {
        "id": "3accce15"
      },
      "source": [
        "![image.png](attachment:image.png)"
      ]
    },
    {
      "cell_type": "code",
      "execution_count": null,
      "id": "71213409",
      "metadata": {
        "id": "71213409"
      },
      "outputs": [],
      "source": [
        "df1.isnull()"
      ]
    },
    {
      "cell_type": "code",
      "execution_count": null,
      "id": "0c522174",
      "metadata": {
        "id": "0c522174"
      },
      "outputs": [],
      "source": [
        "df1.isnull().sum()"
      ]
    },
    {
      "cell_type": "code",
      "execution_count": null,
      "id": "159ae3de",
      "metadata": {
        "id": "159ae3de"
      },
      "outputs": [],
      "source": [
        "df1.isnull().sum().sum()"
      ]
    },
    {
      "cell_type": "markdown",
      "id": "0f48b055",
      "metadata": {
        "id": "0f48b055"
      },
      "source": [
        "# filling Null values"
      ]
    },
    {
      "cell_type": "code",
      "execution_count": null,
      "id": "22c68eff",
      "metadata": {
        "id": "22c68eff"
      },
      "outputs": [],
      "source": [
        "df2= df1.fillna(value=0)\n",
        "df2"
      ]
    },
    {
      "cell_type": "code",
      "execution_count": null,
      "id": "86c0d39a",
      "metadata": {
        "id": "86c0d39a"
      },
      "outputs": [],
      "source": [
        "df2.isnull().sum().sum()"
      ]
    },
    {
      "cell_type": "markdown",
      "id": "f07c21c5",
      "metadata": {
        "id": "f07c21c5"
      },
      "source": [
        "## yakın değer ile doldurma"
      ]
    },
    {
      "cell_type": "markdown",
      "id": "e787ec7d",
      "metadata": {
        "id": "e787ec7d"
      },
      "source": [
        "- Yakın değer ile doldurma .fillna(method=   )\n",
        "    * 'backfill' ==> \n",
        "    * 'bfill'    ==> filling next value #(axis=1) olursa SAĞINDAKİ değer ile doldurur.\n",
        "    * 'pad'      ==> filling previous value #(axis=1) olursa SOLUNDAKİ değer ile doldurur.\n",
        "    * 'ffill'    ==> \n",
        "\n",
        "- Ayrı sütunlara değer atama:\n",
        "   fillna({\"colomn1\" : value1 , \"colomn2\" : value2})"
      ]
    },
    {
      "cell_type": "code",
      "execution_count": null,
      "id": "75a4f97b",
      "metadata": {
        "id": "75a4f97b"
      },
      "outputs": [],
      "source": [
        "df3= df1.fillna(method=\"pad\", axis=0)\n",
        "df3"
      ]
    },
    {
      "cell_type": "code",
      "execution_count": null,
      "id": "ee93e93a",
      "metadata": {
        "scrolled": true,
        "id": "ee93e93a"
      },
      "outputs": [],
      "source": [
        "df4= df1.fillna(method=\"pad\", axis=1)\n",
        "df4"
      ]
    },
    {
      "cell_type": "code",
      "execution_count": null,
      "id": "57574799",
      "metadata": {
        "id": "57574799"
      },
      "outputs": [],
      "source": [
        "df5= df1.fillna(method=\"bfill\", axis=0)\n",
        "df5.tail(6)"
      ]
    },
    {
      "cell_type": "code",
      "execution_count": null,
      "id": "f3558c18",
      "metadata": {
        "id": "f3558c18"
      },
      "outputs": [],
      "source": [
        "df6= df1.fillna(method=\"bfill\", axis=1)\n",
        "df6"
      ]
    },
    {
      "cell_type": "code",
      "execution_count": null,
      "id": "a62f941a",
      "metadata": {
        "id": "a62f941a"
      },
      "outputs": [],
      "source": [
        ""
      ]
    },
    {
      "cell_type": "markdown",
      "id": "86606eb3",
      "metadata": {
        "id": "86606eb3"
      },
      "source": [
        "## mean(), max(),min() ile doldurma\n",
        "- fillna(value=df[\"colomn\"].mean())\n",
        "- fillna(value=df[\"colomn\"].max())\n",
        "- fillna(value=df[\"colomn\"].min())"
      ]
    },
    {
      "cell_type": "code",
      "execution_count": null,
      "id": "10e7d729",
      "metadata": {
        "id": "10e7d729"
      },
      "outputs": [],
      "source": [
        "df7= df1.fillna(value=df1[\"bill_length_mm\"].mean())\n",
        "df7"
      ]
    },
    {
      "cell_type": "code",
      "execution_count": null,
      "id": "c1bbbf18",
      "metadata": {
        "id": "c1bbbf18"
      },
      "outputs": [],
      "source": [
        "df8= df1.fillna(value=df1[\"bill_length_mm\"].max())\n",
        "df8"
      ]
    },
    {
      "cell_type": "code",
      "execution_count": null,
      "id": "8300b1a2",
      "metadata": {
        "id": "8300b1a2"
      },
      "outputs": [],
      "source": [
        ""
      ]
    },
    {
      "cell_type": "markdown",
      "id": "c74dd378",
      "metadata": {
        "id": "c74dd378"
      },
      "source": [
        "# dropna()\n",
        "- dropna(how = \"all\") hepsi null olanları düşürür.\n",
        "- dropna(how = \"any\") 1 tane dahi null var ise düşürür."
      ]
    },
    {
      "cell_type": "code",
      "execution_count": null,
      "id": "c8b5c8fc",
      "metadata": {
        "id": "c8b5c8fc"
      },
      "outputs": [],
      "source": [
        "df9 = df1.dropna(how=\"all\")\n",
        "df9"
      ]
    },
    {
      "cell_type": "code",
      "execution_count": null,
      "id": "59cba9e8",
      "metadata": {
        "id": "59cba9e8"
      },
      "outputs": [],
      "source": [
        "df10 = df1.dropna(how=\"any\")\n",
        "df10"
      ]
    },
    {
      "cell_type": "markdown",
      "id": "10d2b316",
      "metadata": {
        "id": "10d2b316"
      },
      "source": [
        "## replace()\n",
        "- df.replace(to_replace=np.nan , value = xxx) # null değerleri değiştirme\n",
        "- df.replace(to_replace=yyy , value = zzz) # herhangi bir değerleri değiştirme"
      ]
    },
    {
      "cell_type": "code",
      "execution_count": null,
      "id": "3fa15b1f",
      "metadata": {
        "id": "3fa15b1f"
      },
      "outputs": [],
      "source": [
        "df11 = df1.replace(to_replace=np.nan , value = \"bu satır boş\")\n",
        "df11"
      ]
    },
    {
      "cell_type": "code",
      "execution_count": null,
      "id": "f610c9f0",
      "metadata": {
        "id": "f610c9f0"
      },
      "outputs": [],
      "source": [
        ""
      ]
    },
    {
      "cell_type": "markdown",
      "id": "541b92c9",
      "metadata": {
        "id": "541b92c9"
      },
      "source": [
        "## interpolate()\n",
        "- df.interpolate(method = \"linear\", limit_direction = [\"both\",\"forward\",\"backward\"]) "
      ]
    },
    {
      "cell_type": "code",
      "execution_count": null,
      "id": "019c424f",
      "metadata": {
        "id": "019c424f"
      },
      "outputs": [],
      "source": [
        "df12 = df1.interpolate(method = \"linear\")\n",
        "df12"
      ]
    },
    {
      "cell_type": "code",
      "execution_count": null,
      "id": "3b3e2ff7",
      "metadata": {
        "id": "3b3e2ff7"
      },
      "outputs": [],
      "source": [
        "df13 = df1\n",
        "df13.iloc[2,2] = np.nan\n",
        "df13"
      ]
    },
    {
      "cell_type": "code",
      "execution_count": null,
      "id": "ee9a7f2d",
      "metadata": {
        "id": "ee9a7f2d"
      },
      "outputs": [],
      "source": [
        "df14 = df13.interpolate(method = \"ffill\")\n",
        "df14"
      ]
    },
    {
      "cell_type": "code",
      "execution_count": null,
      "id": "d41281ea",
      "metadata": {
        "id": "d41281ea"
      },
      "outputs": [],
      "source": [
        ""
      ]
    },
    {
      "cell_type": "markdown",
      "id": "1c4f4487",
      "metadata": {
        "id": "1c4f4487"
      },
      "source": [
        "# Outliers"
      ]
    },
    {
      "cell_type": "code",
      "execution_count": null,
      "id": "ee7f0f14",
      "metadata": {
        "id": "ee7f0f14"
      },
      "outputs": [],
      "source": [
        "dfd = sns.load_dataset(\"diamonds\")\n",
        "dfd"
      ]
    },
    {
      "cell_type": "code",
      "execution_count": null,
      "id": "2240f233",
      "metadata": {
        "id": "2240f233"
      },
      "outputs": [],
      "source": [
        "xx = dfd.carat\n",
        "xx"
      ]
    },
    {
      "cell_type": "code",
      "execution_count": null,
      "id": "06407f8a",
      "metadata": {
        "scrolled": true,
        "id": "06407f8a"
      },
      "outputs": [],
      "source": [
        "xx.describe()"
      ]
    },
    {
      "cell_type": "code",
      "execution_count": null,
      "id": "a67c4e9a",
      "metadata": {
        "id": "a67c4e9a"
      },
      "outputs": [],
      "source": [
        "Q1 = xx.quantile(0.25)\n",
        "Q3 = xx.quantile(0.75)\n",
        "IQR = round((Q3 - Q1),1)\n",
        "# IQR = Q3 -Q1\n",
        "print(Q1, Q3, IQR)"
      ]
    },
    {
      "cell_type": "code",
      "execution_count": null,
      "id": "8d98b836",
      "metadata": {
        "id": "8d98b836"
      },
      "outputs": [],
      "source": [
        "lower_lim = Q1 - 1.5*IQR\n",
        "upper_lim = Q3 + 1.5*IQR\n",
        "lower_lim, upper_lim"
      ]
    },
    {
      "cell_type": "code",
      "execution_count": null,
      "id": "6bcf92e9",
      "metadata": {
        "id": "6bcf92e9"
      },
      "outputs": [],
      "source": [
        "outliers= xx[(xx<lower_lim) | (xx>upper_lim)]\n",
        "outliers"
      ]
    },
    {
      "cell_type": "code",
      "execution_count": null,
      "id": "21564b3c",
      "metadata": {
        "id": "21564b3c"
      },
      "outputs": [],
      "source": [
        "no_outliers = xx[~((xx<lower_lim) | (xx>upper_lim))]\n",
        "no_outliers"
      ]
    },
    {
      "cell_type": "code",
      "execution_count": null,
      "id": "988debe6",
      "metadata": {
        "id": "988debe6"
      },
      "outputs": [],
      "source": [
        "no_outliers2 = xx[(xx>=lower_lim) & (xx<=upper_lim)]\n",
        "no_outliers2"
      ]
    },
    {
      "cell_type": "code",
      "execution_count": null,
      "id": "dd949ea9",
      "metadata": {
        "id": "dd949ea9"
      },
      "outputs": [],
      "source": [
        ""
      ]
    },
    {
      "cell_type": "code",
      "execution_count": null,
      "id": "6e70344d",
      "metadata": {
        "id": "6e70344d"
      },
      "outputs": [],
      "source": [
        ""
      ]
    },
    {
      "cell_type": "code",
      "execution_count": null,
      "id": "8f4cfc6e",
      "metadata": {
        "id": "8f4cfc6e"
      },
      "outputs": [],
      "source": [
        ""
      ]
    },
    {
      "cell_type": "code",
      "execution_count": null,
      "id": "b55502da",
      "metadata": {
        "id": "b55502da"
      },
      "outputs": [],
      "source": [
        ""
      ]
    }
  ],
  "metadata": {
    "kernelspec": {
      "display_name": "Python 3 (ipykernel)",
      "language": "python",
      "name": "python3"
    },
    "language_info": {
      "codemirror_mode": {
        "name": "ipython",
        "version": 3
      },
      "file_extension": ".py",
      "mimetype": "text/x-python",
      "name": "python",
      "nbconvert_exporter": "python",
      "pygments_lexer": "ipython3",
      "version": "3.8.8"
    },
    "colab": {
      "name": "DAwPy_Preclass_7&8&9.ipynb",
      "provenance": [],
      "collapsed_sections": [
        "be47fecf",
        "9d21f288",
        "7b8b14b6",
        "0f48b055",
        "f07c21c5",
        "86606eb3",
        "c74dd378",
        "10d2b316",
        "541b92c9",
        "1c4f4487"
      ],
      "include_colab_link": true
    }
  },
  "nbformat": 4,
  "nbformat_minor": 5
}