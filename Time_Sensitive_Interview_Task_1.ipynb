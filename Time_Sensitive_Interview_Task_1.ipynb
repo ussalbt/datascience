{
  "cells": [
    {
      "cell_type": "markdown",
      "metadata": {
        "id": "view-in-github",
        "colab_type": "text"
      },
      "source": [
        "<a href=\"https://colab.research.google.com/github/ussalbt/datascience/blob/main/Time_Sensitive_Interview_Task_1.ipynb\" target=\"_parent\"><img src=\"https://colab.research.google.com/assets/colab-badge.svg\" alt=\"Open In Colab\"/></a>"
      ]
    },
    {
      "cell_type": "markdown",
      "id": "0adec8be",
      "metadata": {
        "id": "0adec8be"
      },
      "source": [
        "# Time-Sensitive Interview Task"
      ]
    },
    {
      "cell_type": "code",
      "execution_count": null,
      "id": "cebd16a8",
      "metadata": {
        "id": "cebd16a8"
      },
      "outputs": [],
      "source": [
        "import numpy as np\n",
        "import pandas as pd\n",
        "from scipy import stats\n",
        "\n",
        "import warnings\n",
        "warnings.filterwarnings(\"ignore\")"
      ]
    },
    {
      "cell_type": "code",
      "execution_count": null,
      "id": "83ba28ce",
      "metadata": {
        "id": "83ba28ce"
      },
      "outputs": [],
      "source": [
        "import seaborn as sns\n",
        "import matplotlib.pyplot as plt\n",
        "from pandas.plotting import register_matplotlib_converters\n",
        "from pylab import rcParams\n",
        "sns.set_style(\"darkgrid\")"
      ]
    },
    {
      "cell_type": "code",
      "execution_count": null,
      "id": "6eac789e",
      "metadata": {
        "id": "6eac789e",
        "outputId": "864cf35b-92ec-489a-a0ca-0a5143fa8a5e"
      },
      "outputs": [
        {
          "data": {
            "text/html": [
              "<div>\n",
              "<style scoped>\n",
              "    .dataframe tbody tr th:only-of-type {\n",
              "        vertical-align: middle;\n",
              "    }\n",
              "\n",
              "    .dataframe tbody tr th {\n",
              "        vertical-align: top;\n",
              "    }\n",
              "\n",
              "    .dataframe thead th {\n",
              "        text-align: right;\n",
              "    }\n",
              "</style>\n",
              "<table border=\"1\" class=\"dataframe\">\n",
              "  <thead>\n",
              "    <tr style=\"text-align: right;\">\n",
              "      <th></th>\n",
              "      <th>buyer_id</th>\n",
              "      <th>buyer_country</th>\n",
              "      <th>seller_id</th>\n",
              "      <th>seller_country</th>\n",
              "      <th>product_code</th>\n",
              "      <th>category</th>\n",
              "      <th>brand</th>\n",
              "      <th>currency</th>\n",
              "      <th>price</th>\n",
              "      <th>date</th>\n",
              "    </tr>\n",
              "  </thead>\n",
              "  <tbody>\n",
              "    <tr>\n",
              "      <th>0</th>\n",
              "      <td>qzpjsi9t0o</td>\n",
              "      <td>GB</td>\n",
              "      <td>6oufpaot</td>\n",
              "      <td>GB</td>\n",
              "      <td>ydecnydr6obf</td>\n",
              "      <td>Dresses</td>\n",
              "      <td>NaN</td>\n",
              "      <td>GBP</td>\n",
              "      <td>19.11</td>\n",
              "      <td>2020-08-03</td>\n",
              "    </tr>\n",
              "    <tr>\n",
              "      <th>1</th>\n",
              "      <td>o79pns1qwo</td>\n",
              "      <td>GB</td>\n",
              "      <td>50xki2yg</td>\n",
              "      <td>GB</td>\n",
              "      <td>38chj507o6h2</td>\n",
              "      <td>Outerwear</td>\n",
              "      <td>Adidas Originals</td>\n",
              "      <td>GBP</td>\n",
              "      <td>15.92</td>\n",
              "      <td>2020-08-09</td>\n",
              "    </tr>\n",
              "    <tr>\n",
              "      <th>2</th>\n",
              "      <td>sjgbjdkhqx</td>\n",
              "      <td>GB</td>\n",
              "      <td>50xki2yg</td>\n",
              "      <td>GB</td>\n",
              "      <td>i9ynyxj5tdp8</td>\n",
              "      <td>Tops - Mens</td>\n",
              "      <td>NaN</td>\n",
              "      <td>GBP</td>\n",
              "      <td>6.37</td>\n",
              "      <td>2020-08-07</td>\n",
              "    </tr>\n",
              "    <tr>\n",
              "      <th>3</th>\n",
              "      <td>o79pns1qwo</td>\n",
              "      <td>GB</td>\n",
              "      <td>s0p322hh</td>\n",
              "      <td>GB</td>\n",
              "      <td>t50xe7moye8v</td>\n",
              "      <td>Tops - Mens</td>\n",
              "      <td>Berghaus</td>\n",
              "      <td>GBP</td>\n",
              "      <td>25.27</td>\n",
              "      <td>2020-08-09</td>\n",
              "    </tr>\n",
              "    <tr>\n",
              "      <th>4</th>\n",
              "      <td>o79pns1qwo</td>\n",
              "      <td>GB</td>\n",
              "      <td>dpkx192v</td>\n",
              "      <td>GB</td>\n",
              "      <td>hp4r9bjq68af</td>\n",
              "      <td>Bottoms - Womens</td>\n",
              "      <td>NaN</td>\n",
              "      <td>GBP</td>\n",
              "      <td>8.90</td>\n",
              "      <td>2020-08-09</td>\n",
              "    </tr>\n",
              "  </tbody>\n",
              "</table>\n",
              "</div>"
            ],
            "text/plain": [
              "     buyer_id buyer_country seller_id seller_country  product_code  \\\n",
              "0  qzpjsi9t0o            GB  6oufpaot             GB  ydecnydr6obf   \n",
              "1  o79pns1qwo            GB  50xki2yg             GB  38chj507o6h2   \n",
              "2  sjgbjdkhqx            GB  50xki2yg             GB  i9ynyxj5tdp8   \n",
              "3  o79pns1qwo            GB  s0p322hh             GB  t50xe7moye8v   \n",
              "4  o79pns1qwo            GB  dpkx192v             GB  hp4r9bjq68af   \n",
              "\n",
              "           category             brand currency  price        date  \n",
              "0           Dresses               NaN      GBP  19.11  2020-08-03  \n",
              "1         Outerwear  Adidas Originals      GBP  15.92  2020-08-09  \n",
              "2       Tops - Mens               NaN      GBP   6.37  2020-08-07  \n",
              "3       Tops - Mens          Berghaus      GBP  25.27  2020-08-09  \n",
              "4  Bottoms - Womens               NaN      GBP   8.90  2020-08-09  "
            ]
          },
          "execution_count": 19,
          "metadata": {},
          "output_type": "execute_result"
        }
      ],
      "source": [
        "df_sales = pd.read_csv(\"sales_082020.csv\")\n",
        "df_sales.head()"
      ]
    },
    {
      "cell_type": "code",
      "execution_count": null,
      "id": "b3da4697",
      "metadata": {
        "id": "b3da4697",
        "outputId": "295a033f-8e26-4eec-9f8b-b4c8fb4e482b"
      },
      "outputs": [
        {
          "name": "stdout",
          "output_type": "stream",
          "text": [
            "<class 'pandas.core.frame.DataFrame'>\n",
            "RangeIndex: 237671 entries, 0 to 237670\n",
            "Data columns (total 10 columns):\n",
            " #   Column          Non-Null Count   Dtype  \n",
            "---  ------          --------------   -----  \n",
            " 0   buyer_id        237671 non-null  object \n",
            " 1   buyer_country   237671 non-null  object \n",
            " 2   seller_id       237671 non-null  object \n",
            " 3   seller_country  237671 non-null  object \n",
            " 4   product_code    237671 non-null  object \n",
            " 5   category        237655 non-null  object \n",
            " 6   brand           119330 non-null  object \n",
            " 7   currency        237671 non-null  object \n",
            " 8   price           237671 non-null  float64\n",
            " 9   date            237671 non-null  object \n",
            "dtypes: float64(1), object(9)\n",
            "memory usage: 18.1+ MB\n"
          ]
        }
      ],
      "source": [
        "df_sales.info()"
      ]
    },
    {
      "cell_type": "code",
      "execution_count": null,
      "id": "c32d84ed",
      "metadata": {
        "id": "c32d84ed",
        "outputId": "0e4860c6-8df8-4e9e-e561-67460c7c72a9"
      },
      "outputs": [
        {
          "data": {
            "text/html": [
              "<div>\n",
              "<style scoped>\n",
              "    .dataframe tbody tr th:only-of-type {\n",
              "        vertical-align: middle;\n",
              "    }\n",
              "\n",
              "    .dataframe tbody tr th {\n",
              "        vertical-align: top;\n",
              "    }\n",
              "\n",
              "    .dataframe thead th {\n",
              "        text-align: right;\n",
              "    }\n",
              "</style>\n",
              "<table border=\"1\" class=\"dataframe\">\n",
              "  <thead>\n",
              "    <tr style=\"text-align: right;\">\n",
              "      <th></th>\n",
              "      <th>currency</th>\n",
              "      <th>date</th>\n",
              "      <th>rate</th>\n",
              "    </tr>\n",
              "  </thead>\n",
              "  <tbody>\n",
              "    <tr>\n",
              "      <th>147</th>\n",
              "      <td>JPY</td>\n",
              "      <td>8/8/2020</td>\n",
              "      <td>124.873400</td>\n",
              "    </tr>\n",
              "    <tr>\n",
              "      <th>74</th>\n",
              "      <td>CHF</td>\n",
              "      <td>8/5/2020</td>\n",
              "      <td>1.078185</td>\n",
              "    </tr>\n",
              "    <tr>\n",
              "      <th>15</th>\n",
              "      <td>GBP</td>\n",
              "      <td>8/6/2020</td>\n",
              "      <td>0.903835</td>\n",
              "    </tr>\n",
              "    <tr>\n",
              "      <th>218</th>\n",
              "      <td>BRL</td>\n",
              "      <td>8/9/2020</td>\n",
              "      <td>6.411100</td>\n",
              "    </tr>\n",
              "    <tr>\n",
              "      <th>122</th>\n",
              "      <td>THB</td>\n",
              "      <td>8/3/2020</td>\n",
              "      <td>36.705000</td>\n",
              "    </tr>\n",
              "    <tr>\n",
              "      <th>56</th>\n",
              "      <td>NZD</td>\n",
              "      <td>8/7/2020</td>\n",
              "      <td>1.786125</td>\n",
              "    </tr>\n",
              "    <tr>\n",
              "      <th>172</th>\n",
              "      <td>MYR</td>\n",
              "      <td>8/3/2020</td>\n",
              "      <td>4.949700</td>\n",
              "    </tr>\n",
              "    <tr>\n",
              "      <th>21</th>\n",
              "      <td>USD</td>\n",
              "      <td>8/2/2020</td>\n",
              "      <td>1.178035</td>\n",
              "    </tr>\n",
              "    <tr>\n",
              "      <th>204</th>\n",
              "      <td>CZK</td>\n",
              "      <td>8/5/2020</td>\n",
              "      <td>26.087100</td>\n",
              "    </tr>\n",
              "    <tr>\n",
              "      <th>99</th>\n",
              "      <td>DKK</td>\n",
              "      <td>8/10/2020</td>\n",
              "      <td>7.445250</td>\n",
              "    </tr>\n",
              "  </tbody>\n",
              "</table>\n",
              "</div>"
            ],
            "text/plain": [
              "    currency       date        rate\n",
              "147      JPY   8/8/2020  124.873400\n",
              "74       CHF   8/5/2020    1.078185\n",
              "15       GBP   8/6/2020    0.903835\n",
              "218      BRL   8/9/2020    6.411100\n",
              "122      THB   8/3/2020   36.705000\n",
              "56       NZD   8/7/2020    1.786125\n",
              "172      MYR   8/3/2020    4.949700\n",
              "21       USD   8/2/2020    1.178035\n",
              "204      CZK   8/5/2020   26.087100\n",
              "99       DKK  8/10/2020    7.445250"
            ]
          },
          "execution_count": 21,
          "metadata": {},
          "output_type": "execute_result"
        }
      ],
      "source": [
        "df_cur = pd.read_csv(\"currency_rates_082020_EUR.csv\")\n",
        "df_cur.sample(10)"
      ]
    },
    {
      "cell_type": "code",
      "execution_count": null,
      "id": "7ae2e3b9",
      "metadata": {
        "id": "7ae2e3b9",
        "outputId": "80edb724-00f9-4e70-9846-c1d9d4b45c89"
      },
      "outputs": [
        {
          "name": "stdout",
          "output_type": "stream",
          "text": [
            "<class 'pandas.core.frame.DataFrame'>\n",
            "RangeIndex: 220 entries, 0 to 219\n",
            "Data columns (total 3 columns):\n",
            " #   Column    Non-Null Count  Dtype  \n",
            "---  ------    --------------  -----  \n",
            " 0   currency  220 non-null    object \n",
            " 1   date      220 non-null    object \n",
            " 2   rate      220 non-null    float64\n",
            "dtypes: float64(1), object(2)\n",
            "memory usage: 5.3+ KB\n"
          ]
        }
      ],
      "source": [
        "df_cur.info()"
      ]
    },
    {
      "cell_type": "markdown",
      "id": "ceb98b12",
      "metadata": {
        "id": "ceb98b12"
      },
      "source": [
        "#### 1. How many rows in the sales dataset?"
      ]
    },
    {
      "cell_type": "code",
      "execution_count": null,
      "id": "f27b0799",
      "metadata": {
        "id": "f27b0799",
        "outputId": "5c6bee36-b2cb-4a9a-af12-67e5b0258799"
      },
      "outputs": [
        {
          "data": {
            "text/plain": [
              "237671"
            ]
          },
          "execution_count": 23,
          "metadata": {},
          "output_type": "execute_result"
        }
      ],
      "source": [
        "df_sales.shape[0]"
      ]
    },
    {
      "cell_type": "markdown",
      "id": "a73b36e7",
      "metadata": {
        "id": "a73b36e7"
      },
      "source": [
        "#### 2. How many columns in the sales dataset?"
      ]
    },
    {
      "cell_type": "code",
      "execution_count": null,
      "id": "63ecb2f7",
      "metadata": {
        "id": "63ecb2f7",
        "outputId": "21d0ee64-e7db-462e-952b-560496160655"
      },
      "outputs": [
        {
          "data": {
            "text/plain": [
              "10"
            ]
          },
          "execution_count": 24,
          "metadata": {},
          "output_type": "execute_result"
        }
      ],
      "source": [
        "df_sales.shape[1]"
      ]
    },
    {
      "cell_type": "markdown",
      "id": "e7e2acb8",
      "metadata": {
        "id": "e7e2acb8"
      },
      "source": [
        "#### 3. What is the total number of sellers?\n",
        "#### Toplam satıcı sayısı nedir? "
      ]
    },
    {
      "cell_type": "code",
      "execution_count": null,
      "id": "4e489716",
      "metadata": {
        "id": "4e489716",
        "outputId": "7e51f6d2-6952-4a3e-d7e5-aab7abbcc83b"
      },
      "outputs": [
        {
          "data": {
            "text/html": [
              "<div>\n",
              "<style scoped>\n",
              "    .dataframe tbody tr th:only-of-type {\n",
              "        vertical-align: middle;\n",
              "    }\n",
              "\n",
              "    .dataframe tbody tr th {\n",
              "        vertical-align: top;\n",
              "    }\n",
              "\n",
              "    .dataframe thead th {\n",
              "        text-align: right;\n",
              "    }\n",
              "</style>\n",
              "<table border=\"1\" class=\"dataframe\">\n",
              "  <thead>\n",
              "    <tr style=\"text-align: right;\">\n",
              "      <th></th>\n",
              "      <th>buyer_id</th>\n",
              "      <th>buyer_country</th>\n",
              "      <th>seller_id</th>\n",
              "      <th>seller_country</th>\n",
              "      <th>product_code</th>\n",
              "      <th>category</th>\n",
              "      <th>brand</th>\n",
              "      <th>currency</th>\n",
              "      <th>date</th>\n",
              "    </tr>\n",
              "  </thead>\n",
              "  <tbody>\n",
              "    <tr>\n",
              "      <th>count</th>\n",
              "      <td>237671</td>\n",
              "      <td>237671</td>\n",
              "      <td>237671</td>\n",
              "      <td>237671</td>\n",
              "      <td>237671</td>\n",
              "      <td>237655</td>\n",
              "      <td>119330</td>\n",
              "      <td>237671</td>\n",
              "      <td>237671</td>\n",
              "    </tr>\n",
              "    <tr>\n",
              "      <th>unique</th>\n",
              "      <td>139700</td>\n",
              "      <td>9</td>\n",
              "      <td>114227</td>\n",
              "      <td>9</td>\n",
              "      <td>226311</td>\n",
              "      <td>24</td>\n",
              "      <td>1134</td>\n",
              "      <td>22</td>\n",
              "      <td>7</td>\n",
              "    </tr>\n",
              "    <tr>\n",
              "      <th>top</th>\n",
              "      <td>x0aflhz7fd</td>\n",
              "      <td>GB</td>\n",
              "      <td>pzsiehl0</td>\n",
              "      <td>GB</td>\n",
              "      <td>fb59ug7bzkz5</td>\n",
              "      <td>Tops - Womens</td>\n",
              "      <td>Nike</td>\n",
              "      <td>GBP</td>\n",
              "      <td>2020-08-08</td>\n",
              "    </tr>\n",
              "    <tr>\n",
              "      <th>freq</th>\n",
              "      <td>218</td>\n",
              "      <td>134704</td>\n",
              "      <td>703</td>\n",
              "      <td>139203</td>\n",
              "      <td>177</td>\n",
              "      <td>45450</td>\n",
              "      <td>9575</td>\n",
              "      <td>139478</td>\n",
              "      <td>36541</td>\n",
              "    </tr>\n",
              "  </tbody>\n",
              "</table>\n",
              "</div>"
            ],
            "text/plain": [
              "          buyer_id buyer_country seller_id seller_country  product_code  \\\n",
              "count       237671        237671    237671         237671        237671   \n",
              "unique      139700             9    114227              9        226311   \n",
              "top     x0aflhz7fd            GB  pzsiehl0             GB  fb59ug7bzkz5   \n",
              "freq           218        134704       703         139203           177   \n",
              "\n",
              "             category   brand currency        date  \n",
              "count          237655  119330   237671      237671  \n",
              "unique             24    1134       22           7  \n",
              "top     Tops - Womens    Nike      GBP  2020-08-08  \n",
              "freq            45450    9575   139478       36541  "
            ]
          },
          "execution_count": 25,
          "metadata": {},
          "output_type": "execute_result"
        }
      ],
      "source": [
        "df_sales.describe(include = object)"
      ]
    },
    {
      "cell_type": "code",
      "execution_count": null,
      "id": "4dad59b7",
      "metadata": {
        "id": "4dad59b7",
        "outputId": "2dc3c22d-ed40-4b4d-f5c0-fc10327e3e04"
      },
      "outputs": [
        {
          "data": {
            "text/plain": [
              "114227"
            ]
          },
          "execution_count": 26,
          "metadata": {},
          "output_type": "execute_result"
        }
      ],
      "source": [
        "df_sales['seller_id'].nunique()"
      ]
    },
    {
      "cell_type": "markdown",
      "id": "cef5d5e1",
      "metadata": {
        "id": "cef5d5e1"
      },
      "source": [
        "#### 4. What is the total value of sales in EUR?\n",
        "***Satışların EUR cinsinden toplam değeri nedir?***"
      ]
    },
    {
      "cell_type": "code",
      "execution_count": null,
      "id": "c6f80536",
      "metadata": {
        "id": "c6f80536"
      },
      "outputs": [],
      "source": [
        "df_sales1 = df_sales.copy()"
      ]
    },
    {
      "cell_type": "code",
      "execution_count": null,
      "id": "366a04b8",
      "metadata": {
        "id": "366a04b8"
      },
      "outputs": [],
      "source": [
        "df_sales1.date = pd.to_datetime(df_sales1.date)"
      ]
    },
    {
      "cell_type": "code",
      "execution_count": null,
      "id": "f61ef955",
      "metadata": {
        "id": "f61ef955",
        "outputId": "e387aef6-1564-4324-e6fd-6347a8876c86"
      },
      "outputs": [
        {
          "name": "stdout",
          "output_type": "stream",
          "text": [
            "<class 'pandas.core.frame.DataFrame'>\n",
            "RangeIndex: 237671 entries, 0 to 237670\n",
            "Data columns (total 10 columns):\n",
            " #   Column          Non-Null Count   Dtype         \n",
            "---  ------          --------------   -----         \n",
            " 0   buyer_id        237671 non-null  object        \n",
            " 1   buyer_country   237671 non-null  object        \n",
            " 2   seller_id       237671 non-null  object        \n",
            " 3   seller_country  237671 non-null  object        \n",
            " 4   product_code    237671 non-null  object        \n",
            " 5   category        237655 non-null  object        \n",
            " 6   brand           119330 non-null  object        \n",
            " 7   currency        237671 non-null  object        \n",
            " 8   price           237671 non-null  float64       \n",
            " 9   date            237671 non-null  datetime64[ns]\n",
            "dtypes: datetime64[ns](1), float64(1), object(8)\n",
            "memory usage: 18.1+ MB\n"
          ]
        }
      ],
      "source": [
        "df_sales1.info()"
      ]
    },
    {
      "cell_type": "code",
      "execution_count": null,
      "id": "7b6319a2",
      "metadata": {
        "id": "7b6319a2"
      },
      "outputs": [],
      "source": [
        "df_cur1 = df_cur.copy()"
      ]
    },
    {
      "cell_type": "code",
      "execution_count": null,
      "id": "a1907523",
      "metadata": {
        "id": "a1907523"
      },
      "outputs": [],
      "source": [
        "df_cur1.date = pd.to_datetime(df_cur1.date)"
      ]
    },
    {
      "cell_type": "code",
      "execution_count": null,
      "id": "240474fb",
      "metadata": {
        "id": "240474fb",
        "outputId": "50339b8c-8ab0-413a-f41d-b31f59f12520"
      },
      "outputs": [
        {
          "data": {
            "text/html": [
              "<div>\n",
              "<style scoped>\n",
              "    .dataframe tbody tr th:only-of-type {\n",
              "        vertical-align: middle;\n",
              "    }\n",
              "\n",
              "    .dataframe tbody tr th {\n",
              "        vertical-align: top;\n",
              "    }\n",
              "\n",
              "    .dataframe thead th {\n",
              "        text-align: right;\n",
              "    }\n",
              "</style>\n",
              "<table border=\"1\" class=\"dataframe\">\n",
              "  <thead>\n",
              "    <tr style=\"text-align: right;\">\n",
              "      <th></th>\n",
              "      <th>buyer_id</th>\n",
              "      <th>buyer_country</th>\n",
              "      <th>seller_id</th>\n",
              "      <th>seller_country</th>\n",
              "      <th>product_code</th>\n",
              "      <th>category</th>\n",
              "      <th>brand</th>\n",
              "      <th>currency</th>\n",
              "      <th>price</th>\n",
              "      <th>date</th>\n",
              "      <th>rate</th>\n",
              "    </tr>\n",
              "  </thead>\n",
              "  <tbody>\n",
              "    <tr>\n",
              "      <th>0</th>\n",
              "      <td>qzpjsi9t0o</td>\n",
              "      <td>GB</td>\n",
              "      <td>6oufpaot</td>\n",
              "      <td>GB</td>\n",
              "      <td>ydecnydr6obf</td>\n",
              "      <td>Dresses</td>\n",
              "      <td>NaN</td>\n",
              "      <td>GBP</td>\n",
              "      <td>19.11</td>\n",
              "      <td>2020-08-03</td>\n",
              "      <td>0.89935</td>\n",
              "    </tr>\n",
              "    <tr>\n",
              "      <th>1</th>\n",
              "      <td>rd209r8c7c</td>\n",
              "      <td>GB</td>\n",
              "      <td>9p2ansc9</td>\n",
              "      <td>GB</td>\n",
              "      <td>wpxxf59cq7pc</td>\n",
              "      <td>Outerwear - Mens</td>\n",
              "      <td>Adidas Originals</td>\n",
              "      <td>GBP</td>\n",
              "      <td>24.91</td>\n",
              "      <td>2020-08-03</td>\n",
              "      <td>0.89935</td>\n",
              "    </tr>\n",
              "    <tr>\n",
              "      <th>2</th>\n",
              "      <td>pqbcrl8azx</td>\n",
              "      <td>GB</td>\n",
              "      <td>r9zmzem8</td>\n",
              "      <td>GB</td>\n",
              "      <td>ua9mmn86wsqy</td>\n",
              "      <td>Tops - Womens</td>\n",
              "      <td>NaN</td>\n",
              "      <td>GBP</td>\n",
              "      <td>19.31</td>\n",
              "      <td>2020-08-03</td>\n",
              "      <td>0.89935</td>\n",
              "    </tr>\n",
              "    <tr>\n",
              "      <th>3</th>\n",
              "      <td>j5en1rwmxp</td>\n",
              "      <td>GB</td>\n",
              "      <td>3o2nz88r</td>\n",
              "      <td>GB</td>\n",
              "      <td>tduo2uy8iszl</td>\n",
              "      <td>Bottoms - Womens</td>\n",
              "      <td>Urban Outfitters</td>\n",
              "      <td>GBP</td>\n",
              "      <td>16.98</td>\n",
              "      <td>2020-08-03</td>\n",
              "      <td>0.89935</td>\n",
              "    </tr>\n",
              "    <tr>\n",
              "      <th>4</th>\n",
              "      <td>kjdezxeh1l</td>\n",
              "      <td>GB</td>\n",
              "      <td>7g56ublf</td>\n",
              "      <td>GB</td>\n",
              "      <td>39o00tcu89zq</td>\n",
              "      <td>Other</td>\n",
              "      <td>NaN</td>\n",
              "      <td>GBP</td>\n",
              "      <td>2.85</td>\n",
              "      <td>2020-08-03</td>\n",
              "      <td>0.89935</td>\n",
              "    </tr>\n",
              "  </tbody>\n",
              "</table>\n",
              "</div>"
            ],
            "text/plain": [
              "     buyer_id buyer_country seller_id seller_country  product_code  \\\n",
              "0  qzpjsi9t0o            GB  6oufpaot             GB  ydecnydr6obf   \n",
              "1  rd209r8c7c            GB  9p2ansc9             GB  wpxxf59cq7pc   \n",
              "2  pqbcrl8azx            GB  r9zmzem8             GB  ua9mmn86wsqy   \n",
              "3  j5en1rwmxp            GB  3o2nz88r             GB  tduo2uy8iszl   \n",
              "4  kjdezxeh1l            GB  7g56ublf             GB  39o00tcu89zq   \n",
              "\n",
              "           category             brand currency  price       date     rate  \n",
              "0           Dresses               NaN      GBP  19.11 2020-08-03  0.89935  \n",
              "1  Outerwear - Mens  Adidas Originals      GBP  24.91 2020-08-03  0.89935  \n",
              "2     Tops - Womens               NaN      GBP  19.31 2020-08-03  0.89935  \n",
              "3  Bottoms - Womens  Urban Outfitters      GBP  16.98 2020-08-03  0.89935  \n",
              "4             Other               NaN      GBP   2.85 2020-08-03  0.89935  "
            ]
          },
          "execution_count": 32,
          "metadata": {},
          "output_type": "execute_result"
        }
      ],
      "source": [
        "df_new = pd.merge(df_sales1, df_cur1, how = 'inner', on = [\"currency\",\"date\"])\n",
        "df_new.head()"
      ]
    },
    {
      "cell_type": "code",
      "execution_count": null,
      "id": "f60e4d56",
      "metadata": {
        "id": "f60e4d56",
        "outputId": "eb65221d-d331-40bf-b638-f559e4af5188"
      },
      "outputs": [
        {
          "data": {
            "text/html": [
              "<div>\n",
              "<style scoped>\n",
              "    .dataframe tbody tr th:only-of-type {\n",
              "        vertical-align: middle;\n",
              "    }\n",
              "\n",
              "    .dataframe tbody tr th {\n",
              "        vertical-align: top;\n",
              "    }\n",
              "\n",
              "    .dataframe thead th {\n",
              "        text-align: right;\n",
              "    }\n",
              "</style>\n",
              "<table border=\"1\" class=\"dataframe\">\n",
              "  <thead>\n",
              "    <tr style=\"text-align: right;\">\n",
              "      <th></th>\n",
              "      <th>buyer_id</th>\n",
              "      <th>buyer_country</th>\n",
              "      <th>seller_id</th>\n",
              "      <th>seller_country</th>\n",
              "      <th>product_code</th>\n",
              "      <th>category</th>\n",
              "      <th>brand</th>\n",
              "      <th>currency</th>\n",
              "      <th>price</th>\n",
              "      <th>date</th>\n",
              "      <th>rate</th>\n",
              "      <th>total</th>\n",
              "    </tr>\n",
              "  </thead>\n",
              "  <tbody>\n",
              "    <tr>\n",
              "      <th>0</th>\n",
              "      <td>qzpjsi9t0o</td>\n",
              "      <td>GB</td>\n",
              "      <td>6oufpaot</td>\n",
              "      <td>GB</td>\n",
              "      <td>ydecnydr6obf</td>\n",
              "      <td>Dresses</td>\n",
              "      <td>NaN</td>\n",
              "      <td>GBP</td>\n",
              "      <td>19.11</td>\n",
              "      <td>2020-08-03</td>\n",
              "      <td>0.89935</td>\n",
              "      <td>21.248680</td>\n",
              "    </tr>\n",
              "    <tr>\n",
              "      <th>1</th>\n",
              "      <td>rd209r8c7c</td>\n",
              "      <td>GB</td>\n",
              "      <td>9p2ansc9</td>\n",
              "      <td>GB</td>\n",
              "      <td>wpxxf59cq7pc</td>\n",
              "      <td>Outerwear - Mens</td>\n",
              "      <td>Adidas Originals</td>\n",
              "      <td>GBP</td>\n",
              "      <td>24.91</td>\n",
              "      <td>2020-08-03</td>\n",
              "      <td>0.89935</td>\n",
              "      <td>27.697782</td>\n",
              "    </tr>\n",
              "    <tr>\n",
              "      <th>2</th>\n",
              "      <td>pqbcrl8azx</td>\n",
              "      <td>GB</td>\n",
              "      <td>r9zmzem8</td>\n",
              "      <td>GB</td>\n",
              "      <td>ua9mmn86wsqy</td>\n",
              "      <td>Tops - Womens</td>\n",
              "      <td>NaN</td>\n",
              "      <td>GBP</td>\n",
              "      <td>19.31</td>\n",
              "      <td>2020-08-03</td>\n",
              "      <td>0.89935</td>\n",
              "      <td>21.471062</td>\n",
              "    </tr>\n",
              "    <tr>\n",
              "      <th>3</th>\n",
              "      <td>j5en1rwmxp</td>\n",
              "      <td>GB</td>\n",
              "      <td>3o2nz88r</td>\n",
              "      <td>GB</td>\n",
              "      <td>tduo2uy8iszl</td>\n",
              "      <td>Bottoms - Womens</td>\n",
              "      <td>Urban Outfitters</td>\n",
              "      <td>GBP</td>\n",
              "      <td>16.98</td>\n",
              "      <td>2020-08-03</td>\n",
              "      <td>0.89935</td>\n",
              "      <td>18.880302</td>\n",
              "    </tr>\n",
              "    <tr>\n",
              "      <th>4</th>\n",
              "      <td>kjdezxeh1l</td>\n",
              "      <td>GB</td>\n",
              "      <td>7g56ublf</td>\n",
              "      <td>GB</td>\n",
              "      <td>39o00tcu89zq</td>\n",
              "      <td>Other</td>\n",
              "      <td>NaN</td>\n",
              "      <td>GBP</td>\n",
              "      <td>2.85</td>\n",
              "      <td>2020-08-03</td>\n",
              "      <td>0.89935</td>\n",
              "      <td>3.168955</td>\n",
              "    </tr>\n",
              "  </tbody>\n",
              "</table>\n",
              "</div>"
            ],
            "text/plain": [
              "     buyer_id buyer_country seller_id seller_country  product_code  \\\n",
              "0  qzpjsi9t0o            GB  6oufpaot             GB  ydecnydr6obf   \n",
              "1  rd209r8c7c            GB  9p2ansc9             GB  wpxxf59cq7pc   \n",
              "2  pqbcrl8azx            GB  r9zmzem8             GB  ua9mmn86wsqy   \n",
              "3  j5en1rwmxp            GB  3o2nz88r             GB  tduo2uy8iszl   \n",
              "4  kjdezxeh1l            GB  7g56ublf             GB  39o00tcu89zq   \n",
              "\n",
              "           category             brand currency  price       date     rate  \\\n",
              "0           Dresses               NaN      GBP  19.11 2020-08-03  0.89935   \n",
              "1  Outerwear - Mens  Adidas Originals      GBP  24.91 2020-08-03  0.89935   \n",
              "2     Tops - Womens               NaN      GBP  19.31 2020-08-03  0.89935   \n",
              "3  Bottoms - Womens  Urban Outfitters      GBP  16.98 2020-08-03  0.89935   \n",
              "4             Other               NaN      GBP   2.85 2020-08-03  0.89935   \n",
              "\n",
              "       total  \n",
              "0  21.248680  \n",
              "1  27.697782  \n",
              "2  21.471062  \n",
              "3  18.880302  \n",
              "4   3.168955  "
            ]
          },
          "execution_count": 33,
          "metadata": {},
          "output_type": "execute_result"
        }
      ],
      "source": [
        "df_new['total'] = df_new.price / df_new[\"rate\"]\n",
        "df_new.head()"
      ]
    },
    {
      "cell_type": "code",
      "execution_count": null,
      "id": "aeadd178",
      "metadata": {
        "id": "aeadd178",
        "outputId": "9245e8e5-62bd-4cb8-b8c4-95008f50e7c2"
      },
      "outputs": [
        {
          "data": {
            "text/plain": [
              "6471511.0"
            ]
          },
          "execution_count": 34,
          "metadata": {},
          "output_type": "execute_result"
        }
      ],
      "source": [
        "df_new.total.sum().round()"
      ]
    },
    {
      "cell_type": "markdown",
      "id": "df080a59",
      "metadata": {
        "id": "df080a59"
      },
      "source": [
        "#### 5. Which brand has the highest number of purchases during the period?\n",
        "#### ***5. Dönem içinde en çok hangi marka satın aldı?*** "
      ]
    },
    {
      "cell_type": "code",
      "execution_count": null,
      "id": "27826014",
      "metadata": {
        "id": "27826014",
        "outputId": "e73e0835-38f4-4125-9e00-55732eb6d50e"
      },
      "outputs": [
        {
          "data": {
            "text/plain": [
              "Nike    9575\n",
              "Name: brand, dtype: int64"
            ]
          },
          "execution_count": 35,
          "metadata": {},
          "output_type": "execute_result"
        }
      ],
      "source": [
        "df_sales1.brand.value_counts().head(1)"
      ]
    },
    {
      "cell_type": "code",
      "execution_count": null,
      "id": "d6028b61",
      "metadata": {
        "id": "d6028b61",
        "outputId": "0b684ed5-7982-4a55-a110-97c44cd6dede"
      },
      "outputs": [
        {
          "data": {
            "text/plain": [
              "Nike                  9575\n",
              "Brandy Melville       5065\n",
              "Topshop               4561\n",
              "PrettyLittle Thing    4136\n",
              "Adidas                3905\n",
              "                      ... \n",
              "Preen                    1\n",
              "Wacoal                   1\n",
              "Shu Uemura               1\n",
              "Parker                   1\n",
              "Vita Fede                1\n",
              "Name: brand, Length: 1134, dtype: int64"
            ]
          },
          "execution_count": 36,
          "metadata": {},
          "output_type": "execute_result"
        }
      ],
      "source": [
        "df_sales1[\"brand\"].value_counts()"
      ]
    },
    {
      "cell_type": "code",
      "execution_count": null,
      "id": "7185764a",
      "metadata": {
        "id": "7185764a",
        "outputId": "065f3496-c2be-467e-89e0-062fd08847de"
      },
      "outputs": [
        {
          "data": {
            "text/plain": [
              "385022.4140668997"
            ]
          },
          "execution_count": 37,
          "metadata": {},
          "output_type": "execute_result"
        }
      ],
      "source": [
        "df_new[df_new[\"brand\"] == \"Nike\"].total.sum()"
      ]
    },
    {
      "cell_type": "code",
      "execution_count": null,
      "id": "28c5f06b",
      "metadata": {
        "id": "28c5f06b",
        "outputId": "f12a92d4-fe5d-4c6d-f23d-2e9478f5c3e6"
      },
      "outputs": [
        {
          "data": {
            "text/plain": [
              "brand\n",
              "Nike                385022.414067\n",
              "Adidas              114211.542782\n",
              "American Vintage     89939.908652\n",
              "Brandy Melville      87735.664806\n",
              "Dr. Martens          81491.623673\n",
              "Name: total, dtype: float64"
            ]
          },
          "execution_count": 38,
          "metadata": {},
          "output_type": "execute_result"
        }
      ],
      "source": [
        "df_new.groupby('brand').total.sum().sort_values(ascending=False).head()"
      ]
    },
    {
      "cell_type": "markdown",
      "id": "d1845534",
      "metadata": {
        "id": "d1845534"
      },
      "source": [
        "#### 6. How many items in the “Jewellery” category have no brand associated with them?\n",
        "#### ***\"Mücevherat\" kategorisindeki kaç öğenin kendileriyle ilişkili bir markası yok?*** "
      ]
    },
    {
      "cell_type": "code",
      "execution_count": null,
      "id": "63274bf7",
      "metadata": {
        "id": "63274bf7",
        "outputId": "771b4546-1dab-42ba-8f37-f9406ccf7544"
      },
      "outputs": [
        {
          "data": {
            "text/html": [
              "<div>\n",
              "<style scoped>\n",
              "    .dataframe tbody tr th:only-of-type {\n",
              "        vertical-align: middle;\n",
              "    }\n",
              "\n",
              "    .dataframe tbody tr th {\n",
              "        vertical-align: top;\n",
              "    }\n",
              "\n",
              "    .dataframe thead th {\n",
              "        text-align: right;\n",
              "    }\n",
              "</style>\n",
              "<table border=\"1\" class=\"dataframe\">\n",
              "  <thead>\n",
              "    <tr style=\"text-align: right;\">\n",
              "      <th></th>\n",
              "      <th>buyer_id</th>\n",
              "      <th>buyer_country</th>\n",
              "      <th>seller_id</th>\n",
              "      <th>seller_country</th>\n",
              "      <th>product_code</th>\n",
              "      <th>category</th>\n",
              "      <th>brand</th>\n",
              "      <th>currency</th>\n",
              "      <th>price</th>\n",
              "      <th>date</th>\n",
              "    </tr>\n",
              "  </thead>\n",
              "  <tbody>\n",
              "    <tr>\n",
              "      <th>0</th>\n",
              "      <td>qzpjsi9t0o</td>\n",
              "      <td>GB</td>\n",
              "      <td>6oufpaot</td>\n",
              "      <td>GB</td>\n",
              "      <td>ydecnydr6obf</td>\n",
              "      <td>Dresses</td>\n",
              "      <td>NaN</td>\n",
              "      <td>GBP</td>\n",
              "      <td>19.11</td>\n",
              "      <td>2020-08-03</td>\n",
              "    </tr>\n",
              "    <tr>\n",
              "      <th>1</th>\n",
              "      <td>o79pns1qwo</td>\n",
              "      <td>GB</td>\n",
              "      <td>50xki2yg</td>\n",
              "      <td>GB</td>\n",
              "      <td>38chj507o6h2</td>\n",
              "      <td>Outerwear</td>\n",
              "      <td>Adidas Originals</td>\n",
              "      <td>GBP</td>\n",
              "      <td>15.92</td>\n",
              "      <td>2020-08-09</td>\n",
              "    </tr>\n",
              "    <tr>\n",
              "      <th>2</th>\n",
              "      <td>sjgbjdkhqx</td>\n",
              "      <td>GB</td>\n",
              "      <td>50xki2yg</td>\n",
              "      <td>GB</td>\n",
              "      <td>i9ynyxj5tdp8</td>\n",
              "      <td>Tops - Mens</td>\n",
              "      <td>NaN</td>\n",
              "      <td>GBP</td>\n",
              "      <td>6.37</td>\n",
              "      <td>2020-08-07</td>\n",
              "    </tr>\n",
              "    <tr>\n",
              "      <th>3</th>\n",
              "      <td>o79pns1qwo</td>\n",
              "      <td>GB</td>\n",
              "      <td>s0p322hh</td>\n",
              "      <td>GB</td>\n",
              "      <td>t50xe7moye8v</td>\n",
              "      <td>Tops - Mens</td>\n",
              "      <td>Berghaus</td>\n",
              "      <td>GBP</td>\n",
              "      <td>25.27</td>\n",
              "      <td>2020-08-09</td>\n",
              "    </tr>\n",
              "    <tr>\n",
              "      <th>4</th>\n",
              "      <td>o79pns1qwo</td>\n",
              "      <td>GB</td>\n",
              "      <td>dpkx192v</td>\n",
              "      <td>GB</td>\n",
              "      <td>hp4r9bjq68af</td>\n",
              "      <td>Bottoms - Womens</td>\n",
              "      <td>NaN</td>\n",
              "      <td>GBP</td>\n",
              "      <td>8.90</td>\n",
              "      <td>2020-08-09</td>\n",
              "    </tr>\n",
              "  </tbody>\n",
              "</table>\n",
              "</div>"
            ],
            "text/plain": [
              "     buyer_id buyer_country seller_id seller_country  product_code  \\\n",
              "0  qzpjsi9t0o            GB  6oufpaot             GB  ydecnydr6obf   \n",
              "1  o79pns1qwo            GB  50xki2yg             GB  38chj507o6h2   \n",
              "2  sjgbjdkhqx            GB  50xki2yg             GB  i9ynyxj5tdp8   \n",
              "3  o79pns1qwo            GB  s0p322hh             GB  t50xe7moye8v   \n",
              "4  o79pns1qwo            GB  dpkx192v             GB  hp4r9bjq68af   \n",
              "\n",
              "           category             brand currency  price        date  \n",
              "0           Dresses               NaN      GBP  19.11  2020-08-03  \n",
              "1         Outerwear  Adidas Originals      GBP  15.92  2020-08-09  \n",
              "2       Tops - Mens               NaN      GBP   6.37  2020-08-07  \n",
              "3       Tops - Mens          Berghaus      GBP  25.27  2020-08-09  \n",
              "4  Bottoms - Womens               NaN      GBP   8.90  2020-08-09  "
            ]
          },
          "execution_count": 39,
          "metadata": {},
          "output_type": "execute_result"
        }
      ],
      "source": [
        "df_sales.head()"
      ]
    },
    {
      "cell_type": "code",
      "execution_count": null,
      "id": "08f80d1e",
      "metadata": {
        "id": "08f80d1e",
        "outputId": "f6e70aa9-378c-4f2a-da44-4e6e873fceb9"
      },
      "outputs": [
        {
          "data": {
            "text/plain": [
              "10931"
            ]
          },
          "execution_count": 40,
          "metadata": {},
          "output_type": "execute_result"
        }
      ],
      "source": [
        "df_sales[(df_sales.category == \"Jewellery\") & (df_sales.brand.isnull())].product_code.nunique()"
      ]
    },
    {
      "cell_type": "markdown",
      "id": "786f3ebc",
      "metadata": {
        "id": "786f3ebc"
      },
      "source": [
        "#### 7. How many brands have between 35 and 55 transactions (inclusive)?\n",
        "#### ***7. 35 ile 55 arasında işlem (dahil) olan kaç marka var?***"
      ]
    },
    {
      "cell_type": "code",
      "execution_count": null,
      "id": "918753e4",
      "metadata": {
        "id": "918753e4",
        "outputId": "46c4f6bf-8345-4637-fdb3-eec7e6f2954f"
      },
      "outputs": [
        {
          "data": {
            "text/plain": [
              "81"
            ]
          },
          "execution_count": 41,
          "metadata": {},
          "output_type": "execute_result"
        }
      ],
      "source": [
        "(df_sales.brand.value_counts() > 34).sum() - (df_sales.brand.value_counts() > 55).sum()"
      ]
    },
    {
      "cell_type": "code",
      "execution_count": null,
      "id": "a2838f90",
      "metadata": {
        "id": "a2838f90",
        "outputId": "402529c0-4dea-45a1-f8f6-e080198d04ab"
      },
      "outputs": [
        {
          "data": {
            "text/html": [
              "<div>\n",
              "<style scoped>\n",
              "    .dataframe tbody tr th:only-of-type {\n",
              "        vertical-align: middle;\n",
              "    }\n",
              "\n",
              "    .dataframe tbody tr th {\n",
              "        vertical-align: top;\n",
              "    }\n",
              "\n",
              "    .dataframe thead th {\n",
              "        text-align: right;\n",
              "    }\n",
              "</style>\n",
              "<table border=\"1\" class=\"dataframe\">\n",
              "  <thead>\n",
              "    <tr style=\"text-align: right;\">\n",
              "      <th></th>\n",
              "      <th>buyer_id</th>\n",
              "      <th>buyer_country</th>\n",
              "      <th>seller_id</th>\n",
              "      <th>seller_country</th>\n",
              "      <th>product_code</th>\n",
              "      <th>category</th>\n",
              "      <th>currency</th>\n",
              "      <th>price</th>\n",
              "      <th>date</th>\n",
              "    </tr>\n",
              "    <tr>\n",
              "      <th>brand</th>\n",
              "      <th></th>\n",
              "      <th></th>\n",
              "      <th></th>\n",
              "      <th></th>\n",
              "      <th></th>\n",
              "      <th></th>\n",
              "      <th></th>\n",
              "      <th></th>\n",
              "      <th></th>\n",
              "    </tr>\n",
              "  </thead>\n",
              "  <tbody>\n",
              "    <tr>\n",
              "      <th>&amp; Other Stories</th>\n",
              "      <td>151</td>\n",
              "      <td>151</td>\n",
              "      <td>151</td>\n",
              "      <td>151</td>\n",
              "      <td>151</td>\n",
              "      <td>151</td>\n",
              "      <td>151</td>\n",
              "      <td>151</td>\n",
              "      <td>151</td>\n",
              "    </tr>\n",
              "    <tr>\n",
              "      <th>032c</th>\n",
              "      <td>11</td>\n",
              "      <td>11</td>\n",
              "      <td>11</td>\n",
              "      <td>11</td>\n",
              "      <td>11</td>\n",
              "      <td>11</td>\n",
              "      <td>11</td>\n",
              "      <td>11</td>\n",
              "      <td>11</td>\n",
              "    </tr>\n",
              "    <tr>\n",
              "      <th>11 Degrees</th>\n",
              "      <td>33</td>\n",
              "      <td>33</td>\n",
              "      <td>33</td>\n",
              "      <td>33</td>\n",
              "      <td>33</td>\n",
              "      <td>33</td>\n",
              "      <td>33</td>\n",
              "      <td>33</td>\n",
              "      <td>33</td>\n",
              "    </tr>\n",
              "    <tr>\n",
              "      <th>1822 Denim</th>\n",
              "      <td>8</td>\n",
              "      <td>8</td>\n",
              "      <td>8</td>\n",
              "      <td>8</td>\n",
              "      <td>8</td>\n",
              "      <td>8</td>\n",
              "      <td>8</td>\n",
              "      <td>8</td>\n",
              "      <td>8</td>\n",
              "    </tr>\n",
              "    <tr>\n",
              "      <th>3.1 Phillip Lim</th>\n",
              "      <td>10</td>\n",
              "      <td>10</td>\n",
              "      <td>10</td>\n",
              "      <td>10</td>\n",
              "      <td>10</td>\n",
              "      <td>10</td>\n",
              "      <td>10</td>\n",
              "      <td>10</td>\n",
              "      <td>10</td>\n",
              "    </tr>\n",
              "    <tr>\n",
              "      <th>...</th>\n",
              "      <td>...</td>\n",
              "      <td>...</td>\n",
              "      <td>...</td>\n",
              "      <td>...</td>\n",
              "      <td>...</td>\n",
              "      <td>...</td>\n",
              "      <td>...</td>\n",
              "      <td>...</td>\n",
              "      <td>...</td>\n",
              "    </tr>\n",
              "    <tr>\n",
              "      <th>ghd</th>\n",
              "      <td>35</td>\n",
              "      <td>35</td>\n",
              "      <td>35</td>\n",
              "      <td>35</td>\n",
              "      <td>35</td>\n",
              "      <td>35</td>\n",
              "      <td>35</td>\n",
              "      <td>35</td>\n",
              "      <td>35</td>\n",
              "    </tr>\n",
              "    <tr>\n",
              "      <th>kensie</th>\n",
              "      <td>1</td>\n",
              "      <td>1</td>\n",
              "      <td>1</td>\n",
              "      <td>1</td>\n",
              "      <td>1</td>\n",
              "      <td>1</td>\n",
              "      <td>1</td>\n",
              "      <td>1</td>\n",
              "      <td>1</td>\n",
              "    </tr>\n",
              "    <tr>\n",
              "      <th>liquid blue</th>\n",
              "      <td>52</td>\n",
              "      <td>52</td>\n",
              "      <td>52</td>\n",
              "      <td>52</td>\n",
              "      <td>52</td>\n",
              "      <td>52</td>\n",
              "      <td>52</td>\n",
              "      <td>52</td>\n",
              "      <td>52</td>\n",
              "    </tr>\n",
              "    <tr>\n",
              "      <th>mixxmix</th>\n",
              "      <td>12</td>\n",
              "      <td>12</td>\n",
              "      <td>12</td>\n",
              "      <td>12</td>\n",
              "      <td>12</td>\n",
              "      <td>12</td>\n",
              "      <td>12</td>\n",
              "      <td>12</td>\n",
              "      <td>12</td>\n",
              "    </tr>\n",
              "    <tr>\n",
              "      <th>philosophy</th>\n",
              "      <td>4</td>\n",
              "      <td>4</td>\n",
              "      <td>4</td>\n",
              "      <td>4</td>\n",
              "      <td>4</td>\n",
              "      <td>4</td>\n",
              "      <td>4</td>\n",
              "      <td>4</td>\n",
              "      <td>4</td>\n",
              "    </tr>\n",
              "  </tbody>\n",
              "</table>\n",
              "<p>1134 rows × 9 columns</p>\n",
              "</div>"
            ],
            "text/plain": [
              "                 buyer_id  buyer_country  seller_id  seller_country  \\\n",
              "brand                                                                 \n",
              "& Other Stories       151            151        151             151   \n",
              "032c                   11             11         11              11   \n",
              "11 Degrees             33             33         33              33   \n",
              "1822 Denim              8              8          8               8   \n",
              "3.1 Phillip Lim        10             10         10              10   \n",
              "...                   ...            ...        ...             ...   \n",
              "ghd                    35             35         35              35   \n",
              "kensie                  1              1          1               1   \n",
              "liquid blue            52             52         52              52   \n",
              "mixxmix                12             12         12              12   \n",
              "philosophy              4              4          4               4   \n",
              "\n",
              "                 product_code  category  currency  price  date  \n",
              "brand                                                           \n",
              "& Other Stories           151       151       151    151   151  \n",
              "032c                       11        11        11     11    11  \n",
              "11 Degrees                 33        33        33     33    33  \n",
              "1822 Denim                  8         8         8      8     8  \n",
              "3.1 Phillip Lim            10        10        10     10    10  \n",
              "...                       ...       ...       ...    ...   ...  \n",
              "ghd                        35        35        35     35    35  \n",
              "kensie                      1         1         1      1     1  \n",
              "liquid blue                52        52        52     52    52  \n",
              "mixxmix                    12        12        12     12    12  \n",
              "philosophy                  4         4         4      4     4  \n",
              "\n",
              "[1134 rows x 9 columns]"
            ]
          },
          "execution_count": 42,
          "metadata": {},
          "output_type": "execute_result"
        }
      ],
      "source": [
        "sayılar = df_sales.groupby(\"brand\").count()\n",
        "sayılar\n",
        "\n"
      ]
    },
    {
      "cell_type": "code",
      "execution_count": null,
      "id": "e8f08fc9",
      "metadata": {
        "id": "e8f08fc9",
        "outputId": "3e8feb5b-a476-45ab-ca9c-2efaf324b541"
      },
      "outputs": [
        {
          "data": {
            "text/plain": [
              "(81, 9)"
            ]
          },
          "execution_count": 43,
          "metadata": {},
          "output_type": "execute_result"
        }
      ],
      "source": [
        "sayılar[(sayılar.price >= 35) & (sayılar.price <= 55)].shape"
      ]
    },
    {
      "cell_type": "markdown",
      "id": "a0515019",
      "metadata": {
        "id": "a0515019"
      },
      "source": [
        "#### 8. How many pairs of shoes were purchased by Australian (AU) buyers?\n",
        "#### ***8. Avustralyalı (AU) alıcılar kaç çift ayakkabı satın aldı?***"
      ]
    },
    {
      "cell_type": "code",
      "execution_count": null,
      "id": "ff768c75",
      "metadata": {
        "id": "ff768c75",
        "outputId": "16ff39f1-e9b8-4391-bce9-3b731bef0dce"
      },
      "outputs": [
        {
          "data": {
            "text/html": [
              "<div>\n",
              "<style scoped>\n",
              "    .dataframe tbody tr th:only-of-type {\n",
              "        vertical-align: middle;\n",
              "    }\n",
              "\n",
              "    .dataframe tbody tr th {\n",
              "        vertical-align: top;\n",
              "    }\n",
              "\n",
              "    .dataframe thead th {\n",
              "        text-align: right;\n",
              "    }\n",
              "</style>\n",
              "<table border=\"1\" class=\"dataframe\">\n",
              "  <thead>\n",
              "    <tr style=\"text-align: right;\">\n",
              "      <th></th>\n",
              "      <th>buyer_id</th>\n",
              "      <th>buyer_country</th>\n",
              "      <th>seller_id</th>\n",
              "      <th>seller_country</th>\n",
              "      <th>product_code</th>\n",
              "      <th>category</th>\n",
              "      <th>brand</th>\n",
              "      <th>currency</th>\n",
              "      <th>price</th>\n",
              "      <th>date</th>\n",
              "    </tr>\n",
              "  </thead>\n",
              "  <tbody>\n",
              "    <tr>\n",
              "      <th>0</th>\n",
              "      <td>qzpjsi9t0o</td>\n",
              "      <td>GB</td>\n",
              "      <td>6oufpaot</td>\n",
              "      <td>GB</td>\n",
              "      <td>ydecnydr6obf</td>\n",
              "      <td>Dresses</td>\n",
              "      <td>NaN</td>\n",
              "      <td>GBP</td>\n",
              "      <td>19.11</td>\n",
              "      <td>2020-08-03</td>\n",
              "    </tr>\n",
              "  </tbody>\n",
              "</table>\n",
              "</div>"
            ],
            "text/plain": [
              "     buyer_id buyer_country seller_id seller_country  product_code category  \\\n",
              "0  qzpjsi9t0o            GB  6oufpaot             GB  ydecnydr6obf  Dresses   \n",
              "\n",
              "  brand currency  price        date  \n",
              "0   NaN      GBP  19.11  2020-08-03  "
            ]
          },
          "execution_count": 44,
          "metadata": {},
          "output_type": "execute_result"
        }
      ],
      "source": [
        "df_sales.head(1)"
      ]
    },
    {
      "cell_type": "code",
      "execution_count": null,
      "id": "261005ac",
      "metadata": {
        "id": "261005ac",
        "outputId": "039c2a28-4f80-4ea0-cf21-201ad852fdb8"
      },
      "outputs": [
        {
          "data": {
            "text/plain": [
              "Tops - Womens        45450\n",
              "Tops - Mens          32611\n",
              "Bottoms - Womens     30001\n",
              "Shoes                21764\n",
              "Accessories          21153\n",
              "Dresses              19238\n",
              "Jewellery            14923\n",
              "Beauty                8746\n",
              "Other                 6599\n",
              "Outerwear             6321\n",
              "Bottoms - Mens        5763\n",
              "Lingerie              5301\n",
              "Outerwear - Mens      4156\n",
              "Tech                  3496\n",
              "Home                  3477\n",
              "Music                 2510\n",
              "Kids                  2135\n",
              "Art                   1777\n",
              "Books & magazines     1081\n",
              "Film                   466\n",
              "Sports equipment       413\n",
              "Underwear              177\n",
              "Transportation          90\n",
              "UNSPECIFIED              7\n",
              "Name: category, dtype: int64"
            ]
          },
          "execution_count": 45,
          "metadata": {},
          "output_type": "execute_result"
        }
      ],
      "source": [
        "df_sales.category.value_counts()"
      ]
    },
    {
      "cell_type": "code",
      "execution_count": null,
      "id": "409da8b2",
      "metadata": {
        "id": "409da8b2",
        "outputId": "709b22d1-fffe-45ce-9e70-65079d11213a"
      },
      "outputs": [
        {
          "data": {
            "text/plain": [
              "GB     134704\n",
              "US      82661\n",
              "AU       7868\n",
              "IE       4046\n",
              "RoW      2880\n",
              "IT       2532\n",
              "CA       2247\n",
              "DE        466\n",
              "FR        267\n",
              "Name: buyer_country, dtype: int64"
            ]
          },
          "execution_count": 46,
          "metadata": {},
          "output_type": "execute_result"
        }
      ],
      "source": [
        "df_sales.buyer_country.value_counts()"
      ]
    },
    {
      "cell_type": "code",
      "execution_count": null,
      "id": "fd676dab",
      "metadata": {
        "id": "fd676dab",
        "outputId": "451b82d3-ad60-4518-d63e-729bb855d4ca"
      },
      "outputs": [
        {
          "data": {
            "text/plain": [
              "658"
            ]
          },
          "execution_count": 83,
          "metadata": {},
          "output_type": "execute_result"
        }
      ],
      "source": [
        "df_sales[(df_sales['category']=='Shoes') & (df_sales['buyer_country']=='AU')].shape[0]"
      ]
    },
    {
      "cell_type": "markdown",
      "id": "58c436d9",
      "metadata": {
        "id": "58c436d9"
      },
      "source": [
        "#### 9. Which brand has the highest average transaction value?\n",
        "#### 9. Hangi marka en yüksek ortalama işlem değerine sahip? "
      ]
    },
    {
      "cell_type": "code",
      "execution_count": null,
      "id": "62a2e6b6",
      "metadata": {
        "id": "62a2e6b6",
        "outputId": "146c440f-ebca-4cc3-b316-7f76550af214"
      },
      "outputs": [
        {
          "data": {
            "text/html": [
              "<div>\n",
              "<style scoped>\n",
              "    .dataframe tbody tr th:only-of-type {\n",
              "        vertical-align: middle;\n",
              "    }\n",
              "\n",
              "    .dataframe tbody tr th {\n",
              "        vertical-align: top;\n",
              "    }\n",
              "\n",
              "    .dataframe thead th {\n",
              "        text-align: right;\n",
              "    }\n",
              "</style>\n",
              "<table border=\"1\" class=\"dataframe\">\n",
              "  <thead>\n",
              "    <tr style=\"text-align: right;\">\n",
              "      <th></th>\n",
              "      <th>buyer_id</th>\n",
              "      <th>buyer_country</th>\n",
              "      <th>seller_id</th>\n",
              "      <th>seller_country</th>\n",
              "      <th>product_code</th>\n",
              "      <th>category</th>\n",
              "      <th>brand</th>\n",
              "      <th>currency</th>\n",
              "      <th>price</th>\n",
              "      <th>date</th>\n",
              "      <th>rate</th>\n",
              "      <th>total</th>\n",
              "    </tr>\n",
              "  </thead>\n",
              "  <tbody>\n",
              "    <tr>\n",
              "      <th>0</th>\n",
              "      <td>qzpjsi9t0o</td>\n",
              "      <td>GB</td>\n",
              "      <td>6oufpaot</td>\n",
              "      <td>GB</td>\n",
              "      <td>ydecnydr6obf</td>\n",
              "      <td>Dresses</td>\n",
              "      <td>NaN</td>\n",
              "      <td>GBP</td>\n",
              "      <td>19.11</td>\n",
              "      <td>2020-08-03</td>\n",
              "      <td>0.89935</td>\n",
              "      <td>21.24868</td>\n",
              "    </tr>\n",
              "  </tbody>\n",
              "</table>\n",
              "</div>"
            ],
            "text/plain": [
              "     buyer_id buyer_country seller_id seller_country  product_code category  \\\n",
              "0  qzpjsi9t0o            GB  6oufpaot             GB  ydecnydr6obf  Dresses   \n",
              "\n",
              "  brand currency  price       date     rate     total  \n",
              "0   NaN      GBP  19.11 2020-08-03  0.89935  21.24868  "
            ]
          },
          "execution_count": 47,
          "metadata": {},
          "output_type": "execute_result"
        }
      ],
      "source": [
        "df_new.head(1)"
      ]
    },
    {
      "cell_type": "code",
      "execution_count": null,
      "id": "544748aa",
      "metadata": {
        "id": "544748aa",
        "outputId": "d5d3b5f9-b80f-499b-9656-2a469d9a4fcc"
      },
      "outputs": [
        {
          "data": {
            "text/plain": [
              "brand\n",
              "Goyard    338.926936\n",
              "Name: total, dtype: float64"
            ]
          },
          "execution_count": 122,
          "metadata": {},
          "output_type": "execute_result"
        }
      ],
      "source": [
        "df_new.groupby('brand')['total'].mean().sort_values(ascending=False).head(1)"
      ]
    },
    {
      "cell_type": "markdown",
      "id": "cfa9bec3",
      "metadata": {
        "id": "cfa9bec3"
      },
      "source": [
        "#### 10. What is the total value of items purchased by GB buyers from GB sellers?\n",
        "#### 10. GB alıcılar tarafından GB satıcılarından satın alınan ürünlerin toplam değeri nedir? "
      ]
    },
    {
      "cell_type": "code",
      "execution_count": null,
      "id": "6376e8f1",
      "metadata": {
        "id": "6376e8f1",
        "outputId": "b8abea60-59a5-43fc-8772-e5909cd27e21"
      },
      "outputs": [
        {
          "data": {
            "text/plain": [
              "3526745.033129233"
            ]
          },
          "execution_count": 93,
          "metadata": {},
          "output_type": "execute_result"
        }
      ],
      "source": [
        "df_new[(df_new['seller_country']=='GB') & (df_new['buyer_country']=='GB')].total.sum()"
      ]
    },
    {
      "cell_type": "code",
      "execution_count": null,
      "id": "6efbb634",
      "metadata": {
        "id": "6efbb634",
        "outputId": "1ad92519-a018-429e-887f-de3d564ea665"
      },
      "outputs": [
        {
          "data": {
            "text/plain": [
              "3184495.5799999996"
            ]
          },
          "execution_count": 48,
          "metadata": {},
          "output_type": "execute_result"
        }
      ],
      "source": [
        "df_new[(df_new['seller_country']=='GB') & (df_new['buyer_country']=='GB')].price.sum()"
      ]
    },
    {
      "cell_type": "markdown",
      "id": "13678975",
      "metadata": {
        "id": "13678975"
      },
      "source": [
        "#### 11. What percentage of US sellers' transactions were purchased by US buyers?\n",
        "#### 11. ABD'li satıcıların işlemlerinin yüzde kaçı ABD'li alıcılar tarafından satın alındı? "
      ]
    },
    {
      "cell_type": "code",
      "execution_count": null,
      "id": "40c3574a",
      "metadata": {
        "id": "40c3574a",
        "outputId": "5806c8b1-093f-457d-ccc6-17f0ecabd534"
      },
      "outputs": [
        {
          "data": {
            "text/html": [
              "<div>\n",
              "<style scoped>\n",
              "    .dataframe tbody tr th:only-of-type {\n",
              "        vertical-align: middle;\n",
              "    }\n",
              "\n",
              "    .dataframe tbody tr th {\n",
              "        vertical-align: top;\n",
              "    }\n",
              "\n",
              "    .dataframe thead th {\n",
              "        text-align: right;\n",
              "    }\n",
              "</style>\n",
              "<table border=\"1\" class=\"dataframe\">\n",
              "  <thead>\n",
              "    <tr style=\"text-align: right;\">\n",
              "      <th></th>\n",
              "      <th>buyer_id</th>\n",
              "      <th>buyer_country</th>\n",
              "      <th>seller_id</th>\n",
              "      <th>seller_country</th>\n",
              "      <th>product_code</th>\n",
              "      <th>category</th>\n",
              "      <th>brand</th>\n",
              "      <th>currency</th>\n",
              "      <th>price</th>\n",
              "      <th>date</th>\n",
              "      <th>rate</th>\n",
              "      <th>total</th>\n",
              "    </tr>\n",
              "  </thead>\n",
              "  <tbody>\n",
              "    <tr>\n",
              "      <th>0</th>\n",
              "      <td>qzpjsi9t0o</td>\n",
              "      <td>GB</td>\n",
              "      <td>6oufpaot</td>\n",
              "      <td>GB</td>\n",
              "      <td>ydecnydr6obf</td>\n",
              "      <td>Dresses</td>\n",
              "      <td>NaN</td>\n",
              "      <td>GBP</td>\n",
              "      <td>19.11</td>\n",
              "      <td>2020-08-03</td>\n",
              "      <td>0.89935</td>\n",
              "      <td>21.248680</td>\n",
              "    </tr>\n",
              "    <tr>\n",
              "      <th>1</th>\n",
              "      <td>rd209r8c7c</td>\n",
              "      <td>GB</td>\n",
              "      <td>9p2ansc9</td>\n",
              "      <td>GB</td>\n",
              "      <td>wpxxf59cq7pc</td>\n",
              "      <td>Outerwear - Mens</td>\n",
              "      <td>Adidas Originals</td>\n",
              "      <td>GBP</td>\n",
              "      <td>24.91</td>\n",
              "      <td>2020-08-03</td>\n",
              "      <td>0.89935</td>\n",
              "      <td>27.697782</td>\n",
              "    </tr>\n",
              "    <tr>\n",
              "      <th>2</th>\n",
              "      <td>pqbcrl8azx</td>\n",
              "      <td>GB</td>\n",
              "      <td>r9zmzem8</td>\n",
              "      <td>GB</td>\n",
              "      <td>ua9mmn86wsqy</td>\n",
              "      <td>Tops - Womens</td>\n",
              "      <td>NaN</td>\n",
              "      <td>GBP</td>\n",
              "      <td>19.31</td>\n",
              "      <td>2020-08-03</td>\n",
              "      <td>0.89935</td>\n",
              "      <td>21.471062</td>\n",
              "    </tr>\n",
              "    <tr>\n",
              "      <th>3</th>\n",
              "      <td>j5en1rwmxp</td>\n",
              "      <td>GB</td>\n",
              "      <td>3o2nz88r</td>\n",
              "      <td>GB</td>\n",
              "      <td>tduo2uy8iszl</td>\n",
              "      <td>Bottoms - Womens</td>\n",
              "      <td>Urban Outfitters</td>\n",
              "      <td>GBP</td>\n",
              "      <td>16.98</td>\n",
              "      <td>2020-08-03</td>\n",
              "      <td>0.89935</td>\n",
              "      <td>18.880302</td>\n",
              "    </tr>\n",
              "    <tr>\n",
              "      <th>4</th>\n",
              "      <td>kjdezxeh1l</td>\n",
              "      <td>GB</td>\n",
              "      <td>7g56ublf</td>\n",
              "      <td>GB</td>\n",
              "      <td>39o00tcu89zq</td>\n",
              "      <td>Other</td>\n",
              "      <td>NaN</td>\n",
              "      <td>GBP</td>\n",
              "      <td>2.85</td>\n",
              "      <td>2020-08-03</td>\n",
              "      <td>0.89935</td>\n",
              "      <td>3.168955</td>\n",
              "    </tr>\n",
              "  </tbody>\n",
              "</table>\n",
              "</div>"
            ],
            "text/plain": [
              "     buyer_id buyer_country seller_id seller_country  product_code  \\\n",
              "0  qzpjsi9t0o            GB  6oufpaot             GB  ydecnydr6obf   \n",
              "1  rd209r8c7c            GB  9p2ansc9             GB  wpxxf59cq7pc   \n",
              "2  pqbcrl8azx            GB  r9zmzem8             GB  ua9mmn86wsqy   \n",
              "3  j5en1rwmxp            GB  3o2nz88r             GB  tduo2uy8iszl   \n",
              "4  kjdezxeh1l            GB  7g56ublf             GB  39o00tcu89zq   \n",
              "\n",
              "           category             brand currency  price       date     rate  \\\n",
              "0           Dresses               NaN      GBP  19.11 2020-08-03  0.89935   \n",
              "1  Outerwear - Mens  Adidas Originals      GBP  24.91 2020-08-03  0.89935   \n",
              "2     Tops - Womens               NaN      GBP  19.31 2020-08-03  0.89935   \n",
              "3  Bottoms - Womens  Urban Outfitters      GBP  16.98 2020-08-03  0.89935   \n",
              "4             Other               NaN      GBP   2.85 2020-08-03  0.89935   \n",
              "\n",
              "       total  \n",
              "0  21.248680  \n",
              "1  27.697782  \n",
              "2  21.471062  \n",
              "3  18.880302  \n",
              "4   3.168955  "
            ]
          },
          "execution_count": 49,
          "metadata": {},
          "output_type": "execute_result"
        }
      ],
      "source": [
        "df_new.head(5)"
      ]
    },
    {
      "cell_type": "code",
      "execution_count": null,
      "id": "6ee67b2a",
      "metadata": {
        "id": "6ee67b2a"
      },
      "outputs": [],
      "source": [
        "x = df_new[(df_new['seller_country']=='US') & (df_new['buyer_country']=='US')].total.sum()"
      ]
    },
    {
      "cell_type": "code",
      "execution_count": null,
      "id": "0677d30b",
      "metadata": {
        "id": "0677d30b"
      },
      "outputs": [],
      "source": [
        "y = df_new[(df_new['seller_country']=='US')].total.sum()"
      ]
    },
    {
      "cell_type": "code",
      "execution_count": null,
      "id": "a2aa0cd4",
      "metadata": {
        "id": "a2aa0cd4",
        "outputId": "b834975b-994e-4bc2-e717-5478bfc192ac"
      },
      "outputs": [
        {
          "data": {
            "text/plain": [
              "0.9596922067159569"
            ]
          },
          "execution_count": 52,
          "metadata": {},
          "output_type": "execute_result"
        }
      ],
      "source": [
        "x/y"
      ]
    },
    {
      "cell_type": "code",
      "execution_count": null,
      "id": "823f28e4",
      "metadata": {
        "id": "823f28e4",
        "outputId": "8058cf30-2bb4-4585-df51-3438c0b2321e"
      },
      "outputs": [
        {
          "data": {
            "text/plain": [
              "0.9596922067159569"
            ]
          },
          "execution_count": 53,
          "metadata": {},
          "output_type": "execute_result"
        }
      ],
      "source": [
        "df_new[(df_new['seller_country']=='US') & (df_new['buyer_country']=='US')].total.sum() / df_new[(df_new['seller_country']=='US')].total.sum()"
      ]
    },
    {
      "cell_type": "code",
      "execution_count": null,
      "id": "fcaebf63",
      "metadata": {
        "id": "fcaebf63"
      },
      "outputs": [],
      "source": [
        ""
      ]
    }
  ],
  "metadata": {
    "kernelspec": {
      "display_name": "Python 3",
      "language": "python",
      "name": "python3"
    },
    "language_info": {
      "codemirror_mode": {
        "name": "ipython",
        "version": 3
      },
      "file_extension": ".py",
      "mimetype": "text/x-python",
      "name": "python",
      "nbconvert_exporter": "python",
      "pygments_lexer": "ipython3",
      "version": "3.9.7"
    },
    "colab": {
      "name": "Time_Sensitive_Interview_Task-1.ipynb",
      "provenance": [],
      "include_colab_link": true
    }
  },
  "nbformat": 4,
  "nbformat_minor": 5
}