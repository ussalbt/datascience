{
  "cells": [
    {
      "cell_type": "markdown",
      "metadata": {
        "id": "view-in-github",
        "colab_type": "text"
      },
      "source": [
        "<a href=\"https://colab.research.google.com/github/ussalbt/datascience/blob/main/Q_28_01_datetime.ipynb\" target=\"_parent\"><img src=\"https://colab.research.google.com/assets/colab-badge.svg\" alt=\"Open In Colab\"/></a>"
      ]
    },
    {
      "cell_type": "code",
      "execution_count": null,
      "id": "6eb02b76",
      "metadata": {
        "id": "6eb02b76"
      },
      "outputs": [],
      "source": [
        "import pandas as pd\n",
        "import numpy as np\n",
        "from scipy import stats\n",
        "import re\n",
        "\n",
        "# to avoid warnings\n",
        "import warnings\n",
        "warnings.filterwarnings('ignore')\n",
        "warnings.warn(\"this will not show\")"
      ]
    },
    {
      "cell_type": "markdown",
      "id": "ced26254",
      "metadata": {
        "id": "ced26254"
      },
      "source": [
        "## Question-3\n",
        "Convert and merge json files into one Pandas.Dataframe"
      ]
    },
    {
      "cell_type": "code",
      "execution_count": null,
      "id": "93a66c12",
      "metadata": {
        "id": "93a66c12"
      },
      "outputs": [],
      "source": [
        "Json1 = [{'name': 'JOHN', \n",
        "          'age': 27}, \n",
        "         {'name': 'HENRY2', \n",
        "          'age': 14}]\n",
        "\n",
        "Json2 = {1:{'name': 'vikash', \n",
        "             'age': 27}, \n",
        "         2:{'name': 'Satyam', \n",
        "            'age': 14} }\n",
        "\n",
        "data = [{'id': 1, \n",
        "         'name': \"Cole Volk\", \n",
        "         'fitness': {'height': 130, 'weight': 60}}, \n",
        "        {'name': \"Mose Reg\",\n",
        "         'fitness': {'height': 130, 'weight': 60}}, \n",
        "        {'id': 2, \n",
        "         'name': 'Faye Raker', \n",
        "         'fitness': {'height': 130, 'weight':60}}]"
      ]
    },
    {
      "cell_type": "code",
      "execution_count": null,
      "id": "efb7a5cd",
      "metadata": {
        "id": "efb7a5cd",
        "outputId": "c2197913-d8c3-4623-8b6f-885c2405996d"
      },
      "outputs": [
        {
          "data": {
            "text/html": [
              "<div>\n",
              "<style scoped>\n",
              "    .dataframe tbody tr th:only-of-type {\n",
              "        vertical-align: middle;\n",
              "    }\n",
              "\n",
              "    .dataframe tbody tr th {\n",
              "        vertical-align: top;\n",
              "    }\n",
              "\n",
              "    .dataframe thead th {\n",
              "        text-align: right;\n",
              "    }\n",
              "</style>\n",
              "<table border=\"1\" class=\"dataframe\">\n",
              "  <thead>\n",
              "    <tr style=\"text-align: right;\">\n",
              "      <th></th>\n",
              "      <th>name</th>\n",
              "      <th>age</th>\n",
              "    </tr>\n",
              "  </thead>\n",
              "  <tbody>\n",
              "    <tr>\n",
              "      <th>0</th>\n",
              "      <td>JOHN</td>\n",
              "      <td>27</td>\n",
              "    </tr>\n",
              "    <tr>\n",
              "      <th>1</th>\n",
              "      <td>HENRY2</td>\n",
              "      <td>14</td>\n",
              "    </tr>\n",
              "  </tbody>\n",
              "</table>\n",
              "</div>"
            ],
            "text/plain": [
              "     name  age\n",
              "0    JOHN   27\n",
              "1  HENRY2   14"
            ]
          },
          "execution_count": 3,
          "metadata": {},
          "output_type": "execute_result"
        }
      ],
      "source": [
        "# Create df1 from Json1\n",
        "df1=pd.DataFrame(Json1)\n",
        "df1\n",
        "\n",
        "# df1 = pd.json_normalize(Json1)\n",
        "# df1\n",
        "\n",
        "# df1 = pd.DataFrame.from_dict(Json1, orient = 'columns')\n",
        "# df1\n"
      ]
    },
    {
      "cell_type": "code",
      "execution_count": null,
      "id": "61a24b90",
      "metadata": {
        "id": "61a24b90",
        "outputId": "0203311e-db9e-4a17-c80a-ac5ba9beca57"
      },
      "outputs": [
        {
          "data": {
            "text/html": [
              "<div>\n",
              "<style scoped>\n",
              "    .dataframe tbody tr th:only-of-type {\n",
              "        vertical-align: middle;\n",
              "    }\n",
              "\n",
              "    .dataframe tbody tr th {\n",
              "        vertical-align: top;\n",
              "    }\n",
              "\n",
              "    .dataframe thead th {\n",
              "        text-align: right;\n",
              "    }\n",
              "</style>\n",
              "<table border=\"1\" class=\"dataframe\">\n",
              "  <thead>\n",
              "    <tr style=\"text-align: right;\">\n",
              "      <th></th>\n",
              "      <th>name</th>\n",
              "      <th>age</th>\n",
              "    </tr>\n",
              "  </thead>\n",
              "  <tbody>\n",
              "    <tr>\n",
              "      <th>1</th>\n",
              "      <td>vikash</td>\n",
              "      <td>27</td>\n",
              "    </tr>\n",
              "    <tr>\n",
              "      <th>2</th>\n",
              "      <td>Satyam</td>\n",
              "      <td>14</td>\n",
              "    </tr>\n",
              "  </tbody>\n",
              "</table>\n",
              "</div>"
            ],
            "text/plain": [
              "     name age\n",
              "1  vikash  27\n",
              "2  Satyam  14"
            ]
          },
          "execution_count": 4,
          "metadata": {},
          "output_type": "execute_result"
        }
      ],
      "source": [
        "# Create df2 from Json2\n",
        "df2=pd.DataFrame(Json2).T\n",
        "df2\n",
        "\n",
        "# df2 = pd.DataFrame.from_dict(Json2, orient = 'columns').T\n",
        "# df2"
      ]
    },
    {
      "cell_type": "code",
      "execution_count": null,
      "id": "b1b52987",
      "metadata": {
        "id": "b1b52987",
        "outputId": "65264c9d-49dd-4f96-e58a-bf60e0e7a138"
      },
      "outputs": [
        {
          "data": {
            "text/html": [
              "<div>\n",
              "<style scoped>\n",
              "    .dataframe tbody tr th:only-of-type {\n",
              "        vertical-align: middle;\n",
              "    }\n",
              "\n",
              "    .dataframe tbody tr th {\n",
              "        vertical-align: top;\n",
              "    }\n",
              "\n",
              "    .dataframe thead th {\n",
              "        text-align: right;\n",
              "    }\n",
              "</style>\n",
              "<table border=\"1\" class=\"dataframe\">\n",
              "  <thead>\n",
              "    <tr style=\"text-align: right;\">\n",
              "      <th></th>\n",
              "      <th>name</th>\n",
              "      <th>age</th>\n",
              "    </tr>\n",
              "  </thead>\n",
              "  <tbody>\n",
              "    <tr>\n",
              "      <th>0</th>\n",
              "      <td>JOHN</td>\n",
              "      <td>27</td>\n",
              "    </tr>\n",
              "    <tr>\n",
              "      <th>1</th>\n",
              "      <td>HENRY2</td>\n",
              "      <td>14</td>\n",
              "    </tr>\n",
              "    <tr>\n",
              "      <th>2</th>\n",
              "      <td>vikash</td>\n",
              "      <td>27</td>\n",
              "    </tr>\n",
              "    <tr>\n",
              "      <th>3</th>\n",
              "      <td>Satyam</td>\n",
              "      <td>14</td>\n",
              "    </tr>\n",
              "  </tbody>\n",
              "</table>\n",
              "</div>"
            ],
            "text/plain": [
              "     name age\n",
              "0    JOHN  27\n",
              "1  HENRY2  14\n",
              "2  vikash  27\n",
              "3  Satyam  14"
            ]
          },
          "execution_count": 6,
          "metadata": {},
          "output_type": "execute_result"
        }
      ],
      "source": [
        "# Concatenate df1 and df2 data frame\n",
        "df3 = pd.concat([df1, df2], sort=False, ignore_index = True)\n",
        "df3"
      ]
    },
    {
      "cell_type": "code",
      "execution_count": null,
      "id": "0c16b9bc",
      "metadata": {
        "id": "0c16b9bc",
        "outputId": "848de0e7-7803-49a2-c4e6-680f37368d15"
      },
      "outputs": [
        {
          "data": {
            "text/html": [
              "<div>\n",
              "<style scoped>\n",
              "    .dataframe tbody tr th:only-of-type {\n",
              "        vertical-align: middle;\n",
              "    }\n",
              "\n",
              "    .dataframe tbody tr th {\n",
              "        vertical-align: top;\n",
              "    }\n",
              "\n",
              "    .dataframe thead th {\n",
              "        text-align: right;\n",
              "    }\n",
              "</style>\n",
              "<table border=\"1\" class=\"dataframe\">\n",
              "  <thead>\n",
              "    <tr style=\"text-align: right;\">\n",
              "      <th></th>\n",
              "      <th>id</th>\n",
              "      <th>name</th>\n",
              "      <th>fitness</th>\n",
              "    </tr>\n",
              "  </thead>\n",
              "  <tbody>\n",
              "    <tr>\n",
              "      <th>0</th>\n",
              "      <td>1.0</td>\n",
              "      <td>Cole Volk</td>\n",
              "      <td>{'height': 130, 'weight': 60}</td>\n",
              "    </tr>\n",
              "    <tr>\n",
              "      <th>1</th>\n",
              "      <td>NaN</td>\n",
              "      <td>Mose Reg</td>\n",
              "      <td>{'height': 130, 'weight': 60}</td>\n",
              "    </tr>\n",
              "    <tr>\n",
              "      <th>2</th>\n",
              "      <td>2.0</td>\n",
              "      <td>Faye Raker</td>\n",
              "      <td>{'height': 130, 'weight': 60}</td>\n",
              "    </tr>\n",
              "  </tbody>\n",
              "</table>\n",
              "</div>"
            ],
            "text/plain": [
              "    id        name                        fitness\n",
              "0  1.0   Cole Volk  {'height': 130, 'weight': 60}\n",
              "1  NaN    Mose Reg  {'height': 130, 'weight': 60}\n",
              "2  2.0  Faye Raker  {'height': 130, 'weight': 60}"
            ]
          },
          "execution_count": 7,
          "metadata": {},
          "output_type": "execute_result"
        }
      ],
      "source": [
        "# Create df dataframe from data\n",
        "df=pd.DataFrame(data)\n",
        "df\n",
        "\n",
        "# df = pd.DataFrame.from_dict(data, orient = 'columns')\n",
        "# df\n",
        "\n",
        "# df = pd.json_normalize(data, max_level = 1)\n",
        "# df"
      ]
    },
    {
      "cell_type": "code",
      "execution_count": null,
      "id": "e36adb90",
      "metadata": {
        "id": "e36adb90",
        "outputId": "aa5273ae-37aa-4cf4-ae8e-78b078df5c8c"
      },
      "outputs": [
        {
          "data": {
            "text/html": [
              "<div>\n",
              "<style scoped>\n",
              "    .dataframe tbody tr th:only-of-type {\n",
              "        vertical-align: middle;\n",
              "    }\n",
              "\n",
              "    .dataframe tbody tr th {\n",
              "        vertical-align: top;\n",
              "    }\n",
              "\n",
              "    .dataframe thead th {\n",
              "        text-align: right;\n",
              "    }\n",
              "</style>\n",
              "<table border=\"1\" class=\"dataframe\">\n",
              "  <thead>\n",
              "    <tr style=\"text-align: right;\">\n",
              "      <th></th>\n",
              "      <th>height</th>\n",
              "      <th>weight</th>\n",
              "    </tr>\n",
              "  </thead>\n",
              "  <tbody>\n",
              "    <tr>\n",
              "      <th>0</th>\n",
              "      <td>130</td>\n",
              "      <td>60</td>\n",
              "    </tr>\n",
              "    <tr>\n",
              "      <th>1</th>\n",
              "      <td>130</td>\n",
              "      <td>60</td>\n",
              "    </tr>\n",
              "    <tr>\n",
              "      <th>2</th>\n",
              "      <td>130</td>\n",
              "      <td>60</td>\n",
              "    </tr>\n",
              "  </tbody>\n",
              "</table>\n",
              "</div>"
            ],
            "text/plain": [
              "   height  weight\n",
              "0     130      60\n",
              "1     130      60\n",
              "2     130      60"
            ]
          },
          "execution_count": 8,
          "metadata": {},
          "output_type": "execute_result"
        }
      ],
      "source": [
        "# Create df4 Dataframe from df.fitness\n",
        "df4=pd.DataFrame([i for i in df.fitness])\n",
        "df4"
      ]
    },
    {
      "cell_type": "code",
      "execution_count": null,
      "id": "3aeba0ad",
      "metadata": {
        "id": "3aeba0ad",
        "outputId": "25b74b59-e7f0-4d39-ab7b-ef527196b7ab"
      },
      "outputs": [
        {
          "data": {
            "text/html": [
              "<div>\n",
              "<style scoped>\n",
              "    .dataframe tbody tr th:only-of-type {\n",
              "        vertical-align: middle;\n",
              "    }\n",
              "\n",
              "    .dataframe tbody tr th {\n",
              "        vertical-align: top;\n",
              "    }\n",
              "\n",
              "    .dataframe thead th {\n",
              "        text-align: right;\n",
              "    }\n",
              "</style>\n",
              "<table border=\"1\" class=\"dataframe\">\n",
              "  <thead>\n",
              "    <tr style=\"text-align: right;\">\n",
              "      <th></th>\n",
              "      <th>id</th>\n",
              "      <th>name</th>\n",
              "      <th>height</th>\n",
              "      <th>weight</th>\n",
              "    </tr>\n",
              "  </thead>\n",
              "  <tbody>\n",
              "    <tr>\n",
              "      <th>0</th>\n",
              "      <td>1.0</td>\n",
              "      <td>Cole Volk</td>\n",
              "      <td>130</td>\n",
              "      <td>60</td>\n",
              "    </tr>\n",
              "    <tr>\n",
              "      <th>1</th>\n",
              "      <td>NaN</td>\n",
              "      <td>Mose Reg</td>\n",
              "      <td>130</td>\n",
              "      <td>60</td>\n",
              "    </tr>\n",
              "    <tr>\n",
              "      <th>2</th>\n",
              "      <td>2.0</td>\n",
              "      <td>Faye Raker</td>\n",
              "      <td>130</td>\n",
              "      <td>60</td>\n",
              "    </tr>\n",
              "  </tbody>\n",
              "</table>\n",
              "</div>"
            ],
            "text/plain": [
              "    id        name  height  weight\n",
              "0  1.0   Cole Volk     130      60\n",
              "1  NaN    Mose Reg     130      60\n",
              "2  2.0  Faye Raker     130      60"
            ]
          },
          "execution_count": 9,
          "metadata": {},
          "output_type": "execute_result"
        }
      ],
      "source": [
        "# Concatenate df and df4 data frame\n",
        "df4 = pd.concat([df,df4],axis=1).drop('fitness',axis=1)\n",
        "df4"
      ]
    },
    {
      "cell_type": "code",
      "execution_count": null,
      "id": "b602633a",
      "metadata": {
        "id": "b602633a",
        "outputId": "951e8b87-f26b-446f-8527-e847825b487d"
      },
      "outputs": [
        {
          "data": {
            "text/html": [
              "<div>\n",
              "<style scoped>\n",
              "    .dataframe tbody tr th:only-of-type {\n",
              "        vertical-align: middle;\n",
              "    }\n",
              "\n",
              "    .dataframe tbody tr th {\n",
              "        vertical-align: top;\n",
              "    }\n",
              "\n",
              "    .dataframe thead th {\n",
              "        text-align: right;\n",
              "    }\n",
              "</style>\n",
              "<table border=\"1\" class=\"dataframe\">\n",
              "  <thead>\n",
              "    <tr style=\"text-align: right;\">\n",
              "      <th></th>\n",
              "      <th>name</th>\n",
              "      <th>age</th>\n",
              "      <th>id</th>\n",
              "      <th>height</th>\n",
              "      <th>weight</th>\n",
              "    </tr>\n",
              "  </thead>\n",
              "  <tbody>\n",
              "    <tr>\n",
              "      <th>0</th>\n",
              "      <td>JOHN</td>\n",
              "      <td>27</td>\n",
              "      <td>NaN</td>\n",
              "      <td>NaN</td>\n",
              "      <td>NaN</td>\n",
              "    </tr>\n",
              "    <tr>\n",
              "      <th>1</th>\n",
              "      <td>HENRY2</td>\n",
              "      <td>14</td>\n",
              "      <td>NaN</td>\n",
              "      <td>NaN</td>\n",
              "      <td>NaN</td>\n",
              "    </tr>\n",
              "    <tr>\n",
              "      <th>2</th>\n",
              "      <td>vikash</td>\n",
              "      <td>27</td>\n",
              "      <td>NaN</td>\n",
              "      <td>NaN</td>\n",
              "      <td>NaN</td>\n",
              "    </tr>\n",
              "    <tr>\n",
              "      <th>3</th>\n",
              "      <td>Satyam</td>\n",
              "      <td>14</td>\n",
              "      <td>NaN</td>\n",
              "      <td>NaN</td>\n",
              "      <td>NaN</td>\n",
              "    </tr>\n",
              "    <tr>\n",
              "      <th>4</th>\n",
              "      <td>Cole Volk</td>\n",
              "      <td>NaN</td>\n",
              "      <td>1.0</td>\n",
              "      <td>130.0</td>\n",
              "      <td>60.0</td>\n",
              "    </tr>\n",
              "    <tr>\n",
              "      <th>5</th>\n",
              "      <td>Mose Reg</td>\n",
              "      <td>NaN</td>\n",
              "      <td>NaN</td>\n",
              "      <td>130.0</td>\n",
              "      <td>60.0</td>\n",
              "    </tr>\n",
              "    <tr>\n",
              "      <th>6</th>\n",
              "      <td>Faye Raker</td>\n",
              "      <td>NaN</td>\n",
              "      <td>2.0</td>\n",
              "      <td>130.0</td>\n",
              "      <td>60.0</td>\n",
              "    </tr>\n",
              "  </tbody>\n",
              "</table>\n",
              "</div>"
            ],
            "text/plain": [
              "         name  age   id  height  weight\n",
              "0        JOHN   27  NaN     NaN     NaN\n",
              "1      HENRY2   14  NaN     NaN     NaN\n",
              "2      vikash   27  NaN     NaN     NaN\n",
              "3      Satyam   14  NaN     NaN     NaN\n",
              "4   Cole Volk  NaN  1.0   130.0    60.0\n",
              "5    Mose Reg  NaN  NaN   130.0    60.0\n",
              "6  Faye Raker  NaN  2.0   130.0    60.0"
            ]
          },
          "execution_count": 10,
          "metadata": {},
          "output_type": "execute_result"
        }
      ],
      "source": [
        "df3.merge(df4, on='name', how='outer')"
      ]
    },
    {
      "cell_type": "markdown",
      "id": "7aa8fa07",
      "metadata": {
        "id": "7aa8fa07"
      },
      "source": [
        "## Question-4\n",
        "How can we convert a Series to DataFrame?"
      ]
    },
    {
      "cell_type": "code",
      "execution_count": null,
      "id": "65f6c3a0",
      "metadata": {
        "id": "65f6c3a0",
        "outputId": "239ac9fa-3186-4252-b624-683998541d1f"
      },
      "outputs": [
        {
          "data": {
            "text/html": [
              "<div>\n",
              "<style scoped>\n",
              "    .dataframe tbody tr th:only-of-type {\n",
              "        vertical-align: middle;\n",
              "    }\n",
              "\n",
              "    .dataframe tbody tr th {\n",
              "        vertical-align: top;\n",
              "    }\n",
              "\n",
              "    .dataframe thead th {\n",
              "        text-align: right;\n",
              "    }\n",
              "</style>\n",
              "<table border=\"1\" class=\"dataframe\">\n",
              "  <thead>\n",
              "    <tr style=\"text-align: right;\">\n",
              "      <th></th>\n",
              "      <th>vals</th>\n",
              "    </tr>\n",
              "  </thead>\n",
              "  <tbody>\n",
              "    <tr>\n",
              "      <th>0</th>\n",
              "      <td>a</td>\n",
              "    </tr>\n",
              "    <tr>\n",
              "      <th>1</th>\n",
              "      <td>b</td>\n",
              "    </tr>\n",
              "    <tr>\n",
              "      <th>2</th>\n",
              "      <td>c</td>\n",
              "    </tr>\n",
              "  </tbody>\n",
              "</table>\n",
              "</div>"
            ],
            "text/plain": [
              "  vals\n",
              "0    a\n",
              "1    b\n",
              "2    c"
            ]
          },
          "execution_count": 11,
          "metadata": {},
          "output_type": "execute_result"
        }
      ],
      "source": [
        "# Solution-1\n",
        "s = pd.Series([\"a\", \"b\", \"c\"],    \n",
        "name=\"vals\")    \n",
        "s.to_frame() "
      ]
    },
    {
      "cell_type": "code",
      "execution_count": null,
      "id": "e4c93cb0",
      "metadata": {
        "id": "e4c93cb0",
        "outputId": "c79aac33-136f-4f62-a094-293363b7c60b"
      },
      "outputs": [
        {
          "data": {
            "text/html": [
              "<div>\n",
              "<style scoped>\n",
              "    .dataframe tbody tr th:only-of-type {\n",
              "        vertical-align: middle;\n",
              "    }\n",
              "\n",
              "    .dataframe tbody tr th {\n",
              "        vertical-align: top;\n",
              "    }\n",
              "\n",
              "    .dataframe thead th {\n",
              "        text-align: right;\n",
              "    }\n",
              "</style>\n",
              "<table border=\"1\" class=\"dataframe\">\n",
              "  <thead>\n",
              "    <tr style=\"text-align: right;\">\n",
              "      <th></th>\n",
              "      <th>vals</th>\n",
              "    </tr>\n",
              "  </thead>\n",
              "  <tbody>\n",
              "    <tr>\n",
              "      <th>0</th>\n",
              "      <td>a</td>\n",
              "    </tr>\n",
              "    <tr>\n",
              "      <th>1</th>\n",
              "      <td>b</td>\n",
              "    </tr>\n",
              "    <tr>\n",
              "      <th>2</th>\n",
              "      <td>c</td>\n",
              "    </tr>\n",
              "  </tbody>\n",
              "</table>\n",
              "</div>"
            ],
            "text/plain": [
              "  vals\n",
              "0    a\n",
              "1    b\n",
              "2    c"
            ]
          },
          "execution_count": 12,
          "metadata": {},
          "output_type": "execute_result"
        }
      ],
      "source": [
        "# Solution-2\n",
        "s = pd.Series([\"a\", \"b\", \"c\"],    \n",
        "name=\"vals\")    \n",
        "pd.DataFrame(s)"
      ]
    },
    {
      "cell_type": "markdown",
      "id": "574b2af0",
      "metadata": {
        "id": "574b2af0"
      },
      "source": [
        "## Question-5\n",
        "How to convert String to date?"
      ]
    },
    {
      "cell_type": "code",
      "execution_count": null,
      "id": "303c82f6",
      "metadata": {
        "id": "303c82f6",
        "outputId": "a6470c70-9bb6-4aaa-83ff-57706332a7c5"
      },
      "outputs": [
        {
          "name": "stdout",
          "output_type": "stream",
          "text": [
            "2018-07-14 00:00:00 2017-07-14 00:00:00 2017-07-14 00:00:00\n"
          ]
        },
        {
          "data": {
            "text/plain": [
              "(datetime.datetime, datetime.datetime, datetime.datetime)"
            ]
          },
          "execution_count": 13,
          "metadata": {},
          "output_type": "execute_result"
        }
      ],
      "source": [
        "from datetime import datetime    \n",
        "    \n",
        "# Define dates as the strings       \n",
        "date_str1 = 'Wednesday, July 14, 2018'    \n",
        "date_str2 = '14/7/17'    \n",
        "date_str3 = '07-14-2017'    \n",
        "    \n",
        "# Define dates as the datetime objects    \n",
        "dmy_dt1 = datetime.strptime(date_str1, '%A, %B %d, %Y')    \n",
        "dmy_dt2 = datetime.strptime(date_str2, '%d/%m/%y')    \n",
        "dmy_dt3 = datetime.strptime(date_str3, '%m-%d-%Y')    \n",
        "    \n",
        "#Print the converted dates    \n",
        "print(dmy_dt1, dmy_dt2, dmy_dt3) \n",
        "\n",
        "type(dmy_dt1), type(dmy_dt2), type(dmy_dt3)"
      ]
    },
    {
      "cell_type": "code",
      "execution_count": null,
      "id": "255f830a",
      "metadata": {
        "id": "255f830a"
      },
      "outputs": [],
      "source": [
        ""
      ]
    },
    {
      "cell_type": "code",
      "execution_count": null,
      "id": "a0863f3f",
      "metadata": {
        "id": "a0863f3f"
      },
      "outputs": [],
      "source": [
        ""
      ]
    },
    {
      "cell_type": "code",
      "execution_count": null,
      "id": "04a6c150",
      "metadata": {
        "id": "04a6c150"
      },
      "outputs": [],
      "source": [
        ""
      ]
    },
    {
      "cell_type": "code",
      "execution_count": null,
      "id": "6248ed1d",
      "metadata": {
        "id": "6248ed1d"
      },
      "outputs": [],
      "source": [
        ""
      ]
    }
  ],
  "metadata": {
    "kernelspec": {
      "display_name": "Python 3 (ipykernel)",
      "language": "python",
      "name": "python3"
    },
    "language_info": {
      "codemirror_mode": {
        "name": "ipython",
        "version": 3
      },
      "file_extension": ".py",
      "mimetype": "text/x-python",
      "name": "python",
      "nbconvert_exporter": "python",
      "pygments_lexer": "ipython3",
      "version": "3.8.12"
    },
    "colab": {
      "name": "Q-28.01.datetime.ipynb",
      "provenance": [],
      "include_colab_link": true
    }
  },
  "nbformat": 4,
  "nbformat_minor": 5
}