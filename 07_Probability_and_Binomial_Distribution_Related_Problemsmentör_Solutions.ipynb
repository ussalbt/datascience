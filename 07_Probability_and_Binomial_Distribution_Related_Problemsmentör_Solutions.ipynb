{
  "cells": [
    {
      "cell_type": "markdown",
      "metadata": {
        "id": "view-in-github",
        "colab_type": "text"
      },
      "source": [
        "<a href=\"https://colab.research.google.com/github/ussalbt/datascience/blob/main/07_Probability_and_Binomial_Distribution_Related_Problemsment%C3%B6r_Solutions.ipynb\" target=\"_parent\"><img src=\"https://colab.research.google.com/assets/colab-badge.svg\" alt=\"Open In Colab\"/></a>"
      ]
    },
    {
      "cell_type": "markdown",
      "metadata": {
        "id": "MgydlXhSztdN"
      },
      "source": [
        "# Binomial Distribution"
      ]
    },
    {
      "cell_type": "markdown",
      "metadata": {
        "id": "clFWmbxaztdR"
      },
      "source": [
        "### Exercise: Checking If a Random Variable Follows a Binomial Distribution"
      ]
    },
    {
      "cell_type": "markdown",
      "metadata": {
        "id": "R0h8f9hQztdS"
      },
      "source": [
        "In this exercise, we will practice how to verify if a random variable follows a binomial distribution. We will also create a random variable using scipy.stats and plot the distribution. This will be a mostly conceptual exercise.\n",
        "\n",
        "Here, we will check if the random variable, Z: number of defective auto parts in a 12-box pack, follows a binomial distribution (remember that we consider 4% of the auto parts are defective). Follow these steps to complete this exercise:"
      ]
    },
    {
      "cell_type": "markdown",
      "metadata": {
        "id": "sKrQbvpQztdS"
      },
      "source": [
        "1.Import NumPy, Matplotlib, and scipy.stats following the usual conventions:"
      ]
    },
    {
      "cell_type": "code",
      "execution_count": 1,
      "metadata": {
        "id": "w7mCDIunztdT"
      },
      "outputs": [],
      "source": [
        "import numpy as np\n",
        "from scipy import stats\n",
        "import matplotlib.pyplot as plt"
      ]
    },
    {
      "cell_type": "markdown",
      "metadata": {
        "id": "QibM1esyztdT"
      },
      "source": [
        "2.Try to conceptually check if Z fulfills the properties given for a binomial random variable:"
      ]
    },
    {
      "cell_type": "markdown",
      "metadata": {
        "id": "V73tg5nkztdU"
      },
      "source": [
        "![image.png](attachment:image.png)"
      ]
    },
    {
      "cell_type": "raw",
      "metadata": {
        "id": "fb6_65hkztdU"
      },
      "source": [
        "popülasyonun P = 0.04 \n",
        "\n",
        "sample sayısı = 12\n",
        "\n",
        "yüzde 4 ihtimalle kutularda kusurlu otomobil parçalarının bulunma oranı\n",
        "\n",
        "kusurlu otomobil parçası sayısı : Z\n",
        "\n",
        "Binomial Experiment Properties göz önüne alındığında:\n",
        "    1. repeated tries var --> 12. yani kutu başına 12 örnek var.\n",
        "    2. otomobil parçasının kusurlu olup olmaması --> two possible outcomes\n",
        "    3. probability of success is constant? 0.04\n",
        "    4. denemeler bağımsızdır. bir parçanın kusurlu olup olmamasının, diğer parçaların kusurlu olup olmamasına etkisi yoktur.\n",
        " \n",
        "P ve n değerleri var ve yukardaki tüm özellikleri karşılıyor. bu bir binomial dağılımdır."
      ]
    },
    {
      "cell_type": "raw",
      "metadata": {
        "id": "oOhCvzWvztdV"
      },
      "source": [
        "Condition 1: For each individual auto part, there are only two possible outcomes, defective or good. Since we were interested in the defective parts, then that outcome can be considered the success, with a fixed probability of 0.04 (4%).\n",
        "\n",
        "Condition 2: The number of parts per box was fixed at 12, so the experiment was performed a fixed number of times per box.\n",
        "\n",
        "Condition 3: We assumed that the defective parts had no relationship between one another because the machine randomly produces an average of 4% defective parts."
      ]
    },
    {
      "cell_type": "markdown",
      "metadata": {
        "id": "4Ek5H-ZtztdW"
      },
      "source": [
        "3.Determine the p and n parameters for the distributions of this variable, that is, p = 0.04 and n = 12."
      ]
    },
    {
      "cell_type": "code",
      "execution_count": 2,
      "metadata": {
        "id": "ukHIp0hGztdW"
      },
      "outputs": [],
      "source": [
        "p = 0.04\n",
        "n = 12"
      ]
    },
    {
      "cell_type": "markdown",
      "metadata": {
        "id": "9eElajCwztdW"
      },
      "source": [
        "4.Use the theoretical formula with the former parameters to get the exact theoretical probability of getting exactly one defective piece per box (using x = 1): "
      ]
    },
    {
      "cell_type": "markdown",
      "metadata": {
        "id": "E_bl8RPpztdX"
      },
      "source": [
        "![image.png](attachment:image.png)"
      ]
    },
    {
      "cell_type": "code",
      "execution_count": 3,
      "metadata": {
        "colab": {
          "base_uri": "https://localhost:8080/"
        },
        "id": "JeKFpAEOztdX",
        "outputId": "8bacbf47-ba03-466f-b1bc-6a7f268bf5fb"
      },
      "outputs": [
        {
          "output_type": "stream",
          "name": "stdout",
          "text": [
            "P(Z = 1) =  0.3063548786648836\n"
          ]
        }
      ],
      "source": [
        "#Use formula to calculate it.\n",
        "\n",
        "import math\n",
        "print('P(Z = 1) = ', (math.factorial(12)/(math.factorial(1)*math.factorial(12-1)))*p**1*(1-p)**(12-1))"
      ]
    },
    {
      "cell_type": "markdown",
      "metadata": {
        "id": "A4Qn-ShsztdX"
      },
      "source": [
        "5.Use the scipy.stats module to produce an instance of the Z random variable. Name it Z_rv:"
      ]
    },
    {
      "cell_type": "code",
      "execution_count": 4,
      "metadata": {
        "id": "Vf310s9AztdY"
      },
      "outputs": [],
      "source": [
        "Z_rv = stats.binom(n, p)"
      ]
    },
    {
      "cell_type": "code",
      "execution_count": 5,
      "metadata": {
        "colab": {
          "base_uri": "https://localhost:8080/"
        },
        "id": "RU4t1JqvztdY",
        "outputId": "1a1d892a-b69c-4f46-8a46-48817ad0077b"
      },
      "outputs": [
        {
          "output_type": "execute_result",
          "data": {
            "text/plain": [
              "scipy.stats._distn_infrastructure.rv_frozen"
            ]
          },
          "metadata": {},
          "execution_count": 5
        }
      ],
      "source": [
        "type(stats.binom(n, p))"
      ]
    },
    {
      "cell_type": "markdown",
      "metadata": {
        "id": "k5ZTEgZ6ztdY"
      },
      "source": [
        "6.Plot the probability mass function of Z:"
      ]
    },
    {
      "cell_type": "code",
      "execution_count": 6,
      "metadata": {
        "colab": {
          "base_uri": "https://localhost:8080/"
        },
        "id": "xvlGZ3reztdY",
        "outputId": "8b3f2650-13db-43e2-b8b5-5cbc46170425"
      },
      "outputs": [
        {
          "output_type": "execute_result",
          "data": {
            "text/plain": [
              "array([ 0,  1,  2,  3,  4,  5,  6,  7,  8,  9, 10, 11, 12])"
            ]
          },
          "metadata": {},
          "execution_count": 6
        }
      ],
      "source": [
        "z_possible_values = np.arange(0, n + 1)\n",
        "\n",
        "z_possible_values"
      ]
    },
    {
      "cell_type": "code",
      "execution_count": 7,
      "metadata": {
        "colab": {
          "base_uri": "https://localhost:8080/"
        },
        "id": "Fzro0-ZvztdZ",
        "outputId": "30cacc8a-edf2-4995-c219-8e0b14d3e3f5"
      },
      "outputs": [
        {
          "output_type": "execute_result",
          "data": {
            "text/plain": [
              "array([6.12709757e-01, 3.06354879e-01, 7.02063264e-02, 9.75087866e-03,\n",
              "       9.14144874e-04, 6.09429916e-05, 2.96250654e-06, 1.05803805e-07,\n",
              "       2.75530742e-09, 5.10242115e-11, 6.37802643e-13, 4.83183821e-15,\n",
              "       1.67772160e-17])"
            ]
          },
          "metadata": {},
          "execution_count": 7
        }
      ],
      "source": [
        "Z_probs = Z_rv.pmf(z_possible_values)\n",
        "\n",
        "Z_probs"
      ]
    },
    {
      "cell_type": "code",
      "execution_count": 10,
      "metadata": {
        "colab": {
          "base_uri": "https://localhost:8080/",
          "height": 265
        },
        "id": "dmQrOcCjztdZ",
        "outputId": "9d7ac385-0822-4f80-c00b-ae139edfcabc"
      },
      "outputs": [
        {
          "output_type": "display_data",
          "data": {
            "image/png": "[encoded data removed]",
            "text/plain": [
              "<Figure size 432x288 with 1 Axes>"
            ]
          },
          "metadata": {
            "needs_background": "light"
          }
        }
      ],
      "source": [
        "z_possible_values = np.arange(0, n + 1)\n",
        "\n",
        "Z_probs = Z_rv.pmf(z_possible_values)\n",
        "\n",
        "fig, ax = plt.subplots()\n",
        "ax.bar(z_possible_values, Z_probs)\n",
        "ax.set_xticks(z_possible_values);\n",
        "#ax.grid();"
      ]
    },
    {
      "cell_type": "markdown",
      "metadata": {
        "id": "ZWQy2Vz9ztdZ"
      },
      "source": [
        "# Normal Distribution"
      ]
    },
    {
      "cell_type": "markdown",
      "metadata": {
        "id": "_eT4uMJDztdZ"
      },
      "source": [
        "### Exercise: Using the Normal Distribution in Education"
      ]
    },
    {
      "cell_type": "markdown",
      "metadata": {
        "id": "rCw9rQ2Kztda"
      },
      "source": [
        "In this exercise, we'll use a normal distribution object from scipy.stats and the cdf and its inverse, ppf, to answer questions about education.\n",
        "\n",
        "In psychometrics and education, it is a well-known fact that many variables relevant to education policy are normally distributed. For instance, scores in standardized mathematics tests follow a normal distribution. In this exercise, we'll explore this phenomenon: in a certain country, high school students take a standardized mathematics test whose scores follow a normal distribution with the following parameters: mean = 100, standard deviation = 15. Follow these steps to complete this exercise:"
      ]
    },
    {
      "cell_type": "raw",
      "metadata": {
        "id": "Xy4XYaBhztda"
      },
      "source": [
        "Psikometri ve eğitimde, eğitim politikasıyla ilgili birçok değişkenin normal dağıldığı bilinen bir gerçektir. Örneğin, standartlaştırılmış matematik testlerindeki puanlar normal bir dağılım izler. Bu alıştırmada, şu fenomeni keşfedeceğiz: belirli bir ülkede, lise öğrencileri, puanları aşağıdaki parametrelerle normal bir dağılım izleyen standartlaştırılmış bir matematik sınavına girer: ortalama = 100, standart sapma = 15. Bunu tamamlamak için şu adımları izleyin. egzersiz yapmak"
      ]
    },
    {
      "cell_type": "markdown",
      "metadata": {
        "id": "RItLBXpKztda"
      },
      "source": [
        "1.Import NumPy, Matplotlib, and scipy.stats following the usual conventions:"
      ]
    },
    {
      "cell_type": "code",
      "execution_count": 11,
      "metadata": {
        "id": "FFvY4iHhztda"
      },
      "outputs": [],
      "source": [
        "import numpy as np\n",
        "from scipy import stats\n",
        "import matplotlib.pyplot as plt"
      ]
    },
    {
      "cell_type": "markdown",
      "metadata": {
        "id": "34tMsvMOztda"
      },
      "source": [
        "2.Use the scipy.stats module to produce an instance of a normally distributed random variable, named X_rv, with mean = 100 and standard deviation = 15:"
      ]
    },
    {
      "cell_type": "code",
      "execution_count": 12,
      "metadata": {
        "id": "jXuhXyg7ztda"
      },
      "outputs": [],
      "source": [
        "X_mean = 100\n",
        "\n",
        "X_sd = 15\n",
        "\n",
        "X_rv = stats.norm(loc = X_mean, scale = X_sd)"
      ]
    },
    {
      "cell_type": "markdown",
      "metadata": {
        "id": "RrBgtlKIztdb"
      },
      "source": [
        "3.Plot the probability distribution of X:"
      ]
    },
    {
      "cell_type": "code",
      "execution_count": 13,
      "metadata": {
        "colab": {
          "base_uri": "https://localhost:8080/"
        },
        "id": "RuvExcYQztdb",
        "outputId": "91829d9f-d658-46d1-dc5b-004528b8f19e"
      },
      "outputs": [
        {
          "output_type": "execute_result",
          "data": {
            "text/plain": [
              "array([ 40.        ,  42.44897959,  44.89795918,  47.34693878,\n",
              "        49.79591837,  52.24489796,  54.69387755,  57.14285714,\n",
              "        59.59183673,  62.04081633,  64.48979592,  66.93877551,\n",
              "        69.3877551 ,  71.83673469,  74.28571429,  76.73469388,\n",
              "        79.18367347,  81.63265306,  84.08163265,  86.53061224,\n",
              "        88.97959184,  91.42857143,  93.87755102,  96.32653061,\n",
              "        98.7755102 , 101.2244898 , 103.67346939, 106.12244898,\n",
              "       108.57142857, 111.02040816, 113.46938776, 115.91836735,\n",
              "       118.36734694, 120.81632653, 123.26530612, 125.71428571,\n",
              "       128.16326531, 130.6122449 , 133.06122449, 135.51020408,\n",
              "       137.95918367, 140.40816327, 142.85714286, 145.30612245,\n",
              "       147.75510204, 150.20408163, 152.65306122, 155.10204082,\n",
              "       157.55102041, 160.        ])"
            ]
          },
          "metadata": {},
          "execution_count": 13
        }
      ],
      "source": [
        "x_values = np.linspace(X_mean - 4 * X_sd, X_mean + 4 * X_sd)\n",
        "\n",
        "x_values"
      ]
    },
    {
      "cell_type": "code",
      "execution_count": 14,
      "metadata": {
        "colab": {
          "base_uri": "https://localhost:8080/"
        },
        "id": "05N7o1VAztdb",
        "outputId": "83422039-90e6-481e-b95f-28194522a56b"
      },
      "outputs": [
        {
          "output_type": "execute_result",
          "data": {
            "text/plain": [
              "array([8.92201505e-06, 1.69159213e-05, 3.12285629e-05, 5.61347739e-05,\n",
              "       9.82506867e-05, 1.67441401e-04, 2.77852136e-04, 4.48939965e-04,\n",
              "       7.06295492e-04, 1.08195261e-03, 1.61381474e-03, 2.34381190e-03,\n",
              "       3.31448052e-03, 4.56385485e-03, 6.11887826e-03, 7.98795188e-03,\n",
              "       1.01536620e-02, 1.25670576e-02, 1.51449605e-02, 1.77715915e-02,\n",
              "       2.03052403e-02, 2.25898624e-02, 2.44704904e-02, 2.58104394e-02,\n",
              "       2.65076826e-02, 2.65076826e-02, 2.58104394e-02, 2.44704904e-02,\n",
              "       2.25898624e-02, 2.03052403e-02, 1.77715915e-02, 1.51449605e-02,\n",
              "       1.25670576e-02, 1.01536620e-02, 7.98795188e-03, 6.11887826e-03,\n",
              "       4.56385485e-03, 3.31448052e-03, 2.34381190e-03, 1.61381474e-03,\n",
              "       1.08195261e-03, 7.06295492e-04, 4.48939965e-04, 2.77852136e-04,\n",
              "       1.67441401e-04, 9.82506867e-05, 5.61347739e-05, 3.12285629e-05,\n",
              "       1.69159213e-05, 8.92201505e-06])"
            ]
          },
          "metadata": {},
          "execution_count": 14
        }
      ],
      "source": [
        "y_values = X_rv.pdf(x_values)\n",
        "\n",
        "y_values"
      ]
    },
    {
      "cell_type": "code",
      "execution_count": 20,
      "metadata": {
        "colab": {
          "base_uri": "https://localhost:8080/",
          "height": 265
        },
        "id": "iQ4AEDtgztdb",
        "outputId": "2e2b07ef-28f0-4aaa-d3cb-5ca5865f9aa2"
      },
      "outputs": [
        {
          "output_type": "display_data",
          "data": {
            "image/png": "[encoded data removed]",
            "text/plain": [
              "<Figure size 432x288 with 1 Axes>"
            ]
          },
          "metadata": {
            "needs_background": "light"
          }
        }
      ],
      "source": [
        "x_values = np.linspace(X_mean -  4* X_sd, X_mean + 4 * X_sd)\n",
        "\n",
        "y_values = X_rv.pdf(x_values)\n",
        "\n",
        "plt.plot(x_values, y_values, lw=4)\n",
        "plt.grid();"
      ]
    },
    {
      "cell_type": "code",
      "execution_count": 21,
      "metadata": {
        "colab": {
          "base_uri": "https://localhost:8080/",
          "height": 265
        },
        "id": "9OVAq6i4ztdb",
        "outputId": "756b16e3-44e7-43c6-a3d0-0a8fc29b01db"
      },
      "outputs": [
        {
          "output_type": "display_data",
          "data": {
            "image/png": "[encoded data removed]",
            "text/plain": [
              "<Figure size 432x288 with 1 Axes>"
            ]
          },
          "metadata": {
            "needs_background": "light"
          }
        }
      ],
      "source": [
        "x_values = np.linspace(X_mean -  4 * X_sd, X_mean + 4 * X_sd)\n",
        "\n",
        "# mean'den 4 standart sapma sola ve sağa ilerleyince distribution'un tamamını içine alan variable kümesine ulaşıyorum.\n",
        "\n",
        "y_values = X_rv.pdf(x_values)\n",
        "\n",
        "plt.plot(x_values, y_values, lw=2)\n",
        "plt.grid();"
      ]
    },
    {
      "cell_type": "markdown",
      "metadata": {
        "id": "ftskXpOlztdc"
      },
      "source": [
        "4.The Ministry of Education has decided that the minimum score for someone to be considered competent in mathematics is 80. Use the cdf method to calculate the proportion of students that will get a score above that score:"
      ]
    },
    {
      "cell_type": "raw",
      "metadata": {
        "id": "4sq1um4yztdc"
      },
      "source": [
        "Milli Eğitim Bakanlığı, bir kişinin matematikte yetkin sayılması için asgari puanı 80 olarak belirlemiştir. Bu puanın üzerinde puan alacak öğrencilerin oranını hesaplamak için cdf yöntemini kullanın:"
      ]
    },
    {
      "cell_type": "code",
      "execution_count": 22,
      "metadata": {
        "colab": {
          "base_uri": "https://localhost:8080/"
        },
        "id": "pbstP-XHztdc",
        "outputId": "d2b648ee-c9ef-4728-b13c-dd471b6b39fe"
      },
      "outputs": [
        {
          "output_type": "stream",
          "name": "stdout",
          "text": [
            "Prob(X >= 80): 0.90879 (or 90.88%)\n"
          ]
        }
      ],
      "source": [
        "Prob_X_gt_80 = 1 - stats.norm.cdf(80, X_mean, X_sd)\n",
        "    \n",
        "print(f'Prob(X >= 80): {Prob_X_gt_80:0.5f} (or {100*Prob_X_gt_80:0.2f}%)')"
      ]
    },
    {
      "cell_type": "code",
      "execution_count": 23,
      "metadata": {
        "colab": {
          "base_uri": "https://localhost:8080/"
        },
        "id": "hgcHpSTQztdc",
        "outputId": "7631a2f3-fce0-44ae-a5a1-81cb15ef2047"
      },
      "outputs": [
        {
          "output_type": "execute_result",
          "data": {
            "text/plain": [
              "1.0"
            ]
          },
          "metadata": {},
          "execution_count": 23
        }
      ],
      "source": [
        "X_rv.cdf(np.Inf)"
      ]
    },
    {
      "cell_type": "code",
      "execution_count": 24,
      "metadata": {
        "colab": {
          "base_uri": "https://localhost:8080/"
        },
        "id": "ckapN1DTztdc",
        "outputId": "ffbd0cfd-048d-4182-a0e4-879d27da1233"
      },
      "outputs": [
        {
          "output_type": "stream",
          "name": "stdout",
          "text": [
            "Prob(X >= 80): 0.90879(or 90.88%)\n"
          ]
        }
      ],
      "source": [
        "Prob_X_gt_80 = X_rv.cdf(np.Inf) - X_rv.cdf(80)\n",
        "\n",
        "print(f'Prob(X >= 80): {Prob_X_gt_80:0.5f}(or {100*Prob_X_gt_80:0.2f}%)')"
      ]
    },
    {
      "cell_type": "markdown",
      "metadata": {
        "id": "CmfenbM4ztdd"
      },
      "source": [
        "![image.png](attachment:image.png)"
      ]
    },
    {
      "cell_type": "markdown",
      "metadata": {
        "id": "eKPhh5qHztdd"
      },
      "source": [
        "5.A very selective university wants to set very high standards for high school students that are admitted to their programs. The policy of the university is to only admit students with mathematics scores in the top 2% of the population. Use the ppf method (which is essentially the inverse function of the cdf method) with an argument of 1 - 0.02 = 0.98 to get the cut-off score for admission:"
      ]
    },
    {
      "cell_type": "raw",
      "metadata": {
        "id": "cltfAlf_ztdd"
      },
      "source": [
        "Çok seçici bir üniversite, programlarına kabul edilen lise öğrencileri için çok yüksek standartlar belirlemek ister. Üniversitenin politikası, yalnızca nüfusun ilk %2'sinde matematik puanı olan öğrencileri kabul etmektir. Kabul için kesme puanını almak için 1 - 0,02 = 0,98 argümanıyla ppf yöntemini (esas olarak cdf yönteminin ters işlevidir) kullanın."
      ]
    },
    {
      "cell_type": "code",
      "execution_count": 25,
      "metadata": {
        "colab": {
          "base_uri": "https://localhost:8080/"
        },
        "id": "sotVzMwMztdd",
        "outputId": "a11a4cab-1a12-40d1-8237-e9f2dce91dc9"
      },
      "outputs": [
        {
          "output_type": "execute_result",
          "data": {
            "text/plain": [
              "130.80623365947733"
            ]
          },
          "metadata": {},
          "execution_count": 25
        }
      ],
      "source": [
        "stats.norm.ppf(0.98, X_mean, X_sd)"
      ]
    },
    {
      "cell_type": "code",
      "execution_count": 26,
      "metadata": {
        "colab": {
          "base_uri": "https://localhost:8080/"
        },
        "id": "-kifiODTztdd",
        "outputId": "dfb80671-c0d7-41ca-cc46-df586279a472"
      },
      "outputs": [
        {
          "output_type": "execute_result",
          "data": {
            "text/plain": [
              "130.80623365947733"
            ]
          },
          "metadata": {},
          "execution_count": 26
        }
      ],
      "source": [
        "X_rv.ppf(0.98)"
      ]
    },
    {
      "cell_type": "markdown",
      "metadata": {
        "id": "HRtk9pV_ztdd"
      },
      "source": [
        "****![image.png](attachment:image.png)"
      ]
    },
    {
      "cell_type": "markdown",
      "metadata": {
        "id": "yI7QLuGrztdd"
      },
      "source": [
        "In this exercise, we used a normal distribution and the cdf and ppf methods to answer real-world questions about education policy."
      ]
    }
  ],
  "metadata": {
    "kernelspec": {
      "display_name": "Python 3 (ipykernel)",
      "language": "python",
      "name": "python3"
    },
    "language_info": {
      "codemirror_mode": {
        "name": "ipython",
        "version": 3
      },
      "file_extension": ".py",
      "mimetype": "text/x-python",
      "name": "python",
      "nbconvert_exporter": "python",
      "pygments_lexer": "ipython3",
      "version": "3.9.7"
    },
    "colab": {
      "name": "07_Probability_and_Binomial_Distribution_Related_Problemsmentör_Solutions.ipynb",
      "provenance": [],
      "include_colab_link": true
    }
  },
  "nbformat": 4,
  "nbformat_minor": 0
}