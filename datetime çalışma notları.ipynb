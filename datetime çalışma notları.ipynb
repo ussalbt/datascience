{
  "cells": [
    {
      "cell_type": "markdown",
      "metadata": {
        "id": "view-in-github",
        "colab_type": "text"
      },
      "source": [
        "<a href=\"https://colab.research.google.com/github/ussalbt/datascience/blob/main/datetime%20%C3%A7al%C4%B1%C5%9Fma%20notlar%C4%B1.ipynb\" target=\"_parent\"><img src=\"https://colab.research.google.com/assets/colab-badge.svg\" alt=\"Open In Colab\"/></a>"
      ]
    },
    {
      "cell_type": "code",
      "execution_count": null,
      "id": "5e51c9fe",
      "metadata": {
        "id": "5e51c9fe",
        "outputId": "b94fe543-869b-43b7-ff15-298866e33b10"
      },
      "outputs": [
        {
          "data": {
            "text/plain": [
              "'HELLO1'"
            ]
          },
          "execution_count": 150,
          "metadata": {},
          "output_type": "execute_result"
        }
      ],
      "source": [
        "\"hello1\".upper()  # lower' ı  ♫ upper a çevirir"
      ]
    },
    {
      "cell_type": "code",
      "execution_count": null,
      "id": "3d4b069a",
      "metadata": {
        "id": "3d4b069a",
        "outputId": "15aab025-a4b2-4685-a9b4-c808166f050a"
      },
      "outputs": [
        {
          "data": {
            "text/plain": [
              "'HELLO'"
            ]
          },
          "execution_count": 151,
          "metadata": {},
          "output_type": "execute_result"
        }
      ],
      "source": [
        "\"hELLO\".upper()"
      ]
    },
    {
      "cell_type": "code",
      "execution_count": null,
      "id": "11b25b5e",
      "metadata": {
        "id": "11b25b5e",
        "outputId": "f3b5f0b8-5ae5-4bc8-a104-fe189943cc34"
      },
      "outputs": [
        {
          "data": {
            "text/plain": [
              "'world'"
            ]
          },
          "execution_count": 152,
          "metadata": {},
          "output_type": "execute_result"
        }
      ],
      "source": [
        "\"WORLD\".lower()  # upper'ı ♫ lower a çevirir"
      ]
    },
    {
      "cell_type": "code",
      "execution_count": null,
      "id": "e5892809",
      "metadata": {
        "id": "e5892809",
        "outputId": "6b5dd4d3-674d-4efd-deff-fc62c78c0502"
      },
      "outputs": [
        {
          "data": {
            "text/plain": [
              "'world'"
            ]
          },
          "execution_count": 153,
          "metadata": {},
          "output_type": "execute_result"
        }
      ],
      "source": [
        "\"World\".lower()"
      ]
    },
    {
      "cell_type": "code",
      "execution_count": null,
      "id": "73bf6824",
      "metadata": {
        "id": "73bf6824",
        "outputId": "45aa9074-8bd7-4169-c3eb-192a82e392de"
      },
      "outputs": [
        {
          "data": {
            "text/plain": [
              "False"
            ]
          },
          "execution_count": 154,
          "metadata": {},
          "output_type": "execute_result"
        }
      ],
      "source": [
        "\"How are you today\".islower()  # lower olup olmadıgına bakar tümü lower ise true döndürür(bool değerleri döndürür.)"
      ]
    },
    {
      "cell_type": "code",
      "execution_count": null,
      "id": "5670775e",
      "metadata": {
        "id": "5670775e",
        "outputId": "8b86fbe9-71bd-44cd-dc0b-d64bfb3949db"
      },
      "outputs": [
        {
          "data": {
            "text/plain": [
              "True"
            ]
          },
          "execution_count": 155,
          "metadata": {},
          "output_type": "execute_result"
        }
      ],
      "source": [
        "\"how are you today\".islower()"
      ]
    },
    {
      "cell_type": "code",
      "execution_count": null,
      "id": "f750111a",
      "metadata": {
        "id": "f750111a",
        "outputId": "e7f2045d-f852-4373-d88b-24726ee6f43c"
      },
      "outputs": [
        {
          "data": {
            "text/plain": [
              "False"
            ]
          },
          "execution_count": 156,
          "metadata": {},
          "output_type": "execute_result"
        }
      ],
      "source": [
        "\"In the end,the good always win\".isupper()   # upper olup olmadıgına bakar tümü upper ise true döndürür(bool değerleri döndürür.)"
      ]
    },
    {
      "cell_type": "code",
      "execution_count": null,
      "id": "faf2e509",
      "metadata": {
        "id": "faf2e509",
        "outputId": "1cf7e7d2-37d9-48f1-a474-2272e048bcf5"
      },
      "outputs": [
        {
          "data": {
            "text/plain": [
              "'IN THE END,THE GOOD ALWAYS WIN'"
            ]
          },
          "execution_count": 157,
          "metadata": {},
          "output_type": "execute_result"
        }
      ],
      "source": [
        "\"In the end,the good always win\".upper()"
      ]
    },
    {
      "cell_type": "code",
      "execution_count": null,
      "id": "a3236412",
      "metadata": {
        "id": "a3236412",
        "outputId": "7fdaeb07-f447-41e2-db41-03277a82720e"
      },
      "outputs": [
        {
          "data": {
            "text/plain": [
              "True"
            ]
          },
          "execution_count": 158,
          "metadata": {},
          "output_type": "execute_result"
        }
      ],
      "source": [
        "'IN THE END,THE GOOD ALWAYS WIN'.isupper() #  :)"
      ]
    },
    {
      "cell_type": "code",
      "execution_count": null,
      "id": "7ada27ca",
      "metadata": {
        "id": "7ada27ca",
        "outputId": "0d48cd3e-9bc0-4b5b-8078-09ec697859b1"
      },
      "outputs": [
        {
          "data": {
            "text/plain": [
              "'In The End,The Good Always Win'"
            ]
          },
          "execution_count": 159,
          "metadata": {},
          "output_type": "execute_result"
        }
      ],
      "source": [
        "\"In the end,the good always win\".title()  # kelimelerin baş harfini büyük yapar."
      ]
    },
    {
      "cell_type": "code",
      "execution_count": null,
      "id": "301ad386",
      "metadata": {
        "id": "301ad386",
        "outputId": "9acf68e0-56af-4c17-eb41-2179928980b4"
      },
      "outputs": [
        {
          "data": {
            "text/plain": [
              "True"
            ]
          },
          "execution_count": 160,
          "metadata": {},
          "output_type": "execute_result"
        }
      ],
      "source": [
        "\"8\".isdigit() # rakamlardan oluşrur"
      ]
    },
    {
      "cell_type": "code",
      "execution_count": null,
      "id": "1b77d580",
      "metadata": {
        "id": "1b77d580",
        "outputId": "d4a555c7-9212-46fe-cb68-b453b29e5b4a"
      },
      "outputs": [
        {
          "data": {
            "text/plain": [
              "True"
            ]
          },
          "execution_count": 161,
          "metadata": {},
          "output_type": "execute_result"
        }
      ],
      "source": [
        "\"½\".isnumeric()  # sayısal karakterler olmalı"
      ]
    },
    {
      "cell_type": "code",
      "execution_count": null,
      "id": "2dc43290",
      "metadata": {
        "id": "2dc43290",
        "outputId": "5eae8a1f-21f2-4b2c-8103-7642b771dc84"
      },
      "outputs": [
        {
          "data": {
            "text/plain": [
              "False"
            ]
          },
          "execution_count": 162,
          "metadata": {},
          "output_type": "execute_result"
        }
      ],
      "source": [
        "\"½\".isdigit()  # rakam olmadığı için false verdi."
      ]
    },
    {
      "cell_type": "code",
      "execution_count": null,
      "id": "f81da07e",
      "metadata": {
        "id": "f81da07e",
        "outputId": "0c4c3e8f-7cf0-42b8-b912-8bd01773676b"
      },
      "outputs": [
        {
          "data": {
            "text/plain": [
              "'say a sentence'"
            ]
          },
          "execution_count": 163,
          "metadata": {},
          "output_type": "execute_result"
        }
      ],
      "source": [
        "sentence = \"write a sentence\"\n",
        "sentence.replace(\"write\", \"say\")\n"
      ]
    },
    {
      "cell_type": "code",
      "execution_count": null,
      "id": "48bd774a",
      "metadata": {
        "id": "48bd774a",
        "outputId": "33ea217a-2d11-444d-d48f-8ddcd6db2844"
      },
      "outputs": [
        {
          "data": {
            "text/plain": [
              "'vrite a sentence'"
            ]
          },
          "execution_count": 164,
          "metadata": {},
          "output_type": "execute_result"
        }
      ],
      "source": [
        "sentence.replace(\"w\",\"v\")"
      ]
    },
    {
      "cell_type": "code",
      "execution_count": null,
      "id": "f76bdf0b",
      "metadata": {
        "id": "f76bdf0b",
        "outputId": "792d14e7-0264-4fa9-e711-6c8fac85c0d2"
      },
      "outputs": [
        {
          "data": {
            "text/plain": [
              "['Splits', 'each', 'string', 'with', 'the', 'given', 'pattern', '']"
            ]
          },
          "execution_count": 165,
          "metadata": {},
          "output_type": "execute_result"
        }
      ],
      "source": [
        "sentence_1 = \"Splits each string with the given pattern \"  # boşluga göre ayırır.\n",
        "sentence_1.split(\" \")"
      ]
    },
    {
      "cell_type": "code",
      "execution_count": null,
      "id": "a5692037",
      "metadata": {
        "id": "a5692037",
        "outputId": "6124c849-3cd3-41e7-fac7-ae548ba22346"
      },
      "outputs": [
        {
          "data": {
            "text/plain": [
              "['Splits', 'each', 'string', 'with', 'the', 'given', 'pattern']"
            ]
          },
          "execution_count": 166,
          "metadata": {},
          "output_type": "execute_result"
        }
      ],
      "source": [
        "sentence_1 = \"Splits each string with the given pattern\"\n",
        "sentence_1.split()"
      ]
    },
    {
      "cell_type": "code",
      "execution_count": null,
      "id": "277b8e69",
      "metadata": {
        "id": "277b8e69",
        "outputId": "ca38c5b5-6bf7-40a2-fdea-f237610fc0e7"
      },
      "outputs": [
        {
          "data": {
            "text/plain": [
              "['Splits e', 'ch string with the given p', 'ttern']"
            ]
          },
          "execution_count": 167,
          "metadata": {},
          "output_type": "execute_result"
        }
      ],
      "source": [
        "sentence_1 = \"Splits each string with the given pattern\" # split içindeki ifadeyi görür görmez böler.\n",
        "sentence_1.split(\"a\")"
      ]
    },
    {
      "cell_type": "code",
      "execution_count": null,
      "id": "6afc70f8",
      "metadata": {
        "id": "6afc70f8"
      },
      "outputs": [],
      "source": [
        " # sentence_1.contains(r = \"iv\")  #  düzenle"
      ]
    },
    {
      "cell_type": "code",
      "execution_count": null,
      "id": "538d03a7",
      "metadata": {
        "id": "538d03a7",
        "outputId": "29df3a7c-b112-41db-d5c1-98313854bbb8"
      },
      "outputs": [
        {
          "data": {
            "text/plain": [
              "'butterfly,    air, animal'"
            ]
          },
          "execution_count": 169,
          "metadata": {},
          "output_type": "execute_result"
        }
      ],
      "source": [
        "words = \"    butterfly,    air, animal    \"  # başta ve sondaki boşlukları siler.\n",
        "words.strip()\n"
      ]
    },
    {
      "cell_type": "code",
      "execution_count": null,
      "id": "0d553814",
      "metadata": {
        "id": "0d553814",
        "outputId": "bdfd28b2-3850-46b1-8470-fbfe65bf2627"
      },
      "outputs": [
        {
          "data": {
            "text/plain": [
              "'    butterfly,    air, animal'"
            ]
          },
          "execution_count": 170,
          "metadata": {},
          "output_type": "execute_result"
        }
      ],
      "source": [
        "words = \"    butterfly,    air, animal    \"  # sondaki(right) boşlukları siler.\n",
        "words.rstrip()"
      ]
    },
    {
      "cell_type": "code",
      "execution_count": null,
      "id": "7f93b6cd",
      "metadata": {
        "id": "7f93b6cd",
        "outputId": "8f19e2f4-20d3-456f-d00f-1eab03815c3e"
      },
      "outputs": [
        {
          "data": {
            "text/plain": [
              "'butterfly,    air, animal    '"
            ]
          },
          "execution_count": 171,
          "metadata": {},
          "output_type": "execute_result"
        }
      ],
      "source": [
        "words = \"    butterfly,    air, animal    \"  # baştaki(left) boşlukları siler.\n",
        "words.lstrip()"
      ]
    },
    {
      "cell_type": "code",
      "execution_count": null,
      "id": "8dfd38e9",
      "metadata": {
        "id": "8dfd38e9",
        "outputId": "8be31938-ce2b-490c-d4c9-acfc62cf2091"
      },
      "outputs": [
        {
          "data": {
            "text/plain": [
              "3"
            ]
          },
          "execution_count": 172,
          "metadata": {},
          "output_type": "execute_result"
        }
      ],
      "source": [
        "\"In the end,the good always win\".find(\"t\")  # ilk hangi indexte gördüyse o indexi verir. dipnot:boşluklar da indextir"
      ]
    },
    {
      "cell_type": "code",
      "execution_count": null,
      "id": "e8390da1",
      "metadata": {
        "id": "e8390da1",
        "outputId": "ba394da7-c7c2-4bc0-d488-6bd7bce5361b"
      },
      "outputs": [
        {
          "data": {
            "text/plain": [
              "15"
            ]
          },
          "execution_count": 173,
          "metadata": {},
          "output_type": "execute_result"
        }
      ],
      "source": [
        "\"In the end,the good always win\".find(\"g\")  # case sensitive dir.her zaman pozitif döndürür."
      ]
    },
    {
      "cell_type": "code",
      "execution_count": null,
      "id": "95ff4920",
      "metadata": {
        "id": "95ff4920",
        "outputId": "7add4995-2be4-402b-dd76-51c3dd41c0e5"
      },
      "outputs": [
        {
          "data": {
            "text/plain": [
              "-1"
            ]
          },
          "execution_count": 174,
          "metadata": {},
          "output_type": "execute_result"
        }
      ],
      "source": [
        "\"In the end,the good always win\".find(\"O\")  # negatif döndüğünde bulamadığı anlamı çıkar."
      ]
    },
    {
      "cell_type": "code",
      "execution_count": null,
      "id": "a4e814ee",
      "metadata": {
        "id": "a4e814ee",
        "outputId": "a889e21a-bc9b-474d-c285-97a4de4f0a9d"
      },
      "outputs": [
        {
          "data": {
            "text/plain": [
              "29"
            ]
          },
          "execution_count": 175,
          "metadata": {},
          "output_type": "execute_result"
        }
      ],
      "source": [
        "\"In the end,the good always win\".rfind(\"n\") # sondan ilk gördüğünü yani en sağdakini alır."
      ]
    },
    {
      "cell_type": "code",
      "execution_count": null,
      "id": "e6b8320e",
      "metadata": {
        "id": "e6b8320e",
        "outputId": "1e76c475-ae04-458e-ce82-3f285acc8c4d"
      },
      "outputs": [
        {
          "data": {
            "text/plain": [
              "5"
            ]
          },
          "execution_count": 176,
          "metadata": {},
          "output_type": "execute_result"
        }
      ],
      "source": [
        "\"In the end,the good always win\".find(\"e\" ,5,30) # indekten sonrası alınır"
      ]
    },
    {
      "cell_type": "code",
      "execution_count": null,
      "id": "e462a394",
      "metadata": {
        "id": "e462a394"
      },
      "outputs": [],
      "source": [
        "import re\n",
        "s1 = pd.Series(['Tiger', 'Deer', 'Zoo'])"
      ]
    },
    {
      "cell_type": "code",
      "execution_count": null,
      "id": "188f0f04",
      "metadata": {
        "id": "188f0f04",
        "outputId": "427496df-bedf-4eef-de4c-d60be96df962"
      },
      "outputs": [
        {
          "data": {
            "text/plain": [
              "0    []\n",
              "1    []\n",
              "2    []\n",
              "dtype: object"
            ]
          },
          "execution_count": 178,
          "metadata": {},
          "output_type": "execute_result"
        }
      ],
      "source": [
        "\n",
        "s1.str.findall(\"DEER\")"
      ]
    },
    {
      "cell_type": "code",
      "execution_count": null,
      "id": "f73b81c8",
      "metadata": {
        "id": "f73b81c8",
        "outputId": "b4512505-649a-42ed-a589-38b5b36fb912"
      },
      "outputs": [
        {
          "data": {
            "text/plain": [
              "0        []\n",
              "1    [Deer]\n",
              "2        []\n",
              "dtype: object"
            ]
          },
          "execution_count": 179,
          "metadata": {},
          "output_type": "execute_result"
        }
      ],
      "source": [
        "s1.str.findall('DEER', flags=re.IGNORECASE)"
      ]
    },
    {
      "cell_type": "code",
      "execution_count": null,
      "id": "891a9955",
      "metadata": {
        "id": "891a9955"
      },
      "outputs": [],
      "source": [
        ""
      ]
    },
    {
      "cell_type": "code",
      "execution_count": null,
      "id": "b24a992e",
      "metadata": {
        "id": "b24a992e"
      },
      "outputs": [],
      "source": [
        "import numpy as np  # numerical paython = \n",
        "import pandas as pd \n",
        "import re  # regular expression= düzenli ifadeler"
      ]
    },
    {
      "cell_type": "code",
      "execution_count": null,
      "id": "d2a62c86",
      "metadata": {
        "id": "d2a62c86"
      },
      "outputs": [],
      "source": [
        "orders = pd.read_table(\"http://bit.ly/chiporders\")"
      ]
    },
    {
      "cell_type": "code",
      "execution_count": null,
      "id": "546ece9d",
      "metadata": {
        "id": "546ece9d",
        "outputId": "f5b2b237-41b0-4901-c02f-a7cdb63f57b1"
      },
      "outputs": [
        {
          "data": {
            "text/plain": [
              "0                CHIPS AND FRESH TOMATO SALSA\n",
              "1                                        IZZE\n",
              "2                            NANTUCKET NECTAR\n",
              "3       CHIPS AND TOMATILLO-GREEN CHILI SALSA\n",
              "4                                CHICKEN BOWL\n",
              "                        ...                  \n",
              "4617                            STEAK BURRITO\n",
              "4618                            STEAK BURRITO\n",
              "4619                       CHICKEN SALAD BOWL\n",
              "4620                       CHICKEN SALAD BOWL\n",
              "4621                       CHICKEN SALAD BOWL\n",
              "Name: item_name, Length: 4622, dtype: object"
            ]
          },
          "execution_count": 182,
          "metadata": {},
          "output_type": "execute_result"
        }
      ],
      "source": [
        "orders.item_name.str.upper()"
      ]
    },
    {
      "cell_type": "code",
      "execution_count": null,
      "id": "35506fa7",
      "metadata": {
        "id": "35506fa7",
        "outputId": "687c197d-033b-4f30-9e51-325d2db3bd90"
      },
      "outputs": [
        {
          "data": {
            "text/plain": [
              "0                chips and fresh tomato salsa\n",
              "1                                        izze\n",
              "2                            nantucket nectar\n",
              "3       chips and tomatillo-green chili salsa\n",
              "4                                chicken bowl\n",
              "                        ...                  \n",
              "4617                            steak burrito\n",
              "4618                            steak burrito\n",
              "4619                       chicken salad bowl\n",
              "4620                       chicken salad bowl\n",
              "4621                       chicken salad bowl\n",
              "Name: item_name, Length: 4622, dtype: object"
            ]
          },
          "execution_count": 183,
          "metadata": {},
          "output_type": "execute_result"
        }
      ],
      "source": [
        "orders.item_name.str.lower()"
      ]
    },
    {
      "cell_type": "code",
      "execution_count": null,
      "id": "c0b1f089",
      "metadata": {
        "id": "c0b1f089",
        "outputId": "7fe7e34b-226f-43c9-f5f9-8be1fe870d70"
      },
      "outputs": [
        {
          "data": {
            "text/plain": [
              "0       False\n",
              "1       False\n",
              "2       False\n",
              "3       False\n",
              "4       False\n",
              "        ...  \n",
              "4617    False\n",
              "4618    False\n",
              "4619    False\n",
              "4620    False\n",
              "4621    False\n",
              "Name: item_name, Length: 4622, dtype: bool"
            ]
          },
          "execution_count": 184,
          "metadata": {},
          "output_type": "execute_result"
        }
      ],
      "source": [
        "orders.item_name.str.isupper()"
      ]
    },
    {
      "cell_type": "code",
      "execution_count": null,
      "id": "de3bb30d",
      "metadata": {
        "scrolled": true,
        "id": "de3bb30d",
        "outputId": "d569dc92-6b3b-4508-c5db-0f3b39e22a35"
      },
      "outputs": [
        {
          "data": {
            "text/html": [
              "<div>\n",
              "<style scoped>\n",
              "    .dataframe tbody tr th:only-of-type {\n",
              "        vertical-align: middle;\n",
              "    }\n",
              "\n",
              "    .dataframe tbody tr th {\n",
              "        vertical-align: top;\n",
              "    }\n",
              "\n",
              "    .dataframe thead th {\n",
              "        text-align: right;\n",
              "    }\n",
              "</style>\n",
              "<table border=\"1\" class=\"dataframe\">\n",
              "  <thead>\n",
              "    <tr style=\"text-align: right;\">\n",
              "      <th></th>\n",
              "      <th>order_id</th>\n",
              "      <th>quantity</th>\n",
              "      <th>item_name</th>\n",
              "      <th>choice_description</th>\n",
              "      <th>item_price</th>\n",
              "    </tr>\n",
              "  </thead>\n",
              "  <tbody>\n",
              "    <tr>\n",
              "      <th>0</th>\n",
              "      <td>1</td>\n",
              "      <td>1</td>\n",
              "      <td>Chips and Fresh Tomato Salsa</td>\n",
              "      <td>NaN</td>\n",
              "      <td>$2.39</td>\n",
              "    </tr>\n",
              "    <tr>\n",
              "      <th>1</th>\n",
              "      <td>1</td>\n",
              "      <td>1</td>\n",
              "      <td>Izze</td>\n",
              "      <td>[Clementine]</td>\n",
              "      <td>$3.39</td>\n",
              "    </tr>\n",
              "    <tr>\n",
              "      <th>2</th>\n",
              "      <td>1</td>\n",
              "      <td>1</td>\n",
              "      <td>Nantucket Nectar</td>\n",
              "      <td>[Apple]</td>\n",
              "      <td>$3.39</td>\n",
              "    </tr>\n",
              "    <tr>\n",
              "      <th>3</th>\n",
              "      <td>1</td>\n",
              "      <td>1</td>\n",
              "      <td>Chips and Tomatillo-Green Chili Salsa</td>\n",
              "      <td>NaN</td>\n",
              "      <td>$2.39</td>\n",
              "    </tr>\n",
              "    <tr>\n",
              "      <th>4</th>\n",
              "      <td>2</td>\n",
              "      <td>2</td>\n",
              "      <td>Chicken Bowl</td>\n",
              "      <td>[Tomatillo-Red Chili Salsa (Hot), [Black Beans...</td>\n",
              "      <td>$16.98</td>\n",
              "    </tr>\n",
              "  </tbody>\n",
              "</table>\n",
              "</div>"
            ],
            "text/plain": [
              "   order_id  quantity                              item_name  \\\n",
              "0         1         1           Chips and Fresh Tomato Salsa   \n",
              "1         1         1                                   Izze   \n",
              "2         1         1                       Nantucket Nectar   \n",
              "3         1         1  Chips and Tomatillo-Green Chili Salsa   \n",
              "4         2         2                           Chicken Bowl   \n",
              "\n",
              "                                  choice_description item_price  \n",
              "0                                                NaN     $2.39   \n",
              "1                                       [Clementine]     $3.39   \n",
              "2                                            [Apple]     $3.39   \n",
              "3                                                NaN     $2.39   \n",
              "4  [Tomatillo-Red Chili Salsa (Hot), [Black Beans...    $16.98   "
            ]
          },
          "execution_count": 185,
          "metadata": {},
          "output_type": "execute_result"
        }
      ],
      "source": [
        "orders.head()"
      ]
    },
    {
      "cell_type": "code",
      "execution_count": null,
      "id": "4fc5ce43",
      "metadata": {
        "id": "4fc5ce43",
        "outputId": "e47fe7e4-c2fe-41e4-ccad-d6f1490e5870"
      },
      "outputs": [
        {
          "data": {
            "text/plain": [
              "0       False\n",
              "1       False\n",
              "2       False\n",
              "3       False\n",
              "4       False\n",
              "        ...  \n",
              "4617    False\n",
              "4618    False\n",
              "4619    False\n",
              "4620    False\n",
              "4621    False\n",
              "Name: item_name, Length: 4622, dtype: bool"
            ]
          },
          "execution_count": 186,
          "metadata": {},
          "output_type": "execute_result"
        }
      ],
      "source": [
        "orders.item_name.str.islower()"
      ]
    },
    {
      "cell_type": "code",
      "execution_count": null,
      "id": "b68c1c74",
      "metadata": {
        "id": "b68c1c74",
        "outputId": "a3cf4cdb-424c-46f2-e0ee-c4c14f232a85"
      },
      "outputs": [
        {
          "data": {
            "text/plain": [
              "0       False\n",
              "1       False\n",
              "2       False\n",
              "3       False\n",
              "4        True\n",
              "        ...  \n",
              "4617    False\n",
              "4618    False\n",
              "4619     True\n",
              "4620     True\n",
              "4621     True\n",
              "Name: item_name, Length: 4622, dtype: bool"
            ]
          },
          "execution_count": 187,
          "metadata": {},
          "output_type": "execute_result"
        }
      ],
      "source": [
        "orders.item_name.str.contains(\"Chicken\")"
      ]
    },
    {
      "cell_type": "code",
      "execution_count": null,
      "id": "dde1170b",
      "metadata": {
        "id": "dde1170b",
        "outputId": "9fb69457-cb5e-4878-f3d1-454bd1f4d631"
      },
      "outputs": [
        {
          "name": "stderr",
          "output_type": "stream",
          "text": [
            "C:\\Users\\Yusuf\\AppData\\Local\\Temp/ipykernel_1148/62874202.py:1: FutureWarning: The default value of regex will change from True to False in a future version. In addition, single character regular expressions will *not* be treated as literal strings when regex=True.\n",
            "  orders.choice_description.str.replace(\"[\",\"\").str.replace(\"]\",\"\")\n"
          ]
        },
        {
          "data": {
            "text/plain": [
              "0                                                     NaN\n",
              "1                                              Clementine\n",
              "2                                                   Apple\n",
              "3                                                     NaN\n",
              "4       Tomatillo-Red Chili Salsa (Hot), Black Beans, ...\n",
              "                              ...                        \n",
              "4617    Fresh Tomato Salsa, Rice, Black Beans, Sour Cr...\n",
              "4618    Fresh Tomato Salsa, Rice, Sour Cream, Cheese, ...\n",
              "4619    Fresh Tomato Salsa, Fajita Vegetables, Pinto B...\n",
              "4620       Fresh Tomato Salsa, Fajita Vegetables, Lettuce\n",
              "4621    Fresh Tomato Salsa, Fajita Vegetables, Pinto B...\n",
              "Name: choice_description, Length: 4622, dtype: object"
            ]
          },
          "execution_count": 188,
          "metadata": {},
          "output_type": "execute_result"
        }
      ],
      "source": [
        "orders.choice_description.str.replace(\"[\",\"\").str.replace(\"]\",\"\")"
      ]
    },
    {
      "cell_type": "code",
      "execution_count": null,
      "id": "12c221ba",
      "metadata": {
        "id": "12c221ba",
        "outputId": "7d7df043-21ef-448f-f17b-b988a00f6172"
      },
      "outputs": [
        {
          "name": "stderr",
          "output_type": "stream",
          "text": [
            "C:\\Users\\Yusuf\\AppData\\Local\\Temp/ipykernel_1148/836119646.py:1: FutureWarning: The default value of regex will change from True to False in a future version.\n",
            "  orders.choice_description.str.replace(\"[\\[\\]]\",\"\")\n"
          ]
        },
        {
          "data": {
            "text/plain": [
              "0                                                     NaN\n",
              "1                                              Clementine\n",
              "2                                                   Apple\n",
              "3                                                     NaN\n",
              "4       Tomatillo-Red Chili Salsa (Hot), Black Beans, ...\n",
              "                              ...                        \n",
              "4617    Fresh Tomato Salsa, Rice, Black Beans, Sour Cr...\n",
              "4618    Fresh Tomato Salsa, Rice, Sour Cream, Cheese, ...\n",
              "4619    Fresh Tomato Salsa, Fajita Vegetables, Pinto B...\n",
              "4620       Fresh Tomato Salsa, Fajita Vegetables, Lettuce\n",
              "4621    Fresh Tomato Salsa, Fajita Vegetables, Pinto B...\n",
              "Name: choice_description, Length: 4622, dtype: object"
            ]
          },
          "execution_count": 189,
          "metadata": {},
          "output_type": "execute_result"
        }
      ],
      "source": [
        "orders.choice_description.str.replace(\"[\\[\\]]\",\"\")"
      ]
    },
    {
      "cell_type": "code",
      "execution_count": null,
      "id": "c4fa035d",
      "metadata": {
        "id": "c4fa035d",
        "outputId": "b1fdf215-c01c-4679-eb22-c1470678a7e7"
      },
      "outputs": [
        {
          "data": {
            "text/plain": [
              "City 1    New_York\n",
              "City 2      Lisbon\n",
              "City 3       Tokyo\n",
              "City 4       Paris\n",
              "City 5      Munich\n",
              "dtype: object"
            ]
          },
          "execution_count": 190,
          "metadata": {},
          "output_type": "execute_result"
        }
      ],
      "source": [
        "sr = pd.Series(['New_York', 'Lisbon', 'Tokyo', 'Paris', 'Munich'])\n",
        "idx = ['City 1', 'City 2', 'City 3', 'City 4', 'City 5']\n",
        "sr.index = idx\n",
        "sr"
      ]
    },
    {
      "cell_type": "code",
      "execution_count": null,
      "id": "89383e6e",
      "metadata": {
        "scrolled": true,
        "id": "89383e6e",
        "outputId": "7cd7e2fa-e3db-45a2-8a6c-d0e86e052129"
      },
      "outputs": [
        {
          "data": {
            "text/plain": [
              "City 1    False\n",
              "City 2     True\n",
              "City 3    False\n",
              "City 4     True\n",
              "City 5    False\n",
              "dtype: bool"
            ]
          },
          "execution_count": 191,
          "metadata": {},
          "output_type": "execute_result"
        }
      ],
      "source": [
        "result = sr.str.contains(pat = 'is')\n",
        "result"
      ]
    },
    {
      "cell_type": "code",
      "execution_count": null,
      "id": "9deeb59f",
      "metadata": {
        "id": "9deeb59f",
        "outputId": "7349da5a-87cc-4e83-e8d8-99ec05476216"
      },
      "outputs": [
        {
          "data": {
            "text/plain": [
              "City 1    False\n",
              "City 2     True\n",
              "City 3    False\n",
              "City 4     True\n",
              "City 5    False\n",
              "dtype: bool"
            ]
          },
          "execution_count": 192,
          "metadata": {},
          "output_type": "execute_result"
        }
      ],
      "source": [
        "result = sr.str.contains(pat = 'IS', flags = re.IGNORECASE) # büyük küçük harflere duyarşlılıgı kaldırır\n",
        "result"
      ]
    },
    {
      "cell_type": "markdown",
      "id": "45cc877d",
      "metadata": {
        "id": "45cc877d"
      },
      "source": [
        "to_datetime()\n",
        "strftime\n",
        "strptime\n",
        "timedelta"
      ]
    },
    {
      "cell_type": "code",
      "execution_count": null,
      "id": "50a13e78",
      "metadata": {
        "id": "50a13e78",
        "outputId": "1364b3d0-7012-4c41-aef4-f0c02a22d6fa"
      },
      "outputs": [
        {
          "data": {
            "text/plain": [
              "datetime.datetime(2022, 1, 29, 1, 55, 24, 529378)"
            ]
          },
          "execution_count": 193,
          "metadata": {},
          "output_type": "execute_result"
        }
      ],
      "source": [
        "from datetime import datetime\n",
        "current_date = datetime.now()\n",
        "current_date"
      ]
    },
    {
      "cell_type": "code",
      "execution_count": null,
      "id": "dcf0d194",
      "metadata": {
        "id": "dcf0d194",
        "outputId": "60d4bb09-a483-4121-d63f-f1abf8598fc6"
      },
      "outputs": [
        {
          "name": "stdout",
          "output_type": "stream",
          "text": [
            "2022-01-29 01:55:24.549364\n",
            "2022-01-29\n",
            "29\n",
            "1\n",
            "2022\n",
            "29\n",
            "January\n",
            "04\n"
          ]
        }
      ],
      "source": [
        "from datetime import datetime\n",
        "current_date = datetime.now()\n",
        "print(current_date)\n",
        "print(current_date.date())\n",
        "print(current_date.day)\n",
        "print(current_date.month)\n",
        "print(current_date.year)\n",
        "print(current_date.strftime(\"%d\"))\n",
        "print(current_date.strftime(\"%B\"))\n",
        "print(current_date.strftime(\"%W\"))  # yılın kacıncı haftsası\n"
      ]
    },
    {
      "cell_type": "code",
      "execution_count": null,
      "id": "5d560348",
      "metadata": {
        "id": "5d560348"
      },
      "outputs": [],
      "source": [
        "from datetime import datetime\n",
        "from datetime import date\n",
        "\n",
        "from datetime import timedelta\n",
        "import datetime"
      ]
    },
    {
      "cell_type": "code",
      "execution_count": null,
      "id": "48ed8ff8",
      "metadata": {
        "id": "48ed8ff8",
        "outputId": "3040a1e7-e699-41d4-ad3f-0e17c5db423f"
      },
      "outputs": [
        {
          "ename": "AttributeError",
          "evalue": "module 'datetime' has no attribute 'strptime'",
          "output_type": "error",
          "traceback": [
            "\u001b[1;31m---------------------------------------------------------------------------\u001b[0m",
            "\u001b[1;31mAttributeError\u001b[0m                            Traceback (most recent call last)",
            "\u001b[1;32m~\\AppData\\Local\\Temp/ipykernel_1148/2011005590.py\u001b[0m in \u001b[0;36m<module>\u001b[1;34m\u001b[0m\n\u001b[0;32m      1\u001b[0m \u001b[0mstr1\u001b[0m \u001b[1;33m=\u001b[0m \u001b[1;34m\"2022-01-30\"\u001b[0m\u001b[1;33m\u001b[0m\u001b[1;33m\u001b[0m\u001b[0m\n\u001b[1;32m----> 2\u001b[1;33m \u001b[0mdate1\u001b[0m \u001b[1;33m=\u001b[0m \u001b[0mdatetime\u001b[0m\u001b[1;33m.\u001b[0m\u001b[0mstrptime\u001b[0m\u001b[1;33m(\u001b[0m\u001b[0mstr1\u001b[0m\u001b[1;33m,\u001b[0m \u001b[1;34m\"%Y-%m-%d\"\u001b[0m\u001b[1;33m)\u001b[0m\u001b[1;33m\u001b[0m\u001b[1;33m\u001b[0m\u001b[0m\n\u001b[0m\u001b[0;32m      3\u001b[0m \u001b[0mprint\u001b[0m\u001b[1;33m(\u001b[0m\u001b[0mdate1\u001b[0m\u001b[1;33m)\u001b[0m\u001b[1;33m\u001b[0m\u001b[1;33m\u001b[0m\u001b[0m\n",
            "\u001b[1;31mAttributeError\u001b[0m: module 'datetime' has no attribute 'strptime'"
          ]
        }
      ],
      "source": [
        "str1 = \"2022-01-30\"\n",
        "date1 = datetime.strptime(str1, \"%Y-%m-%d\")\n",
        "print(date1)\n"
      ]
    },
    {
      "cell_type": "code",
      "execution_count": null,
      "id": "8709e5ae",
      "metadata": {
        "id": "8709e5ae",
        "outputId": "ddf471c2-9933-4aea-e466-ae3afe4dc61d"
      },
      "outputs": [
        {
          "name": "stdout",
          "output_type": "stream",
          "text": [
            "Today date:  2022-01-29 01:59:24.871698\n",
            "Date after 10 days :  2022-03-15 01:59:24.871698\n"
          ]
        }
      ],
      "source": [
        "current_date = datetime.datetime.now()\n",
        "date_after_10_days = current_date + timedelta(days = 10, weeks = 5)\n",
        "print(\"Today date: \", current_date)\n",
        "print(\"Date after 10 days : \", date_after_10_days)"
      ]
    },
    {
      "cell_type": "code",
      "execution_count": null,
      "id": "bf027802",
      "metadata": {
        "id": "bf027802",
        "outputId": "e16e373a-4d16-4b28-cada-c129ffccc2a3"
      },
      "outputs": [
        {
          "name": "stdout",
          "output_type": "stream",
          "text": [
            "Today date:  2022-01-29\n",
            "Date after 10 days :  2022-02-08\n"
          ]
        }
      ],
      "source": [
        "print(\"Today date: \", current_date.date())\n",
        "print(\"Date after 10 days : \", date_after_10_days.date())"
      ]
    },
    {
      "cell_type": "markdown",
      "id": "b34b591c",
      "metadata": {
        "id": "b34b591c"
      },
      "source": [
        "# Get_Dummies Method"
      ]
    },
    {
      "cell_type": "code",
      "execution_count": null,
      "id": "48428895",
      "metadata": {
        "id": "48428895",
        "outputId": "1505169c-d8c1-45a1-e9f5-6df6391d3c48"
      },
      "outputs": [
        {
          "data": {
            "text/html": [
              "<div>\n",
              "<style scoped>\n",
              "    .dataframe tbody tr th:only-of-type {\n",
              "        vertical-align: middle;\n",
              "    }\n",
              "\n",
              "    .dataframe tbody tr th {\n",
              "        vertical-align: top;\n",
              "    }\n",
              "\n",
              "    .dataframe thead th {\n",
              "        text-align: right;\n",
              "    }\n",
              "</style>\n",
              "<table border=\"1\" class=\"dataframe\">\n",
              "  <thead>\n",
              "    <tr style=\"text-align: right;\">\n",
              "      <th></th>\n",
              "      <th>market_name</th>\n",
              "      <th>amount</th>\n",
              "    </tr>\n",
              "  </thead>\n",
              "  <tbody>\n",
              "    <tr>\n",
              "      <th>0</th>\n",
              "      <td>A101</td>\n",
              "      <td>184</td>\n",
              "    </tr>\n",
              "    <tr>\n",
              "      <th>1</th>\n",
              "      <td>ŞOK</td>\n",
              "      <td>188</td>\n",
              "    </tr>\n",
              "    <tr>\n",
              "      <th>2</th>\n",
              "      <td>Migros</td>\n",
              "      <td>195</td>\n",
              "    </tr>\n",
              "    <tr>\n",
              "      <th>3</th>\n",
              "      <td>BIM</td>\n",
              "      <td>186</td>\n",
              "    </tr>\n",
              "  </tbody>\n",
              "</table>\n",
              "</div>"
            ],
            "text/plain": [
              "  market_name  amount\n",
              "0        A101     184\n",
              "1         ŞOK     188\n",
              "2      Migros     195\n",
              "3         BIM     186"
            ]
          },
          "execution_count": 205,
          "metadata": {},
          "output_type": "execute_result"
        }
      ],
      "source": [
        "df2 = pd.DataFrame([(\"A101\", 184),\n",
        "                    (\"ŞOK\", 188),\n",
        "                    (\"Migros\", 195),\n",
        "                    (\"BIM\", 186)],\n",
        "            columns = (\"market_name\",\"amount\")\n",
        "                  )\n",
        "df2"
      ]
    },
    {
      "cell_type": "code",
      "execution_count": null,
      "id": "44e64224",
      "metadata": {
        "id": "44e64224",
        "outputId": "1592c064-9d28-4eb1-899b-4164da76d713"
      },
      "outputs": [
        {
          "data": {
            "text/html": [
              "<div>\n",
              "<style scoped>\n",
              "    .dataframe tbody tr th:only-of-type {\n",
              "        vertical-align: middle;\n",
              "    }\n",
              "\n",
              "    .dataframe tbody tr th {\n",
              "        vertical-align: top;\n",
              "    }\n",
              "\n",
              "    .dataframe thead th {\n",
              "        text-align: right;\n",
              "    }\n",
              "</style>\n",
              "<table border=\"1\" class=\"dataframe\">\n",
              "  <thead>\n",
              "    <tr style=\"text-align: right;\">\n",
              "      <th></th>\n",
              "      <th>amount</th>\n",
              "      <th>market_name_A101</th>\n",
              "      <th>market_name_BIM</th>\n",
              "      <th>market_name_Migros</th>\n",
              "      <th>market_name_ŞOK</th>\n",
              "    </tr>\n",
              "  </thead>\n",
              "  <tbody>\n",
              "    <tr>\n",
              "      <th>0</th>\n",
              "      <td>184</td>\n",
              "      <td>1</td>\n",
              "      <td>0</td>\n",
              "      <td>0</td>\n",
              "      <td>0</td>\n",
              "    </tr>\n",
              "    <tr>\n",
              "      <th>1</th>\n",
              "      <td>188</td>\n",
              "      <td>0</td>\n",
              "      <td>0</td>\n",
              "      <td>0</td>\n",
              "      <td>1</td>\n",
              "    </tr>\n",
              "    <tr>\n",
              "      <th>2</th>\n",
              "      <td>195</td>\n",
              "      <td>0</td>\n",
              "      <td>0</td>\n",
              "      <td>1</td>\n",
              "      <td>0</td>\n",
              "    </tr>\n",
              "    <tr>\n",
              "      <th>3</th>\n",
              "      <td>186</td>\n",
              "      <td>0</td>\n",
              "      <td>1</td>\n",
              "      <td>0</td>\n",
              "      <td>0</td>\n",
              "    </tr>\n",
              "  </tbody>\n",
              "</table>\n",
              "</div>"
            ],
            "text/plain": [
              "   amount  market_name_A101  market_name_BIM  market_name_Migros  \\\n",
              "0     184                 1                0                   0   \n",
              "1     188                 0                0                   0   \n",
              "2     195                 0                0                   1   \n",
              "3     186                 0                1                   0   \n",
              "\n",
              "   market_name_ŞOK  \n",
              "0                0  \n",
              "1                1  \n",
              "2                0  \n",
              "3                0  "
            ]
          },
          "execution_count": 206,
          "metadata": {},
          "output_type": "execute_result"
        }
      ],
      "source": [
        "pd.get_dummies(df2, columns = [\"market_name\"])"
      ]
    },
    {
      "cell_type": "code",
      "execution_count": null,
      "id": "f22201bc",
      "metadata": {
        "id": "f22201bc",
        "outputId": "207abb59-868f-455e-f703-21e9267457a7"
      },
      "outputs": [
        {
          "data": {
            "text/html": [
              "<div>\n",
              "<style scoped>\n",
              "    .dataframe tbody tr th:only-of-type {\n",
              "        vertical-align: middle;\n",
              "    }\n",
              "\n",
              "    .dataframe tbody tr th {\n",
              "        vertical-align: top;\n",
              "    }\n",
              "\n",
              "    .dataframe thead th {\n",
              "        text-align: right;\n",
              "    }\n",
              "</style>\n",
              "<table border=\"1\" class=\"dataframe\">\n",
              "  <thead>\n",
              "    <tr style=\"text-align: right;\">\n",
              "      <th></th>\n",
              "      <th>amount</th>\n",
              "      <th>Bakkal_A101</th>\n",
              "      <th>Bakkal_BIM</th>\n",
              "      <th>Bakkal_Migros</th>\n",
              "      <th>Bakkal_ŞOK</th>\n",
              "    </tr>\n",
              "  </thead>\n",
              "  <tbody>\n",
              "    <tr>\n",
              "      <th>0</th>\n",
              "      <td>184</td>\n",
              "      <td>1</td>\n",
              "      <td>0</td>\n",
              "      <td>0</td>\n",
              "      <td>0</td>\n",
              "    </tr>\n",
              "    <tr>\n",
              "      <th>1</th>\n",
              "      <td>188</td>\n",
              "      <td>0</td>\n",
              "      <td>0</td>\n",
              "      <td>0</td>\n",
              "      <td>1</td>\n",
              "    </tr>\n",
              "    <tr>\n",
              "      <th>2</th>\n",
              "      <td>195</td>\n",
              "      <td>0</td>\n",
              "      <td>0</td>\n",
              "      <td>1</td>\n",
              "      <td>0</td>\n",
              "    </tr>\n",
              "    <tr>\n",
              "      <th>3</th>\n",
              "      <td>186</td>\n",
              "      <td>0</td>\n",
              "      <td>1</td>\n",
              "      <td>0</td>\n",
              "      <td>0</td>\n",
              "    </tr>\n",
              "  </tbody>\n",
              "</table>\n",
              "</div>"
            ],
            "text/plain": [
              "   amount  Bakkal_A101  Bakkal_BIM  Bakkal_Migros  Bakkal_ŞOK\n",
              "0     184            1           0              0           0\n",
              "1     188            0           0              0           1\n",
              "2     195            0           0              1           0\n",
              "3     186            0           1              0           0"
            ]
          },
          "execution_count": 213,
          "metadata": {},
          "output_type": "execute_result"
        }
      ],
      "source": [
        "pd.get_dummies(df2, columns = [\"market_name\"], prefix = \"Bakkal\")"
      ]
    },
    {
      "cell_type": "code",
      "execution_count": null,
      "id": "54de3ff0",
      "metadata": {
        "id": "54de3ff0",
        "outputId": "bbd8031f-aa5b-463f-c805-1949b6657a92"
      },
      "outputs": [
        {
          "data": {
            "text/html": [
              "<div>\n",
              "<style scoped>\n",
              "    .dataframe tbody tr th:only-of-type {\n",
              "        vertical-align: middle;\n",
              "    }\n",
              "\n",
              "    .dataframe tbody tr th {\n",
              "        vertical-align: top;\n",
              "    }\n",
              "\n",
              "    .dataframe thead th {\n",
              "        text-align: right;\n",
              "    }\n",
              "</style>\n",
              "<table border=\"1\" class=\"dataframe\">\n",
              "  <thead>\n",
              "    <tr style=\"text-align: right;\">\n",
              "      <th></th>\n",
              "      <th>market_name</th>\n",
              "      <th>amount</th>\n",
              "    </tr>\n",
              "  </thead>\n",
              "  <tbody>\n",
              "    <tr>\n",
              "      <th>0</th>\n",
              "      <td>A101</td>\n",
              "      <td>184</td>\n",
              "    </tr>\n",
              "    <tr>\n",
              "      <th>1</th>\n",
              "      <td>ŞOK</td>\n",
              "      <td>188</td>\n",
              "    </tr>\n",
              "    <tr>\n",
              "      <th>2</th>\n",
              "      <td>Migros</td>\n",
              "      <td>195</td>\n",
              "    </tr>\n",
              "    <tr>\n",
              "      <th>3</th>\n",
              "      <td>Migros</td>\n",
              "      <td>186</td>\n",
              "    </tr>\n",
              "  </tbody>\n",
              "</table>\n",
              "</div>"
            ],
            "text/plain": [
              "  market_name  amount\n",
              "0        A101     184\n",
              "1         ŞOK     188\n",
              "2      Migros     195\n",
              "3      Migros     186"
            ]
          },
          "execution_count": 214,
          "metadata": {},
          "output_type": "execute_result"
        }
      ],
      "source": [
        "df2 = pd.DataFrame([(\"A101\", 184),\n",
        "                    (\"ŞOK\", 188),\n",
        "                    (\"Migros\", 195),\n",
        "                    (\"Migros\", 186)],\n",
        "            columns = (\"market_name\",\"amount\")\n",
        "                  )\n",
        "df2"
      ]
    },
    {
      "cell_type": "code",
      "execution_count": null,
      "id": "02fdba2e",
      "metadata": {
        "scrolled": true,
        "id": "02fdba2e",
        "outputId": "0d04f5cd-025d-46d0-a14a-3e51e04cf96f"
      },
      "outputs": [
        {
          "data": {
            "text/html": [
              "<div>\n",
              "<style scoped>\n",
              "    .dataframe tbody tr th:only-of-type {\n",
              "        vertical-align: middle;\n",
              "    }\n",
              "\n",
              "    .dataframe tbody tr th {\n",
              "        vertical-align: top;\n",
              "    }\n",
              "\n",
              "    .dataframe thead th {\n",
              "        text-align: right;\n",
              "    }\n",
              "</style>\n",
              "<table border=\"1\" class=\"dataframe\">\n",
              "  <thead>\n",
              "    <tr style=\"text-align: right;\">\n",
              "      <th></th>\n",
              "      <th>amount</th>\n",
              "      <th>Super_market-*-A101</th>\n",
              "      <th>Super_market-*-Migros</th>\n",
              "      <th>Super_market-*-ŞOK</th>\n",
              "    </tr>\n",
              "  </thead>\n",
              "  <tbody>\n",
              "    <tr>\n",
              "      <th>0</th>\n",
              "      <td>184</td>\n",
              "      <td>1</td>\n",
              "      <td>0</td>\n",
              "      <td>0</td>\n",
              "    </tr>\n",
              "    <tr>\n",
              "      <th>1</th>\n",
              "      <td>188</td>\n",
              "      <td>0</td>\n",
              "      <td>0</td>\n",
              "      <td>1</td>\n",
              "    </tr>\n",
              "    <tr>\n",
              "      <th>2</th>\n",
              "      <td>195</td>\n",
              "      <td>0</td>\n",
              "      <td>1</td>\n",
              "      <td>0</td>\n",
              "    </tr>\n",
              "    <tr>\n",
              "      <th>3</th>\n",
              "      <td>186</td>\n",
              "      <td>0</td>\n",
              "      <td>1</td>\n",
              "      <td>0</td>\n",
              "    </tr>\n",
              "  </tbody>\n",
              "</table>\n",
              "</div>"
            ],
            "text/plain": [
              "   amount  Super_market-*-A101  Super_market-*-Migros  Super_market-*-ŞOK\n",
              "0     184                    1                      0                   0\n",
              "1     188                    0                      0                   1\n",
              "2     195                    0                      1                   0\n",
              "3     186                    0                      1                   0"
            ]
          },
          "execution_count": 215,
          "metadata": {},
          "output_type": "execute_result"
        }
      ],
      "source": [
        "pd.get_dummies(df2, columns = [\"market_name\"], prefix = \"Super_market\", prefix_sep = \"-*-\")"
      ]
    },
    {
      "cell_type": "code",
      "execution_count": null,
      "id": "222ccf8f",
      "metadata": {
        "id": "222ccf8f"
      },
      "outputs": [],
      "source": [
        ""
      ]
    }
  ],
  "metadata": {
    "kernelspec": {
      "display_name": "Python 3 (ipykernel)",
      "language": "python",
      "name": "python3"
    },
    "language_info": {
      "codemirror_mode": {
        "name": "ipython",
        "version": 3
      },
      "file_extension": ".py",
      "mimetype": "text/x-python",
      "name": "python",
      "nbconvert_exporter": "python",
      "pygments_lexer": "ipython3",
      "version": "3.9.7"
    },
    "colab": {
      "name": "noebook.ipynb",
      "provenance": [],
      "include_colab_link": true
    }
  },
  "nbformat": 4,
  "nbformat_minor": 5
}