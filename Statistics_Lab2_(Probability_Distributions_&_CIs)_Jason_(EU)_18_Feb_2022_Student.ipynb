{
  "cells": [
    {
      "cell_type": "markdown",
      "metadata": {
        "id": "view-in-github",
        "colab_type": "text"
      },
      "source": [
        "<a href=\"https://colab.research.google.com/github/ussalbt/datascience/blob/main/Statistics_Lab2_(Probability_Distributions_%26_CIs)_Jason_(EU)_18_Feb_2022_Student.ipynb\" target=\"_parent\"><img src=\"https://colab.research.google.com/assets/colab-badge.svg\" alt=\"Open In Colab\"/></a>"
      ]
    },
    {
      "cell_type": "code",
      "execution_count": 1,
      "metadata": {
        "id": "UaXuDeF6xW9E"
      },
      "outputs": [],
      "source": [
        "import numpy as np\n",
        "import pandas as pd\n",
        "from scipy import stats\n",
        "import seaborn as sns\n",
        "import matplotlib.pyplot as plt"
      ]
    },
    {
      "cell_type": "markdown",
      "metadata": {
        "id": "g4zHnshUxW9H"
      },
      "source": [
        "## Binomial Distribution\n",
        "*Source: Wackerly, D., Mendenhall, W., & Scheaffer, R. L. (2014). Mathematical statistics with applications. Cengage Learning.*"
      ]
    },
    {
      "cell_type": "markdown",
      "metadata": {
        "id": "DnNgPUh3xW9J"
      },
      "source": [
        "**Exercise 3.40**\n",
        "\n",
        "The probability that a patient recovers from a stomach disease is 0.8. \n",
        "\n",
        "Suppose 20 people are known to have contracted this disease. \n",
        "\n",
        "What is the probability that"
      ]
    },
    {
      "cell_type": "markdown",
      "metadata": {
        "id": "jlgjM7cnxW9K"
      },
      "source": [
        "a. exactly 14 recover?"
      ]
    },
    {
      "cell_type": "markdown",
      "metadata": {
        "id": "gWgk84UTxW9L"
      },
      "source": [
        "this is P(X=14)"
      ]
    },
    {
      "cell_type": "code",
      "execution_count": 2,
      "metadata": {
        "id": "UzE91V57xW9L"
      },
      "outputs": [],
      "source": [
        "n = 20\n",
        "p = 0.8\n",
        "x = 14"
      ]
    },
    {
      "cell_type": "code",
      "execution_count": 3,
      "metadata": {
        "colab": {
          "base_uri": "https://localhost:8080/"
        },
        "id": "PtOAPADQxW9L",
        "outputId": "706e1ca6-318c-4709-fca0-c90ffa342eec"
      },
      "outputs": [
        {
          "output_type": "execute_result",
          "data": {
            "text/plain": [
              "0.10909970097304983"
            ]
          },
          "metadata": {},
          "execution_count": 3
        }
      ],
      "source": [
        "import scipy\n",
        "stats.binom.pmf(k=14,p=0.8,n=20)"
      ]
    },
    {
      "cell_type": "code",
      "execution_count": 4,
      "metadata": {
        "colab": {
          "base_uri": "https://localhost:8080/"
        },
        "id": "ML07J0NsxW9N",
        "outputId": "772ec75e-44ae-42f0-da6f-a67ba66ece89"
      },
      "outputs": [
        {
          "output_type": "execute_result",
          "data": {
            "text/plain": [
              "0.10909970097304983"
            ]
          },
          "metadata": {},
          "execution_count": 4
        }
      ],
      "source": [
        "stats.binom.pmf(x,n,p)"
      ]
    },
    {
      "cell_type": "code",
      "source": [
        "stats.binom.mean(n,p) #beklenen olasılık"
      ],
      "metadata": {
        "colab": {
          "base_uri": "https://localhost:8080/"
        },
        "id": "nLamUpYY0uI6",
        "outputId": "efda7383-37bb-4a0f-a747-c3841f3b7635"
      },
      "execution_count": 5,
      "outputs": [
        {
          "output_type": "execute_result",
          "data": {
            "text/plain": [
              "16.0"
            ]
          },
          "metadata": {},
          "execution_count": 5
        }
      ]
    },
    {
      "cell_type": "markdown",
      "metadata": {
        "id": "U2i6NbjFxW9N"
      },
      "source": [
        "b. at least 10 recover?"
      ]
    },
    {
      "cell_type": "markdown",
      "metadata": {
        "id": "QgJAnVm9xW9N"
      },
      "source": [
        "this is P(X≥10)=P(10)+P(11)+P(12)+...+P(20)"
      ]
    },
    {
      "cell_type": "code",
      "execution_count": 7,
      "metadata": {
        "id": "wHKyPLDVxW9O"
      },
      "outputs": [],
      "source": [
        "x = 9"
      ]
    },
    {
      "cell_type": "code",
      "execution_count": 8,
      "metadata": {
        "colab": {
          "base_uri": "https://localhost:8080/"
        },
        "id": "hVwc8WVRxW9O",
        "outputId": "fbaeb23a-39d7-405d-8f5e-16227e0b199c"
      },
      "outputs": [
        {
          "output_type": "execute_result",
          "data": {
            "text/plain": [
              "0.9994365863023398"
            ]
          },
          "metadata": {},
          "execution_count": 8
        }
      ],
      "source": [
        "1-stats.binom.cdf(x,n,p)# ayrı ayrı pmf leri toplayıp bize veriyor."
      ]
    },
    {
      "cell_type": "markdown",
      "metadata": {
        "id": "1esXNVG3xW9P"
      },
      "source": [
        "c. at least 14 but not more than 18 recover?"
      ]
    },
    {
      "cell_type": "markdown",
      "metadata": {
        "id": "td4OZr6BxW9P"
      },
      "source": [
        "this is P(14≤X≤18)=P(14)+P(15)+...+P(18)"
      ]
    },
    {
      "cell_type": "code",
      "execution_count": 10,
      "metadata": {
        "id": "tnQdN-yvxW9P"
      },
      "outputs": [],
      "source": [
        "x1 = 14\n",
        "x2 = 18"
      ]
    },
    {
      "cell_type": "code",
      "execution_count": 11,
      "metadata": {
        "colab": {
          "base_uri": "https://localhost:8080/"
        },
        "id": "egKSATNKxW9P",
        "outputId": "507b7aad-aefb-4594-db9d-5b977d8a14b1"
      },
      "outputs": [
        {
          "output_type": "execute_result",
          "data": {
            "text/plain": [
              "0.844132196156189"
            ]
          },
          "metadata": {},
          "execution_count": 11
        }
      ],
      "source": [
        "stats.binom.cdf(x2,n,p)-stats.binom.cdf(x1-1,n,p)#cdf(18)-cdf(13)"
      ]
    },
    {
      "cell_type": "code",
      "execution_count": 12,
      "metadata": {
        "colab": {
          "base_uri": "https://localhost:8080/"
        },
        "id": "7BbybVkGxW9P",
        "outputId": "ae95748a-4df2-428b-ea92-ed0c1e281a39"
      },
      "outputs": [
        {
          "output_type": "execute_result",
          "data": {
            "text/plain": [
              "0.8441321961561871"
            ]
          },
          "metadata": {},
          "execution_count": 12
        }
      ],
      "source": [
        "stats.binom.pmf(k=14,n=20,p=0.8)+stats.binom.pmf(k=15,n=20,p=0.8)+stats.binom.pmf(k=16,n=20,p=0.8)+stats.binom.pmf(k=17,n=20,p=0.8)+stats.binom.pmf(k=18,n=20,p=0.8)"
      ]
    },
    {
      "cell_type": "markdown",
      "metadata": {
        "id": "UHdOIJ_yxW9Q"
      },
      "source": [
        "d. at most 16 recover?"
      ]
    },
    {
      "cell_type": "markdown",
      "metadata": {
        "id": "WVVDLKdnxW9Q"
      },
      "source": [
        "this is P(X≤16)=1−P(X>16)=P(17)+P(18)+P(19)+P(20)"
      ]
    },
    {
      "cell_type": "code",
      "execution_count": 13,
      "metadata": {
        "id": "-s0nxfLjxW9Q"
      },
      "outputs": [],
      "source": [
        "x = 16"
      ]
    },
    {
      "cell_type": "code",
      "execution_count": 14,
      "metadata": {
        "colab": {
          "base_uri": "https://localhost:8080/"
        },
        "id": "s_scHPCpxW9Q",
        "outputId": "068c564c-2525-44cf-b073-17cf8c4e11d5"
      },
      "outputs": [
        {
          "output_type": "execute_result",
          "data": {
            "text/plain": [
              "0.5885511380434305"
            ]
          },
          "metadata": {},
          "execution_count": 14
        }
      ],
      "source": [
        "stats.binom.cdf(x,n,p)"
      ]
    },
    {
      "cell_type": "code",
      "execution_count": null,
      "metadata": {
        "id": "HbnOaKsrxW9R",
        "outputId": "3542f212-8d6c-42e6-fc60-91eb38b07291"
      },
      "outputs": [
        {
          "data": {
            "text/plain": [
              "0.5885511380434316"
            ]
          },
          "execution_count": 24,
          "metadata": {},
          "output_type": "execute_result"
        }
      ],
      "source": [
        "1-(stats.binom.pmf)"
      ]
    },
    {
      "cell_type": "markdown",
      "metadata": {
        "id": "KqrxwlTbxW9R"
      },
      "source": [
        "e. Construct discrete probability distribution table and draw a graph"
      ]
    },
    {
      "cell_type": "code",
      "execution_count": 15,
      "metadata": {
        "colab": {
          "base_uri": "https://localhost:8080/"
        },
        "id": "mDKWgY5sxW9R",
        "outputId": "0cb463b5-9fe1-486d-c78a-695cfcbf5238"
      },
      "outputs": [
        {
          "output_type": "stream",
          "name": "stdout",
          "text": [
            "0\t1.048576000000001e-14\n",
            "1\t8.388607999999975e-13\n",
            "2\t3.187671040000001e-11\n",
            "3\t7.650410495999974e-10\n",
            "4\t1.3005697843199945e-08\n",
            "5\t1.6647293239295892e-07\n",
            "6\t1.664729323929588e-06\n",
            "7\t1.3317834591436803e-05\n",
            "8\t8.656592484433902e-05\n",
            "9\t0.000461684932503141\n",
            "10\t0.002031413703013826\n",
            "11\t0.007386958920050259\n",
            "12\t0.022160876760150803\n",
            "13\t0.0545498504865252\n",
            "14\t0.10909970097304983\n",
            "15\t0.17455952155687976\n",
            "16\t0.21819940194610007\n",
            "17\t0.2053641430080944\n",
            "18\t0.13690942867206304\n",
            "19\t0.05764607523034236\n",
            "20\t0.011529215046068481\n"
          ]
        }
      ],
      "source": [
        "dist = []\n",
        "for i in range(n+1):\n",
        "  dist.append(stats.binom.pmf(i,n,p))\n",
        "  print(str(i)+\"\\t\"+str(stats.binom.pmf(i,n,p)))"
      ]
    },
    {
      "cell_type": "code",
      "execution_count": 17,
      "metadata": {
        "colab": {
          "base_uri": "https://localhost:8080/",
          "height": 265
        },
        "id": "5vdduSJkxW9R",
        "outputId": "5eddaeeb-74a7-4fc3-f4ba-f3d9488d88b3"
      },
      "outputs": [
        {
          "output_type": "display_data",
          "data": {
            "image/png": "[encoded data removed]",
            "text/plain": [
              "<Figure size 432x288 with 1 Axes>"
            ]
          },
          "metadata": {
            "needs_background": "light"
          }
        }
      ],
      "source": [
        "#%matplotlib inline\n",
        "plt.bar(list(range(n+1)),dist)\n",
        "plt.show()"
      ]
    },
    {
      "cell_type": "markdown",
      "metadata": {
        "id": "_UVlevD2xW9S"
      },
      "source": [
        "## Poisson Distribution\n",
        "*Source: Wackerly, D., Mendenhall, W., & Scheaffer, R. L. (2014). Mathematical statistics with applications. Cengage Learning.*"
      ]
    },
    {
      "cell_type": "markdown",
      "metadata": {
        "id": "TAcsPu8kxW9S"
      },
      "source": [
        "Suppose that a random system of police patrol is devised so that a patrol officer may visit a given beat location Y = 0, 1, 2, 3, . . . times per half-hour period, with each location being visited an average of once per time period. \n",
        "\n",
        "Assume that Y possesses, approximately, a Poisson probability distribution. \n",
        "\n",
        "Calculate the probability that the patrol officer will miss a given location during a half-hour period. \n",
        "\n",
        "What is the probability that it will be visited once? \n",
        "\n",
        "Twice? \n",
        "\n",
        "At least once?"
      ]
    },
    {
      "cell_type": "code",
      "execution_count": 18,
      "metadata": {
        "id": "JGTdjuMKxW9S"
      },
      "outputs": [],
      "source": [
        "#For this example the time period is a half-hour, and the mean number of visits per half-hour interval is λ = 1. Then\n",
        "\n",
        "mu = 1"
      ]
    },
    {
      "cell_type": "markdown",
      "metadata": {
        "id": "6kbEX0_OxW9T"
      },
      "source": [
        "P(Y = 0) = ?"
      ]
    },
    {
      "cell_type": "code",
      "execution_count": 19,
      "metadata": {
        "colab": {
          "base_uri": "https://localhost:8080/"
        },
        "id": "2prMvLQsxW9T",
        "outputId": "e8b21756-c86f-44ee-8111-c0a67c609958"
      },
      "outputs": [
        {
          "output_type": "execute_result",
          "data": {
            "text/plain": [
              "0.36787944117144233"
            ]
          },
          "metadata": {},
          "execution_count": 19
        }
      ],
      "source": [
        "stats.poisson.pmf(k=0,mu=1)"
      ]
    },
    {
      "cell_type": "markdown",
      "metadata": {
        "id": "gHX-se2TxW9T"
      },
      "source": [
        "P(Y = 1) = ?"
      ]
    },
    {
      "cell_type": "code",
      "execution_count": 20,
      "metadata": {
        "colab": {
          "base_uri": "https://localhost:8080/"
        },
        "id": "e66LKUgixW9T",
        "outputId": "b666d99b-9c20-406c-e108-39bc865ad268"
      },
      "outputs": [
        {
          "output_type": "execute_result",
          "data": {
            "text/plain": [
              "0.36787944117144233"
            ]
          },
          "metadata": {},
          "execution_count": 20
        }
      ],
      "source": [
        "stats.poisson.pmf(k=1,mu=1)"
      ]
    },
    {
      "cell_type": "markdown",
      "metadata": {
        "id": "tNEB5zMhxW9T"
      },
      "source": [
        "P(Y = 2) = ?"
      ]
    },
    {
      "cell_type": "code",
      "execution_count": 21,
      "metadata": {
        "colab": {
          "base_uri": "https://localhost:8080/"
        },
        "id": "93u4F5yHxW9U",
        "outputId": "6cb52142-50f7-45a4-ee49-b78f24ec6956"
      },
      "outputs": [
        {
          "output_type": "execute_result",
          "data": {
            "text/plain": [
              "0.18393972058572114"
            ]
          },
          "metadata": {},
          "execution_count": 21
        }
      ],
      "source": [
        "stats.poisson.pmf(k=2,mu=1)"
      ]
    },
    {
      "cell_type": "markdown",
      "metadata": {
        "id": "9Pxs-1SyxW9U"
      },
      "source": [
        "P(Y ≥ 1) = ?"
      ]
    },
    {
      "cell_type": "code",
      "execution_count": 22,
      "metadata": {
        "colab": {
          "base_uri": "https://localhost:8080/"
        },
        "id": "oVXxdW4CxW9U",
        "outputId": "bce97d24-17a7-4685-d406-275d2c0924b9"
      },
      "outputs": [
        {
          "output_type": "execute_result",
          "data": {
            "text/plain": [
              "0.6321205588285577"
            ]
          },
          "metadata": {},
          "execution_count": 22
        }
      ],
      "source": [
        "1-stats.poisson.pmf(k=0,mu=1)"
      ]
    },
    {
      "cell_type": "code",
      "execution_count": 23,
      "metadata": {
        "colab": {
          "base_uri": "https://localhost:8080/"
        },
        "id": "ZJbVEgnixW9U",
        "outputId": "fe128263-394b-41b1-da74-21108f7e0380"
      },
      "outputs": [
        {
          "output_type": "execute_result",
          "data": {
            "text/plain": [
              "0.6321205588285576"
            ]
          },
          "metadata": {},
          "execution_count": 23
        }
      ],
      "source": [
        "1-stats.poisson.cdf(k=0,mu=1)"
      ]
    },
    {
      "cell_type": "markdown",
      "metadata": {
        "id": "wJiCuDC5xW9U"
      },
      "source": [
        "P(Y ≥ 3) = ?"
      ]
    },
    {
      "cell_type": "code",
      "execution_count": 27,
      "metadata": {
        "colab": {
          "base_uri": "https://localhost:8080/"
        },
        "id": "8mr6oc_3xW9V",
        "outputId": "5dd534e2-55ce-4ee0-86f7-c9f7540f96de"
      },
      "outputs": [
        {
          "output_type": "execute_result",
          "data": {
            "text/plain": [
              "0.08030139707139416"
            ]
          },
          "metadata": {},
          "execution_count": 27
        }
      ],
      "source": [
        "1-stats.poisson.cdf(k=2,mu=1)"
      ]
    },
    {
      "cell_type": "markdown",
      "metadata": {
        "id": "ox24nNhExW9V"
      },
      "source": [
        "## Normal Distribution\n",
        "*Source: Wackerly, D., Mendenhall, W., & Scheaffer, R. L. (2014). Mathematical statistics with applications. Cengage Learning.*"
      ]
    },
    {
      "cell_type": "markdown",
      "metadata": {
        "id": "f2j-gAMsxW9V"
      },
      "source": [
        "**Exercise 4.74**\n",
        "\n",
        "Scores on an examination are assumed to be normally distributed with mean 78 and variance 36."
      ]
    },
    {
      "cell_type": "markdown",
      "metadata": {
        "id": "KlokldUkxW9V"
      },
      "source": [
        "a. What is the probability that a person taking the examination scores higher than 72?"
      ]
    },
    {
      "cell_type": "markdown",
      "metadata": {
        "id": "ZpbbzOg5xW9V"
      },
      "source": [
        "this is P(X>72)"
      ]
    },
    {
      "cell_type": "code",
      "execution_count": 28,
      "metadata": {
        "id": "XyE5S9etxW9V"
      },
      "outputs": [],
      "source": [
        "mu = 78\n",
        "sigma = np.sqrt(36)\n",
        "x = 72"
      ]
    },
    {
      "cell_type": "code",
      "execution_count": 29,
      "metadata": {
        "colab": {
          "base_uri": "https://localhost:8080/"
        },
        "id": "T41VZPqexW9V",
        "outputId": "b7a8085f-9967-4ad7-f1bb-0d98ddd6be60"
      },
      "outputs": [
        {
          "output_type": "execute_result",
          "data": {
            "text/plain": [
              "0.15865525393145707"
            ]
          },
          "metadata": {},
          "execution_count": 29
        }
      ],
      "source": [
        "stats.norm.cdf(x,loc=mu,scale=sigma)"
      ]
    },
    {
      "cell_type": "code",
      "source": [
        "1-stats.norm.cdf(x,loc=mu,scale=sigma)#rassal 72 den yüksek alma olsılığı"
      ],
      "metadata": {
        "colab": {
          "base_uri": "https://localhost:8080/"
        },
        "id": "4V_3Jm7tBMMB",
        "outputId": "f71295f7-fdfc-4cf2-a26d-c6bd0777d386"
      },
      "execution_count": 30,
      "outputs": [
        {
          "output_type": "execute_result",
          "data": {
            "text/plain": [
              "0.8413447460685429"
            ]
          },
          "metadata": {},
          "execution_count": 30
        }
      ]
    },
    {
      "cell_type": "markdown",
      "metadata": {
        "id": "hhtfYANUxW9V"
      },
      "source": [
        "b. Suppose that students scoring in the top 10% of this distribution are to receive an A grade.\n",
        "What is the minimum score a student must achieve to earn an A grade?"
      ]
    },
    {
      "cell_type": "code",
      "execution_count": 31,
      "metadata": {
        "id": "u4B6nzgCxW9W"
      },
      "outputs": [],
      "source": [
        "q = 1-0.1#%90"
      ]
    },
    {
      "cell_type": "code",
      "execution_count": 32,
      "metadata": {
        "colab": {
          "base_uri": "https://localhost:8080/"
        },
        "id": "jXXBiGCOxW9W",
        "outputId": "b65beeef-6c0c-4ae3-96dc-d1779c3e5091"
      },
      "outputs": [
        {
          "output_type": "execute_result",
          "data": {
            "text/plain": [
              "1.2815515655446004"
            ]
          },
          "metadata": {},
          "execution_count": 32
        }
      ],
      "source": [
        "stats.norm.ppf(q)# karşılığı olan z-score,corresponding"
      ]
    },
    {
      "cell_type": "code",
      "execution_count": 33,
      "metadata": {
        "colab": {
          "base_uri": "https://localhost:8080/"
        },
        "id": "zeS8VTIZxW9W",
        "outputId": "2a45d06a-d73d-4fa5-ed26-ad4d9dae1cd9"
      },
      "outputs": [
        {
          "output_type": "execute_result",
          "data": {
            "text/plain": [
              "85.6893093932676"
            ]
          },
          "metadata": {},
          "execution_count": 33
        }
      ],
      "source": [
        "#stats.norm.ppf(q,mu,sigma)\n",
        "stats.norm.ppf(q,loc=78,scale=6)"
      ]
    },
    {
      "cell_type": "markdown",
      "metadata": {
        "id": "FcSCiZljxW9W"
      },
      "source": [
        "c. What must be the cutoff point for passing the examination if the examiner wants only the\n",
        "top 28.1% of all scores to be passing?"
      ]
    },
    {
      "cell_type": "code",
      "execution_count": 34,
      "metadata": {
        "id": "nj1RQTz5xW9W"
      },
      "outputs": [],
      "source": [
        "q = 1-0.281"
      ]
    },
    {
      "cell_type": "code",
      "execution_count": 35,
      "metadata": {
        "colab": {
          "base_uri": "https://localhost:8080/"
        },
        "id": "49VZvh8TxW9W",
        "outputId": "b78b3c0f-5e09-49e2-d9ff-035d97494850"
      },
      "outputs": [
        {
          "output_type": "execute_result",
          "data": {
            "text/plain": [
              "81.47924035456623"
            ]
          },
          "metadata": {},
          "execution_count": 35
        }
      ],
      "source": [
        "stats.norm.ppf(q,loc=78,scale=6)"
      ]
    },
    {
      "cell_type": "markdown",
      "metadata": {
        "id": "tah7lq1ZxW9W"
      },
      "source": [
        "d. Approximately what proportion of students have scores 5 or more points above the score\n",
        "that cuts off the lowest 25%?"
      ]
    },
    {
      "cell_type": "code",
      "execution_count": 76,
      "metadata": {
        "id": "CKSxFfYcxW9W"
      },
      "outputs": [],
      "source": [
        "q1 = 1-0.75\n",
        "x1=5"
      ]
    },
    {
      "cell_type": "code",
      "execution_count": 77,
      "metadata": {
        "colab": {
          "base_uri": "https://localhost:8080/"
        },
        "id": "XDXXphmSxW9W",
        "outputId": "b85d9448-e434-4798-bca0-805b51711158"
      },
      "outputs": [
        {
          "output_type": "execute_result",
          "data": {
            "text/plain": [
              "-0.6744897501960817"
            ]
          },
          "metadata": {},
          "execution_count": 77
        }
      ],
      "source": [
        "stats.norm.ppf(q1)"
      ]
    },
    {
      "cell_type": "code",
      "source": [
        "stats.norm.cdf(5,q1)"
      ],
      "metadata": {
        "colab": {
          "base_uri": "https://localhost:8080/"
        },
        "id": "ckE_2fUwIwJn",
        "outputId": "65972d13-cc87-4195-a020-4162277319e6"
      },
      "execution_count": 78,
      "outputs": [
        {
          "output_type": "execute_result",
          "data": {
            "text/plain": [
              "0.9999989829167575"
            ]
          },
          "metadata": {},
          "execution_count": 78
        }
      ]
    },
    {
      "cell_type": "markdown",
      "metadata": {
        "id": "wnilwxP9xW9X"
      },
      "source": [
        "*OPTIONAL*\n",
        "\n",
        "f. If it is known that a student’s score exceeds 72, what is the probability that his or her score\n",
        "exceeds 84? "
      ]
    },
    {
      "cell_type": "code",
      "execution_count": null,
      "metadata": {
        "id": "MNSKCK-OxW9X"
      },
      "outputs": [],
      "source": [
        ""
      ]
    },
    {
      "cell_type": "markdown",
      "metadata": {
        "id": "IH8Qrt9XxW9X"
      },
      "source": [
        "## t Distribution\n",
        "*Lane, D. (2006). Online statistics education: a multimedia course of study (http://onlinestatbook.com/). Rice University.*"
      ]
    },
    {
      "cell_type": "markdown",
      "metadata": {
        "id": "_ZCOSG-FxW9X"
      },
      "source": [
        "For a t distribution with 15 degrees of freedom, 90% of the distribution is within how many standard deviations of the mean?"
      ]
    },
    {
      "cell_type": "code",
      "execution_count": 40,
      "metadata": {
        "id": "PPnJkSibxW9X"
      },
      "outputs": [],
      "source": [
        "dof = 15\n",
        "q = 0.05"
      ]
    },
    {
      "cell_type": "code",
      "source": [
        "stats.t.ppf(q,dof)"
      ],
      "metadata": {
        "colab": {
          "base_uri": "https://localhost:8080/"
        },
        "id": "XOGKlCQ1FbVX",
        "outputId": "b834c51c-602a-46e1-cdd6-663e17785a80"
      },
      "execution_count": 41,
      "outputs": [
        {
          "output_type": "execute_result",
          "data": {
            "text/plain": [
              "-1.7530503556925552"
            ]
          },
          "metadata": {},
          "execution_count": 41
        }
      ]
    },
    {
      "cell_type": "markdown",
      "metadata": {
        "id": "07BZL_sbxW9X"
      },
      "source": [
        "## Confidence Intervals Using the Normal Distribution"
      ]
    },
    {
      "cell_type": "markdown",
      "metadata": {
        "id": "hKmAyOftxW9X"
      },
      "source": [
        "If we’re working with larger samples (n≥30), we can assume that the sampling distribution of the sample mean is normally distributed (thanks to the Central Limit Theorem) and can instead use the norm.interval() function from the scipy.stats library."
      ]
    },
    {
      "cell_type": "code",
      "execution_count": null,
      "metadata": {
        "id": "p99PyBCZxW9X"
      },
      "outputs": [],
      "source": [
        "sns.get_dataset_names()"
      ]
    },
    {
      "cell_type": "markdown",
      "metadata": {
        "id": "X2ZpgkIlxW9Y"
      },
      "source": [
        "1. Load \"tips\" dataset from Seaborn library"
      ]
    },
    {
      "cell_type": "code",
      "execution_count": null,
      "metadata": {
        "id": "XflBk4WzxW9Y"
      },
      "outputs": [],
      "source": [
        ""
      ]
    },
    {
      "cell_type": "markdown",
      "metadata": {
        "id": "frP6Wj8NxW9Y"
      },
      "source": [
        "2. Draw a set of vertical bar plots (based on \"total_bill\") grouped by \"day\" variable:"
      ]
    },
    {
      "cell_type": "code",
      "execution_count": null,
      "metadata": {
        "id": "rIIMxqqzxW9Y"
      },
      "outputs": [],
      "source": [
        ""
      ]
    },
    {
      "cell_type": "markdown",
      "metadata": {
        "id": "F7VKeWnYxW9Y"
      },
      "source": [
        "3. Subset a dataframe just including Sunday tips"
      ]
    },
    {
      "cell_type": "code",
      "execution_count": null,
      "metadata": {
        "id": "z5jc4jNBxW9Y"
      },
      "outputs": [],
      "source": [
        ""
      ]
    },
    {
      "cell_type": "markdown",
      "metadata": {
        "id": "zfnoki8-xW9Y"
      },
      "source": [
        "4. Calculate mean and std"
      ]
    },
    {
      "cell_type": "code",
      "execution_count": null,
      "metadata": {
        "id": "ajjofy9PxW9Y"
      },
      "outputs": [],
      "source": [
        ""
      ]
    },
    {
      "cell_type": "code",
      "execution_count": null,
      "metadata": {
        "id": "42sbCDdExW9Z"
      },
      "outputs": [],
      "source": [
        ""
      ]
    },
    {
      "cell_type": "markdown",
      "metadata": {
        "id": "V6KBADYExW9Z"
      },
      "source": [
        "5. Calculate standart error of the mean"
      ]
    },
    {
      "cell_type": "code",
      "execution_count": null,
      "metadata": {
        "id": "0KjFIpVOxW9Z"
      },
      "outputs": [],
      "source": [
        ""
      ]
    },
    {
      "cell_type": "code",
      "execution_count": null,
      "metadata": {
        "id": "HFBuXI5RxW9Z"
      },
      "outputs": [],
      "source": [
        ""
      ]
    },
    {
      "cell_type": "markdown",
      "metadata": {
        "id": "A3takZeixW9Z"
      },
      "source": [
        "6. Calculate the margin of error (95%)"
      ]
    },
    {
      "cell_type": "code",
      "execution_count": null,
      "metadata": {
        "id": "fq9MbvJHxW9Z"
      },
      "outputs": [],
      "source": [
        ""
      ]
    },
    {
      "cell_type": "markdown",
      "metadata": {
        "id": "ASkEh26jxW9Z"
      },
      "source": [
        "7. Calculate the upper confidence limit"
      ]
    },
    {
      "cell_type": "code",
      "execution_count": null,
      "metadata": {
        "id": "EsV7alMMxW9Z"
      },
      "outputs": [],
      "source": [
        ""
      ]
    },
    {
      "cell_type": "markdown",
      "metadata": {
        "id": "T0zLRkQJxW9Z"
      },
      "source": [
        "8. Calculate the lower confidence limit"
      ]
    },
    {
      "cell_type": "code",
      "execution_count": null,
      "metadata": {
        "id": "DfWrTqzwxW9Z"
      },
      "outputs": [],
      "source": [
        ""
      ]
    },
    {
      "cell_type": "markdown",
      "metadata": {
        "id": "EEfGsI1QxW9Z"
      },
      "source": [
        "9. Calculate 95% Confidence Interval around the mean by using scipy.stats"
      ]
    },
    {
      "cell_type": "code",
      "execution_count": null,
      "metadata": {
        "id": "bT6jyKLNxW9a"
      },
      "outputs": [],
      "source": [
        ""
      ]
    },
    {
      "cell_type": "markdown",
      "metadata": {
        "id": "oHGkSgTYxW9a"
      },
      "source": [
        "### Exercise 8.7 (Large Samples)\n",
        "*Source: Wackerly, D., Mendenhall, W., & Scheaffer, R. L. (2014). Mathematical statistics with applications. Cengage Learning.*"
      ]
    },
    {
      "cell_type": "markdown",
      "metadata": {
        "id": "oiObXOcTxW9a"
      },
      "source": [
        "- The shopping times of n = 64 randomly selected customers at a local supermarket were recorded. \n",
        "\n",
        "- The average and variance of the 64 shopping times were 33 $minutes$ and 256 $minutes^2$, respectively. \n",
        "\n",
        "- Estimate μ, the true average shopping time per customer, with a confidence coefficient of 1 − α = .90."
      ]
    },
    {
      "cell_type": "markdown",
      "metadata": {
        "id": "q3uXh7coxW9a"
      },
      "source": [
        "![image.png](attachment:image.png)"
      ]
    },
    {
      "cell_type": "code",
      "execution_count": null,
      "metadata": {
        "id": "Wm-W2WaNxW9a"
      },
      "outputs": [],
      "source": [
        "n = \n",
        "xbar = \n",
        "var = \n",
        "ci = \n",
        "s = \n",
        "\n",
        "sem = "
      ]
    },
    {
      "cell_type": "code",
      "execution_count": null,
      "metadata": {
        "id": "c-rueYUHxW9a"
      },
      "outputs": [],
      "source": [
        "stats.norm."
      ]
    },
    {
      "cell_type": "code",
      "execution_count": null,
      "metadata": {
        "id": "yzU5I8xZxW9a"
      },
      "outputs": [],
      "source": [
        ""
      ]
    },
    {
      "cell_type": "markdown",
      "metadata": {
        "id": "rJZkKzTZxW9a"
      },
      "source": [
        "### Exercise 8.11 (Small Samples)\n",
        "*Source: Wackerly, D., Mendenhall, W., & Scheaffer, R. L. (2014). Mathematical statistics with applications. Cengage Learning.*"
      ]
    },
    {
      "cell_type": "markdown",
      "metadata": {
        "id": "SdwaoEkIxW9b"
      },
      "source": [
        "A manufacturer of gunpowder has developed a new powder, which was tested in eight shells. The resulting muzzle velocities, in feet per second, were as follows:\n",
        "\n",
        "3005 2925 2935 2965\n",
        "\n",
        "2995 3005 2937 2905\n",
        "\n",
        "Find a 95% confidence interval for the true average velocity μ for shells of this type. Assume that muzzle velocities are approximately normally distributed."
      ]
    },
    {
      "cell_type": "markdown",
      "metadata": {
        "id": "fuL2HWDzxW9b"
      },
      "source": [
        "![image.png](attachment:image.png)"
      ]
    },
    {
      "cell_type": "code",
      "execution_count": null,
      "metadata": {
        "id": "9Js9E3lcxW9b"
      },
      "outputs": [],
      "source": [
        "x = [3005, 2925, 2935, 2965, 2995, 3005, 2937, 2905]"
      ]
    },
    {
      "cell_type": "code",
      "execution_count": null,
      "metadata": {
        "id": "LZbNeX3cxW9b"
      },
      "outputs": [],
      "source": [
        "# Sample size\n",
        "n = \n",
        "\n",
        "# Sample mean\n",
        "xbar = \n",
        "\n",
        "# Sample standard deviation\n",
        "s = \n",
        "\n",
        "# Confidence level\n",
        "cl = "
      ]
    },
    {
      "cell_type": "code",
      "execution_count": null,
      "metadata": {
        "id": "78-JY-0JxW9b"
      },
      "outputs": [],
      "source": [
        "stats.t."
      ]
    },
    {
      "cell_type": "code",
      "execution_count": null,
      "metadata": {
        "id": "77RcvT5HxW9b"
      },
      "outputs": [],
      "source": [
        ""
      ]
    },
    {
      "cell_type": "code",
      "execution_count": null,
      "metadata": {
        "id": "XNTX4wajxW9b"
      },
      "outputs": [],
      "source": [
        ""
      ]
    }
  ],
  "metadata": {
    "kernelspec": {
      "display_name": "Python 3",
      "language": "python",
      "name": "python3"
    },
    "language_info": {
      "codemirror_mode": {
        "name": "ipython",
        "version": 3
      },
      "file_extension": ".py",
      "mimetype": "text/x-python",
      "name": "python",
      "nbconvert_exporter": "python",
      "pygments_lexer": "ipython3",
      "version": "3.7.11"
    },
    "colab": {
      "name": "Statistics_Lab2_(Probability Distributions & CIs)_Jason_(EU)_18_Feb_2022-Student.ipynb",
      "provenance": [],
      "include_colab_link": true
    }
  },
  "nbformat": 4,
  "nbformat_minor": 0
}